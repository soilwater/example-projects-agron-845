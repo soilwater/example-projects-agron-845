{
 "cells": [
  {
   "cell_type": "markdown",
   "metadata": {},
   "source": [
    "\n",
    "\n",
    "#  Thermao-mechanical stress analysis of energy piles \n",
    "\n",
    "**Name**: Arash Saeidi<br/>\n",
    "**Semester**: Spring 2020 <br/>\n",
    "**Project area**: geotechnical engineering\n",
    "\n",
    "\n",
    "## Objective\n",
    "Write a python code to calculate vertical displacement, strain and stress of energy piles under combination of mechanical loading (buildings compressive load) and thermal loading ( Tempereature change) based on the equations provided for it. \n",
    "## Outcomes\n",
    "I want this program to calculate the veritical displacement, strain stress at points with 1 m diatance in depth of a pile under combination of compression load from the superstructure and temperature difference. \n",
    "\n",
    "## Rationale\n",
    "Piles are deep foundations, being used for a long time to transfer superstructure load to deeper and stiffer layers of the ground. Recently these elements have also been used to exchange the heat of deeper layers of ground to buildings as a supplementary source of energy for buildings. This dual appliation causes the pile element to undergo temperature difference during this process. The temperature diffrence induces tendency for elongation during the heating peocess, and shrinkage during the cooling process. The restriction caused by surrounding soil to this energy pile induces thermal stresses, in which the purpose of this program is to calculate. Thermal stresses have been proved to have a huge contribution in pile response, in a way that neglecting them will disqualify the design.\n",
    "This program will provide engineers with a handy tool to assess the final stress state induced in piles due to the combination of thermal and mechanical loading based on the latest analytical equations presented by researchers.\n",
    "\n",
    "\n",
    "![Heat_piles_hres-1077x864](https://user-images.githubusercontent.com/60358074/74174277-4385bf00-4bf9-11ea-8bc5-a282374bf014.jpg)\n",
    "\n",
    "## Sketch\n",
    "\n",
    "\n",
    "\n",
    "![skect](https://user-images.githubusercontent.com/60358074/74177615-b42fda00-4bff-11ea-8f84-b70ac6fe1af7.PNG)\n",
    "\n",
    "\n",
    "## References\n",
    "Cossel A., “Analytical solutions for thermo-mechanical soil structure interaction in energy piles” M.Sc. Thesis, Kansas State University. 2019}"
   ]
  },
  {
   "cell_type": "code",
   "execution_count": null,
   "metadata": {},
   "outputs": [],
   "source": []
  },
  {
   "cell_type": "raw",
   "metadata": {},
   "source": []
  },
  {
   "cell_type": "code",
   "execution_count": null,
   "metadata": {},
   "outputs": [],
   "source": []
  }
 ],
 "metadata": {
  "kernelspec": {
   "display_name": "Python 3",
   "language": "python",
   "name": "python3"
  },
  "language_info": {
   "codemirror_mode": {
    "name": "ipython",
    "version": 3
   },
   "file_extension": ".py",
   "mimetype": "text/x-python",
   "name": "python",
   "nbconvert_exporter": "python",
   "pygments_lexer": "ipython3",
   "version": "3.7.4"
  }
 },
 "nbformat": 4,
 "nbformat_minor": 4
}
