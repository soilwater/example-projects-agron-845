{
 "cells": [
  {
   "cell_type": "markdown",
   "metadata": {},
   "source": [
    "# Thermo-mechanical analysis of energy piles\n",
    "\n",
    "\n",
    "Pile foundations are one type of deep foundations, which are actually a slender columns or long cylinders mostly made of concrete , and are used to support the structure and transfer the load at desired depth either by end bearing to the bedrock or skin friction to the surrounding soil\n",
    "\n",
    "Energy piles, also known as Heat Exchanger Piles (HEP) are dual application deep foundations that transfer buildings' loads to the soil while directly accessing naturally renewable subsurface geothermal resources. The temperature in the ground at depths of about 3 to 5 m is approximately equal to mean annual air temperature, thus providing a stable source for an efficient heat exchange between the superstructure and subsurface. A closed loop High Density Polyethylene (HDPE) tubing, which is embedded into reinforced concrete energy piles, serves as a conduit for a heat exchange fluid, thus enabling the heat extraction in the winter. Contrariwise, the heat exchange fluid is cooled in the subsurface during summer. Furthermore, by providing the access to directly usable renewable thermal energy HEPs contribute to a decreased emission of carbon dioxide into the atmosphere as compared to the complete reliance on burning fossil fuels. \n",
    "\n",
    "![Heat_piles_hres-1077x864](https://user-images.githubusercontent.com/60358074/74174277-4385bf00-4bf9-11ea-8bc5-a282374bf014.jpg)\n",
    "\n",
    "\n",
    "$$(1)$$\n",
    "As shown in figure 1 the piles are located below the building carrying the buildings' loads deep to the ground, while at the same time transfer heat from the ground to the building as a suplementary source for the building heating system. This trend is , however, converse in the summer, when the heat is being transfered from the building to the ground to help the building cool to some degrees.\n",
    "As a result of the abovementioned process piles undergo two loads, mechanical directely applied from the building load and thermal, indirectly induced in the pile as the elongation and contarction of the pile due to the temperature difference is limited by the surrounding soil.\n",
    "\n",
    "## Goal of this project\n",
    "\n",
    "In order to be able to structurally design energy piles the displacement, strain and stress of the pile under all operating loads should be first assessed. In case of an energy pile these loads are consisted of mechnaical come from tha building, and thermal due to restriction of pile expansion and contarction in different temperatures. These factors can be calculated for each set of loads, either thermal or mechanical separately and then combined together, as one has no effect on the other once they are acting on the element at the same time.\n",
    "In this project the governing equations are derived to calculate the displacement, strain and stress of the pile under thermal and mechanical loads separately and then combined together. After these ebing accomplished the physical properties and loads of any given pile can be given to th eprogram and axial displacement, strain and stress of the pile for two loads and combination of them will be plotted along the pile length. This way engineers will have a notion of what their proposed design will experience under operating condition, and helps them to optimise their design.\n",
    "\n",
    "So the project is consisted of the following phases:\n",
    "<br> \n",
    "$1$ - deriving the equations for the energy pile under pure thermal load\n",
    "<br> \n",
    "$2$ - deriving the equations for the energy pile under pure mechanical load\n",
    "<br> \n",
    "$3$ - combining the thermal and mechanical solutions by summing them to reach the solution for the case that piles undergoes both thermal and mechanical loading\n",
    "<br> \n",
    "$4$ - take the desire pile properties and plot the response of the pile for mechanical, thermal and the combination on one plot, so that the effect of each is depicted and also the combination can be used for design purposes\n",
    "\n",
    "\n",
    "### Importing required modules "
   ]
  },
  {
   "cell_type": "code",
   "execution_count": 1,
   "metadata": {},
   "outputs": [],
   "source": [
    "import sympy as sp\n",
    "from sympy.abc import x\n",
    "import matplotlib.pyplot as plt\n",
    "import numpy as np\n",
    "from numpy import cosh, sinh, exp\n",
    "from sympy.utilities.lambdify import lambdify\n",
    "import math"
   ]
  },
  {
   "cell_type": "markdown",
   "metadata": {},
   "source": [
    "### Introducing functions and variables\n",
    "\n",
    "Parameters of a pile that are needed for the equlibrium equations are needed to be introduced. For this purpose, sympy module is used to introduce variableas as parameters and functions.\n",
    "\n",
    "$u$ : Axial displacement along the pile length\n",
    "<br>\n",
    "$x$ : Distance from the pile end in meters\n",
    "<br>\n",
    "$A$ : Cross section area of the energy pile in $m^2$\n",
    "<br>\n",
    "$P$ : perimeter of the pile in $m$\n",
    "<br>\n",
    "$D$ :  Diameter of the pile in $m$\n",
    "<br>\n",
    "$E$ : Module of elasticity of the pile material in $kPa$\n",
    "<br>\n",
    "$F$ : Mechanical force of the pile in $kN$, which has negative sign when it is compressive and positive when it is tensile\n",
    "<br>\n",
    "$k_s$ : Stiffness soil pile interface in $kPa$\n",
    "<br>\n",
    "$ \\psi$ : parameter summarising the physical parameters of the paile and soil pile interface defined as follows:\n",
    "$$ \\psi= \\sqrt((p/A)(k_s/E) )$$\n",
    "<br>\n",
    "$L$ : Length of the pile in $m$\n",
    "<br>\n",
    "$ \\alpha$ : Coefficient of thermal expansion of the pile in 1/ degree celcius\n",
    "<br>\n",
    "$\\Delta$T : Temperature differnce between the pile and surrounding soil in degrees celcius"
   ]
  },
  {
   "cell_type": "code",
   "execution_count": 2,
   "metadata": {},
   "outputs": [],
   "source": [
    "u = sp.Function('u')\n",
    "x = sp.Symbol('x') \n",
    "A = sp.Symbol ('A') \n",
    "P = sp.Symbol ('p') \n",
    "D = sp.Symbol ('D') \n",
    "E = sp.Symbol ('E')\n",
    "F = sp.Symbol ('F') \n",
    "ks = sp.Symbol ('ks') \n",
    "psi = sp.Symbol ('psi') \n",
    "L = sp.Symbol ('L') \n",
    "alpha = sp.Symbol('alpha')\n",
    "Delta_T = sp.Symbol ('Delta_T') "
   ]
  },
  {
   "cell_type": "markdown",
   "metadata": {},
   "source": [
    "## $1$ - Deriving the equations for the energy pile under pure thermal load\n",
    "\n",
    "While free bars can expand and contract without any restriction under thermal loading. Energy piles  free thermal deformation  is restrained by the surrounding soil that displacement, stress and strain are induced in the pile during thermal loading.\n",
    "\n",
    "<img src=\"thermal.PNG\">\n",
    "$$(2)$$\n",
    "\n",
    "where Qs is the skin friction resulting from the restriction by surrounding soil, x is the distance from the pile tip and has the positive sign upward, hence any force, displacement or strain in upward direction is considered positive, while the negative sign implies them to be downward.\n",
    "<br>\n",
    "$ΔT$ positive implies that pile is under heating, and  when the pile is cooled then the sign negative will be assigned to $ΔT$ \n",
    "Taking the small portion of the pile length as shon in figure 2-a as $dx$ and analyse it in fig2-b.\n",
    "<br> \n",
    "$ \\tau$ in figure 2-b shows stress on the pile surface where it is in contact with soil. \n",
    "<br>\n",
    "$ \\sigma$ is the normal stress n the pile element caused by restriction to the pile expansion (in heating)\n",
    "\n",
    "\n",
    "Solving the equilibrium of forces for te free body diagram in figure b results in the following equation:\n",
    "\n",
    "\n",
    "$$ (d^2 u_i)/(dx_i^2 )- \\psi^2 u_i=0  $$  \n",
    " where us is the axial displacement of the pile and x is distance from the pile tip as defned\n",
    "to solve the differential equation the following boundary conditions are used:\n",
    "<br>\n",
    "As the pile is placed on an incompressible rock, the displacement of the pile tip (x=0) is restericted. Also since the pile head can move freely (x=L), and since strain is the derivative of displacement with regard to x, the following boundary conditions are used to solve the equation:\n",
    "\n",
    "$$u(0) =0$$\n",
    "$$ du/dx(L) = \\alpha \\Delta T $$\n",
    "and u is the function that represents the axial displacement of the pile along its depth. and x is shown in th efigure as it is zero at the pile's tip and is positive upward.\n",
    "\n",
    "### Defining and solving thermal governing equation for axial displacement under thermal loading"
   ]
  },
  {
   "cell_type": "code",
   "execution_count": 3,
   "metadata": {},
   "outputs": [
    {
     "data": {
      "text/latex": [
       "$\\displaystyle \\frac{\\Delta_{T} \\alpha e^{\\psi x}}{2 \\psi \\cosh{\\left(L \\psi \\right)}} - \\frac{\\Delta_{T} \\alpha e^{- \\psi x}}{2 \\psi \\cosh{\\left(L \\psi \\right)}}$"
      ],
      "text/plain": [
       "Delta_T*alpha*exp(psi*x)/(2*psi*cosh(L*psi)) - Delta_T*alpha*exp(-psi*x)/(2*psi*cosh(L*psi))"
      ]
     },
     "execution_count": 3,
     "metadata": {},
     "output_type": "execute_result"
    }
   ],
   "source": [
    "eq=sp.diff(u(x),x,x)-psi**2*u(x)  \n",
    "u_thermal = sp.Function('u_thermal') \n",
    "u_thermal = sp.dsolve(eq,u(x), ics={u(0): 0, u(x).diff(x, 1).subs(x, L): ((alpha*Delta_T))}) \n",
    "u_thermal = u_thermal.rhs\n",
    "u_thermal \n"
   ]
  },
  {
   "cell_type": "markdown",
   "metadata": {},
   "source": [
    "### Axial strain in energy pile under thermal loading\n",
    "\n",
    "The axial strain is the first derivative of axial displacement with respect to x:\n",
    "\n",
    "$$ \\epsilon(x)=du/dx$$"
   ]
  },
  {
   "cell_type": "code",
   "execution_count": 4,
   "metadata": {},
   "outputs": [
    {
     "data": {
      "text/latex": [
       "$\\displaystyle \\frac{\\Delta_{T} \\alpha e^{\\psi x}}{2 \\cosh{\\left(L \\psi \\right)}} + \\frac{\\Delta_{T} \\alpha e^{- \\psi x}}{2 \\cosh{\\left(L \\psi \\right)}}$"
      ],
      "text/plain": [
       "Delta_T*alpha*exp(psi*x)/(2*cosh(L*psi)) + Delta_T*alpha*exp(-psi*x)/(2*cosh(L*psi))"
      ]
     },
     "execution_count": 4,
     "metadata": {},
     "output_type": "execute_result"
    }
   ],
   "source": [
    "epsilon_thermal = sp.diff (u_thermal,x)\n",
    "epsilon_thermal "
   ]
  },
  {
   "cell_type": "markdown",
   "metadata": {},
   "source": [
    "### Axial stress in energy pile under thermal loading\n",
    "\n",
    "The axial stress in the energy pile under thermal loading is derived from the following equation\n",
    "\n",
    "$$ \\sigma=E(\\epsilon-\\alpha \\Delta T)$$"
   ]
  },
  {
   "cell_type": "code",
   "execution_count": 5,
   "metadata": {},
   "outputs": [
    {
     "data": {
      "text/latex": [
       "$\\displaystyle E \\left(\\frac{\\Delta_{T} \\alpha e^{\\psi x}}{2 \\cosh{\\left(L \\psi \\right)}} - \\Delta_{T} \\alpha + \\frac{\\Delta_{T} \\alpha e^{- \\psi x}}{2 \\cosh{\\left(L \\psi \\right)}}\\right)$"
      ],
      "text/plain": [
       "E*(Delta_T*alpha*exp(psi*x)/(2*cosh(L*psi)) - Delta_T*alpha + Delta_T*alpha*exp(-psi*x)/(2*cosh(L*psi)))"
      ]
     },
     "execution_count": 5,
     "metadata": {},
     "output_type": "execute_result"
    }
   ],
   "source": [
    "sigma_thermal = E*(epsilon_thermal-(alpha*Delta_T))\n",
    "sigma_thermal "
   ]
  },
  {
   "cell_type": "markdown",
   "metadata": {},
   "source": [
    "## $2$ - deriving the equations for the energy pile under pure mechanical load\n",
    "\n",
    "The free body diagram of the energy pile subjected to mechanical load is shown here\n",
    "\n",
    "<img src=\"FBD.PNG\">\n",
    "$$(3)$$\n",
    "\n",
    "Again Qs is the skin friction resulting from the restriction by surrounding soil, x is the distance from the pile tip and has the positive sign upward, hence any force, displacement or strain in upward direction is considered positive, while the negative sign implies them to be downward.\n",
    "<br>\n",
    "$F$ positive implies that the mechanical load is upward\n",
    "Taking the small portion of the pile length as shon in figure 3-a as $dx$ and analyse it in fig3-b.\n",
    "<br> \n",
    "$ \\tau$ in figure 3-b shows stress on the pile surface where it is in contact with soil. \n",
    "<br>\n",
    "$ \\sigma$ is the normal stress n the pile element caused by restriction to the pile expansion (in heating)\n",
    "\n",
    "Solving the equilibrium of forces for te free body diagram in figure b results in the following equation:\n",
    "Again the same differetial equation emerges from the equlinrium of forces in the pile\n",
    "\n",
    "\n",
    "$$ (d^2 u_i)/(dx_i^2 )- \\psi^2 u_i=0  $$  \n",
    "\n",
    "As the dosplacement of the pile tip (x=0) is restericted due to the incompressible rock, and strain at the pile head equals $F/AE$ the following boundary conditions are used to solve the equation for the mechanical load.\n",
    "\n",
    "$$u(0) =0$$\n",
    "$$ du/dx(L) =F/AE$$\n",
    "and u is the function that represents the axial displacement of the pile along its depth. and x is shoon in th efigure as it is zero at the pile's tip and is positive upward.\n",
    "\n",
    "### Defining and solving mechanical governing equation for axial displacement under thermal loading"
   ]
  },
  {
   "cell_type": "code",
   "execution_count": 6,
   "metadata": {},
   "outputs": [
    {
     "data": {
      "text/latex": [
       "$\\displaystyle \\frac{F e^{\\psi x}}{2 A E \\psi \\cosh{\\left(L \\psi \\right)}} - \\frac{F e^{- \\psi x}}{2 A E \\psi \\cosh{\\left(L \\psi \\right)}}$"
      ],
      "text/plain": [
       "F*exp(psi*x)/(2*A*E*psi*cosh(L*psi)) - F*exp(-psi*x)/(2*A*E*psi*cosh(L*psi))"
      ]
     },
     "execution_count": 6,
     "metadata": {},
     "output_type": "execute_result"
    }
   ],
   "source": [
    "eq=sp.diff(u(x),x,x)-psi**2*u(x)  # defining mentioned equation above using sympy\n",
    "u_mechanical= sp.dsolve(eq,u(x), ics={u(0): 0, u(x).diff(x, 1).subs(x, L): ((F/(A*E)))}) #solving the differential equation with defined boundary condition\n",
    "u_mechanical = u_mechanical.rhs\n",
    "u_mechanical"
   ]
  },
  {
   "cell_type": "markdown",
   "metadata": {},
   "source": [
    "### Axial strain in energy pile under mechanical loading\n",
    "\n",
    "Again the axial strain is the first derivative of axial displacement with respect to x:\n",
    "\n",
    "$$ \\epsilon(x)=du/dx$$"
   ]
  },
  {
   "cell_type": "code",
   "execution_count": 7,
   "metadata": {},
   "outputs": [
    {
     "data": {
      "text/latex": [
       "$\\displaystyle \\frac{F e^{\\psi x}}{2 A E \\cosh{\\left(L \\psi \\right)}} + \\frac{F e^{- \\psi x}}{2 A E \\cosh{\\left(L \\psi \\right)}}$"
      ],
      "text/plain": [
       "F*exp(psi*x)/(2*A*E*cosh(L*psi)) + F*exp(-psi*x)/(2*A*E*cosh(L*psi))"
      ]
     },
     "execution_count": 7,
     "metadata": {},
     "output_type": "execute_result"
    }
   ],
   "source": [
    "espilon_mechanical = sp.diff(u_mechanical,x) \n",
    "espilon_mechanical"
   ]
  },
  {
   "cell_type": "markdown",
   "metadata": {},
   "source": [
    "### calculating axial stress due to mechanical loading\n",
    "\n",
    "this term that will be called mechanical stress hereafter is derived from the following equation\n",
    "$$ \\sigma(x)=E * \\epsilon$$\n"
   ]
  },
  {
   "cell_type": "code",
   "execution_count": 8,
   "metadata": {},
   "outputs": [
    {
     "data": {
      "text/latex": [
       "$\\displaystyle E \\left(\\frac{F e^{\\psi x}}{2 A E \\cosh{\\left(L \\psi \\right)}} + \\frac{F e^{- \\psi x}}{2 A E \\cosh{\\left(L \\psi \\right)}}\\right)$"
      ],
      "text/plain": [
       "E*(F*exp(psi*x)/(2*A*E*cosh(L*psi)) + F*exp(-psi*x)/(2*A*E*cosh(L*psi)))"
      ]
     },
     "execution_count": 8,
     "metadata": {},
     "output_type": "execute_result"
    }
   ],
   "source": [
    "sigma_mechanical = E * (espilon_mechanical)\n",
    "sigma_mechanical"
   ]
  },
  {
   "cell_type": "markdown",
   "metadata": {},
   "source": [
    "## $3$ - Combining the thermal and mechanical solutions \n",
    "\n",
    "Axial displacement, strain and stress of an energy pile under combination of thermal and mechanical load is sum of the mentioned values under each load separately\n",
    "\n"
   ]
  },
  {
   "cell_type": "code",
   "execution_count": 9,
   "metadata": {},
   "outputs": [
    {
     "data": {
      "text/latex": [
       "$\\displaystyle \\frac{\\Delta_{T} \\alpha e^{\\psi x}}{2 \\psi \\cosh{\\left(L \\psi \\right)}} - \\frac{\\Delta_{T} \\alpha e^{- \\psi x}}{2 \\psi \\cosh{\\left(L \\psi \\right)}} + \\frac{F e^{\\psi x}}{2 A E \\psi \\cosh{\\left(L \\psi \\right)}} - \\frac{F e^{- \\psi x}}{2 A E \\psi \\cosh{\\left(L \\psi \\right)}}$"
      ],
      "text/plain": [
       "Delta_T*alpha*exp(psi*x)/(2*psi*cosh(L*psi)) - Delta_T*alpha*exp(-psi*x)/(2*psi*cosh(L*psi)) + F*exp(psi*x)/(2*A*E*psi*cosh(L*psi)) - F*exp(-psi*x)/(2*A*E*psi*cosh(L*psi))"
      ]
     },
     "execution_count": 9,
     "metadata": {},
     "output_type": "execute_result"
    }
   ],
   "source": [
    "u_combined = ( u_thermal+ u_mechanical) \n",
    "u_combined"
   ]
  },
  {
   "cell_type": "code",
   "execution_count": 10,
   "metadata": {},
   "outputs": [
    {
     "data": {
      "text/latex": [
       "$\\displaystyle \\frac{\\Delta_{T} \\alpha e^{\\psi x}}{2 \\cosh{\\left(L \\psi \\right)}} + \\frac{\\Delta_{T} \\alpha e^{- \\psi x}}{2 \\cosh{\\left(L \\psi \\right)}} + \\frac{F e^{\\psi x}}{2 A E \\cosh{\\left(L \\psi \\right)}} + \\frac{F e^{- \\psi x}}{2 A E \\cosh{\\left(L \\psi \\right)}}$"
      ],
      "text/plain": [
       "Delta_T*alpha*exp(psi*x)/(2*cosh(L*psi)) + Delta_T*alpha*exp(-psi*x)/(2*cosh(L*psi)) + F*exp(psi*x)/(2*A*E*cosh(L*psi)) + F*exp(-psi*x)/(2*A*E*cosh(L*psi))"
      ]
     },
     "execution_count": 10,
     "metadata": {},
     "output_type": "execute_result"
    }
   ],
   "source": [
    "epsilon_combined = epsilon_thermal + espilon_mechanical\n",
    "epsilon_combined"
   ]
  },
  {
   "cell_type": "code",
   "execution_count": 11,
   "metadata": {},
   "outputs": [
    {
     "data": {
      "text/latex": [
       "$\\displaystyle E \\left(\\frac{F e^{\\psi x}}{2 A E \\cosh{\\left(L \\psi \\right)}} + \\frac{F e^{- \\psi x}}{2 A E \\cosh{\\left(L \\psi \\right)}}\\right) + E \\left(\\frac{\\Delta_{T} \\alpha e^{\\psi x}}{2 \\cosh{\\left(L \\psi \\right)}} - \\Delta_{T} \\alpha + \\frac{\\Delta_{T} \\alpha e^{- \\psi x}}{2 \\cosh{\\left(L \\psi \\right)}}\\right)$"
      ],
      "text/plain": [
       "E*(F*exp(psi*x)/(2*A*E*cosh(L*psi)) + F*exp(-psi*x)/(2*A*E*cosh(L*psi))) + E*(Delta_T*alpha*exp(psi*x)/(2*cosh(L*psi)) - Delta_T*alpha + Delta_T*alpha*exp(-psi*x)/(2*cosh(L*psi)))"
      ]
     },
     "execution_count": 11,
     "metadata": {},
     "output_type": "execute_result"
    }
   ],
   "source": [
    "sigma_combined =sigma_thermal + sigma_mechanical\n",
    "sigma_combined"
   ]
  },
  {
   "cell_type": "markdown",
   "metadata": {},
   "source": [
    "### Turning solutions to functions\n",
    "\n",
    "In order to be able to plot the solutions, we need to turn them into functions so they can be plotted versus x parameter."
   ]
  },
  {
   "cell_type": "code",
   "execution_count": 12,
   "metadata": {},
   "outputs": [],
   "source": [
    "u_thermal_func = lambdify([x,psi,alpha,Delta_T,L], u_thermal, \"numpy\")\n",
    "epsilon_thermal_func = lambdify([x,psi,alpha,Delta_T,L], epsilon_thermal, \"numpy\")\n",
    "sigma_thermal_func = lambdify([x,psi,alpha,Delta_T,E,L], sigma_thermal, \"numpy\")\n",
    "u_mechanical_func = lambdify([x,psi,F,A,E,L], u_mechanical, \"numpy\")\n",
    "epsilon_mechanical_func = lambdify([x,psi,F,A,E,L], espilon_mechanical, \"numpy\")\n",
    "sigma_mechanical_func = lambdify([x,psi,F,A,E,L], sigma_mechanical, \"numpy\")\n",
    "u_combined_func = lambdify([x,psi,alpha,Delta_T,F,A,E,L], u_combined, \"numpy\")\n",
    "epsilon_combined_func = lambdify([x,psi,alpha,Delta_T,F,A,E,L], epsilon_combined, \"numpy\")\n",
    "sigma_combined_func = lambdify([x,psi,alpha,Delta_T,F,A,E,L], sigma_combined, \"numpy\")"
   ]
  },
  {
   "cell_type": "markdown",
   "metadata": {},
   "source": [
    "## $4$ Ploting displacement, strain and stress on the pile \n",
    "### inputing the pile parameters\n",
    "\n",
    "As each pile has its own propoerties such as length, diameter, Elasticity modulus etc, in this section we get the parameters of each pile in order to plot the results for that specific pile"
   ]
  },
  {
   "cell_type": "code",
   "execution_count": 13,
   "metadata": {},
   "outputs": [
    {
     "name": "stdin",
     "output_type": "stream",
     "text": [
      " Insert Elasticity modulus of the pile in kPa, for example :292000000 292000000\n",
      " Insert pile's length in meters, for example : 26  26\n",
      " Insert pile's diameter in m, for example: 1  1\n",
      " Insert mechanical laod on the pile in kN, for example ±1000 1000\n",
      " Insert the temperature difference in celcius, for example ±14   14\n",
      " insert the coefficient of thermal expansion of the pile in 1/ degree celcius, for example: 10e-5 10e-5\n",
      " Stiffness of shear spring in soil pile interface in kPa/m,for example: 10800 10800\n"
     ]
    }
   ],
   "source": [
    "E = input (\" Insert Elasticity modulus of the pile in kPa, for example :292000000\")\n",
    "L = input (\" Insert pile's length in meters, for example : 26 \")\n",
    "D = input (\" Insert pile's diameter in m, for example: 1 \")\n",
    "F = input (\" Insert mechanical laod on the pile in kN, for example ±1000\")\n",
    "Delta_T = input (\" Insert the temperature difference in celcius, for example ±14  \")\n",
    "alpha = input ( \" insert the coefficient of thermal expansion of the pile in 1/ degree celcius, for example: 10e-5\")\n",
    "ks = input ( \" Stiffness of shear spring in soil pile interface in kPa/m,for example: 10800\")"
   ]
  },
  {
   "cell_type": "markdown",
   "metadata": {},
   "source": [
    "then we should turn the input values into floats so we can use them in calculations"
   ]
  },
  {
   "cell_type": "code",
   "execution_count": 14,
   "metadata": {},
   "outputs": [],
   "source": [
    "E = float (E) \n",
    "L = float (L) \n",
    "D = float (D) \n",
    "F = float (F) \n",
    "Delta_T = float (Delta_T) \n",
    "alpha = float (alpha)\n",
    "ks = float (ks)"
   ]
  },
  {
   "cell_type": "markdown",
   "metadata": {},
   "source": [
    "### calculating the $ \\psi$ paremeter\n",
    "as mentioned before $ \\psi$ is a parameter represinting the physical properties of the pile as follows:\n",
    "\n",
    "$$ \\psi= \\sqrt((p/A)(k_s/E) )$$\n"
   ]
  },
  {
   "cell_type": "code",
   "execution_count": 15,
   "metadata": {},
   "outputs": [],
   "source": [
    "A = math.pi * (D/2)**2\n",
    "p = math.pi *  D\n",
    "psi = math.sqrt ((p/A) * ((float(ks))/float(E)))"
   ]
  },
  {
   "cell_type": "code",
   "execution_count": 16,
   "metadata": {},
   "outputs": [
    {
     "data": {
      "image/png": "[encoded data removed]",
      "text/plain": [
       "<Figure size 1008x576 with 3 Axes>"
      ]
     },
     "metadata": {
      "needs_background": "light"
     },
     "output_type": "display_data"
    }
   ],
   "source": [
    "x = np.arange(0., L+1.)\n",
    "plt.figure(figsize=(14, 8))\n",
    "plt.subplot(131)\n",
    "plt.plot(1000 * (u_thermal_func (x,psi,alpha,Delta_T,L)),x,'r--',1000*(u_mechanical_func (x,psi,F,A,E,L)),x,'g', 1000*(u_combined_func (x,psi,alpha,Delta_T,F,A,E,L)),x,'b')\n",
    "plt.title('Axial displacement', size=20, fontweight='bold')\n",
    "plt.xlabel(\"Axial displacement (mm)\", size=14)\n",
    "plt.ylabel(\"x (m)\", size=16)\n",
    "plt.yticks(fontsize=14)\n",
    "plt.legend(['thermal' ,'mechanical' ,' combined'],fontsize=10)\n",
    "plt.subplot(132)\n",
    "plt.plot(1000000 * (epsilon_thermal_func (x,psi,alpha,Delta_T,L)),x,'r--',1000000*(epsilon_mechanical_func (x,psi,F,A,E,L)),x,'g', 1000000*(epsilon_combined_func (x,psi,alpha,Delta_T,F,A,E,L)),x, 'b')\n",
    "plt.title('Axial strain', size=20, fontweight='bold')\n",
    "plt.xlabel(\"Axial starain (με)\", size=14)\n",
    "plt.ylabel(\"x (m)\", size=16)\n",
    "plt.yticks(fontsize=14)\n",
    "plt.legend(['thermal' ,'mechanical' ,' combined'],fontsize=10, loc = 'lower right',borderaxespad=0)\n",
    "plt.subplot(133)\n",
    "plt.plot( sigma_thermal_func (x,psi,alpha,Delta_T,E,L),x,'r--',sigma_mechanical_func (x,psi,F,A,E,L),x,'g', sigma_combined_func (x,psi,alpha,Delta_T,F,A,E,L),x, 'b')\n",
    "plt.title('Axial stress', size=20, fontweight='bold')\n",
    "plt.xlabel(\"Axial stress (kPa)\", size=14)\n",
    "plt.ylabel(\"x (m)\", size=16)\n",
    "plt.yticks(fontsize=14)\n",
    "plt.legend(['thermal' ,'mechanical' ,' combined'],fontsize=10, loc = 'upper left')\n",
    "plt.show()\n"
   ]
  },
  {
   "cell_type": "markdown",
   "metadata": {},
   "source": [
    "## Rerefence\n",
    "Perić, D., Cossel, A. E., & Sarna, S. A. (2020). Analytical Solutions for Thermomechanical Soil Structure Interaction in End-Bearing Energy Piles. Journal of Geotechnical and Geoenvironmental Engineering, 146(7), 04020047."
   ]
  },
  {
   "cell_type": "code",
   "execution_count": null,
   "metadata": {},
   "outputs": [],
   "source": []
  }
 ],
 "metadata": {
  "kernelspec": {
   "display_name": "Python 3",
   "language": "python",
   "name": "python3"
  },
  "language_info": {
   "codemirror_mode": {
    "name": "ipython",
    "version": 3
   },
   "file_extension": ".py",
   "mimetype": "text/x-python",
   "name": "python",
   "nbconvert_exporter": "python",
   "pygments_lexer": "ipython3",
   "version": "3.7.7"
  }
 },
 "nbformat": 4,
 "nbformat_minor": 4
}
