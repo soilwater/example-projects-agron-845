{
 "cells": [
  {
   "cell_type": "markdown",
   "metadata": {},
   "source": [
    "# Transient Water Release and Imbibition Method (TRIM) Data Processing Tool, Proposal\n",
    "\n",
    "## Background\n",
    "\n",
    "The K-State Civil Engineering Department is currently conducting research on railroad ballast: characterizing the suction properties of fouled ballast using soil water characteristic curves (SWCC). A transient water release and imbibition method (TRIM, Wayllace and Lu 2012) is in use. The TRIM measures the two-step outflow of an unsaturated sample (such as fouled ballast) and then models the SWCC using an inverse method. The method is illustrated in figure 1. Three to five hours of data processing are typically required for production of premium SWCC models using this method. Processing includes phase relationship calculations, filtering and formatting sample data, updating model input files, inverse modeling methods, extracting and formatting model output, and creating figures of results. Much of this work is being executed in Excel, Note++, Hydrus 1D, and MATLAB. Characterization of fouled ballast will outlast the academic careers of several master's students; therefore, a thoughtfully designed automated process would help productivity throughout the course of the project especially as new students begin to work on it.\n",
    "\n",
    "<img src=\"TRIM.png\" alt=\"TRIM\" width=\"800\"/>\n",
    "Figure 1: Concept of the TRIM test.\n",
    "\n",
    "## Objective\n",
    "\n",
    "The objective of this coding project is to automate as much of the processes as possible. It should facilitate faster experimental setup, data processing, modeling, and creation of figures. It should also increase the integrity and repeatability of results by cutting out manually performed steps in each category. This coding project is broken into three phases. Each phase and their respective outcomes are listed below.\n",
    "\n",
    "### Phase 1\n",
    "* Accept user input data: specific gravity, sample volume, sample target dry density, and sample degree of fouling.\n",
    "* Perform phase relationship calculations using that data to get required dry mass of sample, design height of sample, porosity, and saturated volumetric water content.\n",
    "* Return a .txt file with TRIM test specs for experimental setup. Four columns: Parameter No., Parameter Name in Hydrus-1D, Input Value by User, and Hydrus window name for Jirka. Four parameters: Porosity, Diameter(cm), Sample Height (cm), and Saturated Volumetric Water Content.\n",
    "\n",
    "### Phase 2\n",
    "* Open the out.txt file of recorded two-step outflow data produced by the TRIM software and convert it to a .csv file.\n",
    "* Separate saturated flow data from unsaturated flow data in the .csv file.\n",
    "* Process the saturated flow data: calculate/store saturated hydraulic conductivity of the sample in centimeters per second (cm/s) following ASTM standard D5084.\n",
    "* Process the unsaturated flow data: sample the data (sample 100 points form the typical 2000 points collected), and calculate the adjust flow data compensating for diffused air.\n",
    "* Return a .txt file of adjusted unsaturated flow data (minimum of 100 data points) formatted as Hydrus 1D model input. Four columns: Date (mm/dd/yyyy), Time (00:00:00 AM/PM), Step, Mass (g), and Uair (kPa).\n",
    "\n",
    "### Phase 3\n",
    "* Open the out.txt file of the inverse modeling software.\n",
    "* Extract the important data from the out.txt file: SWCC data, and the route mean squared error (RMSE) and regression (R^2) data.\n",
    "* Return a plot of the SWCC and a .csv file of the SWCC data. Two columns: Pressure (kPa), and Volumetric Water Content.\n",
    "\n",
    "## Sketch of code\n",
    "<img src=\"Flow diagram1.png\" alt=\"Flow diagram1\" width=\"800\"/>\n",
    "Figure 2: Sketch of Phase 1\n",
    "<img src=\"Flow diagram2.png\" alt=\"Flow diagram2\" width=\"800\"/>\n",
    "Figure 3: Sketch of Phase 2\n",
    "<img src=\"Flow diagram3.png\" alt=\"Flow diagram3\" width=\"800\"/>\n",
    "Figure 4: Sketch of Phase 3\n"
   ]
  }
 ],
 "metadata": {
  "kernelspec": {
   "display_name": "Python 3 (ipykernel)",
   "language": "python",
   "name": "python3"
  },
  "language_info": {
   "codemirror_mode": {
    "name": "ipython",
    "version": 3
   },
   "file_extension": ".py",
   "mimetype": "text/x-python",
   "name": "python",
   "nbconvert_exporter": "python",
   "pygments_lexer": "ipython3",
   "version": "3.9.7"
  }
 },
 "nbformat": 4,
 "nbformat_minor": 4
}
