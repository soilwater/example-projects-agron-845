{
 "cells": [
  {
   "cell_type": "markdown",
   "metadata": {},
   "source": [
    "# Source water use of trees and grasses using a PCA approach"
   ]
  },
  {
   "cell_type": "code",
   "execution_count": 2,
   "metadata": {},
   "outputs": [
    {
     "name": "stderr",
     "output_type": "stream",
     "text": [
      "ERROR:root:Internal Python error in the inspect module.\n",
      "Below is the traceback from this internal error.\n",
      "\n"
     ]
    },
    {
     "name": "stdout",
     "output_type": "stream",
     "text": [
      "Traceback (most recent call last):\n",
      "  File \"/Applications/anaconda3/lib/python3.7/site-packages/IPython/core/interactiveshell.py\", line 3326, in run_code\n",
      "    exec(code_obj, self.user_global_ns, self.user_ns)\n",
      "  File \"<ipython-input-2-dfb1db73f8f2>\", line 1, in <module>\n",
      "    import pandas as pd # for data manipulation and analysis\n",
      "  File \"<frozen importlib._bootstrap>\", line 983, in _find_and_load\n",
      "  File \"<frozen importlib._bootstrap>\", line 963, in _find_and_load_unlocked\n",
      "  File \"<frozen importlib._bootstrap>\", line 906, in _find_spec\n",
      "  File \"<frozen importlib._bootstrap_external>\", line 1280, in find_spec\n",
      "  File \"<frozen importlib._bootstrap_external>\", line 1249, in _get_spec\n",
      "  File \"<frozen importlib._bootstrap_external>\", line 1213, in _path_importer_cache\n",
      "PermissionError: [Errno 1] Operation not permitted\n",
      "\n",
      "During handling of the above exception, another exception occurred:\n",
      "\n",
      "Traceback (most recent call last):\n",
      "  File \"/Applications/anaconda3/lib/python3.7/site-packages/IPython/core/interactiveshell.py\", line 2040, in showtraceback\n",
      "    stb = value._render_traceback_()\n",
      "AttributeError: 'PermissionError' object has no attribute '_render_traceback_'\n",
      "\n",
      "During handling of the above exception, another exception occurred:\n",
      "\n",
      "Traceback (most recent call last):\n",
      "  File \"/Applications/anaconda3/lib/python3.7/site-packages/IPython/core/ultratb.py\", line 1101, in get_records\n",
      "    return _fixed_getinnerframes(etb, number_of_lines_of_context, tb_offset)\n",
      "  File \"/Applications/anaconda3/lib/python3.7/site-packages/IPython/core/ultratb.py\", line 319, in wrapped\n",
      "    return f(*args, **kwargs)\n",
      "  File \"/Applications/anaconda3/lib/python3.7/site-packages/IPython/core/ultratb.py\", line 353, in _fixed_getinnerframes\n",
      "    records = fix_frame_records_filenames(inspect.getinnerframes(etb, context))\n",
      "  File \"/Applications/anaconda3/lib/python3.7/inspect.py\", line 1502, in getinnerframes\n",
      "    frameinfo = (tb.tb_frame,) + getframeinfo(tb, context)\n",
      "  File \"/Applications/anaconda3/lib/python3.7/inspect.py\", line 1460, in getframeinfo\n",
      "    filename = getsourcefile(frame) or getfile(frame)\n",
      "  File \"/Applications/anaconda3/lib/python3.7/inspect.py\", line 696, in getsourcefile\n",
      "    if getattr(getmodule(object, filename), '__loader__', None) is not None:\n",
      "  File \"/Applications/anaconda3/lib/python3.7/inspect.py\", line 725, in getmodule\n",
      "    file = getabsfile(object, _filename)\n",
      "  File \"/Applications/anaconda3/lib/python3.7/inspect.py\", line 709, in getabsfile\n",
      "    return os.path.normcase(os.path.abspath(_filename))\n",
      "  File \"/Applications/anaconda3/lib/python3.7/posixpath.py\", line 383, in abspath\n",
      "    cwd = os.getcwd()\n",
      "PermissionError: [Errno 1] Operation not permitted\n"
     ]
    },
    {
     "ename": "PermissionError",
     "evalue": "[Errno 1] Operation not permitted",
     "output_type": "error",
     "traceback": [
      "\u001b[0;31m---------------------------------------------------------------------------\u001b[0m"
     ]
    }
   ],
   "source": [
    "import pandas as pd # for data manipulation and analysis\n",
    "import numpy as np  # for mathematical functions\n",
    "from scipy import stats as ss # to get standard error for plotting\n",
    "from plotly import express as px # for plotting\n",
    "import plotly.graph_objects as go # for pltting\n",
    "from sklearn.preprocessing import StandardScaler # to scale values for PCA\n",
    "from sklearn.decomposition import PCA # to run PCA\n",
    "import statsmodels.formula.api as smf # to run ols and glm using the formula format\n",
    "import statsmodels.api as sm # to run glm and specify family and link \n",
    "from statsmodels.stats.anova import anova_lm # to run anova\n",
    "from statsmodels.graphics.api import qqplot # to check assumptions of anova\n",
    "import matplotlib.pyplot as plt # to plot qqplot for anova assumptions"
   ]
  },
  {
   "cell_type": "markdown",
   "metadata": {},
   "source": [
    "# Load the data"
   ]
  },
  {
   "cell_type": "code",
   "execution_count": 2,
   "metadata": {},
   "outputs": [],
   "source": [
    "# use pandas to read the csv into python\n",
    "df = pd.read_csv('isotope_samples_example.csv')"
   ]
  },
  {
   "cell_type": "code",
   "execution_count": 3,
   "metadata": {},
   "outputs": [
    {
     "data": {
      "text/html": [
       "<div>\n",
       "<style scoped>\n",
       "    .dataframe tbody tr th:only-of-type {\n",
       "        vertical-align: middle;\n",
       "    }\n",
       "\n",
       "    .dataframe tbody tr th {\n",
       "        vertical-align: top;\n",
       "    }\n",
       "\n",
       "    .dataframe thead th {\n",
       "        text-align: right;\n",
       "    }\n",
       "</style>\n",
       "<table border=\"1\" class=\"dataframe\">\n",
       "  <thead>\n",
       "    <tr style=\"text-align: right;\">\n",
       "      <th></th>\n",
       "      <th>Date</th>\n",
       "      <th>Sample ID</th>\n",
       "      <th>Plot</th>\n",
       "      <th>Treatment</th>\n",
       "      <th>Type</th>\n",
       "      <th>dD</th>\n",
       "      <th>d18O</th>\n",
       "    </tr>\n",
       "  </thead>\n",
       "  <tbody>\n",
       "    <tr>\n",
       "      <td>0</td>\n",
       "      <td>3/28/17</td>\n",
       "      <td>1</td>\n",
       "      <td>1</td>\n",
       "      <td>cut</td>\n",
       "      <td>10_cm</td>\n",
       "      <td>-18</td>\n",
       "      <td>4.0</td>\n",
       "    </tr>\n",
       "    <tr>\n",
       "      <td>1</td>\n",
       "      <td>3/28/17</td>\n",
       "      <td>2</td>\n",
       "      <td>1</td>\n",
       "      <td>cut</td>\n",
       "      <td>10_cm</td>\n",
       "      <td>-12</td>\n",
       "      <td>2.8</td>\n",
       "    </tr>\n",
       "    <tr>\n",
       "      <td>2</td>\n",
       "      <td>3/28/17</td>\n",
       "      <td>3</td>\n",
       "      <td>1</td>\n",
       "      <td>cut</td>\n",
       "      <td>30_cm</td>\n",
       "      <td>-29</td>\n",
       "      <td>-1.2</td>\n",
       "    </tr>\n",
       "    <tr>\n",
       "      <td>3</td>\n",
       "      <td>3/28/17</td>\n",
       "      <td>4</td>\n",
       "      <td>1</td>\n",
       "      <td>cut</td>\n",
       "      <td>30_cm</td>\n",
       "      <td>-21</td>\n",
       "      <td>-0.2</td>\n",
       "    </tr>\n",
       "    <tr>\n",
       "      <td>4</td>\n",
       "      <td>3/28/17</td>\n",
       "      <td>5</td>\n",
       "      <td>1</td>\n",
       "      <td>cut</td>\n",
       "      <td>50_cm</td>\n",
       "      <td>-29</td>\n",
       "      <td>-1.3</td>\n",
       "    </tr>\n",
       "  </tbody>\n",
       "</table>\n",
       "</div>"
      ],
      "text/plain": [
       "      Date  Sample ID  Plot Treatment   Type  dD  d18O\n",
       "0  3/28/17          1     1       cut  10_cm -18   4.0\n",
       "1  3/28/17          2     1       cut  10_cm -12   2.8\n",
       "2  3/28/17          3     1       cut  30_cm -29  -1.2\n",
       "3  3/28/17          4     1       cut  30_cm -21  -0.2\n",
       "4  3/28/17          5     1       cut  50_cm -29  -1.3"
      ]
     },
     "execution_count": 3,
     "metadata": {},
     "output_type": "execute_result"
    }
   ],
   "source": [
    "# view the first 5 rows of data\n",
    "df.head()"
   ]
  },
  {
   "cell_type": "markdown",
   "metadata": {},
   "source": [
    "We are interested in how $\\delta D$ and $\\delta {^1}{^8}O$ vary among sample type (soil, tree, or grass) and treatment (plots with cut or uncut trees) in 2017 and 2018.\n",
    "\n",
    "Variables:\n",
    "* Date - There are 2 sampling dates. All samples were taken on the same day in 2017 and 2018.\n",
    "* Sample_ID - The assigned number to each sample.\n",
    "* Plot - There are 3 plots. Within each plot is a cut and an uncut treatment.\n",
    "* Treatment - There are 2 treatments: cut and uncut. The cut treatment represents mopane trees that were subject to repeated removal of aboveground biomass. The uncut treatment is the control.\n",
    "* Type - The sample type (tree, grass, or soil). The depths (cm) represent the depth of the soil sample.\n",
    "* dD - $\\delta D$ $‰$\n",
    "* d18O - $\\delta {^1}{^8}O$ $‰$\n",
    "\n",
    "We first need to clean the data to make the variables easier to work with in order to answer the questions."
   ]
  },
  {
   "cell_type": "markdown",
   "metadata": {},
   "source": [
    "# Clean data"
   ]
  },
  {
   "cell_type": "code",
   "execution_count": 4,
   "metadata": {},
   "outputs": [],
   "source": [
    "# Extract the year from the Date column to easily compare between years.\n",
    "\n",
    "# convert Date column into a datetime object\n",
    "df[\"Date\"] = pd.to_datetime(df[\"Date\"], format=\"%m/%d/%y\")\n",
    "\n",
    "# extract year from Date\n",
    "df.insert(1,\"Year\",df[\"Date\"].dt.year)"
   ]
  },
  {
   "cell_type": "code",
   "execution_count": 5,
   "metadata": {},
   "outputs": [
    {
     "name": "stdout",
     "output_type": "stream",
     "text": [
      "There are 7 unique elements in the Type column\n",
      "Unique elements: ['10_cm' '30_cm' '50_cm' 'grass' 'tree' 'Borehole' 'pan_max']\n"
     ]
    }
   ],
   "source": [
    "# Here we can see the number of unique elements in the 'Type' column and a list of the elements\n",
    "type_unique = df['Type'].nunique()\n",
    "print('There are', type_unique, 'unique elements in the Type column')\n",
    "\n",
    "print('Unique elements:', (df['Type'].unique()))"
   ]
  },
  {
   "cell_type": "code",
   "execution_count": 6,
   "metadata": {},
   "outputs": [],
   "source": [
    "# Remove the Borehole reference sample because it is not a sample of interest\n",
    "df = df[df.Type != 'Borehole']\n",
    "\n",
    "# pan_max is the species code for a type of grass, so we can replace 'pan_max' with 'grass'\n",
    "df['Type'].replace('pan_max', 'grass', inplace=True)"
   ]
  },
  {
   "cell_type": "code",
   "execution_count": 7,
   "metadata": {},
   "outputs": [],
   "source": [
    "# The Type column includes tree, grass and soil depth samples.\n",
    "# We need to specify that anything that is not a tree or grass sample is a soil sample.\n",
    "\n",
    "# create a new list called 'Type_2'\n",
    "Type_2 = []\n",
    "\n",
    "# use a for loop to specify that anything that is not tree or grass sample is a soil sample\n",
    "for i in df['Type']:\n",
    "    if i == 'tree':\n",
    "        Type_2.append('tree')\n",
    "    elif i == 'grass':\n",
    "        Type_2.append('grass')\n",
    "    else:\n",
    "        Type_2.append('soil')\n",
    "\n",
    "# add the Type_2 list as a new column to the dataframe\n",
    "df['Type_2'] = Type_2"
   ]
  },
  {
   "cell_type": "code",
   "execution_count": 8,
   "metadata": {},
   "outputs": [],
   "source": [
    "# extract the soil depths from the Type column into a new column called 'Depth'\n",
    "df['Depth'] = df['Type'].str.split(\"_\", n = 1, expand = True)[0]\n",
    "\n",
    "# For plotting purposes, assign arbitrary depth values for tree and grass samples (see plot below)\n",
    "df['Depth'].replace('tree', -20, inplace = True)\n",
    "df['Depth'].replace('grass', -10, inplace=True)\n",
    "\n",
    "# specify Depth column is numeric\n",
    "# this will be important for analysis\n",
    "df['Depth'] = pd.to_numeric(df['Depth'])"
   ]
  },
  {
   "cell_type": "markdown",
   "metadata": {},
   "source": [
    "In the output below, we can see the results of the data cleaning and manipulation:\n",
    "1. Year column with 2017 or 2018\n",
    "2. Type_2 column with 'soil' in the rows with a soil depth in the Type column\n",
    "3. Depth column with soil depth as an integer"
   ]
  },
  {
   "cell_type": "code",
   "execution_count": 10,
   "metadata": {},
   "outputs": [
    {
     "data": {
      "text/html": [
       "<div>\n",
       "<style scoped>\n",
       "    .dataframe tbody tr th:only-of-type {\n",
       "        vertical-align: middle;\n",
       "    }\n",
       "\n",
       "    .dataframe tbody tr th {\n",
       "        vertical-align: top;\n",
       "    }\n",
       "\n",
       "    .dataframe thead th {\n",
       "        text-align: right;\n",
       "    }\n",
       "</style>\n",
       "<table border=\"1\" class=\"dataframe\">\n",
       "  <thead>\n",
       "    <tr style=\"text-align: right;\">\n",
       "      <th></th>\n",
       "      <th>Date</th>\n",
       "      <th>Year</th>\n",
       "      <th>Sample ID</th>\n",
       "      <th>Plot</th>\n",
       "      <th>Treatment</th>\n",
       "      <th>Type</th>\n",
       "      <th>dD</th>\n",
       "      <th>d18O</th>\n",
       "      <th>Type_2</th>\n",
       "      <th>Depth</th>\n",
       "    </tr>\n",
       "  </thead>\n",
       "  <tbody>\n",
       "    <tr>\n",
       "      <td>0</td>\n",
       "      <td>2017-03-28</td>\n",
       "      <td>2017</td>\n",
       "      <td>1</td>\n",
       "      <td>1</td>\n",
       "      <td>cut</td>\n",
       "      <td>10_cm</td>\n",
       "      <td>-18</td>\n",
       "      <td>4.0</td>\n",
       "      <td>soil</td>\n",
       "      <td>10</td>\n",
       "    </tr>\n",
       "    <tr>\n",
       "      <td>1</td>\n",
       "      <td>2017-03-28</td>\n",
       "      <td>2017</td>\n",
       "      <td>2</td>\n",
       "      <td>1</td>\n",
       "      <td>cut</td>\n",
       "      <td>10_cm</td>\n",
       "      <td>-12</td>\n",
       "      <td>2.8</td>\n",
       "      <td>soil</td>\n",
       "      <td>10</td>\n",
       "    </tr>\n",
       "    <tr>\n",
       "      <td>2</td>\n",
       "      <td>2017-03-28</td>\n",
       "      <td>2017</td>\n",
       "      <td>3</td>\n",
       "      <td>1</td>\n",
       "      <td>cut</td>\n",
       "      <td>30_cm</td>\n",
       "      <td>-29</td>\n",
       "      <td>-1.2</td>\n",
       "      <td>soil</td>\n",
       "      <td>30</td>\n",
       "    </tr>\n",
       "    <tr>\n",
       "      <td>3</td>\n",
       "      <td>2017-03-28</td>\n",
       "      <td>2017</td>\n",
       "      <td>4</td>\n",
       "      <td>1</td>\n",
       "      <td>cut</td>\n",
       "      <td>30_cm</td>\n",
       "      <td>-21</td>\n",
       "      <td>-0.2</td>\n",
       "      <td>soil</td>\n",
       "      <td>30</td>\n",
       "    </tr>\n",
       "    <tr>\n",
       "      <td>4</td>\n",
       "      <td>2017-03-28</td>\n",
       "      <td>2017</td>\n",
       "      <td>5</td>\n",
       "      <td>1</td>\n",
       "      <td>cut</td>\n",
       "      <td>50_cm</td>\n",
       "      <td>-29</td>\n",
       "      <td>-1.3</td>\n",
       "      <td>soil</td>\n",
       "      <td>50</td>\n",
       "    </tr>\n",
       "  </tbody>\n",
       "</table>\n",
       "</div>"
      ],
      "text/plain": [
       "        Date  Year  Sample ID  Plot Treatment   Type  dD  d18O Type_2  Depth\n",
       "0 2017-03-28  2017          1     1       cut  10_cm -18   4.0   soil     10\n",
       "1 2017-03-28  2017          2     1       cut  10_cm -12   2.8   soil     10\n",
       "2 2017-03-28  2017          3     1       cut  30_cm -29  -1.2   soil     30\n",
       "3 2017-03-28  2017          4     1       cut  30_cm -21  -0.2   soil     30\n",
       "4 2017-03-28  2017          5     1       cut  50_cm -29  -1.3   soil     50"
      ]
     },
     "execution_count": 10,
     "metadata": {},
     "output_type": "execute_result"
    }
   ],
   "source": [
    "df.head()"
   ]
  },
  {
   "cell_type": "markdown",
   "metadata": {},
   "source": [
    "# Single isotope graphs\n",
    "## Visualize - do soil water isotopes vary with depth?\n",
    "In order to assess if water isotopes can be used as a indicator of depth of water uptake, we need to determine if soil water isotopes vary with depth. We expect isotopic values to get smaller with depth due to evaporative enrichment near the soil surface. \n",
    "\n",
    "From the plots below, we can see that on average both $\\delta {^1}{^8}{O}$ and $\\delta D$ decrease with depth. However, there is a lot of variation in 2018. In addition, tree samples tend to have lower values than grass samples."
   ]
  },
  {
   "cell_type": "markdown",
   "metadata": {},
   "source": [
    "### $\\delta {^1}{^8}{O}$"
   ]
  },
  {
   "cell_type": "code",
   "execution_count": null,
   "metadata": {},
   "outputs": [],
   "source": [
    "fig.update_layout(\n",
    "    xaxis = dict(\n",
    "        tickmode = 'array',\n",
    "        tickvals = [1, 3, 5, 7, 9, 11],"
   ]
  },
  {
   "cell_type": "code",
   "execution_count": 39,
   "metadata": {},
   "outputs": [
    {
     "data": {
      "application/vnd.plotly.v1+json": {
       "config": {
        "plotlyServerURL": "https://plot.ly"
       },
       "data": [
        {
         "error_x": {
          "array": [
           0.3938787832160659
          ]
         },
         "hoverlabel": {
          "namelength": 0
         },
         "hovertemplate": "Type_2=tree<br>Treatment=cut<br>Year=2017<br>mean=%{x}<br>Depth=%{y}",
         "legendgroup": "tree",
         "marker": {
          "color": "orange",
          "symbol": "circle"
         },
         "mode": "markers",
         "name": "tree",
         "showlegend": true,
         "type": "scatter",
         "x": [
          -2.5363636363636366
         ],
         "xaxis": "x3",
         "y": [
          -20
         ],
         "yaxis": "y3"
        },
        {
         "error_x": {
          "array": [
           0.6217592749284855
          ]
         },
         "hoverlabel": {
          "namelength": 0
         },
         "hovertemplate": "Type_2=tree<br>Treatment=cut<br>Year=2018<br>mean=%{x}<br>Depth=%{y}",
         "legendgroup": "tree",
         "marker": {
          "color": "orange",
          "symbol": "circle"
         },
         "mode": "markers",
         "name": "tree",
         "showlegend": false,
         "type": "scatter",
         "x": [
          -1.7083333333333337
         ],
         "xaxis": "x4",
         "y": [
          -20
         ],
         "yaxis": "y4"
        },
        {
         "error_x": {
          "array": [
           0.281455452455929
          ]
         },
         "hoverlabel": {
          "namelength": 0
         },
         "hovertemplate": "Type_2=tree<br>Treatment=uncut<br>Year=2017<br>mean=%{x}<br>Depth=%{y}",
         "legendgroup": "tree",
         "marker": {
          "color": "orange",
          "symbol": "circle"
         },
         "mode": "markers",
         "name": "tree",
         "showlegend": false,
         "type": "scatter",
         "x": [
          -3.4166666666666665
         ],
         "xaxis": "x",
         "y": [
          -20
         ],
         "yaxis": "y"
        },
        {
         "error_x": {
          "array": [
           0.4932114919155633
          ]
         },
         "hoverlabel": {
          "namelength": 0
         },
         "hovertemplate": "Type_2=tree<br>Treatment=uncut<br>Year=2018<br>mean=%{x}<br>Depth=%{y}",
         "legendgroup": "tree",
         "marker": {
          "color": "orange",
          "symbol": "circle"
         },
         "mode": "markers",
         "name": "tree",
         "showlegend": false,
         "type": "scatter",
         "x": [
          -1.75
         ],
         "xaxis": "x2",
         "y": [
          -20
         ],
         "yaxis": "y2"
        },
        {
         "error_x": {
          "array": [
           0.6489545248387147
          ]
         },
         "hoverlabel": {
          "namelength": 0
         },
         "hovertemplate": "Type_2=grass<br>Treatment=cut<br>Year=2017<br>mean=%{x}<br>Depth=%{y}",
         "legendgroup": "grass",
         "marker": {
          "color": "blue",
          "symbol": "circle"
         },
         "mode": "markers",
         "name": "grass",
         "showlegend": true,
         "type": "scatter",
         "x": [
          -0.4555555555555557
         ],
         "xaxis": "x3",
         "y": [
          -10
         ],
         "yaxis": "y3"
        },
        {
         "error_x": {
          "array": [
           0.7312048234435823
          ]
         },
         "hoverlabel": {
          "namelength": 0
         },
         "hovertemplate": "Type_2=grass<br>Treatment=cut<br>Year=2018<br>mean=%{x}<br>Depth=%{y}",
         "legendgroup": "grass",
         "marker": {
          "color": "blue",
          "symbol": "circle"
         },
         "mode": "markers",
         "name": "grass",
         "showlegend": false,
         "type": "scatter",
         "x": [
          0.12222222222222223
         ],
         "xaxis": "x4",
         "y": [
          -10
         ],
         "yaxis": "y4"
        },
        {
         "error_x": {
          "array": [
           0.7111359122659224
          ]
         },
         "hoverlabel": {
          "namelength": 0
         },
         "hovertemplate": "Type_2=grass<br>Treatment=uncut<br>Year=2017<br>mean=%{x}<br>Depth=%{y}",
         "legendgroup": "grass",
         "marker": {
          "color": "blue",
          "symbol": "circle"
         },
         "mode": "markers",
         "name": "grass",
         "showlegend": false,
         "type": "scatter",
         "x": [
          -0.19999999999999993
         ],
         "xaxis": "x",
         "y": [
          -10
         ],
         "yaxis": "y"
        },
        {
         "error_x": {
          "array": [
           0.7833530336372242
          ]
         },
         "hoverlabel": {
          "namelength": 0
         },
         "hovertemplate": "Type_2=grass<br>Treatment=uncut<br>Year=2018<br>mean=%{x}<br>Depth=%{y}",
         "legendgroup": "grass",
         "marker": {
          "color": "blue",
          "symbol": "circle"
         },
         "mode": "markers",
         "name": "grass",
         "showlegend": false,
         "type": "scatter",
         "x": [
          0.5555555555555556
         ],
         "xaxis": "x2",
         "y": [
          -10
         ],
         "yaxis": "y2"
        },
        {
         "error_x": {
          "array": [
           0.4176654695380556,
           0.726483157256779,
           0.676592771006148
          ]
         },
         "hoverlabel": {
          "namelength": 0
         },
         "hovertemplate": "Type_2=soil<br>Treatment=cut<br>Year=2017<br>mean=%{x}<br>Depth=%{y}",
         "legendgroup": "soil",
         "marker": {
          "color": "gray",
          "symbol": "circle"
         },
         "mode": "markers",
         "name": "soil",
         "showlegend": true,
         "type": "scatter",
         "x": [
          3.633333333333333,
          -0.03333333333333329,
          -0.4333333333333334
         ],
         "xaxis": "x3",
         "y": [
          10,
          30,
          50
         ],
         "yaxis": "y3"
        },
        {
         "error_x": {
          "array": [
           0.6691619966628244,
           0.9938701010583716,
           0.8736894948054105
          ]
         },
         "hoverlabel": {
          "namelength": 0
         },
         "hovertemplate": "Type_2=soil<br>Treatment=cut<br>Year=2018<br>mean=%{x}<br>Depth=%{y}",
         "legendgroup": "soil",
         "marker": {
          "color": "gray",
          "symbol": "circle"
         },
         "mode": "markers",
         "name": "soil",
         "showlegend": false,
         "type": "scatter",
         "x": [
          3.233333333333333,
          2.3666666666666667,
          1.5
         ],
         "xaxis": "x4",
         "y": [
          10,
          30,
          50
         ],
         "yaxis": "y4"
        },
        {
         "error_x": {
          "array": [
           0.3403429642777024,
           0.7708220719898118,
           0.5347896782848375
          ]
         },
         "hoverlabel": {
          "namelength": 0
         },
         "hovertemplate": "Type_2=soil<br>Treatment=uncut<br>Year=2017<br>mean=%{x}<br>Depth=%{y}",
         "legendgroup": "soil",
         "marker": {
          "color": "gray",
          "symbol": "circle"
         },
         "mode": "markers",
         "name": "soil",
         "showlegend": false,
         "type": "scatter",
         "x": [
          3.85,
          0.04999999999999993,
          -1.1
         ],
         "xaxis": "x",
         "y": [
          10,
          30,
          50
         ],
         "yaxis": "y"
        },
        {
         "error_x": {
          "array": [
           0.3179797338056485,
           2.39606158333026,
           2.2430138455014297
          ]
         },
         "hoverlabel": {
          "namelength": 0
         },
         "hovertemplate": "Type_2=soil<br>Treatment=uncut<br>Year=2018<br>mean=%{x}<br>Depth=%{y}",
         "legendgroup": "soil",
         "marker": {
          "color": "gray",
          "symbol": "circle"
         },
         "mode": "markers",
         "name": "soil",
         "showlegend": false,
         "type": "scatter",
         "x": [
          2.733333333333333,
          1.8666666666666665,
          -0.033333333333333326
         ],
         "xaxis": "x2",
         "y": [
          10,
          30,
          50
         ],
         "yaxis": "y2"
        }
       ],
       "layout": {
        "annotations": [
         {
          "font": {},
          "showarrow": false,
          "text": "2017",
          "x": 0.24,
          "xanchor": "center",
          "xref": "paper",
          "y": 1,
          "yanchor": "bottom",
          "yref": "paper"
         },
         {
          "font": {},
          "showarrow": false,
          "text": "2018",
          "x": 0.74,
          "xanchor": "center",
          "xref": "paper",
          "y": 1,
          "yanchor": "bottom",
          "yref": "paper"
         },
         {
          "font": {},
          "showarrow": false,
          "text": "uncut",
          "textangle": 90,
          "x": 0.98,
          "xanchor": "left",
          "xref": "paper",
          "y": 0.2425,
          "yanchor": "middle",
          "yref": "paper"
         },
         {
          "font": {},
          "showarrow": false,
          "text": "cut",
          "textangle": 90,
          "x": 0.98,
          "xanchor": "left",
          "xref": "paper",
          "y": 0.7575000000000001,
          "yanchor": "middle",
          "yref": "paper"
         }
        ],
        "autosize": true,
        "legend": {
         "title": {
          "text": "sample type"
         },
         "tracegroupgap": 0
        },
        "margin": {
         "t": 60
        },
        "template": {
         "data": {
          "bar": [
           {
            "error_x": {
             "color": "rgb(36,36,36)"
            },
            "error_y": {
             "color": "rgb(36,36,36)"
            },
            "marker": {
             "line": {
              "color": "white",
              "width": 0.5
             }
            },
            "type": "bar"
           }
          ],
          "barpolar": [
           {
            "marker": {
             "line": {
              "color": "white",
              "width": 0.5
             }
            },
            "type": "barpolar"
           }
          ],
          "carpet": [
           {
            "aaxis": {
             "endlinecolor": "rgb(36,36,36)",
             "gridcolor": "white",
             "linecolor": "white",
             "minorgridcolor": "white",
             "startlinecolor": "rgb(36,36,36)"
            },
            "baxis": {
             "endlinecolor": "rgb(36,36,36)",
             "gridcolor": "white",
             "linecolor": "white",
             "minorgridcolor": "white",
             "startlinecolor": "rgb(36,36,36)"
            },
            "type": "carpet"
           }
          ],
          "choropleth": [
           {
            "colorbar": {
             "outlinewidth": 1,
             "tickcolor": "rgb(36,36,36)",
             "ticks": "outside"
            },
            "type": "choropleth"
           }
          ],
          "contour": [
           {
            "colorbar": {
             "outlinewidth": 1,
             "tickcolor": "rgb(36,36,36)",
             "ticks": "outside"
            },
            "colorscale": [
             [
              0,
              "#440154"
             ],
             [
              0.1111111111111111,
              "#482878"
             ],
             [
              0.2222222222222222,
              "#3e4989"
             ],
             [
              0.3333333333333333,
              "#31688e"
             ],
             [
              0.4444444444444444,
              "#26828e"
             ],
             [
              0.5555555555555556,
              "#1f9e89"
             ],
             [
              0.6666666666666666,
              "#35b779"
             ],
             [
              0.7777777777777778,
              "#6ece58"
             ],
             [
              0.8888888888888888,
              "#b5de2b"
             ],
             [
              1,
              "#fde725"
             ]
            ],
            "type": "contour"
           }
          ],
          "contourcarpet": [
           {
            "colorbar": {
             "outlinewidth": 1,
             "tickcolor": "rgb(36,36,36)",
             "ticks": "outside"
            },
            "type": "contourcarpet"
           }
          ],
          "heatmap": [
           {
            "colorbar": {
             "outlinewidth": 1,
             "tickcolor": "rgb(36,36,36)",
             "ticks": "outside"
            },
            "colorscale": [
             [
              0,
              "#440154"
             ],
             [
              0.1111111111111111,
              "#482878"
             ],
             [
              0.2222222222222222,
              "#3e4989"
             ],
             [
              0.3333333333333333,
              "#31688e"
             ],
             [
              0.4444444444444444,
              "#26828e"
             ],
             [
              0.5555555555555556,
              "#1f9e89"
             ],
             [
              0.6666666666666666,
              "#35b779"
             ],
             [
              0.7777777777777778,
              "#6ece58"
             ],
             [
              0.8888888888888888,
              "#b5de2b"
             ],
             [
              1,
              "#fde725"
             ]
            ],
            "type": "heatmap"
           }
          ],
          "heatmapgl": [
           {
            "colorbar": {
             "outlinewidth": 1,
             "tickcolor": "rgb(36,36,36)",
             "ticks": "outside"
            },
            "colorscale": [
             [
              0,
              "#440154"
             ],
             [
              0.1111111111111111,
              "#482878"
             ],
             [
              0.2222222222222222,
              "#3e4989"
             ],
             [
              0.3333333333333333,
              "#31688e"
             ],
             [
              0.4444444444444444,
              "#26828e"
             ],
             [
              0.5555555555555556,
              "#1f9e89"
             ],
             [
              0.6666666666666666,
              "#35b779"
             ],
             [
              0.7777777777777778,
              "#6ece58"
             ],
             [
              0.8888888888888888,
              "#b5de2b"
             ],
             [
              1,
              "#fde725"
             ]
            ],
            "type": "heatmapgl"
           }
          ],
          "histogram": [
           {
            "marker": {
             "line": {
              "color": "white",
              "width": 0.6
             }
            },
            "type": "histogram"
           }
          ],
          "histogram2d": [
           {
            "colorbar": {
             "outlinewidth": 1,
             "tickcolor": "rgb(36,36,36)",
             "ticks": "outside"
            },
            "colorscale": [
             [
              0,
              "#440154"
             ],
             [
              0.1111111111111111,
              "#482878"
             ],
             [
              0.2222222222222222,
              "#3e4989"
             ],
             [
              0.3333333333333333,
              "#31688e"
             ],
             [
              0.4444444444444444,
              "#26828e"
             ],
             [
              0.5555555555555556,
              "#1f9e89"
             ],
             [
              0.6666666666666666,
              "#35b779"
             ],
             [
              0.7777777777777778,
              "#6ece58"
             ],
             [
              0.8888888888888888,
              "#b5de2b"
             ],
             [
              1,
              "#fde725"
             ]
            ],
            "type": "histogram2d"
           }
          ],
          "histogram2dcontour": [
           {
            "colorbar": {
             "outlinewidth": 1,
             "tickcolor": "rgb(36,36,36)",
             "ticks": "outside"
            },
            "colorscale": [
             [
              0,
              "#440154"
             ],
             [
              0.1111111111111111,
              "#482878"
             ],
             [
              0.2222222222222222,
              "#3e4989"
             ],
             [
              0.3333333333333333,
              "#31688e"
             ],
             [
              0.4444444444444444,
              "#26828e"
             ],
             [
              0.5555555555555556,
              "#1f9e89"
             ],
             [
              0.6666666666666666,
              "#35b779"
             ],
             [
              0.7777777777777778,
              "#6ece58"
             ],
             [
              0.8888888888888888,
              "#b5de2b"
             ],
             [
              1,
              "#fde725"
             ]
            ],
            "type": "histogram2dcontour"
           }
          ],
          "mesh3d": [
           {
            "colorbar": {
             "outlinewidth": 1,
             "tickcolor": "rgb(36,36,36)",
             "ticks": "outside"
            },
            "type": "mesh3d"
           }
          ],
          "parcoords": [
           {
            "line": {
             "colorbar": {
              "outlinewidth": 1,
              "tickcolor": "rgb(36,36,36)",
              "ticks": "outside"
             }
            },
            "type": "parcoords"
           }
          ],
          "pie": [
           {
            "automargin": true,
            "type": "pie"
           }
          ],
          "scatter": [
           {
            "marker": {
             "colorbar": {
              "outlinewidth": 1,
              "tickcolor": "rgb(36,36,36)",
              "ticks": "outside"
             }
            },
            "type": "scatter"
           }
          ],
          "scatter3d": [
           {
            "line": {
             "colorbar": {
              "outlinewidth": 1,
              "tickcolor": "rgb(36,36,36)",
              "ticks": "outside"
             }
            },
            "marker": {
             "colorbar": {
              "outlinewidth": 1,
              "tickcolor": "rgb(36,36,36)",
              "ticks": "outside"
             }
            },
            "type": "scatter3d"
           }
          ],
          "scattercarpet": [
           {
            "marker": {
             "colorbar": {
              "outlinewidth": 1,
              "tickcolor": "rgb(36,36,36)",
              "ticks": "outside"
             }
            },
            "type": "scattercarpet"
           }
          ],
          "scattergeo": [
           {
            "marker": {
             "colorbar": {
              "outlinewidth": 1,
              "tickcolor": "rgb(36,36,36)",
              "ticks": "outside"
             }
            },
            "type": "scattergeo"
           }
          ],
          "scattergl": [
           {
            "marker": {
             "colorbar": {
              "outlinewidth": 1,
              "tickcolor": "rgb(36,36,36)",
              "ticks": "outside"
             }
            },
            "type": "scattergl"
           }
          ],
          "scattermapbox": [
           {
            "marker": {
             "colorbar": {
              "outlinewidth": 1,
              "tickcolor": "rgb(36,36,36)",
              "ticks": "outside"
             }
            },
            "type": "scattermapbox"
           }
          ],
          "scatterpolar": [
           {
            "marker": {
             "colorbar": {
              "outlinewidth": 1,
              "tickcolor": "rgb(36,36,36)",
              "ticks": "outside"
             }
            },
            "type": "scatterpolar"
           }
          ],
          "scatterpolargl": [
           {
            "marker": {
             "colorbar": {
              "outlinewidth": 1,
              "tickcolor": "rgb(36,36,36)",
              "ticks": "outside"
             }
            },
            "type": "scatterpolargl"
           }
          ],
          "scatterternary": [
           {
            "marker": {
             "colorbar": {
              "outlinewidth": 1,
              "tickcolor": "rgb(36,36,36)",
              "ticks": "outside"
             }
            },
            "type": "scatterternary"
           }
          ],
          "surface": [
           {
            "colorbar": {
             "outlinewidth": 1,
             "tickcolor": "rgb(36,36,36)",
             "ticks": "outside"
            },
            "colorscale": [
             [
              0,
              "#440154"
             ],
             [
              0.1111111111111111,
              "#482878"
             ],
             [
              0.2222222222222222,
              "#3e4989"
             ],
             [
              0.3333333333333333,
              "#31688e"
             ],
             [
              0.4444444444444444,
              "#26828e"
             ],
             [
              0.5555555555555556,
              "#1f9e89"
             ],
             [
              0.6666666666666666,
              "#35b779"
             ],
             [
              0.7777777777777778,
              "#6ece58"
             ],
             [
              0.8888888888888888,
              "#b5de2b"
             ],
             [
              1,
              "#fde725"
             ]
            ],
            "type": "surface"
           }
          ],
          "table": [
           {
            "cells": {
             "fill": {
              "color": "rgb(237,237,237)"
             },
             "line": {
              "color": "white"
             }
            },
            "header": {
             "fill": {
              "color": "rgb(217,217,217)"
             },
             "line": {
              "color": "white"
             }
            },
            "type": "table"
           }
          ]
         },
         "layout": {
          "annotationdefaults": {
           "arrowhead": 0,
           "arrowwidth": 1
          },
          "coloraxis": {
           "colorbar": {
            "outlinewidth": 1,
            "tickcolor": "rgb(36,36,36)",
            "ticks": "outside"
           }
          },
          "colorscale": {
           "diverging": [
            [
             0,
             "rgb(103,0,31)"
            ],
            [
             0.1,
             "rgb(178,24,43)"
            ],
            [
             0.2,
             "rgb(214,96,77)"
            ],
            [
             0.3,
             "rgb(244,165,130)"
            ],
            [
             0.4,
             "rgb(253,219,199)"
            ],
            [
             0.5,
             "rgb(247,247,247)"
            ],
            [
             0.6,
             "rgb(209,229,240)"
            ],
            [
             0.7,
             "rgb(146,197,222)"
            ],
            [
             0.8,
             "rgb(67,147,195)"
            ],
            [
             0.9,
             "rgb(33,102,172)"
            ],
            [
             1,
             "rgb(5,48,97)"
            ]
           ],
           "sequential": [
            [
             0,
             "#440154"
            ],
            [
             0.1111111111111111,
             "#482878"
            ],
            [
             0.2222222222222222,
             "#3e4989"
            ],
            [
             0.3333333333333333,
             "#31688e"
            ],
            [
             0.4444444444444444,
             "#26828e"
            ],
            [
             0.5555555555555556,
             "#1f9e89"
            ],
            [
             0.6666666666666666,
             "#35b779"
            ],
            [
             0.7777777777777778,
             "#6ece58"
            ],
            [
             0.8888888888888888,
             "#b5de2b"
            ],
            [
             1,
             "#fde725"
            ]
           ],
           "sequentialminus": [
            [
             0,
             "#440154"
            ],
            [
             0.1111111111111111,
             "#482878"
            ],
            [
             0.2222222222222222,
             "#3e4989"
            ],
            [
             0.3333333333333333,
             "#31688e"
            ],
            [
             0.4444444444444444,
             "#26828e"
            ],
            [
             0.5555555555555556,
             "#1f9e89"
            ],
            [
             0.6666666666666666,
             "#35b779"
            ],
            [
             0.7777777777777778,
             "#6ece58"
            ],
            [
             0.8888888888888888,
             "#b5de2b"
            ],
            [
             1,
             "#fde725"
            ]
           ]
          },
          "colorway": [
           "#1F77B4",
           "#FF7F0E",
           "#2CA02C",
           "#D62728",
           "#9467BD",
           "#8C564B",
           "#E377C2",
           "#7F7F7F",
           "#BCBD22",
           "#17BECF"
          ],
          "font": {
           "color": "rgb(36,36,36)"
          },
          "geo": {
           "bgcolor": "white",
           "lakecolor": "white",
           "landcolor": "white",
           "showlakes": true,
           "showland": true,
           "subunitcolor": "white"
          },
          "hoverlabel": {
           "align": "left"
          },
          "hovermode": "closest",
          "mapbox": {
           "style": "light"
          },
          "paper_bgcolor": "white",
          "plot_bgcolor": "white",
          "polar": {
           "angularaxis": {
            "gridcolor": "rgb(232,232,232)",
            "linecolor": "rgb(36,36,36)",
            "showgrid": false,
            "showline": true,
            "ticks": "outside"
           },
           "bgcolor": "white",
           "radialaxis": {
            "gridcolor": "rgb(232,232,232)",
            "linecolor": "rgb(36,36,36)",
            "showgrid": false,
            "showline": true,
            "ticks": "outside"
           }
          },
          "scene": {
           "xaxis": {
            "backgroundcolor": "white",
            "gridcolor": "rgb(232,232,232)",
            "gridwidth": 2,
            "linecolor": "rgb(36,36,36)",
            "showbackground": true,
            "showgrid": false,
            "showline": true,
            "ticks": "outside",
            "zeroline": false,
            "zerolinecolor": "rgb(36,36,36)"
           },
           "yaxis": {
            "backgroundcolor": "white",
            "gridcolor": "rgb(232,232,232)",
            "gridwidth": 2,
            "linecolor": "rgb(36,36,36)",
            "showbackground": true,
            "showgrid": false,
            "showline": true,
            "ticks": "outside",
            "zeroline": false,
            "zerolinecolor": "rgb(36,36,36)"
           },
           "zaxis": {
            "backgroundcolor": "white",
            "gridcolor": "rgb(232,232,232)",
            "gridwidth": 2,
            "linecolor": "rgb(36,36,36)",
            "showbackground": true,
            "showgrid": false,
            "showline": true,
            "ticks": "outside",
            "zeroline": false,
            "zerolinecolor": "rgb(36,36,36)"
           }
          },
          "shapedefaults": {
           "fillcolor": "black",
           "line": {
            "width": 0
           },
           "opacity": 0.3
          },
          "ternary": {
           "aaxis": {
            "gridcolor": "rgb(232,232,232)",
            "linecolor": "rgb(36,36,36)",
            "showgrid": false,
            "showline": true,
            "ticks": "outside"
           },
           "baxis": {
            "gridcolor": "rgb(232,232,232)",
            "linecolor": "rgb(36,36,36)",
            "showgrid": false,
            "showline": true,
            "ticks": "outside"
           },
           "bgcolor": "white",
           "caxis": {
            "gridcolor": "rgb(232,232,232)",
            "linecolor": "rgb(36,36,36)",
            "showgrid": false,
            "showline": true,
            "ticks": "outside"
           }
          },
          "title": {
           "x": 0.05
          },
          "xaxis": {
           "automargin": true,
           "gridcolor": "rgb(232,232,232)",
           "linecolor": "rgb(36,36,36)",
           "showgrid": false,
           "showline": true,
           "ticks": "outside",
           "title": {
            "standoff": 15
           },
           "zeroline": false,
           "zerolinecolor": "rgb(36,36,36)"
          },
          "yaxis": {
           "automargin": true,
           "gridcolor": "rgb(232,232,232)",
           "linecolor": "rgb(36,36,36)",
           "showgrid": false,
           "showline": true,
           "ticks": "outside",
           "title": {
            "standoff": 15
           },
           "zeroline": false,
           "zerolinecolor": "rgb(36,36,36)"
          }
         }
        },
        "xaxis": {
         "anchor": "y",
         "autorange": true,
         "domain": [
          0,
          0.48
         ],
         "range": [
          -4.136370179311501,
          4.6285910244666075
         ],
         "title": {
          "text": "δ<sup>18</sup>O ‰"
         },
         "type": "linear"
        },
        "xaxis2": {
         "anchor": "y2",
         "autorange": true,
         "domain": [
          0.5,
          0.98
         ],
         "matches": "x",
         "range": [
          -4.136370179311501,
          4.6285910244666075
         ],
         "title": {
          "text": "δ<sup>18</sup>O ‰"
         },
         "type": "linear"
        },
        "xaxis3": {
         "anchor": "y3",
         "autorange": true,
         "domain": [
          0,
          0.48
         ],
         "matches": "x",
         "range": [
          -4.136370179311501,
          4.6285910244666075
         ],
         "showticklabels": false,
         "type": "linear"
        },
        "xaxis4": {
         "anchor": "y4",
         "autorange": true,
         "domain": [
          0.5,
          0.98
         ],
         "matches": "x",
         "range": [
          -4.136370179311501,
          4.6285910244666075
         ],
         "showticklabels": false,
         "type": "linear"
        },
        "yaxis": {
         "anchor": "x",
         "autorange": true,
         "domain": [
          0,
          0.485
         ],
         "range": [
          56.17083284434534,
          -26.170832844345345
         ],
         "title": {
          "text": "Depth (cm)"
         },
         "type": "linear"
        },
        "yaxis2": {
         "anchor": "x2",
         "autorange": true,
         "domain": [
          0,
          0.485
         ],
         "matches": "y",
         "range": [
          56.17083284434534,
          -26.170832844345345
         ],
         "showticklabels": false,
         "type": "linear"
        },
        "yaxis3": {
         "anchor": "x3",
         "autorange": true,
         "domain": [
          0.515,
          1
         ],
         "matches": "y",
         "range": [
          56.17083284434534,
          -26.170832844345345
         ],
         "title": {
          "text": "Depth (cm)"
         },
         "type": "linear"
        },
        "yaxis4": {
         "anchor": "x4",
         "autorange": true,
         "domain": [
          0.515,
          1
         ],
         "matches": "y",
         "range": [
          56.17083284434534,
          -26.170832844345345
         ],
         "showticklabels": false,
         "type": "linear"
        }
       }
      },
      "image/png": "[encoded data removed]",
      "text/html": [
       "<div>\n",
       "        \n",
       "        \n",
       "            <div id=\"e55d458a-0975-4d02-8442-c49eda94b3a5\" class=\"plotly-graph-div\" style=\"height:525px; width:100%;\"></div>\n",
       "            <script type=\"text/javascript\">\n",
       "                require([\"plotly\"], function(Plotly) {\n",
       "                    window.PLOTLYENV=window.PLOTLYENV || {};\n",
       "                    \n",
       "                if (document.getElementById(\"e55d458a-0975-4d02-8442-c49eda94b3a5\")) {\n",
       "                    Plotly.newPlot(\n",
       "                        'e55d458a-0975-4d02-8442-c49eda94b3a5',\n",
       "                        [{\"error_x\": {\"array\": [0.3938787832160659]}, \"hoverlabel\": {\"namelength\": 0}, \"hovertemplate\": \"Type_2=tree<br>Treatment=cut<br>Year=2017<br>mean=%{x}<br>Depth=%{y}\", \"legendgroup\": \"tree\", \"marker\": {\"color\": \"orange\", \"symbol\": \"circle\"}, \"mode\": \"markers\", \"name\": \"tree\", \"showlegend\": true, \"type\": \"scatter\", \"x\": [-2.5363636363636366], \"xaxis\": \"x3\", \"y\": [-20], \"yaxis\": \"y3\"}, {\"error_x\": {\"array\": [0.6217592749284855]}, \"hoverlabel\": {\"namelength\": 0}, \"hovertemplate\": \"Type_2=tree<br>Treatment=cut<br>Year=2018<br>mean=%{x}<br>Depth=%{y}\", \"legendgroup\": \"tree\", \"marker\": {\"color\": \"orange\", \"symbol\": \"circle\"}, \"mode\": \"markers\", \"name\": \"tree\", \"showlegend\": false, \"type\": \"scatter\", \"x\": [-1.7083333333333337], \"xaxis\": \"x4\", \"y\": [-20], \"yaxis\": \"y4\"}, {\"error_x\": {\"array\": [0.281455452455929]}, \"hoverlabel\": {\"namelength\": 0}, \"hovertemplate\": \"Type_2=tree<br>Treatment=uncut<br>Year=2017<br>mean=%{x}<br>Depth=%{y}\", \"legendgroup\": \"tree\", \"marker\": {\"color\": \"orange\", \"symbol\": \"circle\"}, \"mode\": \"markers\", \"name\": \"tree\", \"showlegend\": false, \"type\": \"scatter\", \"x\": [-3.4166666666666665], \"xaxis\": \"x\", \"y\": [-20], \"yaxis\": \"y\"}, {\"error_x\": {\"array\": [0.4932114919155633]}, \"hoverlabel\": {\"namelength\": 0}, \"hovertemplate\": \"Type_2=tree<br>Treatment=uncut<br>Year=2018<br>mean=%{x}<br>Depth=%{y}\", \"legendgroup\": \"tree\", \"marker\": {\"color\": \"orange\", \"symbol\": \"circle\"}, \"mode\": \"markers\", \"name\": \"tree\", \"showlegend\": false, \"type\": \"scatter\", \"x\": [-1.75], \"xaxis\": \"x2\", \"y\": [-20], \"yaxis\": \"y2\"}, {\"error_x\": {\"array\": [0.6489545248387147]}, \"hoverlabel\": {\"namelength\": 0}, \"hovertemplate\": \"Type_2=grass<br>Treatment=cut<br>Year=2017<br>mean=%{x}<br>Depth=%{y}\", \"legendgroup\": \"grass\", \"marker\": {\"color\": \"blue\", \"symbol\": \"circle\"}, \"mode\": \"markers\", \"name\": \"grass\", \"showlegend\": true, \"type\": \"scatter\", \"x\": [-0.4555555555555557], \"xaxis\": \"x3\", \"y\": [-10], \"yaxis\": \"y3\"}, {\"error_x\": {\"array\": [0.7312048234435823]}, \"hoverlabel\": {\"namelength\": 0}, \"hovertemplate\": \"Type_2=grass<br>Treatment=cut<br>Year=2018<br>mean=%{x}<br>Depth=%{y}\", \"legendgroup\": \"grass\", \"marker\": {\"color\": \"blue\", \"symbol\": \"circle\"}, \"mode\": \"markers\", \"name\": \"grass\", \"showlegend\": false, \"type\": \"scatter\", \"x\": [0.12222222222222223], \"xaxis\": \"x4\", \"y\": [-10], \"yaxis\": \"y4\"}, {\"error_x\": {\"array\": [0.7111359122659224]}, \"hoverlabel\": {\"namelength\": 0}, \"hovertemplate\": \"Type_2=grass<br>Treatment=uncut<br>Year=2017<br>mean=%{x}<br>Depth=%{y}\", \"legendgroup\": \"grass\", \"marker\": {\"color\": \"blue\", \"symbol\": \"circle\"}, \"mode\": \"markers\", \"name\": \"grass\", \"showlegend\": false, \"type\": \"scatter\", \"x\": [-0.19999999999999993], \"xaxis\": \"x\", \"y\": [-10], \"yaxis\": \"y\"}, {\"error_x\": {\"array\": [0.7833530336372242]}, \"hoverlabel\": {\"namelength\": 0}, \"hovertemplate\": \"Type_2=grass<br>Treatment=uncut<br>Year=2018<br>mean=%{x}<br>Depth=%{y}\", \"legendgroup\": \"grass\", \"marker\": {\"color\": \"blue\", \"symbol\": \"circle\"}, \"mode\": \"markers\", \"name\": \"grass\", \"showlegend\": false, \"type\": \"scatter\", \"x\": [0.5555555555555556], \"xaxis\": \"x2\", \"y\": [-10], \"yaxis\": \"y2\"}, {\"error_x\": {\"array\": [0.4176654695380556, 0.726483157256779, 0.676592771006148]}, \"hoverlabel\": {\"namelength\": 0}, \"hovertemplate\": \"Type_2=soil<br>Treatment=cut<br>Year=2017<br>mean=%{x}<br>Depth=%{y}\", \"legendgroup\": \"soil\", \"marker\": {\"color\": \"gray\", \"symbol\": \"circle\"}, \"mode\": \"markers\", \"name\": \"soil\", \"showlegend\": true, \"type\": \"scatter\", \"x\": [3.633333333333333, -0.03333333333333329, -0.4333333333333334], \"xaxis\": \"x3\", \"y\": [10, 30, 50], \"yaxis\": \"y3\"}, {\"error_x\": {\"array\": [0.6691619966628244, 0.9938701010583716, 0.8736894948054105]}, \"hoverlabel\": {\"namelength\": 0}, \"hovertemplate\": \"Type_2=soil<br>Treatment=cut<br>Year=2018<br>mean=%{x}<br>Depth=%{y}\", \"legendgroup\": \"soil\", \"marker\": {\"color\": \"gray\", \"symbol\": \"circle\"}, \"mode\": \"markers\", \"name\": \"soil\", \"showlegend\": false, \"type\": \"scatter\", \"x\": [3.233333333333333, 2.3666666666666667, 1.5], \"xaxis\": \"x4\", \"y\": [10, 30, 50], \"yaxis\": \"y4\"}, {\"error_x\": {\"array\": [0.3403429642777024, 0.7708220719898118, 0.5347896782848375]}, \"hoverlabel\": {\"namelength\": 0}, \"hovertemplate\": \"Type_2=soil<br>Treatment=uncut<br>Year=2017<br>mean=%{x}<br>Depth=%{y}\", \"legendgroup\": \"soil\", \"marker\": {\"color\": \"gray\", \"symbol\": \"circle\"}, \"mode\": \"markers\", \"name\": \"soil\", \"showlegend\": false, \"type\": \"scatter\", \"x\": [3.85, 0.04999999999999993, -1.1], \"xaxis\": \"x\", \"y\": [10, 30, 50], \"yaxis\": \"y\"}, {\"error_x\": {\"array\": [0.3179797338056485, 2.39606158333026, 2.2430138455014297]}, \"hoverlabel\": {\"namelength\": 0}, \"hovertemplate\": \"Type_2=soil<br>Treatment=uncut<br>Year=2018<br>mean=%{x}<br>Depth=%{y}\", \"legendgroup\": \"soil\", \"marker\": {\"color\": \"gray\", \"symbol\": \"circle\"}, \"mode\": \"markers\", \"name\": \"soil\", \"showlegend\": false, \"type\": \"scatter\", \"x\": [2.733333333333333, 1.8666666666666665, -0.033333333333333326], \"xaxis\": \"x2\", \"y\": [10, 30, 50], \"yaxis\": \"y2\"}],\n",
       "                        {\"annotations\": [{\"font\": {}, \"showarrow\": false, \"text\": \"2017\", \"x\": 0.24, \"xanchor\": \"center\", \"xref\": \"paper\", \"y\": 1.0, \"yanchor\": \"bottom\", \"yref\": \"paper\"}, {\"font\": {}, \"showarrow\": false, \"text\": \"2018\", \"x\": 0.74, \"xanchor\": \"center\", \"xref\": \"paper\", \"y\": 1.0, \"yanchor\": \"bottom\", \"yref\": \"paper\"}, {\"font\": {}, \"showarrow\": false, \"text\": \"uncut\", \"textangle\": 90, \"x\": 0.98, \"xanchor\": \"left\", \"xref\": \"paper\", \"y\": 0.2425, \"yanchor\": \"middle\", \"yref\": \"paper\"}, {\"font\": {}, \"showarrow\": false, \"text\": \"cut\", \"textangle\": 90, \"x\": 0.98, \"xanchor\": \"left\", \"xref\": \"paper\", \"y\": 0.7575000000000001, \"yanchor\": \"middle\", \"yref\": \"paper\"}], \"legend\": {\"title\": {\"text\": \"sample type\"}, \"tracegroupgap\": 0}, \"margin\": {\"t\": 60}, \"template\": {\"data\": {\"bar\": [{\"error_x\": {\"color\": \"rgb(36,36,36)\"}, \"error_y\": {\"color\": \"rgb(36,36,36)\"}, \"marker\": {\"line\": {\"color\": \"white\", \"width\": 0.5}}, \"type\": \"bar\"}], \"barpolar\": [{\"marker\": {\"line\": {\"color\": \"white\", \"width\": 0.5}}, \"type\": \"barpolar\"}], \"carpet\": [{\"aaxis\": {\"endlinecolor\": \"rgb(36,36,36)\", \"gridcolor\": \"white\", \"linecolor\": \"white\", \"minorgridcolor\": \"white\", \"startlinecolor\": \"rgb(36,36,36)\"}, \"baxis\": {\"endlinecolor\": \"rgb(36,36,36)\", \"gridcolor\": \"white\", \"linecolor\": \"white\", \"minorgridcolor\": \"white\", \"startlinecolor\": \"rgb(36,36,36)\"}, \"type\": \"carpet\"}], \"choropleth\": [{\"colorbar\": {\"outlinewidth\": 1, \"tickcolor\": \"rgb(36,36,36)\", \"ticks\": \"outside\"}, \"type\": \"choropleth\"}], \"contour\": [{\"colorbar\": {\"outlinewidth\": 1, \"tickcolor\": \"rgb(36,36,36)\", \"ticks\": \"outside\"}, \"colorscale\": [[0.0, \"#440154\"], [0.1111111111111111, \"#482878\"], [0.2222222222222222, \"#3e4989\"], [0.3333333333333333, \"#31688e\"], [0.4444444444444444, \"#26828e\"], [0.5555555555555556, \"#1f9e89\"], [0.6666666666666666, \"#35b779\"], [0.7777777777777778, \"#6ece58\"], [0.8888888888888888, \"#b5de2b\"], [1.0, \"#fde725\"]], \"type\": \"contour\"}], \"contourcarpet\": [{\"colorbar\": {\"outlinewidth\": 1, \"tickcolor\": \"rgb(36,36,36)\", \"ticks\": \"outside\"}, \"type\": \"contourcarpet\"}], \"heatmap\": [{\"colorbar\": {\"outlinewidth\": 1, \"tickcolor\": \"rgb(36,36,36)\", \"ticks\": \"outside\"}, \"colorscale\": [[0.0, \"#440154\"], [0.1111111111111111, \"#482878\"], [0.2222222222222222, \"#3e4989\"], [0.3333333333333333, \"#31688e\"], [0.4444444444444444, \"#26828e\"], [0.5555555555555556, \"#1f9e89\"], [0.6666666666666666, \"#35b779\"], [0.7777777777777778, \"#6ece58\"], [0.8888888888888888, \"#b5de2b\"], [1.0, \"#fde725\"]], \"type\": \"heatmap\"}], \"heatmapgl\": [{\"colorbar\": {\"outlinewidth\": 1, \"tickcolor\": \"rgb(36,36,36)\", \"ticks\": \"outside\"}, \"colorscale\": [[0.0, \"#440154\"], [0.1111111111111111, \"#482878\"], [0.2222222222222222, \"#3e4989\"], [0.3333333333333333, \"#31688e\"], [0.4444444444444444, \"#26828e\"], [0.5555555555555556, \"#1f9e89\"], [0.6666666666666666, \"#35b779\"], [0.7777777777777778, \"#6ece58\"], [0.8888888888888888, \"#b5de2b\"], [1.0, \"#fde725\"]], \"type\": \"heatmapgl\"}], \"histogram\": [{\"marker\": {\"line\": {\"color\": \"white\", \"width\": 0.6}}, \"type\": \"histogram\"}], \"histogram2d\": [{\"colorbar\": {\"outlinewidth\": 1, \"tickcolor\": \"rgb(36,36,36)\", \"ticks\": \"outside\"}, \"colorscale\": [[0.0, \"#440154\"], [0.1111111111111111, \"#482878\"], [0.2222222222222222, \"#3e4989\"], [0.3333333333333333, \"#31688e\"], [0.4444444444444444, \"#26828e\"], [0.5555555555555556, \"#1f9e89\"], [0.6666666666666666, \"#35b779\"], [0.7777777777777778, \"#6ece58\"], [0.8888888888888888, \"#b5de2b\"], [1.0, \"#fde725\"]], \"type\": \"histogram2d\"}], \"histogram2dcontour\": [{\"colorbar\": {\"outlinewidth\": 1, \"tickcolor\": \"rgb(36,36,36)\", \"ticks\": \"outside\"}, \"colorscale\": [[0.0, \"#440154\"], [0.1111111111111111, \"#482878\"], [0.2222222222222222, \"#3e4989\"], [0.3333333333333333, \"#31688e\"], [0.4444444444444444, \"#26828e\"], [0.5555555555555556, \"#1f9e89\"], [0.6666666666666666, \"#35b779\"], [0.7777777777777778, \"#6ece58\"], [0.8888888888888888, \"#b5de2b\"], [1.0, \"#fde725\"]], \"type\": \"histogram2dcontour\"}], \"mesh3d\": [{\"colorbar\": {\"outlinewidth\": 1, \"tickcolor\": \"rgb(36,36,36)\", \"ticks\": \"outside\"}, \"type\": \"mesh3d\"}], \"parcoords\": [{\"line\": {\"colorbar\": {\"outlinewidth\": 1, \"tickcolor\": \"rgb(36,36,36)\", \"ticks\": \"outside\"}}, \"type\": \"parcoords\"}], \"pie\": [{\"automargin\": true, \"type\": \"pie\"}], \"scatter\": [{\"marker\": {\"colorbar\": {\"outlinewidth\": 1, \"tickcolor\": \"rgb(36,36,36)\", \"ticks\": \"outside\"}}, \"type\": \"scatter\"}], \"scatter3d\": [{\"line\": {\"colorbar\": {\"outlinewidth\": 1, \"tickcolor\": \"rgb(36,36,36)\", \"ticks\": \"outside\"}}, \"marker\": {\"colorbar\": {\"outlinewidth\": 1, \"tickcolor\": \"rgb(36,36,36)\", \"ticks\": \"outside\"}}, \"type\": \"scatter3d\"}], \"scattercarpet\": [{\"marker\": {\"colorbar\": {\"outlinewidth\": 1, \"tickcolor\": \"rgb(36,36,36)\", \"ticks\": \"outside\"}}, \"type\": \"scattercarpet\"}], \"scattergeo\": [{\"marker\": {\"colorbar\": {\"outlinewidth\": 1, \"tickcolor\": \"rgb(36,36,36)\", \"ticks\": \"outside\"}}, \"type\": \"scattergeo\"}], \"scattergl\": [{\"marker\": {\"colorbar\": {\"outlinewidth\": 1, \"tickcolor\": \"rgb(36,36,36)\", \"ticks\": \"outside\"}}, \"type\": \"scattergl\"}], \"scattermapbox\": [{\"marker\": {\"colorbar\": {\"outlinewidth\": 1, \"tickcolor\": \"rgb(36,36,36)\", \"ticks\": \"outside\"}}, \"type\": \"scattermapbox\"}], \"scatterpolar\": [{\"marker\": {\"colorbar\": {\"outlinewidth\": 1, \"tickcolor\": \"rgb(36,36,36)\", \"ticks\": \"outside\"}}, \"type\": \"scatterpolar\"}], \"scatterpolargl\": [{\"marker\": {\"colorbar\": {\"outlinewidth\": 1, \"tickcolor\": \"rgb(36,36,36)\", \"ticks\": \"outside\"}}, \"type\": \"scatterpolargl\"}], \"scatterternary\": [{\"marker\": {\"colorbar\": {\"outlinewidth\": 1, \"tickcolor\": \"rgb(36,36,36)\", \"ticks\": \"outside\"}}, \"type\": \"scatterternary\"}], \"surface\": [{\"colorbar\": {\"outlinewidth\": 1, \"tickcolor\": \"rgb(36,36,36)\", \"ticks\": \"outside\"}, \"colorscale\": [[0.0, \"#440154\"], [0.1111111111111111, \"#482878\"], [0.2222222222222222, \"#3e4989\"], [0.3333333333333333, \"#31688e\"], [0.4444444444444444, \"#26828e\"], [0.5555555555555556, \"#1f9e89\"], [0.6666666666666666, \"#35b779\"], [0.7777777777777778, \"#6ece58\"], [0.8888888888888888, \"#b5de2b\"], [1.0, \"#fde725\"]], \"type\": \"surface\"}], \"table\": [{\"cells\": {\"fill\": {\"color\": \"rgb(237,237,237)\"}, \"line\": {\"color\": \"white\"}}, \"header\": {\"fill\": {\"color\": \"rgb(217,217,217)\"}, \"line\": {\"color\": \"white\"}}, \"type\": \"table\"}]}, \"layout\": {\"annotationdefaults\": {\"arrowhead\": 0, \"arrowwidth\": 1}, \"coloraxis\": {\"colorbar\": {\"outlinewidth\": 1, \"tickcolor\": \"rgb(36,36,36)\", \"ticks\": \"outside\"}}, \"colorscale\": {\"diverging\": [[0.0, \"rgb(103,0,31)\"], [0.1, \"rgb(178,24,43)\"], [0.2, \"rgb(214,96,77)\"], [0.3, \"rgb(244,165,130)\"], [0.4, \"rgb(253,219,199)\"], [0.5, \"rgb(247,247,247)\"], [0.6, \"rgb(209,229,240)\"], [0.7, \"rgb(146,197,222)\"], [0.8, \"rgb(67,147,195)\"], [0.9, \"rgb(33,102,172)\"], [1.0, \"rgb(5,48,97)\"]], \"sequential\": [[0.0, \"#440154\"], [0.1111111111111111, \"#482878\"], [0.2222222222222222, \"#3e4989\"], [0.3333333333333333, \"#31688e\"], [0.4444444444444444, \"#26828e\"], [0.5555555555555556, \"#1f9e89\"], [0.6666666666666666, \"#35b779\"], [0.7777777777777778, \"#6ece58\"], [0.8888888888888888, \"#b5de2b\"], [1.0, \"#fde725\"]], \"sequentialminus\": [[0.0, \"#440154\"], [0.1111111111111111, \"#482878\"], [0.2222222222222222, \"#3e4989\"], [0.3333333333333333, \"#31688e\"], [0.4444444444444444, \"#26828e\"], [0.5555555555555556, \"#1f9e89\"], [0.6666666666666666, \"#35b779\"], [0.7777777777777778, \"#6ece58\"], [0.8888888888888888, \"#b5de2b\"], [1.0, \"#fde725\"]]}, \"colorway\": [\"#1F77B4\", \"#FF7F0E\", \"#2CA02C\", \"#D62728\", \"#9467BD\", \"#8C564B\", \"#E377C2\", \"#7F7F7F\", \"#BCBD22\", \"#17BECF\"], \"font\": {\"color\": \"rgb(36,36,36)\"}, \"geo\": {\"bgcolor\": \"white\", \"lakecolor\": \"white\", \"landcolor\": \"white\", \"showlakes\": true, \"showland\": true, \"subunitcolor\": \"white\"}, \"hoverlabel\": {\"align\": \"left\"}, \"hovermode\": \"closest\", \"mapbox\": {\"style\": \"light\"}, \"paper_bgcolor\": \"white\", \"plot_bgcolor\": \"white\", \"polar\": {\"angularaxis\": {\"gridcolor\": \"rgb(232,232,232)\", \"linecolor\": \"rgb(36,36,36)\", \"showgrid\": false, \"showline\": true, \"ticks\": \"outside\"}, \"bgcolor\": \"white\", \"radialaxis\": {\"gridcolor\": \"rgb(232,232,232)\", \"linecolor\": \"rgb(36,36,36)\", \"showgrid\": false, \"showline\": true, \"ticks\": \"outside\"}}, \"scene\": {\"xaxis\": {\"backgroundcolor\": \"white\", \"gridcolor\": \"rgb(232,232,232)\", \"gridwidth\": 2, \"linecolor\": \"rgb(36,36,36)\", \"showbackground\": true, \"showgrid\": false, \"showline\": true, \"ticks\": \"outside\", \"zeroline\": false, \"zerolinecolor\": \"rgb(36,36,36)\"}, \"yaxis\": {\"backgroundcolor\": \"white\", \"gridcolor\": \"rgb(232,232,232)\", \"gridwidth\": 2, \"linecolor\": \"rgb(36,36,36)\", \"showbackground\": true, \"showgrid\": false, \"showline\": true, \"ticks\": \"outside\", \"zeroline\": false, \"zerolinecolor\": \"rgb(36,36,36)\"}, \"zaxis\": {\"backgroundcolor\": \"white\", \"gridcolor\": \"rgb(232,232,232)\", \"gridwidth\": 2, \"linecolor\": \"rgb(36,36,36)\", \"showbackground\": true, \"showgrid\": false, \"showline\": true, \"ticks\": \"outside\", \"zeroline\": false, \"zerolinecolor\": \"rgb(36,36,36)\"}}, \"shapedefaults\": {\"fillcolor\": \"black\", \"line\": {\"width\": 0}, \"opacity\": 0.3}, \"ternary\": {\"aaxis\": {\"gridcolor\": \"rgb(232,232,232)\", \"linecolor\": \"rgb(36,36,36)\", \"showgrid\": false, \"showline\": true, \"ticks\": \"outside\"}, \"baxis\": {\"gridcolor\": \"rgb(232,232,232)\", \"linecolor\": \"rgb(36,36,36)\", \"showgrid\": false, \"showline\": true, \"ticks\": \"outside\"}, \"bgcolor\": \"white\", \"caxis\": {\"gridcolor\": \"rgb(232,232,232)\", \"linecolor\": \"rgb(36,36,36)\", \"showgrid\": false, \"showline\": true, \"ticks\": \"outside\"}}, \"title\": {\"x\": 0.05}, \"xaxis\": {\"automargin\": true, \"gridcolor\": \"rgb(232,232,232)\", \"linecolor\": \"rgb(36,36,36)\", \"showgrid\": false, \"showline\": true, \"ticks\": \"outside\", \"title\": {\"standoff\": 15}, \"zeroline\": false, \"zerolinecolor\": \"rgb(36,36,36)\"}, \"yaxis\": {\"automargin\": true, \"gridcolor\": \"rgb(232,232,232)\", \"linecolor\": \"rgb(36,36,36)\", \"showgrid\": false, \"showline\": true, \"ticks\": \"outside\", \"title\": {\"standoff\": 15}, \"zeroline\": false, \"zerolinecolor\": \"rgb(36,36,36)\"}}}, \"xaxis\": {\"anchor\": \"y\", \"domain\": [0.0, 0.48], \"title\": {\"text\": \"\\u03b4<sup>18</sup>O \\u2030\"}}, \"xaxis2\": {\"anchor\": \"y2\", \"domain\": [0.5, 0.98], \"matches\": \"x\", \"title\": {\"text\": \"\\u03b4<sup>18</sup>O \\u2030\"}}, \"xaxis3\": {\"anchor\": \"y3\", \"domain\": [0.0, 0.48], \"matches\": \"x\", \"showticklabels\": false}, \"xaxis4\": {\"anchor\": \"y4\", \"domain\": [0.5, 0.98], \"matches\": \"x\", \"showticklabels\": false}, \"yaxis\": {\"anchor\": \"x\", \"autorange\": \"reversed\", \"domain\": [0.0, 0.485], \"title\": {\"text\": \"Depth (cm)\"}}, \"yaxis2\": {\"anchor\": \"x2\", \"domain\": [0.0, 0.485], \"matches\": \"y\", \"showticklabels\": false}, \"yaxis3\": {\"anchor\": \"x3\", \"autorange\": \"reversed\", \"domain\": [0.515, 1.0], \"matches\": \"y\", \"title\": {\"text\": \"Depth (cm)\"}}, \"yaxis4\": {\"anchor\": \"x4\", \"domain\": [0.515, 1.0], \"matches\": \"y\", \"showticklabels\": false}},\n",
       "                        {\"responsive\": true}\n",
       "                    ).then(function(){\n",
       "                            \n",
       "var gd = document.getElementById('e55d458a-0975-4d02-8442-c49eda94b3a5');\n",
       "var x = new MutationObserver(function (mutations, observer) {{\n",
       "        var display = window.getComputedStyle(gd).display;\n",
       "        if (!display || display === 'none') {{\n",
       "            console.log([gd, 'removed!']);\n",
       "            Plotly.purge(gd);\n",
       "            observer.disconnect();\n",
       "        }}\n",
       "}});\n",
       "\n",
       "// Listen for the removal of the full notebook cells\n",
       "var notebookContainer = gd.closest('#notebook-container');\n",
       "if (notebookContainer) {{\n",
       "    x.observe(notebookContainer, {childList: true});\n",
       "}}\n",
       "\n",
       "// Listen for the clearing of the current output cell\n",
       "var outputEl = gd.closest('.output');\n",
       "if (outputEl) {{\n",
       "    x.observe(outputEl, {childList: true});\n",
       "}}\n",
       "\n",
       "                        })\n",
       "                };\n",
       "                });\n",
       "            </script>\n",
       "        </div>"
      ]
     },
     "metadata": {},
     "output_type": "display_data"
    }
   ],
   "source": [
    "# create dataframe with mean and standard error for d18O isotopes for plotting\n",
    "df_d18O = df.groupby(['Year', 'Type_2', 'Treatment', 'Depth'], as_index = False)['d18O'].agg([np.mean, ss.sem]).reset_index()\n",
    "\n",
    "# plot d18O across soil depths\n",
    "fig_d18O = px.scatter(df_d18O, x = 'mean', y = 'Depth', color = 'Type_2', error_x = 'sem',\n",
    "                    facet_col = 'Year', facet_row = 'Treatment',\n",
    "                    template = 'simple_white',\n",
    "                    color_discrete_sequence = [\"orange\", \"blue\", \"gray\"],\n",
    "                    category_orders = {\"Type_2\": ['tree', 'grass', 'soil']})\n",
    "fig_d18O.update_xaxes(title_text = '\\u03B4<sup>18</sup>O \\u2030', row=1)\n",
    "fig_d18O.update_yaxes(title_text = 'Depth (cm)', col = 1, autorange = 'reversed')\n",
    "fig_d18O.update_layout(legend_title_text = 'sample type')\n",
    "fig_d18O.for_each_annotation(lambda a: a.update(text = a.text.split(\"=\")[-1]))\n",
    "fig_d18O.show()"
   ]
  },
  {
   "cell_type": "markdown",
   "metadata": {},
   "source": [
    "### $\\delta D$"
   ]
  },
  {
   "cell_type": "code",
   "execution_count": 24,
   "metadata": {},
   "outputs": [
    {
     "data": {
      "application/vnd.plotly.v1+json": {
       "config": {
        "plotlyServerURL": "https://plot.ly"
       },
       "data": [
        {
         "error_x": {
          "array": [
           2.177647528947368
          ]
         },
         "hoverlabel": {
          "namelength": 0
         },
         "hovertemplate": "Type_2=tree<br>Treatment=cut<br>Year=2017<br>mean=%{x}<br>Depth=%{y}",
         "legendgroup": "tree",
         "marker": {
          "color": "orange",
          "symbol": "circle"
         },
         "mode": "markers",
         "name": "tree",
         "showlegend": true,
         "type": "scatter",
         "x": [
          -25.181818181818183
         ],
         "xaxis": "x3",
         "y": [
          -20
         ],
         "yaxis": "y3"
        },
        {
         "error_x": {
          "array": [
           2.151461800448216
          ]
         },
         "hoverlabel": {
          "namelength": 0
         },
         "hovertemplate": "Type_2=tree<br>Treatment=cut<br>Year=2018<br>mean=%{x}<br>Depth=%{y}",
         "legendgroup": "tree",
         "marker": {
          "color": "orange",
          "symbol": "circle"
         },
         "mode": "markers",
         "name": "tree",
         "showlegend": false,
         "type": "scatter",
         "x": [
          -27.5
         ],
         "xaxis": "x4",
         "y": [
          -20
         ],
         "yaxis": "y4"
        },
        {
         "error_x": {
          "array": [
           1.7296800077739611
          ]
         },
         "hoverlabel": {
          "namelength": 0
         },
         "hovertemplate": "Type_2=tree<br>Treatment=uncut<br>Year=2017<br>mean=%{x}<br>Depth=%{y}",
         "legendgroup": "tree",
         "marker": {
          "color": "orange",
          "symbol": "circle"
         },
         "mode": "markers",
         "name": "tree",
         "showlegend": false,
         "type": "scatter",
         "x": [
          -31.083333333333332
         ],
         "xaxis": "x",
         "y": [
          -20
         ],
         "yaxis": "y"
        },
        {
         "error_x": {
          "array": [
           1.7586366965075622
          ]
         },
         "hoverlabel": {
          "namelength": 0
         },
         "hovertemplate": "Type_2=tree<br>Treatment=uncut<br>Year=2018<br>mean=%{x}<br>Depth=%{y}",
         "legendgroup": "tree",
         "marker": {
          "color": "orange",
          "symbol": "circle"
         },
         "mode": "markers",
         "name": "tree",
         "showlegend": false,
         "type": "scatter",
         "x": [
          -35.75
         ],
         "xaxis": "x2",
         "y": [
          -20
         ],
         "yaxis": "y2"
        },
        {
         "error_x": {
          "array": [
           2.5700074458267506
          ]
         },
         "hoverlabel": {
          "namelength": 0
         },
         "hovertemplate": "Type_2=grass<br>Treatment=cut<br>Year=2017<br>mean=%{x}<br>Depth=%{y}",
         "legendgroup": "grass",
         "marker": {
          "color": "blue",
          "symbol": "circle"
         },
         "mode": "markers",
         "name": "grass",
         "showlegend": true,
         "type": "scatter",
         "x": [
          -19.77777777777778
         ],
         "xaxis": "x3",
         "y": [
          -10
         ],
         "yaxis": "y3"
        },
        {
         "error_x": {
          "array": [
           3.7420698042330915
          ]
         },
         "hoverlabel": {
          "namelength": 0
         },
         "hovertemplate": "Type_2=grass<br>Treatment=cut<br>Year=2018<br>mean=%{x}<br>Depth=%{y}",
         "legendgroup": "grass",
         "marker": {
          "color": "blue",
          "symbol": "circle"
         },
         "mode": "markers",
         "name": "grass",
         "showlegend": false,
         "type": "scatter",
         "x": [
          -16.555555555555557
         ],
         "xaxis": "x4",
         "y": [
          -10
         ],
         "yaxis": "y4"
        },
        {
         "error_x": {
          "array": [
           3.161201872533857
          ]
         },
         "hoverlabel": {
          "namelength": 0
         },
         "hovertemplate": "Type_2=grass<br>Treatment=uncut<br>Year=2017<br>mean=%{x}<br>Depth=%{y}",
         "legendgroup": "grass",
         "marker": {
          "color": "blue",
          "symbol": "circle"
         },
         "mode": "markers",
         "name": "grass",
         "showlegend": false,
         "type": "scatter",
         "x": [
          -20.571428571428573
         ],
         "xaxis": "x",
         "y": [
          -10
         ],
         "yaxis": "y"
        },
        {
         "error_x": {
          "array": [
           4.4662658747769965
          ]
         },
         "hoverlabel": {
          "namelength": 0
         },
         "hovertemplate": "Type_2=grass<br>Treatment=uncut<br>Year=2018<br>mean=%{x}<br>Depth=%{y}",
         "legendgroup": "grass",
         "marker": {
          "color": "blue",
          "symbol": "circle"
         },
         "mode": "markers",
         "name": "grass",
         "showlegend": false,
         "type": "scatter",
         "x": [
          -13.444444444444445
         ],
         "xaxis": "x2",
         "y": [
          -10
         ],
         "yaxis": "y2"
        },
        {
         "error_x": {
          "array": [
           1.7320508075688774,
           4.910306620885413,
           3.7564758898615485
          ]
         },
         "hoverlabel": {
          "namelength": 0
         },
         "hovertemplate": "Type_2=soil<br>Treatment=cut<br>Year=2017<br>mean=%{x}<br>Depth=%{y}",
         "legendgroup": "soil",
         "marker": {
          "color": "gray",
          "symbol": "circle"
         },
         "mode": "markers",
         "name": "soil",
         "showlegend": true,
         "type": "scatter",
         "x": [
          -15,
          -20.666666666666668,
          -22.333333333333332
         ],
         "xaxis": "x3",
         "y": [
          10,
          30,
          50
         ],
         "yaxis": "y3"
        },
        {
         "error_x": {
          "array": [
           3.7564758898615485,
           1.2018504251546631,
           3.8441875315569325
          ]
         },
         "hoverlabel": {
          "namelength": 0
         },
         "hovertemplate": "Type_2=soil<br>Treatment=cut<br>Year=2018<br>mean=%{x}<br>Depth=%{y}",
         "legendgroup": "soil",
         "marker": {
          "color": "gray",
          "symbol": "circle"
         },
         "mode": "markers",
         "name": "soil",
         "showlegend": false,
         "type": "scatter",
         "x": [
          -10.333333333333334,
          -11.666666666666666,
          -14.333333333333334
         ],
         "xaxis": "x4",
         "y": [
          10,
          30,
          50
         ],
         "yaxis": "y4"
        },
        {
         "error_x": {
          "array": [
           2.3979157616563596,
           2.41522945769824,
           3.072458299147443
          ]
         },
         "hoverlabel": {
          "namelength": 0
         },
         "hovertemplate": "Type_2=soil<br>Treatment=uncut<br>Year=2017<br>mean=%{x}<br>Depth=%{y}",
         "legendgroup": "soil",
         "marker": {
          "color": "gray",
          "symbol": "circle"
         },
         "mode": "markers",
         "name": "soil",
         "showlegend": false,
         "type": "scatter",
         "x": [
          -14.5,
          -20,
          -22.8
         ],
         "xaxis": "x",
         "y": [
          10,
          30,
          50
         ],
         "yaxis": "y"
        },
        {
         "error_x": {
          "array": [
           5.2068331172711035,
           10.525102269231295,
           6.11918658356194
          ]
         },
         "hoverlabel": {
          "namelength": 0
         },
         "hovertemplate": "Type_2=soil<br>Treatment=uncut<br>Year=2018<br>mean=%{x}<br>Depth=%{y}",
         "legendgroup": "soil",
         "marker": {
          "color": "gray",
          "symbol": "circle"
         },
         "mode": "markers",
         "name": "soil",
         "showlegend": false,
         "type": "scatter",
         "x": [
          -11.666666666666666,
          -19.333333333333332,
          -19.333333333333332
         ],
         "xaxis": "x2",
         "y": [
          10,
          30,
          50
         ],
         "yaxis": "y2"
        }
       ],
       "layout": {
        "annotations": [
         {
          "font": {},
          "showarrow": false,
          "text": "2017",
          "x": 0.24,
          "xanchor": "center",
          "xref": "paper",
          "y": 1,
          "yanchor": "bottom",
          "yref": "paper"
         },
         {
          "font": {},
          "showarrow": false,
          "text": "2018",
          "x": 0.74,
          "xanchor": "center",
          "xref": "paper",
          "y": 1,
          "yanchor": "bottom",
          "yref": "paper"
         },
         {
          "font": {},
          "showarrow": false,
          "text": "uncut",
          "textangle": 90,
          "x": 0.98,
          "xanchor": "left",
          "xref": "paper",
          "y": 0.2425,
          "yanchor": "middle",
          "yref": "paper"
         },
         {
          "font": {},
          "showarrow": false,
          "text": "cut",
          "textangle": 90,
          "x": 0.98,
          "xanchor": "left",
          "xref": "paper",
          "y": 0.7575000000000001,
          "yanchor": "middle",
          "yref": "paper"
         }
        ],
        "autosize": true,
        "legend": {
         "title": {
          "text": "sample type"
         },
         "tracegroupgap": 0
        },
        "margin": {
         "t": 60
        },
        "template": {
         "data": {
          "bar": [
           {
            "error_x": {
             "color": "rgb(36,36,36)"
            },
            "error_y": {
             "color": "rgb(36,36,36)"
            },
            "marker": {
             "line": {
              "color": "white",
              "width": 0.5
             }
            },
            "type": "bar"
           }
          ],
          "barpolar": [
           {
            "marker": {
             "line": {
              "color": "white",
              "width": 0.5
             }
            },
            "type": "barpolar"
           }
          ],
          "carpet": [
           {
            "aaxis": {
             "endlinecolor": "rgb(36,36,36)",
             "gridcolor": "white",
             "linecolor": "white",
             "minorgridcolor": "white",
             "startlinecolor": "rgb(36,36,36)"
            },
            "baxis": {
             "endlinecolor": "rgb(36,36,36)",
             "gridcolor": "white",
             "linecolor": "white",
             "minorgridcolor": "white",
             "startlinecolor": "rgb(36,36,36)"
            },
            "type": "carpet"
           }
          ],
          "choropleth": [
           {
            "colorbar": {
             "outlinewidth": 1,
             "tickcolor": "rgb(36,36,36)",
             "ticks": "outside"
            },
            "type": "choropleth"
           }
          ],
          "contour": [
           {
            "colorbar": {
             "outlinewidth": 1,
             "tickcolor": "rgb(36,36,36)",
             "ticks": "outside"
            },
            "colorscale": [
             [
              0,
              "#440154"
             ],
             [
              0.1111111111111111,
              "#482878"
             ],
             [
              0.2222222222222222,
              "#3e4989"
             ],
             [
              0.3333333333333333,
              "#31688e"
             ],
             [
              0.4444444444444444,
              "#26828e"
             ],
             [
              0.5555555555555556,
              "#1f9e89"
             ],
             [
              0.6666666666666666,
              "#35b779"
             ],
             [
              0.7777777777777778,
              "#6ece58"
             ],
             [
              0.8888888888888888,
              "#b5de2b"
             ],
             [
              1,
              "#fde725"
             ]
            ],
            "type": "contour"
           }
          ],
          "contourcarpet": [
           {
            "colorbar": {
             "outlinewidth": 1,
             "tickcolor": "rgb(36,36,36)",
             "ticks": "outside"
            },
            "type": "contourcarpet"
           }
          ],
          "heatmap": [
           {
            "colorbar": {
             "outlinewidth": 1,
             "tickcolor": "rgb(36,36,36)",
             "ticks": "outside"
            },
            "colorscale": [
             [
              0,
              "#440154"
             ],
             [
              0.1111111111111111,
              "#482878"
             ],
             [
              0.2222222222222222,
              "#3e4989"
             ],
             [
              0.3333333333333333,
              "#31688e"
             ],
             [
              0.4444444444444444,
              "#26828e"
             ],
             [
              0.5555555555555556,
              "#1f9e89"
             ],
             [
              0.6666666666666666,
              "#35b779"
             ],
             [
              0.7777777777777778,
              "#6ece58"
             ],
             [
              0.8888888888888888,
              "#b5de2b"
             ],
             [
              1,
              "#fde725"
             ]
            ],
            "type": "heatmap"
           }
          ],
          "heatmapgl": [
           {
            "colorbar": {
             "outlinewidth": 1,
             "tickcolor": "rgb(36,36,36)",
             "ticks": "outside"
            },
            "colorscale": [
             [
              0,
              "#440154"
             ],
             [
              0.1111111111111111,
              "#482878"
             ],
             [
              0.2222222222222222,
              "#3e4989"
             ],
             [
              0.3333333333333333,
              "#31688e"
             ],
             [
              0.4444444444444444,
              "#26828e"
             ],
             [
              0.5555555555555556,
              "#1f9e89"
             ],
             [
              0.6666666666666666,
              "#35b779"
             ],
             [
              0.7777777777777778,
              "#6ece58"
             ],
             [
              0.8888888888888888,
              "#b5de2b"
             ],
             [
              1,
              "#fde725"
             ]
            ],
            "type": "heatmapgl"
           }
          ],
          "histogram": [
           {
            "marker": {
             "line": {
              "color": "white",
              "width": 0.6
             }
            },
            "type": "histogram"
           }
          ],
          "histogram2d": [
           {
            "colorbar": {
             "outlinewidth": 1,
             "tickcolor": "rgb(36,36,36)",
             "ticks": "outside"
            },
            "colorscale": [
             [
              0,
              "#440154"
             ],
             [
              0.1111111111111111,
              "#482878"
             ],
             [
              0.2222222222222222,
              "#3e4989"
             ],
             [
              0.3333333333333333,
              "#31688e"
             ],
             [
              0.4444444444444444,
              "#26828e"
             ],
             [
              0.5555555555555556,
              "#1f9e89"
             ],
             [
              0.6666666666666666,
              "#35b779"
             ],
             [
              0.7777777777777778,
              "#6ece58"
             ],
             [
              0.8888888888888888,
              "#b5de2b"
             ],
             [
              1,
              "#fde725"
             ]
            ],
            "type": "histogram2d"
           }
          ],
          "histogram2dcontour": [
           {
            "colorbar": {
             "outlinewidth": 1,
             "tickcolor": "rgb(36,36,36)",
             "ticks": "outside"
            },
            "colorscale": [
             [
              0,
              "#440154"
             ],
             [
              0.1111111111111111,
              "#482878"
             ],
             [
              0.2222222222222222,
              "#3e4989"
             ],
             [
              0.3333333333333333,
              "#31688e"
             ],
             [
              0.4444444444444444,
              "#26828e"
             ],
             [
              0.5555555555555556,
              "#1f9e89"
             ],
             [
              0.6666666666666666,
              "#35b779"
             ],
             [
              0.7777777777777778,
              "#6ece58"
             ],
             [
              0.8888888888888888,
              "#b5de2b"
             ],
             [
              1,
              "#fde725"
             ]
            ],
            "type": "histogram2dcontour"
           }
          ],
          "mesh3d": [
           {
            "colorbar": {
             "outlinewidth": 1,
             "tickcolor": "rgb(36,36,36)",
             "ticks": "outside"
            },
            "type": "mesh3d"
           }
          ],
          "parcoords": [
           {
            "line": {
             "colorbar": {
              "outlinewidth": 1,
              "tickcolor": "rgb(36,36,36)",
              "ticks": "outside"
             }
            },
            "type": "parcoords"
           }
          ],
          "pie": [
           {
            "automargin": true,
            "type": "pie"
           }
          ],
          "scatter": [
           {
            "marker": {
             "colorbar": {
              "outlinewidth": 1,
              "tickcolor": "rgb(36,36,36)",
              "ticks": "outside"
             }
            },
            "type": "scatter"
           }
          ],
          "scatter3d": [
           {
            "line": {
             "colorbar": {
              "outlinewidth": 1,
              "tickcolor": "rgb(36,36,36)",
              "ticks": "outside"
             }
            },
            "marker": {
             "colorbar": {
              "outlinewidth": 1,
              "tickcolor": "rgb(36,36,36)",
              "ticks": "outside"
             }
            },
            "type": "scatter3d"
           }
          ],
          "scattercarpet": [
           {
            "marker": {
             "colorbar": {
              "outlinewidth": 1,
              "tickcolor": "rgb(36,36,36)",
              "ticks": "outside"
             }
            },
            "type": "scattercarpet"
           }
          ],
          "scattergeo": [
           {
            "marker": {
             "colorbar": {
              "outlinewidth": 1,
              "tickcolor": "rgb(36,36,36)",
              "ticks": "outside"
             }
            },
            "type": "scattergeo"
           }
          ],
          "scattergl": [
           {
            "marker": {
             "colorbar": {
              "outlinewidth": 1,
              "tickcolor": "rgb(36,36,36)",
              "ticks": "outside"
             }
            },
            "type": "scattergl"
           }
          ],
          "scattermapbox": [
           {
            "marker": {
             "colorbar": {
              "outlinewidth": 1,
              "tickcolor": "rgb(36,36,36)",
              "ticks": "outside"
             }
            },
            "type": "scattermapbox"
           }
          ],
          "scatterpolar": [
           {
            "marker": {
             "colorbar": {
              "outlinewidth": 1,
              "tickcolor": "rgb(36,36,36)",
              "ticks": "outside"
             }
            },
            "type": "scatterpolar"
           }
          ],
          "scatterpolargl": [
           {
            "marker": {
             "colorbar": {
              "outlinewidth": 1,
              "tickcolor": "rgb(36,36,36)",
              "ticks": "outside"
             }
            },
            "type": "scatterpolargl"
           }
          ],
          "scatterternary": [
           {
            "marker": {
             "colorbar": {
              "outlinewidth": 1,
              "tickcolor": "rgb(36,36,36)",
              "ticks": "outside"
             }
            },
            "type": "scatterternary"
           }
          ],
          "surface": [
           {
            "colorbar": {
             "outlinewidth": 1,
             "tickcolor": "rgb(36,36,36)",
             "ticks": "outside"
            },
            "colorscale": [
             [
              0,
              "#440154"
             ],
             [
              0.1111111111111111,
              "#482878"
             ],
             [
              0.2222222222222222,
              "#3e4989"
             ],
             [
              0.3333333333333333,
              "#31688e"
             ],
             [
              0.4444444444444444,
              "#26828e"
             ],
             [
              0.5555555555555556,
              "#1f9e89"
             ],
             [
              0.6666666666666666,
              "#35b779"
             ],
             [
              0.7777777777777778,
              "#6ece58"
             ],
             [
              0.8888888888888888,
              "#b5de2b"
             ],
             [
              1,
              "#fde725"
             ]
            ],
            "type": "surface"
           }
          ],
          "table": [
           {
            "cells": {
             "fill": {
              "color": "rgb(237,237,237)"
             },
             "line": {
              "color": "white"
             }
            },
            "header": {
             "fill": {
              "color": "rgb(217,217,217)"
             },
             "line": {
              "color": "white"
             }
            },
            "type": "table"
           }
          ]
         },
         "layout": {
          "annotationdefaults": {
           "arrowhead": 0,
           "arrowwidth": 1
          },
          "coloraxis": {
           "colorbar": {
            "outlinewidth": 1,
            "tickcolor": "rgb(36,36,36)",
            "ticks": "outside"
           }
          },
          "colorscale": {
           "diverging": [
            [
             0,
             "rgb(103,0,31)"
            ],
            [
             0.1,
             "rgb(178,24,43)"
            ],
            [
             0.2,
             "rgb(214,96,77)"
            ],
            [
             0.3,
             "rgb(244,165,130)"
            ],
            [
             0.4,
             "rgb(253,219,199)"
            ],
            [
             0.5,
             "rgb(247,247,247)"
            ],
            [
             0.6,
             "rgb(209,229,240)"
            ],
            [
             0.7,
             "rgb(146,197,222)"
            ],
            [
             0.8,
             "rgb(67,147,195)"
            ],
            [
             0.9,
             "rgb(33,102,172)"
            ],
            [
             1,
             "rgb(5,48,97)"
            ]
           ],
           "sequential": [
            [
             0,
             "#440154"
            ],
            [
             0.1111111111111111,
             "#482878"
            ],
            [
             0.2222222222222222,
             "#3e4989"
            ],
            [
             0.3333333333333333,
             "#31688e"
            ],
            [
             0.4444444444444444,
             "#26828e"
            ],
            [
             0.5555555555555556,
             "#1f9e89"
            ],
            [
             0.6666666666666666,
             "#35b779"
            ],
            [
             0.7777777777777778,
             "#6ece58"
            ],
            [
             0.8888888888888888,
             "#b5de2b"
            ],
            [
             1,
             "#fde725"
            ]
           ],
           "sequentialminus": [
            [
             0,
             "#440154"
            ],
            [
             0.1111111111111111,
             "#482878"
            ],
            [
             0.2222222222222222,
             "#3e4989"
            ],
            [
             0.3333333333333333,
             "#31688e"
            ],
            [
             0.4444444444444444,
             "#26828e"
            ],
            [
             0.5555555555555556,
             "#1f9e89"
            ],
            [
             0.6666666666666666,
             "#35b779"
            ],
            [
             0.7777777777777778,
             "#6ece58"
            ],
            [
             0.8888888888888888,
             "#b5de2b"
            ],
            [
             1,
             "#fde725"
            ]
           ]
          },
          "colorway": [
           "#1F77B4",
           "#FF7F0E",
           "#2CA02C",
           "#D62728",
           "#9467BD",
           "#8C564B",
           "#E377C2",
           "#7F7F7F",
           "#BCBD22",
           "#17BECF"
          ],
          "font": {
           "color": "rgb(36,36,36)"
          },
          "geo": {
           "bgcolor": "white",
           "lakecolor": "white",
           "landcolor": "white",
           "showlakes": true,
           "showland": true,
           "subunitcolor": "white"
          },
          "hoverlabel": {
           "align": "left"
          },
          "hovermode": "closest",
          "mapbox": {
           "style": "light"
          },
          "paper_bgcolor": "white",
          "plot_bgcolor": "white",
          "polar": {
           "angularaxis": {
            "gridcolor": "rgb(232,232,232)",
            "linecolor": "rgb(36,36,36)",
            "showgrid": false,
            "showline": true,
            "ticks": "outside"
           },
           "bgcolor": "white",
           "radialaxis": {
            "gridcolor": "rgb(232,232,232)",
            "linecolor": "rgb(36,36,36)",
            "showgrid": false,
            "showline": true,
            "ticks": "outside"
           }
          },
          "scene": {
           "xaxis": {
            "backgroundcolor": "white",
            "gridcolor": "rgb(232,232,232)",
            "gridwidth": 2,
            "linecolor": "rgb(36,36,36)",
            "showbackground": true,
            "showgrid": false,
            "showline": true,
            "ticks": "outside",
            "zeroline": false,
            "zerolinecolor": "rgb(36,36,36)"
           },
           "yaxis": {
            "backgroundcolor": "white",
            "gridcolor": "rgb(232,232,232)",
            "gridwidth": 2,
            "linecolor": "rgb(36,36,36)",
            "showbackground": true,
            "showgrid": false,
            "showline": true,
            "ticks": "outside",
            "zeroline": false,
            "zerolinecolor": "rgb(36,36,36)"
           },
           "zaxis": {
            "backgroundcolor": "white",
            "gridcolor": "rgb(232,232,232)",
            "gridwidth": 2,
            "linecolor": "rgb(36,36,36)",
            "showbackground": true,
            "showgrid": false,
            "showline": true,
            "ticks": "outside",
            "zeroline": false,
            "zerolinecolor": "rgb(36,36,36)"
           }
          },
          "shapedefaults": {
           "fillcolor": "black",
           "line": {
            "width": 0
           },
           "opacity": 0.3
          },
          "ternary": {
           "aaxis": {
            "gridcolor": "rgb(232,232,232)",
            "linecolor": "rgb(36,36,36)",
            "showgrid": false,
            "showline": true,
            "ticks": "outside"
           },
           "baxis": {
            "gridcolor": "rgb(232,232,232)",
            "linecolor": "rgb(36,36,36)",
            "showgrid": false,
            "showline": true,
            "ticks": "outside"
           },
           "bgcolor": "white",
           "caxis": {
            "gridcolor": "rgb(232,232,232)",
            "linecolor": "rgb(36,36,36)",
            "showgrid": false,
            "showline": true,
            "ticks": "outside"
           }
          },
          "title": {
           "x": 0.05
          },
          "xaxis": {
           "automargin": true,
           "gridcolor": "rgb(232,232,232)",
           "linecolor": "rgb(36,36,36)",
           "showgrid": false,
           "showline": true,
           "ticks": "outside",
           "title": {
            "standoff": 15
           },
           "zeroline": false,
           "zerolinecolor": "rgb(36,36,36)"
          },
          "yaxis": {
           "automargin": true,
           "gridcolor": "rgb(232,232,232)",
           "linecolor": "rgb(36,36,36)",
           "showgrid": false,
           "showline": true,
           "ticks": "outside",
           "title": {
            "standoff": 15
           },
           "zeroline": false,
           "zerolinecolor": "rgb(36,36,36)"
          }
         }
        },
        "xaxis": {
         "anchor": "y",
         "autorange": true,
         "domain": [
          0,
          0.48
         ],
         "range": [
          -39.233570204680454,
          -4.734900041222673
         ],
         "title": {
          "text": "δD ‰"
         },
         "type": "linear"
        },
        "xaxis2": {
         "anchor": "y2",
         "autorange": true,
         "domain": [
          0.5,
          0.98
         ],
         "matches": "x",
         "range": [
          -39.233570204680454,
          -4.734900041222673
         ],
         "title": {
          "text": "δD ‰"
         },
         "type": "linear"
        },
        "xaxis3": {
         "anchor": "y3",
         "autorange": true,
         "domain": [
          0,
          0.48
         ],
         "matches": "x",
         "range": [
          -39.233570204680454,
          -4.734900041222673
         ],
         "showticklabels": false,
         "type": "linear"
        },
        "xaxis4": {
         "anchor": "y4",
         "autorange": true,
         "domain": [
          0.5,
          0.98
         ],
         "matches": "x",
         "range": [
          -39.233570204680454,
          -4.734900041222673
         ],
         "showticklabels": false,
         "type": "linear"
        },
        "yaxis": {
         "anchor": "x",
         "autorange": true,
         "domain": [
          0,
          0.485
         ],
         "range": [
          56.17083284434534,
          -26.170832844345345
         ],
         "title": {
          "text": "Depth (cm)"
         },
         "type": "linear"
        },
        "yaxis2": {
         "anchor": "x2",
         "autorange": true,
         "domain": [
          0,
          0.485
         ],
         "matches": "y",
         "range": [
          56.17083284434534,
          -26.170832844345345
         ],
         "showticklabels": false,
         "type": "linear"
        },
        "yaxis3": {
         "anchor": "x3",
         "autorange": true,
         "domain": [
          0.515,
          1
         ],
         "matches": "y",
         "range": [
          56.17083284434534,
          -26.170832844345345
         ],
         "title": {
          "text": "Depth (cm)"
         },
         "type": "linear"
        },
        "yaxis4": {
         "anchor": "x4",
         "autorange": true,
         "domain": [
          0.515,
          1
         ],
         "matches": "y",
         "range": [
          56.17083284434534,
          -26.170832844345345
         ],
         "showticklabels": false,
         "type": "linear"
        }
       }
      },
      "image/png": "[encoded data removed]",
      "text/html": [
       "<div>\n",
       "        \n",
       "        \n",
       "            <div id=\"c8b0869e-a175-4c03-97e5-4e1b79f625aa\" class=\"plotly-graph-div\" style=\"height:525px; width:100%;\"></div>\n",
       "            <script type=\"text/javascript\">\n",
       "                require([\"plotly\"], function(Plotly) {\n",
       "                    window.PLOTLYENV=window.PLOTLYENV || {};\n",
       "                    \n",
       "                if (document.getElementById(\"c8b0869e-a175-4c03-97e5-4e1b79f625aa\")) {\n",
       "                    Plotly.newPlot(\n",
       "                        'c8b0869e-a175-4c03-97e5-4e1b79f625aa',\n",
       "                        [{\"error_x\": {\"array\": [2.177647528947368]}, \"hoverlabel\": {\"namelength\": 0}, \"hovertemplate\": \"Type_2=tree<br>Treatment=cut<br>Year=2017<br>mean=%{x}<br>Depth=%{y}\", \"legendgroup\": \"tree\", \"marker\": {\"color\": \"orange\", \"symbol\": \"circle\"}, \"mode\": \"markers\", \"name\": \"tree\", \"showlegend\": true, \"type\": \"scatter\", \"x\": [-25.181818181818183], \"xaxis\": \"x3\", \"y\": [-20], \"yaxis\": \"y3\"}, {\"error_x\": {\"array\": [2.151461800448216]}, \"hoverlabel\": {\"namelength\": 0}, \"hovertemplate\": \"Type_2=tree<br>Treatment=cut<br>Year=2018<br>mean=%{x}<br>Depth=%{y}\", \"legendgroup\": \"tree\", \"marker\": {\"color\": \"orange\", \"symbol\": \"circle\"}, \"mode\": \"markers\", \"name\": \"tree\", \"showlegend\": false, \"type\": \"scatter\", \"x\": [-27.5], \"xaxis\": \"x4\", \"y\": [-20], \"yaxis\": \"y4\"}, {\"error_x\": {\"array\": [1.7296800077739611]}, \"hoverlabel\": {\"namelength\": 0}, \"hovertemplate\": \"Type_2=tree<br>Treatment=uncut<br>Year=2017<br>mean=%{x}<br>Depth=%{y}\", \"legendgroup\": \"tree\", \"marker\": {\"color\": \"orange\", \"symbol\": \"circle\"}, \"mode\": \"markers\", \"name\": \"tree\", \"showlegend\": false, \"type\": \"scatter\", \"x\": [-31.083333333333332], \"xaxis\": \"x\", \"y\": [-20], \"yaxis\": \"y\"}, {\"error_x\": {\"array\": [1.7586366965075622]}, \"hoverlabel\": {\"namelength\": 0}, \"hovertemplate\": \"Type_2=tree<br>Treatment=uncut<br>Year=2018<br>mean=%{x}<br>Depth=%{y}\", \"legendgroup\": \"tree\", \"marker\": {\"color\": \"orange\", \"symbol\": \"circle\"}, \"mode\": \"markers\", \"name\": \"tree\", \"showlegend\": false, \"type\": \"scatter\", \"x\": [-35.75], \"xaxis\": \"x2\", \"y\": [-20], \"yaxis\": \"y2\"}, {\"error_x\": {\"array\": [2.5700074458267506]}, \"hoverlabel\": {\"namelength\": 0}, \"hovertemplate\": \"Type_2=grass<br>Treatment=cut<br>Year=2017<br>mean=%{x}<br>Depth=%{y}\", \"legendgroup\": \"grass\", \"marker\": {\"color\": \"blue\", \"symbol\": \"circle\"}, \"mode\": \"markers\", \"name\": \"grass\", \"showlegend\": true, \"type\": \"scatter\", \"x\": [-19.77777777777778], \"xaxis\": \"x3\", \"y\": [-10], \"yaxis\": \"y3\"}, {\"error_x\": {\"array\": [3.7420698042330915]}, \"hoverlabel\": {\"namelength\": 0}, \"hovertemplate\": \"Type_2=grass<br>Treatment=cut<br>Year=2018<br>mean=%{x}<br>Depth=%{y}\", \"legendgroup\": \"grass\", \"marker\": {\"color\": \"blue\", \"symbol\": \"circle\"}, \"mode\": \"markers\", \"name\": \"grass\", \"showlegend\": false, \"type\": \"scatter\", \"x\": [-16.555555555555557], \"xaxis\": \"x4\", \"y\": [-10], \"yaxis\": \"y4\"}, {\"error_x\": {\"array\": [3.161201872533857]}, \"hoverlabel\": {\"namelength\": 0}, \"hovertemplate\": \"Type_2=grass<br>Treatment=uncut<br>Year=2017<br>mean=%{x}<br>Depth=%{y}\", \"legendgroup\": \"grass\", \"marker\": {\"color\": \"blue\", \"symbol\": \"circle\"}, \"mode\": \"markers\", \"name\": \"grass\", \"showlegend\": false, \"type\": \"scatter\", \"x\": [-20.571428571428573], \"xaxis\": \"x\", \"y\": [-10], \"yaxis\": \"y\"}, {\"error_x\": {\"array\": [4.4662658747769965]}, \"hoverlabel\": {\"namelength\": 0}, \"hovertemplate\": \"Type_2=grass<br>Treatment=uncut<br>Year=2018<br>mean=%{x}<br>Depth=%{y}\", \"legendgroup\": \"grass\", \"marker\": {\"color\": \"blue\", \"symbol\": \"circle\"}, \"mode\": \"markers\", \"name\": \"grass\", \"showlegend\": false, \"type\": \"scatter\", \"x\": [-13.444444444444445], \"xaxis\": \"x2\", \"y\": [-10], \"yaxis\": \"y2\"}, {\"error_x\": {\"array\": [1.7320508075688774, 4.910306620885413, 3.7564758898615485]}, \"hoverlabel\": {\"namelength\": 0}, \"hovertemplate\": \"Type_2=soil<br>Treatment=cut<br>Year=2017<br>mean=%{x}<br>Depth=%{y}\", \"legendgroup\": \"soil\", \"marker\": {\"color\": \"gray\", \"symbol\": \"circle\"}, \"mode\": \"markers\", \"name\": \"soil\", \"showlegend\": true, \"type\": \"scatter\", \"x\": [-15.0, -20.666666666666668, -22.333333333333332], \"xaxis\": \"x3\", \"y\": [10, 30, 50], \"yaxis\": \"y3\"}, {\"error_x\": {\"array\": [3.7564758898615485, 1.2018504251546631, 3.8441875315569325]}, \"hoverlabel\": {\"namelength\": 0}, \"hovertemplate\": \"Type_2=soil<br>Treatment=cut<br>Year=2018<br>mean=%{x}<br>Depth=%{y}\", \"legendgroup\": \"soil\", \"marker\": {\"color\": \"gray\", \"symbol\": \"circle\"}, \"mode\": \"markers\", \"name\": \"soil\", \"showlegend\": false, \"type\": \"scatter\", \"x\": [-10.333333333333334, -11.666666666666666, -14.333333333333334], \"xaxis\": \"x4\", \"y\": [10, 30, 50], \"yaxis\": \"y4\"}, {\"error_x\": {\"array\": [2.3979157616563596, 2.41522945769824, 3.072458299147443]}, \"hoverlabel\": {\"namelength\": 0}, \"hovertemplate\": \"Type_2=soil<br>Treatment=uncut<br>Year=2017<br>mean=%{x}<br>Depth=%{y}\", \"legendgroup\": \"soil\", \"marker\": {\"color\": \"gray\", \"symbol\": \"circle\"}, \"mode\": \"markers\", \"name\": \"soil\", \"showlegend\": false, \"type\": \"scatter\", \"x\": [-14.5, -20.0, -22.8], \"xaxis\": \"x\", \"y\": [10, 30, 50], \"yaxis\": \"y\"}, {\"error_x\": {\"array\": [5.2068331172711035, 10.525102269231295, 6.11918658356194]}, \"hoverlabel\": {\"namelength\": 0}, \"hovertemplate\": \"Type_2=soil<br>Treatment=uncut<br>Year=2018<br>mean=%{x}<br>Depth=%{y}\", \"legendgroup\": \"soil\", \"marker\": {\"color\": \"gray\", \"symbol\": \"circle\"}, \"mode\": \"markers\", \"name\": \"soil\", \"showlegend\": false, \"type\": \"scatter\", \"x\": [-11.666666666666666, -19.333333333333332, -19.333333333333332], \"xaxis\": \"x2\", \"y\": [10, 30, 50], \"yaxis\": \"y2\"}],\n",
       "                        {\"annotations\": [{\"font\": {}, \"showarrow\": false, \"text\": \"2017\", \"x\": 0.24, \"xanchor\": \"center\", \"xref\": \"paper\", \"y\": 1.0, \"yanchor\": \"bottom\", \"yref\": \"paper\"}, {\"font\": {}, \"showarrow\": false, \"text\": \"2018\", \"x\": 0.74, \"xanchor\": \"center\", \"xref\": \"paper\", \"y\": 1.0, \"yanchor\": \"bottom\", \"yref\": \"paper\"}, {\"font\": {}, \"showarrow\": false, \"text\": \"uncut\", \"textangle\": 90, \"x\": 0.98, \"xanchor\": \"left\", \"xref\": \"paper\", \"y\": 0.2425, \"yanchor\": \"middle\", \"yref\": \"paper\"}, {\"font\": {}, \"showarrow\": false, \"text\": \"cut\", \"textangle\": 90, \"x\": 0.98, \"xanchor\": \"left\", \"xref\": \"paper\", \"y\": 0.7575000000000001, \"yanchor\": \"middle\", \"yref\": \"paper\"}], \"legend\": {\"title\": {\"text\": \"sample type\"}, \"tracegroupgap\": 0}, \"margin\": {\"t\": 60}, \"template\": {\"data\": {\"bar\": [{\"error_x\": {\"color\": \"rgb(36,36,36)\"}, \"error_y\": {\"color\": \"rgb(36,36,36)\"}, \"marker\": {\"line\": {\"color\": \"white\", \"width\": 0.5}}, \"type\": \"bar\"}], \"barpolar\": [{\"marker\": {\"line\": {\"color\": \"white\", \"width\": 0.5}}, \"type\": \"barpolar\"}], \"carpet\": [{\"aaxis\": {\"endlinecolor\": \"rgb(36,36,36)\", \"gridcolor\": \"white\", \"linecolor\": \"white\", \"minorgridcolor\": \"white\", \"startlinecolor\": \"rgb(36,36,36)\"}, \"baxis\": {\"endlinecolor\": \"rgb(36,36,36)\", \"gridcolor\": \"white\", \"linecolor\": \"white\", \"minorgridcolor\": \"white\", \"startlinecolor\": \"rgb(36,36,36)\"}, \"type\": \"carpet\"}], \"choropleth\": [{\"colorbar\": {\"outlinewidth\": 1, \"tickcolor\": \"rgb(36,36,36)\", \"ticks\": \"outside\"}, \"type\": \"choropleth\"}], \"contour\": [{\"colorbar\": {\"outlinewidth\": 1, \"tickcolor\": \"rgb(36,36,36)\", \"ticks\": \"outside\"}, \"colorscale\": [[0.0, \"#440154\"], [0.1111111111111111, \"#482878\"], [0.2222222222222222, \"#3e4989\"], [0.3333333333333333, \"#31688e\"], [0.4444444444444444, \"#26828e\"], [0.5555555555555556, \"#1f9e89\"], [0.6666666666666666, \"#35b779\"], [0.7777777777777778, \"#6ece58\"], [0.8888888888888888, \"#b5de2b\"], [1.0, \"#fde725\"]], \"type\": \"contour\"}], \"contourcarpet\": [{\"colorbar\": {\"outlinewidth\": 1, \"tickcolor\": \"rgb(36,36,36)\", \"ticks\": \"outside\"}, \"type\": \"contourcarpet\"}], \"heatmap\": [{\"colorbar\": {\"outlinewidth\": 1, \"tickcolor\": \"rgb(36,36,36)\", \"ticks\": \"outside\"}, \"colorscale\": [[0.0, \"#440154\"], [0.1111111111111111, \"#482878\"], [0.2222222222222222, \"#3e4989\"], [0.3333333333333333, \"#31688e\"], [0.4444444444444444, \"#26828e\"], [0.5555555555555556, \"#1f9e89\"], [0.6666666666666666, \"#35b779\"], [0.7777777777777778, \"#6ece58\"], [0.8888888888888888, \"#b5de2b\"], [1.0, \"#fde725\"]], \"type\": \"heatmap\"}], \"heatmapgl\": [{\"colorbar\": {\"outlinewidth\": 1, \"tickcolor\": \"rgb(36,36,36)\", \"ticks\": \"outside\"}, \"colorscale\": [[0.0, \"#440154\"], [0.1111111111111111, \"#482878\"], [0.2222222222222222, \"#3e4989\"], [0.3333333333333333, \"#31688e\"], [0.4444444444444444, \"#26828e\"], [0.5555555555555556, \"#1f9e89\"], [0.6666666666666666, \"#35b779\"], [0.7777777777777778, \"#6ece58\"], [0.8888888888888888, \"#b5de2b\"], [1.0, \"#fde725\"]], \"type\": \"heatmapgl\"}], \"histogram\": [{\"marker\": {\"line\": {\"color\": \"white\", \"width\": 0.6}}, \"type\": \"histogram\"}], \"histogram2d\": [{\"colorbar\": {\"outlinewidth\": 1, \"tickcolor\": \"rgb(36,36,36)\", \"ticks\": \"outside\"}, \"colorscale\": [[0.0, \"#440154\"], [0.1111111111111111, \"#482878\"], [0.2222222222222222, \"#3e4989\"], [0.3333333333333333, \"#31688e\"], [0.4444444444444444, \"#26828e\"], [0.5555555555555556, \"#1f9e89\"], [0.6666666666666666, \"#35b779\"], [0.7777777777777778, \"#6ece58\"], [0.8888888888888888, \"#b5de2b\"], [1.0, \"#fde725\"]], \"type\": \"histogram2d\"}], \"histogram2dcontour\": [{\"colorbar\": {\"outlinewidth\": 1, \"tickcolor\": \"rgb(36,36,36)\", \"ticks\": \"outside\"}, \"colorscale\": [[0.0, \"#440154\"], [0.1111111111111111, \"#482878\"], [0.2222222222222222, \"#3e4989\"], [0.3333333333333333, \"#31688e\"], [0.4444444444444444, \"#26828e\"], [0.5555555555555556, \"#1f9e89\"], [0.6666666666666666, \"#35b779\"], [0.7777777777777778, \"#6ece58\"], [0.8888888888888888, \"#b5de2b\"], [1.0, \"#fde725\"]], \"type\": \"histogram2dcontour\"}], \"mesh3d\": [{\"colorbar\": {\"outlinewidth\": 1, \"tickcolor\": \"rgb(36,36,36)\", \"ticks\": \"outside\"}, \"type\": \"mesh3d\"}], \"parcoords\": [{\"line\": {\"colorbar\": {\"outlinewidth\": 1, \"tickcolor\": \"rgb(36,36,36)\", \"ticks\": \"outside\"}}, \"type\": \"parcoords\"}], \"pie\": [{\"automargin\": true, \"type\": \"pie\"}], \"scatter\": [{\"marker\": {\"colorbar\": {\"outlinewidth\": 1, \"tickcolor\": \"rgb(36,36,36)\", \"ticks\": \"outside\"}}, \"type\": \"scatter\"}], \"scatter3d\": [{\"line\": {\"colorbar\": {\"outlinewidth\": 1, \"tickcolor\": \"rgb(36,36,36)\", \"ticks\": \"outside\"}}, \"marker\": {\"colorbar\": {\"outlinewidth\": 1, \"tickcolor\": \"rgb(36,36,36)\", \"ticks\": \"outside\"}}, \"type\": \"scatter3d\"}], \"scattercarpet\": [{\"marker\": {\"colorbar\": {\"outlinewidth\": 1, \"tickcolor\": \"rgb(36,36,36)\", \"ticks\": \"outside\"}}, \"type\": \"scattercarpet\"}], \"scattergeo\": [{\"marker\": {\"colorbar\": {\"outlinewidth\": 1, \"tickcolor\": \"rgb(36,36,36)\", \"ticks\": \"outside\"}}, \"type\": \"scattergeo\"}], \"scattergl\": [{\"marker\": {\"colorbar\": {\"outlinewidth\": 1, \"tickcolor\": \"rgb(36,36,36)\", \"ticks\": \"outside\"}}, \"type\": \"scattergl\"}], \"scattermapbox\": [{\"marker\": {\"colorbar\": {\"outlinewidth\": 1, \"tickcolor\": \"rgb(36,36,36)\", \"ticks\": \"outside\"}}, \"type\": \"scattermapbox\"}], \"scatterpolar\": [{\"marker\": {\"colorbar\": {\"outlinewidth\": 1, \"tickcolor\": \"rgb(36,36,36)\", \"ticks\": \"outside\"}}, \"type\": \"scatterpolar\"}], \"scatterpolargl\": [{\"marker\": {\"colorbar\": {\"outlinewidth\": 1, \"tickcolor\": \"rgb(36,36,36)\", \"ticks\": \"outside\"}}, \"type\": \"scatterpolargl\"}], \"scatterternary\": [{\"marker\": {\"colorbar\": {\"outlinewidth\": 1, \"tickcolor\": \"rgb(36,36,36)\", \"ticks\": \"outside\"}}, \"type\": \"scatterternary\"}], \"surface\": [{\"colorbar\": {\"outlinewidth\": 1, \"tickcolor\": \"rgb(36,36,36)\", \"ticks\": \"outside\"}, \"colorscale\": [[0.0, \"#440154\"], [0.1111111111111111, \"#482878\"], [0.2222222222222222, \"#3e4989\"], [0.3333333333333333, \"#31688e\"], [0.4444444444444444, \"#26828e\"], [0.5555555555555556, \"#1f9e89\"], [0.6666666666666666, \"#35b779\"], [0.7777777777777778, \"#6ece58\"], [0.8888888888888888, \"#b5de2b\"], [1.0, \"#fde725\"]], \"type\": \"surface\"}], \"table\": [{\"cells\": {\"fill\": {\"color\": \"rgb(237,237,237)\"}, \"line\": {\"color\": \"white\"}}, \"header\": {\"fill\": {\"color\": \"rgb(217,217,217)\"}, \"line\": {\"color\": \"white\"}}, \"type\": \"table\"}]}, \"layout\": {\"annotationdefaults\": {\"arrowhead\": 0, \"arrowwidth\": 1}, \"coloraxis\": {\"colorbar\": {\"outlinewidth\": 1, \"tickcolor\": \"rgb(36,36,36)\", \"ticks\": \"outside\"}}, \"colorscale\": {\"diverging\": [[0.0, \"rgb(103,0,31)\"], [0.1, \"rgb(178,24,43)\"], [0.2, \"rgb(214,96,77)\"], [0.3, \"rgb(244,165,130)\"], [0.4, \"rgb(253,219,199)\"], [0.5, \"rgb(247,247,247)\"], [0.6, \"rgb(209,229,240)\"], [0.7, \"rgb(146,197,222)\"], [0.8, \"rgb(67,147,195)\"], [0.9, \"rgb(33,102,172)\"], [1.0, \"rgb(5,48,97)\"]], \"sequential\": [[0.0, \"#440154\"], [0.1111111111111111, \"#482878\"], [0.2222222222222222, \"#3e4989\"], [0.3333333333333333, \"#31688e\"], [0.4444444444444444, \"#26828e\"], [0.5555555555555556, \"#1f9e89\"], [0.6666666666666666, \"#35b779\"], [0.7777777777777778, \"#6ece58\"], [0.8888888888888888, \"#b5de2b\"], [1.0, \"#fde725\"]], \"sequentialminus\": [[0.0, \"#440154\"], [0.1111111111111111, \"#482878\"], [0.2222222222222222, \"#3e4989\"], [0.3333333333333333, \"#31688e\"], [0.4444444444444444, \"#26828e\"], [0.5555555555555556, \"#1f9e89\"], [0.6666666666666666, \"#35b779\"], [0.7777777777777778, \"#6ece58\"], [0.8888888888888888, \"#b5de2b\"], [1.0, \"#fde725\"]]}, \"colorway\": [\"#1F77B4\", \"#FF7F0E\", \"#2CA02C\", \"#D62728\", \"#9467BD\", \"#8C564B\", \"#E377C2\", \"#7F7F7F\", \"#BCBD22\", \"#17BECF\"], \"font\": {\"color\": \"rgb(36,36,36)\"}, \"geo\": {\"bgcolor\": \"white\", \"lakecolor\": \"white\", \"landcolor\": \"white\", \"showlakes\": true, \"showland\": true, \"subunitcolor\": \"white\"}, \"hoverlabel\": {\"align\": \"left\"}, \"hovermode\": \"closest\", \"mapbox\": {\"style\": \"light\"}, \"paper_bgcolor\": \"white\", \"plot_bgcolor\": \"white\", \"polar\": {\"angularaxis\": {\"gridcolor\": \"rgb(232,232,232)\", \"linecolor\": \"rgb(36,36,36)\", \"showgrid\": false, \"showline\": true, \"ticks\": \"outside\"}, \"bgcolor\": \"white\", \"radialaxis\": {\"gridcolor\": \"rgb(232,232,232)\", \"linecolor\": \"rgb(36,36,36)\", \"showgrid\": false, \"showline\": true, \"ticks\": \"outside\"}}, \"scene\": {\"xaxis\": {\"backgroundcolor\": \"white\", \"gridcolor\": \"rgb(232,232,232)\", \"gridwidth\": 2, \"linecolor\": \"rgb(36,36,36)\", \"showbackground\": true, \"showgrid\": false, \"showline\": true, \"ticks\": \"outside\", \"zeroline\": false, \"zerolinecolor\": \"rgb(36,36,36)\"}, \"yaxis\": {\"backgroundcolor\": \"white\", \"gridcolor\": \"rgb(232,232,232)\", \"gridwidth\": 2, \"linecolor\": \"rgb(36,36,36)\", \"showbackground\": true, \"showgrid\": false, \"showline\": true, \"ticks\": \"outside\", \"zeroline\": false, \"zerolinecolor\": \"rgb(36,36,36)\"}, \"zaxis\": {\"backgroundcolor\": \"white\", \"gridcolor\": \"rgb(232,232,232)\", \"gridwidth\": 2, \"linecolor\": \"rgb(36,36,36)\", \"showbackground\": true, \"showgrid\": false, \"showline\": true, \"ticks\": \"outside\", \"zeroline\": false, \"zerolinecolor\": \"rgb(36,36,36)\"}}, \"shapedefaults\": {\"fillcolor\": \"black\", \"line\": {\"width\": 0}, \"opacity\": 0.3}, \"ternary\": {\"aaxis\": {\"gridcolor\": \"rgb(232,232,232)\", \"linecolor\": \"rgb(36,36,36)\", \"showgrid\": false, \"showline\": true, \"ticks\": \"outside\"}, \"baxis\": {\"gridcolor\": \"rgb(232,232,232)\", \"linecolor\": \"rgb(36,36,36)\", \"showgrid\": false, \"showline\": true, \"ticks\": \"outside\"}, \"bgcolor\": \"white\", \"caxis\": {\"gridcolor\": \"rgb(232,232,232)\", \"linecolor\": \"rgb(36,36,36)\", \"showgrid\": false, \"showline\": true, \"ticks\": \"outside\"}}, \"title\": {\"x\": 0.05}, \"xaxis\": {\"automargin\": true, \"gridcolor\": \"rgb(232,232,232)\", \"linecolor\": \"rgb(36,36,36)\", \"showgrid\": false, \"showline\": true, \"ticks\": \"outside\", \"title\": {\"standoff\": 15}, \"zeroline\": false, \"zerolinecolor\": \"rgb(36,36,36)\"}, \"yaxis\": {\"automargin\": true, \"gridcolor\": \"rgb(232,232,232)\", \"linecolor\": \"rgb(36,36,36)\", \"showgrid\": false, \"showline\": true, \"ticks\": \"outside\", \"title\": {\"standoff\": 15}, \"zeroline\": false, \"zerolinecolor\": \"rgb(36,36,36)\"}}}, \"xaxis\": {\"anchor\": \"y\", \"domain\": [0.0, 0.48], \"title\": {\"text\": \"\\u03b4D \\u2030\"}}, \"xaxis2\": {\"anchor\": \"y2\", \"domain\": [0.5, 0.98], \"matches\": \"x\", \"title\": {\"text\": \"\\u03b4D \\u2030\"}}, \"xaxis3\": {\"anchor\": \"y3\", \"domain\": [0.0, 0.48], \"matches\": \"x\", \"showticklabels\": false}, \"xaxis4\": {\"anchor\": \"y4\", \"domain\": [0.5, 0.98], \"matches\": \"x\", \"showticklabels\": false}, \"yaxis\": {\"anchor\": \"x\", \"autorange\": \"reversed\", \"domain\": [0.0, 0.485], \"title\": {\"text\": \"Depth (cm)\"}}, \"yaxis2\": {\"anchor\": \"x2\", \"domain\": [0.0, 0.485], \"matches\": \"y\", \"showticklabels\": false}, \"yaxis3\": {\"anchor\": \"x3\", \"autorange\": \"reversed\", \"domain\": [0.515, 1.0], \"matches\": \"y\", \"title\": {\"text\": \"Depth (cm)\"}}, \"yaxis4\": {\"anchor\": \"x4\", \"domain\": [0.515, 1.0], \"matches\": \"y\", \"showticklabels\": false}},\n",
       "                        {\"responsive\": true}\n",
       "                    ).then(function(){\n",
       "                            \n",
       "var gd = document.getElementById('c8b0869e-a175-4c03-97e5-4e1b79f625aa');\n",
       "var x = new MutationObserver(function (mutations, observer) {{\n",
       "        var display = window.getComputedStyle(gd).display;\n",
       "        if (!display || display === 'none') {{\n",
       "            console.log([gd, 'removed!']);\n",
       "            Plotly.purge(gd);\n",
       "            observer.disconnect();\n",
       "        }}\n",
       "}});\n",
       "\n",
       "// Listen for the removal of the full notebook cells\n",
       "var notebookContainer = gd.closest('#notebook-container');\n",
       "if (notebookContainer) {{\n",
       "    x.observe(notebookContainer, {childList: true});\n",
       "}}\n",
       "\n",
       "// Listen for the clearing of the current output cell\n",
       "var outputEl = gd.closest('.output');\n",
       "if (outputEl) {{\n",
       "    x.observe(outputEl, {childList: true});\n",
       "}}\n",
       "\n",
       "                        })\n",
       "                };\n",
       "                });\n",
       "            </script>\n",
       "        </div>"
      ]
     },
     "metadata": {},
     "output_type": "display_data"
    }
   ],
   "source": [
    "# create dataframe with mean and standard error for dD isotopes for plotting\n",
    "df_dD = df.groupby(['Year', 'Type_2', 'Treatment', 'Depth'], as_index = False)['dD'].agg([np.mean, ss.sem]).reset_index()\n",
    "\n",
    "# plot dD across soil depths\n",
    "fig_dD = px.scatter(df_dD, x = 'mean', y = 'Depth', color = 'Type_2', error_x = 'sem',\n",
    "                    facet_col = 'Year', facet_row = 'Treatment',\n",
    "                    template = 'simple_white',\n",
    "                    color_discrete_sequence = [\"orange\", \"blue\", \"gray\"],\n",
    "                    category_orders = {\"Type_2\": ['tree', 'grass', 'soil']})\n",
    "fig_dD.update_xaxes(title_text = '\\u03B4D \\u2030', row = 1)\n",
    "fig_dD.update_yaxes(title_text = 'Depth (cm)', col = 1, autorange = 'reversed')\n",
    "fig_dD.update_layout(legend_title_text = 'sample type')\n",
    "fig_dD.for_each_annotation(lambda a: a.update(text = a.text.split(\"=\")[-1]))\n",
    "fig_dD.show()"
   ]
  },
  {
   "cell_type": "markdown",
   "metadata": {},
   "source": [
    "# Double Isotope Graph\n",
    "### Plot soil, grass, and tree samples with the meteoric water line (MWL)\n",
    "From the double isotope graph below:\n",
    "1. $\\delta {^1}{^8}{O}$ and $\\delta{D}$ are highly correlated\n",
    "2. Values fall beow the MWL indicating these samples are from a semi-arid region\n",
    "3. Soil samples span the length of the graph while grass samples tend to be slightly more enriched than tree samples. However, some plants samples have lower values than the soil samples. This may indicate plants retrieved water from deeper soil depths than the depths sampled. "
   ]
  },
  {
   "cell_type": "code",
   "execution_count": 40,
   "metadata": {},
   "outputs": [],
   "source": [
    "# create data to plot meteoric water line\n",
    "# This is the x variable\n",
    "# Data needs to range from minimum value to maximum value of d18O\n",
    "x = pd.Series(np.arange(df['d18O'].min(), df['d18O'].max(),1))\n",
    "\n",
    "# Plug x into the meteoric water line equation to get the y variable\n",
    "# Specify the y values as a dataframe\n",
    "df_mwl = pd.DataFrame(8*x + 10)\n",
    "\n",
    "# add x to the dataframe\n",
    "df_mwl = pd.concat([df_mwl, x], axis=1)\n",
    "\n",
    "# rename the x and y columns to d18O and dD, respectively\n",
    "df_mwl.columns = ['dD', 'd18O']"
   ]
  },
  {
   "cell_type": "code",
   "execution_count": 41,
   "metadata": {},
   "outputs": [
    {
     "data": {
      "application/vnd.plotly.v1+json": {
       "config": {
        "plotlyServerURL": "https://plot.ly"
       },
       "data": [
        {
         "hoverlabel": {
          "namelength": 0
         },
         "hovertemplate": "Type_2=tree<br>Treatment=cut<br>Year=2017<br>d18O=%{x}<br>dD=%{y}",
         "legendgroup": "tree",
         "marker": {
          "color": "orange",
          "symbol": "circle"
         },
         "mode": "markers",
         "name": "tree",
         "showlegend": true,
         "type": "scatter",
         "x": [
          -3.7,
          -3.4,
          -3.1,
          -0.2,
          -1.3,
          -1.9,
          -2.6,
          -1.4,
          -3.1,
          -4.9,
          -2.3
         ],
         "xaxis": "x3",
         "y": [
          -27,
          -28,
          -26,
          -16,
          -18,
          -20,
          -35,
          -17,
          -31,
          -37,
          -22
         ],
         "yaxis": "y3"
        },
        {
         "hoverlabel": {
          "namelength": 0
         },
         "hovertemplate": "<b>OLS trendline</b><br>dD = 4.71873 * d18O + -13.2134<br>R<sup>2</sup>=0.728451<br><br>Type_2=tree<br>Treatment=cut<br>Year=2017<br>d18O=%{x}<br>dD=%{y} <b>(trend)</b>",
         "legendgroup": "tree",
         "marker": {
          "color": "orange",
          "symbol": "circle"
         },
         "mode": "lines",
         "name": "tree",
         "showlegend": false,
         "type": "scatter",
         "x": [
          -4.9,
          -3.7,
          -3.4,
          -3.1,
          -3.1,
          -2.6,
          -2.3,
          -1.9,
          -1.4,
          -1.3,
          -0.2
         ],
         "xaxis": "x3",
         "y": [
          -36.33518005540164,
          -30.672704027274648,
          -29.257085020242897,
          -27.84146601321115,
          -27.84146601321115,
          -25.48210100149157,
          -24.06648199445982,
          -22.178989985084158,
          -19.819624973364576,
          -19.34775197102066,
          -14.15714894523758
         ],
         "yaxis": "y3"
        },
        {
         "hoverlabel": {
          "namelength": 0
         },
         "hovertemplate": "Type_2=tree<br>Treatment=cut<br>Year=2018<br>d18O=%{x}<br>dD=%{y}",
         "legendgroup": "tree",
         "marker": {
          "color": "orange",
          "symbol": "circle"
         },
         "mode": "markers",
         "name": "tree",
         "showlegend": false,
         "type": "scatter",
         "x": [
          -5,
          -3.9,
          -0.8,
          -5,
          -1.2,
          1.7,
          -0.5,
          0.2,
          0.2,
          -2.3,
          -0.8,
          -3.1
         ],
         "xaxis": "x4",
         "y": [
          -39,
          -31,
          -25,
          -41,
          -26,
          -16,
          -24,
          -20,
          -21,
          -30,
          -25,
          -32
         ],
         "yaxis": "y4"
        },
        {
         "hoverlabel": {
          "namelength": 0
         },
         "hovertemplate": "<b>OLS trendline</b><br>dD = 3.39316 * d18O + -21.7034<br>R<sup>2</sup>=0.961580<br><br>Type_2=tree<br>Treatment=cut<br>Year=2018<br>d18O=%{x}<br>dD=%{y} <b>(trend)</b>",
         "legendgroup": "tree",
         "marker": {
          "color": "orange",
          "symbol": "circle"
         },
         "mode": "lines",
         "name": "tree",
         "showlegend": false,
         "type": "scatter",
         "x": [
          -5,
          -5,
          -3.9,
          -3.1,
          -2.3,
          -1.2,
          -0.8,
          -0.8,
          -0.5,
          0.2,
          0.2,
          1.7
         ],
         "xaxis": "x4",
         "y": [
          -38.669143463705424,
          -38.669143463705424,
          -34.93667020494817,
          -32.222144198579265,
          -29.50761819221035,
          -25.775144933453106,
          -24.41788193026865,
          -24.41788193026865,
          -23.39993467788031,
          -21.024724422307514,
          -21.024724422307514,
          -15.934988160365812
         ],
         "yaxis": "y4"
        },
        {
         "hoverlabel": {
          "namelength": 0
         },
         "hovertemplate": "Type_2=tree<br>Treatment=uncut<br>Year=2017<br>d18O=%{x}<br>dD=%{y}",
         "legendgroup": "tree",
         "marker": {
          "color": "orange",
          "symbol": "circle"
         },
         "mode": "markers",
         "name": "tree",
         "showlegend": false,
         "type": "scatter",
         "x": [
          -4.6,
          -3.2,
          -3,
          -2.6,
          -2.8,
          -2.6,
          -4.4,
          -5.7,
          -3.2,
          -3.4,
          -2.8,
          -2.7
         ],
         "xaxis": "x",
         "y": [
          -35,
          -32,
          -28,
          -26,
          -26,
          -27,
          -34,
          -47,
          -28,
          -34,
          -27,
          -29
         ],
         "yaxis": "y"
        },
        {
         "hoverlabel": {
          "namelength": 0
         },
         "hovertemplate": "<b>OLS trendline</b><br>dD = 5.7555 * d18O + -11.4187<br>R<sup>2</sup>=0.877109<br><br>Type_2=tree<br>Treatment=uncut<br>Year=2017<br>d18O=%{x}<br>dD=%{y} <b>(trend)</b>",
         "legendgroup": "tree",
         "marker": {
          "color": "orange",
          "symbol": "circle"
         },
         "mode": "lines",
         "name": "tree",
         "showlegend": false,
         "type": "scatter",
         "x": [
          -5.7,
          -4.6,
          -4.4,
          -3.4,
          -3.2,
          -3.2,
          -3,
          -2.8,
          -2.8,
          -2.7,
          -2.6,
          -2.6
         ],
         "xaxis": "x",
         "y": [
          -44.2250557857826,
          -37.89400701306981,
          -36.74290723621295,
          -30.987408351928593,
          -29.836308575071723,
          -29.836308575071723,
          -28.685208798214852,
          -27.53410902135798,
          -27.53410902135798,
          -26.958559132929548,
          -26.38300924450111,
          -26.38300924450111
         ],
         "yaxis": "y"
        },
        {
         "hoverlabel": {
          "namelength": 0
         },
         "hovertemplate": "Type_2=tree<br>Treatment=uncut<br>Year=2018<br>d18O=%{x}<br>dD=%{y}",
         "legendgroup": "tree",
         "marker": {
          "color": "orange",
          "symbol": "circle"
         },
         "mode": "markers",
         "name": "tree",
         "showlegend": false,
         "type": "scatter",
         "x": [
          -2.8,
          -1.8,
          -2.6,
          -1.6,
          -0.1,
          -2.2,
          -2.9,
          -3.7,
          -1.8,
          -3.9,
          1.5,
          0.9
         ],
         "xaxis": "x2",
         "y": [
          -43,
          -34,
          -37,
          -30,
          -34,
          -43,
          -40,
          -39,
          -38,
          -40,
          -25,
          -26
         ],
         "yaxis": "y2"
        },
        {
         "hoverlabel": {
          "namelength": 0
         },
         "hovertemplate": "<b>OLS trendline</b><br>dD = 3.01619 * d18O + -30.4717<br>R<sup>2</sup>=0.715538<br><br>Type_2=tree<br>Treatment=uncut<br>Year=2018<br>d18O=%{x}<br>dD=%{y} <b>(trend)</b>",
         "legendgroup": "tree",
         "marker": {
          "color": "orange",
          "symbol": "circle"
         },
         "mode": "lines",
         "name": "tree",
         "showlegend": false,
         "type": "scatter",
         "x": [
          -3.9,
          -3.7,
          -2.9,
          -2.8,
          -2.6,
          -2.2,
          -1.8,
          -1.8,
          -1.6,
          -0.1,
          0.9,
          1.5
         ],
         "xaxis": "x2",
         "y": [
          -42.234817813765176,
          -41.63157894736842,
          -39.21862348178138,
          -38.917004048582996,
          -38.31376518218624,
          -37.107287449392715,
          -35.90080971659919,
          -35.90080971659919,
          -35.29757085020243,
          -30.773279352226727,
          -27.757085020242926,
          -25.947368421052644
         ],
         "yaxis": "y2"
        },
        {
         "hoverlabel": {
          "namelength": 0
         },
         "hovertemplate": "Type_2=grass<br>Treatment=cut<br>Year=2017<br>d18O=%{x}<br>dD=%{y}",
         "legendgroup": "grass",
         "marker": {
          "color": "blue",
          "symbol": "circle"
         },
         "mode": "markers",
         "name": "grass",
         "showlegend": true,
         "type": "scatter",
         "x": [
          -2.8,
          -2.2,
          -3.3,
          2.1,
          1.1,
          0.3,
          1.1,
          -1.1,
          0.7
         ],
         "xaxis": "x3",
         "y": [
          -32,
          -22,
          -31,
          -17,
          -11,
          -14,
          -14,
          -23,
          -14
         ],
         "yaxis": "y3"
        },
        {
         "hoverlabel": {
          "namelength": 0
         },
         "hovertemplate": "<b>OLS trendline</b><br>dD = 3.53903 * d18O + -18.1656<br>R<sup>2</sup>=0.798596<br><br>Type_2=grass<br>Treatment=cut<br>Year=2017<br>d18O=%{x}<br>dD=%{y} <b>(trend)</b>",
         "legendgroup": "grass",
         "marker": {
          "color": "blue",
          "symbol": "circle"
         },
         "mode": "lines",
         "name": "grass",
         "showlegend": false,
         "type": "scatter",
         "x": [
          -3.3,
          -2.8,
          -2.2,
          -1.1,
          0.3,
          0.7,
          1.1,
          1.1,
          2.1
         ],
         "xaxis": "x3",
         "y": [
          -29.84433858556246,
          -28.07482594356906,
          -25.95141077317698,
          -22.058482960791494,
          -17.103847563209964,
          -15.688237449615244,
          -14.27262733602052,
          -14.27262733602052,
          -10.733602052033715
         ],
         "yaxis": "y3"
        },
        {
         "hoverlabel": {
          "namelength": 0
         },
         "hovertemplate": "Type_2=grass<br>Treatment=cut<br>Year=2018<br>d18O=%{x}<br>dD=%{y}",
         "legendgroup": "grass",
         "marker": {
          "color": "blue",
          "symbol": "circle"
         },
         "mode": "markers",
         "name": "grass",
         "showlegend": false,
         "type": "scatter",
         "x": [
          -1.5,
          -1.4,
          -1.4,
          3.8,
          1.5,
          -2.8,
          -0.6,
          0.9,
          2.6
         ],
         "xaxis": "x4",
         "y": [
          -13,
          -14,
          -20,
          0,
          -7,
          -36,
          -25,
          -26,
          -8
         ],
         "yaxis": "y4"
        },
        {
         "hoverlabel": {
          "namelength": 0
         },
         "hovertemplate": "<b>OLS trendline</b><br>dD = 3.80333 * d18O + -17.0204<br>R<sup>2</sup>=0.552308<br><br>Type_2=grass<br>Treatment=cut<br>Year=2018<br>d18O=%{x}<br>dD=%{y} <b>(trend)</b>",
         "legendgroup": "grass",
         "marker": {
          "color": "blue",
          "symbol": "circle"
         },
         "mode": "lines",
         "name": "grass",
         "showlegend": false,
         "type": "scatter",
         "x": [
          -2.8,
          -1.5,
          -1.4,
          -1.4,
          -0.6,
          0.9,
          1.5,
          2.6,
          3.8
         ],
         "xaxis": "x4",
         "y": [
          -27.66971656179645,
          -22.725393984875595,
          -22.345061478958606,
          -22.345061478958606,
          -19.302401431622695,
          -13.597413842867862,
          -11.31541880736593,
          -7.131761242279051,
          -2.5677711712751865
         ],
         "yaxis": "y4"
        },
        {
         "hoverlabel": {
          "namelength": 0
         },
         "hovertemplate": "Type_2=grass<br>Treatment=uncut<br>Year=2017<br>d18O=%{x}<br>dD=%{y}",
         "legendgroup": "grass",
         "marker": {
          "color": "blue",
          "symbol": "circle"
         },
         "mode": "markers",
         "name": "grass",
         "showlegend": false,
         "type": "scatter",
         "x": [
          -0.8,
          0.7,
          -2.6,
          -2.4,
          0.7,
          0.3,
          2.7
         ],
         "xaxis": "x",
         "y": [
          -19,
          -15,
          -31,
          -32,
          -17,
          -21,
          -9
         ],
         "yaxis": "y"
        },
        {
         "hoverlabel": {
          "namelength": 0
         },
         "hovertemplate": "<b>OLS trendline</b><br>dD = 4.27495 * d18O + -19.7164<br>R<sup>2</sup>=0.924833<br><br>Type_2=grass<br>Treatment=uncut<br>Year=2017<br>d18O=%{x}<br>dD=%{y} <b>(trend)</b>",
         "legendgroup": "grass",
         "marker": {
          "color": "blue",
          "symbol": "circle"
         },
         "mode": "lines",
         "name": "grass",
         "showlegend": false,
         "type": "scatter",
         "x": [
          -2.6,
          -2.4,
          -0.8,
          0.3,
          0.7,
          0.7,
          2.7
         ],
         "xaxis": "x",
         "y": [
          -30.831315577078286,
          -29.97632499327414,
          -23.136400322841002,
          -18.433952111918217,
          -16.723970944309933,
          -16.723970944309933,
          -8.174065106268506
         ],
         "yaxis": "y"
        },
        {
         "hoverlabel": {
          "namelength": 0
         },
         "hovertemplate": "Type_2=grass<br>Treatment=uncut<br>Year=2018<br>d18O=%{x}<br>dD=%{y}",
         "legendgroup": "grass",
         "marker": {
          "color": "blue",
          "symbol": "circle"
         },
         "mode": "markers",
         "name": "grass",
         "showlegend": false,
         "type": "scatter",
         "x": [
          -1.1,
          -3,
          -0.7,
          0.8,
          -0.8,
          4.1,
          -0.3,
          2.8,
          3.2
         ],
         "xaxis": "x2",
         "y": [
          -30,
          -24,
          -24,
          -6,
          -18,
          5,
          -25,
          1,
          0
         ],
         "yaxis": "y2"
        },
        {
         "hoverlabel": {
          "namelength": 0
         },
         "hovertemplate": "<b>OLS trendline</b><br>dD = 5.19264 * d18O + -16.3292<br>R<sup>2</sup>=0.829472<br><br>Type_2=grass<br>Treatment=uncut<br>Year=2018<br>d18O=%{x}<br>dD=%{y} <b>(trend)</b>",
         "legendgroup": "grass",
         "marker": {
          "color": "blue",
          "symbol": "circle"
         },
         "mode": "lines",
         "name": "grass",
         "showlegend": false,
         "type": "scatter",
         "x": [
          -3,
          -1.1,
          -0.8,
          -0.7,
          -0.3,
          0.8,
          2.8,
          3.2,
          4.1
         ],
         "xaxis": "x2",
         "y": [
          -31.907152197968003,
          -22.04114274217885,
          -20.4833517754753,
          -19.964088119907448,
          -17.887033497636047,
          -12.175133286389695,
          -1.7898601750326915,
          0.28719444723871135,
          4.960567347349361
         ],
         "yaxis": "y2"
        },
        {
         "hoverlabel": {
          "namelength": 0
         },
         "hovertemplate": "Type_2=soil<br>Treatment=cut<br>Year=2017<br>d18O=%{x}<br>dD=%{y}",
         "legendgroup": "soil",
         "marker": {
          "color": "gray",
          "symbol": "circle"
         },
         "mode": "markers",
         "name": "soil",
         "showlegend": true,
         "type": "scatter",
         "x": [
          4,
          2.8,
          -1.2,
          -0.2,
          -1.3,
          -0.9,
          4.1,
          1.3,
          0.9
         ],
         "xaxis": "x3",
         "y": [
          -18,
          -12,
          -29,
          -21,
          -29,
          -22,
          -15,
          -12,
          -16
         ],
         "yaxis": "y3"
        },
        {
         "hoverlabel": {
          "namelength": 0
         },
         "hovertemplate": "<b>OLS trendline</b><br>dD = 2.23886 * d18O + -21.6966<br>R<sup>2</sup>=0.553496<br><br>Type_2=soil<br>Treatment=cut<br>Year=2017<br>d18O=%{x}<br>dD=%{y} <b>(trend)</b>",
         "legendgroup": "soil",
         "marker": {
          "color": "gray",
          "symbol": "circle"
         },
         "mode": "lines",
         "name": "soil",
         "showlegend": false,
         "type": "scatter",
         "x": [
          -1.3,
          -1.2,
          -0.9,
          -0.2,
          0.9,
          1.3,
          2.8,
          4,
          4.1
         ],
         "xaxis": "x3",
         "y": [
          -24.607091518926676,
          -24.383205558217526,
          -23.71154767609007,
          -22.14434595112601,
          -19.68160038332534,
          -18.786056540488733,
          -15.427767129851457,
          -12.741135601341636,
          -12.517249640632485
         ],
         "yaxis": "y3"
        },
        {
         "hoverlabel": {
          "namelength": 0
         },
         "hovertemplate": "Type_2=soil<br>Treatment=cut<br>Year=2018<br>d18O=%{x}<br>dD=%{y}",
         "legendgroup": "soil",
         "marker": {
          "color": "gray",
          "symbol": "circle"
         },
         "mode": "markers",
         "name": "soil",
         "showlegend": false,
         "type": "scatter",
         "x": [
          3.4,
          1,
          0.3,
          2,
          1.8,
          1,
          4.3,
          4.3,
          3.2
         ],
         "xaxis": "x4",
         "y": [
          -17,
          -10,
          -20,
          -10,
          -14,
          -16,
          -4,
          -11,
          -7
         ],
         "yaxis": "y4"
        },
        {
         "hoverlabel": {
          "namelength": 0
         },
         "hovertemplate": "<b>OLS trendline</b><br>dD = 2.03766 * d18O + -16.9336<br>R<sup>2</sup>=0.355223<br><br>Type_2=soil<br>Treatment=cut<br>Year=2018<br>d18O=%{x}<br>dD=%{y} <b>(trend)</b>",
         "legendgroup": "soil",
         "marker": {
          "color": "gray",
          "symbol": "circle"
         },
         "mode": "lines",
         "name": "soil",
         "showlegend": false,
         "type": "scatter",
         "x": [
          0.3,
          1,
          1,
          1.8,
          2,
          3.2,
          3.4,
          4.3,
          4.3
         ],
         "xaxis": "x4",
         "y": [
          -16.322284996861264,
          -14.895919648462016,
          -14.895919648462016,
          -13.265787821720021,
          -12.858254865034521,
          -10.41305712492153,
          -10.005524168236029,
          -8.171625863151284,
          -8.171625863151284
         ],
         "yaxis": "y4"
        },
        {
         "hoverlabel": {
          "namelength": 0
         },
         "hovertemplate": "Type_2=soil<br>Treatment=uncut<br>Year=2017<br>d18O=%{x}<br>dD=%{y}",
         "legendgroup": "soil",
         "marker": {
          "color": "gray",
          "symbol": "circle"
         },
         "mode": "markers",
         "name": "soil",
         "showlegend": false,
         "type": "scatter",
         "x": [
          3,
          3.6,
          -1.2,
          -0.4,
          -1.5,
          -2,
          4.4,
          -0.5,
          -1.4,
          4.4,
          2.3,
          -1.6,
          1
         ],
         "xaxis": "x",
         "y": [
          -15,
          -21,
          -24,
          -21,
          -27,
          -31,
          -12,
          -22,
          -20,
          -10,
          -13,
          -23,
          -13
         ],
         "yaxis": "y"
        },
        {
         "hoverlabel": {
          "namelength": 0
         },
         "hovertemplate": "<b>OLS trendline</b><br>dD = 2.10452 * d18O + -21.0197<br>R<sup>2</sup>=0.657762<br><br>Type_2=soil<br>Treatment=uncut<br>Year=2017<br>d18O=%{x}<br>dD=%{y} <b>(trend)</b>",
         "legendgroup": "soil",
         "marker": {
          "color": "gray",
          "symbol": "circle"
         },
         "mode": "lines",
         "name": "soil",
         "showlegend": false,
         "type": "scatter",
         "x": [
          -2,
          -1.6,
          -1.5,
          -1.4,
          -1.2,
          -0.5,
          -0.4,
          1,
          2.3,
          3,
          3.6,
          4.4,
          4.4
         ],
         "xaxis": "x",
         "y": [
          -25.228700705508977,
          -24.386893401668353,
          -24.176441575708193,
          -23.965989749748037,
          -23.54508609782772,
          -22.071923316106624,
          -21.861471490146467,
          -18.91514592670427,
          -16.179272189222228,
          -14.70610940750113,
          -13.443398451740187,
          -11.759783844058932,
          -11.759783844058932
         ],
         "yaxis": "y"
        },
        {
         "hoverlabel": {
          "namelength": 0
         },
         "hovertemplate": "Type_2=soil<br>Treatment=uncut<br>Year=2018<br>d18O=%{x}<br>dD=%{y}",
         "legendgroup": "soil",
         "marker": {
          "color": "gray",
          "symbol": "circle"
         },
         "mode": "markers",
         "name": "soil",
         "showlegend": false,
         "type": "scatter",
         "x": [
          2.2,
          -2.3,
          -4.3,
          3.3,
          6,
          3.3,
          2.7,
          1.9,
          0.9
         ],
         "xaxis": "x2",
         "y": [
          -11,
          -39,
          -29,
          -21,
          -3,
          -8,
          -3,
          -16,
          -21
         ],
         "yaxis": "y2"
        },
        {
         "hoverlabel": {
          "namelength": 0
         },
         "hovertemplate": "<b>OLS trendline</b><br>dD = 3.22249 * d18O + -21.6831<br>R<sup>2</sup>=0.685951<br><br>Type_2=soil<br>Treatment=uncut<br>Year=2018<br>d18O=%{x}<br>dD=%{y} <b>(trend)</b>",
         "legendgroup": "soil",
         "marker": {
          "color": "gray",
          "symbol": "circle"
         },
         "mode": "lines",
         "name": "soil",
         "showlegend": false,
         "type": "scatter",
         "x": [
          -4.3,
          -2.3,
          0.9,
          1.9,
          2.2,
          2.7,
          3.3,
          3.3,
          6
         ],
         "xaxis": "x2",
         "y": [
          -35.53985330073348,
          -29.09486552567236,
          -18.782885085574563,
          -15.560391198044002,
          -14.593643031784833,
          -12.982396088019552,
          -11.048899755501216,
          -11.048899755501216,
          -2.3481662591686963
         ],
         "yaxis": "y2"
        },
        {
         "line": {
          "color": "black"
         },
         "mode": "lines",
         "showlegend": false,
         "type": "scatter",
         "x": [
          -5.7,
          -4.7,
          -3.7,
          -2.7,
          -1.7000000000000002,
          -0.7000000000000002,
          0.2999999999999998,
          1.2999999999999998,
          2.3,
          3.3,
          4.3,
          5.3
         ],
         "xaxis": "x",
         "y": [
          -35.6,
          -27.6,
          -19.6,
          -11.600000000000001,
          -3.6000000000000014,
          4.399999999999999,
          12.399999999999999,
          20.4,
          28.4,
          36.4,
          44.4,
          52.4
         ],
         "yaxis": "y"
        },
        {
         "line": {
          "color": "black"
         },
         "mode": "lines",
         "showlegend": false,
         "type": "scatter",
         "x": [
          -5.7,
          -4.7,
          -3.7,
          -2.7,
          -1.7000000000000002,
          -0.7000000000000002,
          0.2999999999999998,
          1.2999999999999998,
          2.3,
          3.3,
          4.3,
          5.3
         ],
         "xaxis": "x3",
         "y": [
          -35.6,
          -27.6,
          -19.6,
          -11.600000000000001,
          -3.6000000000000014,
          4.399999999999999,
          12.399999999999999,
          20.4,
          28.4,
          36.4,
          44.4,
          52.4
         ],
         "yaxis": "y3"
        },
        {
         "line": {
          "color": "black"
         },
         "mode": "lines",
         "showlegend": false,
         "type": "scatter",
         "x": [
          -5.7,
          -4.7,
          -3.7,
          -2.7,
          -1.7000000000000002,
          -0.7000000000000002,
          0.2999999999999998,
          1.2999999999999998,
          2.3,
          3.3,
          4.3,
          5.3
         ],
         "xaxis": "x2",
         "y": [
          -35.6,
          -27.6,
          -19.6,
          -11.600000000000001,
          -3.6000000000000014,
          4.399999999999999,
          12.399999999999999,
          20.4,
          28.4,
          36.4,
          44.4,
          52.4
         ],
         "yaxis": "y2"
        },
        {
         "line": {
          "color": "black"
         },
         "mode": "lines",
         "showlegend": false,
         "type": "scatter",
         "x": [
          -5.7,
          -4.7,
          -3.7,
          -2.7,
          -1.7000000000000002,
          -0.7000000000000002,
          0.2999999999999998,
          1.2999999999999998,
          2.3,
          3.3,
          4.3,
          5.3
         ],
         "xaxis": "x4",
         "y": [
          -35.6,
          -27.6,
          -19.6,
          -11.600000000000001,
          -3.6000000000000014,
          4.399999999999999,
          12.399999999999999,
          20.4,
          28.4,
          36.4,
          44.4,
          52.4
         ],
         "yaxis": "y4"
        }
       ],
       "layout": {
        "annotations": [
         {
          "font": {},
          "showarrow": false,
          "text": "2017",
          "x": 0.24,
          "xanchor": "center",
          "xref": "paper",
          "y": 1,
          "yanchor": "bottom",
          "yref": "paper"
         },
         {
          "font": {},
          "showarrow": false,
          "text": "2018",
          "x": 0.74,
          "xanchor": "center",
          "xref": "paper",
          "y": 1,
          "yanchor": "bottom",
          "yref": "paper"
         },
         {
          "font": {},
          "showarrow": false,
          "text": "uncut",
          "textangle": 90,
          "x": 0.98,
          "xanchor": "left",
          "xref": "paper",
          "y": 0.2425,
          "yanchor": "middle",
          "yref": "paper"
         },
         {
          "font": {},
          "showarrow": false,
          "text": "cut",
          "textangle": 90,
          "x": 0.98,
          "xanchor": "left",
          "xref": "paper",
          "y": 0.7575000000000001,
          "yanchor": "middle",
          "yref": "paper"
         }
        ],
        "autosize": true,
        "legend": {
         "title": {
          "text": "sample type"
         },
         "tracegroupgap": 0
        },
        "margin": {
         "t": 60
        },
        "template": {
         "data": {
          "bar": [
           {
            "error_x": {
             "color": "rgb(36,36,36)"
            },
            "error_y": {
             "color": "rgb(36,36,36)"
            },
            "marker": {
             "line": {
              "color": "white",
              "width": 0.5
             }
            },
            "type": "bar"
           }
          ],
          "barpolar": [
           {
            "marker": {
             "line": {
              "color": "white",
              "width": 0.5
             }
            },
            "type": "barpolar"
           }
          ],
          "carpet": [
           {
            "aaxis": {
             "endlinecolor": "rgb(36,36,36)",
             "gridcolor": "white",
             "linecolor": "white",
             "minorgridcolor": "white",
             "startlinecolor": "rgb(36,36,36)"
            },
            "baxis": {
             "endlinecolor": "rgb(36,36,36)",
             "gridcolor": "white",
             "linecolor": "white",
             "minorgridcolor": "white",
             "startlinecolor": "rgb(36,36,36)"
            },
            "type": "carpet"
           }
          ],
          "choropleth": [
           {
            "colorbar": {
             "outlinewidth": 1,
             "tickcolor": "rgb(36,36,36)",
             "ticks": "outside"
            },
            "type": "choropleth"
           }
          ],
          "contour": [
           {
            "colorbar": {
             "outlinewidth": 1,
             "tickcolor": "rgb(36,36,36)",
             "ticks": "outside"
            },
            "colorscale": [
             [
              0,
              "#440154"
             ],
             [
              0.1111111111111111,
              "#482878"
             ],
             [
              0.2222222222222222,
              "#3e4989"
             ],
             [
              0.3333333333333333,
              "#31688e"
             ],
             [
              0.4444444444444444,
              "#26828e"
             ],
             [
              0.5555555555555556,
              "#1f9e89"
             ],
             [
              0.6666666666666666,
              "#35b779"
             ],
             [
              0.7777777777777778,
              "#6ece58"
             ],
             [
              0.8888888888888888,
              "#b5de2b"
             ],
             [
              1,
              "#fde725"
             ]
            ],
            "type": "contour"
           }
          ],
          "contourcarpet": [
           {
            "colorbar": {
             "outlinewidth": 1,
             "tickcolor": "rgb(36,36,36)",
             "ticks": "outside"
            },
            "type": "contourcarpet"
           }
          ],
          "heatmap": [
           {
            "colorbar": {
             "outlinewidth": 1,
             "tickcolor": "rgb(36,36,36)",
             "ticks": "outside"
            },
            "colorscale": [
             [
              0,
              "#440154"
             ],
             [
              0.1111111111111111,
              "#482878"
             ],
             [
              0.2222222222222222,
              "#3e4989"
             ],
             [
              0.3333333333333333,
              "#31688e"
             ],
             [
              0.4444444444444444,
              "#26828e"
             ],
             [
              0.5555555555555556,
              "#1f9e89"
             ],
             [
              0.6666666666666666,
              "#35b779"
             ],
             [
              0.7777777777777778,
              "#6ece58"
             ],
             [
              0.8888888888888888,
              "#b5de2b"
             ],
             [
              1,
              "#fde725"
             ]
            ],
            "type": "heatmap"
           }
          ],
          "heatmapgl": [
           {
            "colorbar": {
             "outlinewidth": 1,
             "tickcolor": "rgb(36,36,36)",
             "ticks": "outside"
            },
            "colorscale": [
             [
              0,
              "#440154"
             ],
             [
              0.1111111111111111,
              "#482878"
             ],
             [
              0.2222222222222222,
              "#3e4989"
             ],
             [
              0.3333333333333333,
              "#31688e"
             ],
             [
              0.4444444444444444,
              "#26828e"
             ],
             [
              0.5555555555555556,
              "#1f9e89"
             ],
             [
              0.6666666666666666,
              "#35b779"
             ],
             [
              0.7777777777777778,
              "#6ece58"
             ],
             [
              0.8888888888888888,
              "#b5de2b"
             ],
             [
              1,
              "#fde725"
             ]
            ],
            "type": "heatmapgl"
           }
          ],
          "histogram": [
           {
            "marker": {
             "line": {
              "color": "white",
              "width": 0.6
             }
            },
            "type": "histogram"
           }
          ],
          "histogram2d": [
           {
            "colorbar": {
             "outlinewidth": 1,
             "tickcolor": "rgb(36,36,36)",
             "ticks": "outside"
            },
            "colorscale": [
             [
              0,
              "#440154"
             ],
             [
              0.1111111111111111,
              "#482878"
             ],
             [
              0.2222222222222222,
              "#3e4989"
             ],
             [
              0.3333333333333333,
              "#31688e"
             ],
             [
              0.4444444444444444,
              "#26828e"
             ],
             [
              0.5555555555555556,
              "#1f9e89"
             ],
             [
              0.6666666666666666,
              "#35b779"
             ],
             [
              0.7777777777777778,
              "#6ece58"
             ],
             [
              0.8888888888888888,
              "#b5de2b"
             ],
             [
              1,
              "#fde725"
             ]
            ],
            "type": "histogram2d"
           }
          ],
          "histogram2dcontour": [
           {
            "colorbar": {
             "outlinewidth": 1,
             "tickcolor": "rgb(36,36,36)",
             "ticks": "outside"
            },
            "colorscale": [
             [
              0,
              "#440154"
             ],
             [
              0.1111111111111111,
              "#482878"
             ],
             [
              0.2222222222222222,
              "#3e4989"
             ],
             [
              0.3333333333333333,
              "#31688e"
             ],
             [
              0.4444444444444444,
              "#26828e"
             ],
             [
              0.5555555555555556,
              "#1f9e89"
             ],
             [
              0.6666666666666666,
              "#35b779"
             ],
             [
              0.7777777777777778,
              "#6ece58"
             ],
             [
              0.8888888888888888,
              "#b5de2b"
             ],
             [
              1,
              "#fde725"
             ]
            ],
            "type": "histogram2dcontour"
           }
          ],
          "mesh3d": [
           {
            "colorbar": {
             "outlinewidth": 1,
             "tickcolor": "rgb(36,36,36)",
             "ticks": "outside"
            },
            "type": "mesh3d"
           }
          ],
          "parcoords": [
           {
            "line": {
             "colorbar": {
              "outlinewidth": 1,
              "tickcolor": "rgb(36,36,36)",
              "ticks": "outside"
             }
            },
            "type": "parcoords"
           }
          ],
          "pie": [
           {
            "automargin": true,
            "type": "pie"
           }
          ],
          "scatter": [
           {
            "marker": {
             "colorbar": {
              "outlinewidth": 1,
              "tickcolor": "rgb(36,36,36)",
              "ticks": "outside"
             }
            },
            "type": "scatter"
           }
          ],
          "scatter3d": [
           {
            "line": {
             "colorbar": {
              "outlinewidth": 1,
              "tickcolor": "rgb(36,36,36)",
              "ticks": "outside"
             }
            },
            "marker": {
             "colorbar": {
              "outlinewidth": 1,
              "tickcolor": "rgb(36,36,36)",
              "ticks": "outside"
             }
            },
            "type": "scatter3d"
           }
          ],
          "scattercarpet": [
           {
            "marker": {
             "colorbar": {
              "outlinewidth": 1,
              "tickcolor": "rgb(36,36,36)",
              "ticks": "outside"
             }
            },
            "type": "scattercarpet"
           }
          ],
          "scattergeo": [
           {
            "marker": {
             "colorbar": {
              "outlinewidth": 1,
              "tickcolor": "rgb(36,36,36)",
              "ticks": "outside"
             }
            },
            "type": "scattergeo"
           }
          ],
          "scattergl": [
           {
            "marker": {
             "colorbar": {
              "outlinewidth": 1,
              "tickcolor": "rgb(36,36,36)",
              "ticks": "outside"
             }
            },
            "type": "scattergl"
           }
          ],
          "scattermapbox": [
           {
            "marker": {
             "colorbar": {
              "outlinewidth": 1,
              "tickcolor": "rgb(36,36,36)",
              "ticks": "outside"
             }
            },
            "type": "scattermapbox"
           }
          ],
          "scatterpolar": [
           {
            "marker": {
             "colorbar": {
              "outlinewidth": 1,
              "tickcolor": "rgb(36,36,36)",
              "ticks": "outside"
             }
            },
            "type": "scatterpolar"
           }
          ],
          "scatterpolargl": [
           {
            "marker": {
             "colorbar": {
              "outlinewidth": 1,
              "tickcolor": "rgb(36,36,36)",
              "ticks": "outside"
             }
            },
            "type": "scatterpolargl"
           }
          ],
          "scatterternary": [
           {
            "marker": {
             "colorbar": {
              "outlinewidth": 1,
              "tickcolor": "rgb(36,36,36)",
              "ticks": "outside"
             }
            },
            "type": "scatterternary"
           }
          ],
          "surface": [
           {
            "colorbar": {
             "outlinewidth": 1,
             "tickcolor": "rgb(36,36,36)",
             "ticks": "outside"
            },
            "colorscale": [
             [
              0,
              "#440154"
             ],
             [
              0.1111111111111111,
              "#482878"
             ],
             [
              0.2222222222222222,
              "#3e4989"
             ],
             [
              0.3333333333333333,
              "#31688e"
             ],
             [
              0.4444444444444444,
              "#26828e"
             ],
             [
              0.5555555555555556,
              "#1f9e89"
             ],
             [
              0.6666666666666666,
              "#35b779"
             ],
             [
              0.7777777777777778,
              "#6ece58"
             ],
             [
              0.8888888888888888,
              "#b5de2b"
             ],
             [
              1,
              "#fde725"
             ]
            ],
            "type": "surface"
           }
          ],
          "table": [
           {
            "cells": {
             "fill": {
              "color": "rgb(237,237,237)"
             },
             "line": {
              "color": "white"
             }
            },
            "header": {
             "fill": {
              "color": "rgb(217,217,217)"
             },
             "line": {
              "color": "white"
             }
            },
            "type": "table"
           }
          ]
         },
         "layout": {
          "annotationdefaults": {
           "arrowhead": 0,
           "arrowwidth": 1
          },
          "coloraxis": {
           "colorbar": {
            "outlinewidth": 1,
            "tickcolor": "rgb(36,36,36)",
            "ticks": "outside"
           }
          },
          "colorscale": {
           "diverging": [
            [
             0,
             "rgb(103,0,31)"
            ],
            [
             0.1,
             "rgb(178,24,43)"
            ],
            [
             0.2,
             "rgb(214,96,77)"
            ],
            [
             0.3,
             "rgb(244,165,130)"
            ],
            [
             0.4,
             "rgb(253,219,199)"
            ],
            [
             0.5,
             "rgb(247,247,247)"
            ],
            [
             0.6,
             "rgb(209,229,240)"
            ],
            [
             0.7,
             "rgb(146,197,222)"
            ],
            [
             0.8,
             "rgb(67,147,195)"
            ],
            [
             0.9,
             "rgb(33,102,172)"
            ],
            [
             1,
             "rgb(5,48,97)"
            ]
           ],
           "sequential": [
            [
             0,
             "#440154"
            ],
            [
             0.1111111111111111,
             "#482878"
            ],
            [
             0.2222222222222222,
             "#3e4989"
            ],
            [
             0.3333333333333333,
             "#31688e"
            ],
            [
             0.4444444444444444,
             "#26828e"
            ],
            [
             0.5555555555555556,
             "#1f9e89"
            ],
            [
             0.6666666666666666,
             "#35b779"
            ],
            [
             0.7777777777777778,
             "#6ece58"
            ],
            [
             0.8888888888888888,
             "#b5de2b"
            ],
            [
             1,
             "#fde725"
            ]
           ],
           "sequentialminus": [
            [
             0,
             "#440154"
            ],
            [
             0.1111111111111111,
             "#482878"
            ],
            [
             0.2222222222222222,
             "#3e4989"
            ],
            [
             0.3333333333333333,
             "#31688e"
            ],
            [
             0.4444444444444444,
             "#26828e"
            ],
            [
             0.5555555555555556,
             "#1f9e89"
            ],
            [
             0.6666666666666666,
             "#35b779"
            ],
            [
             0.7777777777777778,
             "#6ece58"
            ],
            [
             0.8888888888888888,
             "#b5de2b"
            ],
            [
             1,
             "#fde725"
            ]
           ]
          },
          "colorway": [
           "#1F77B4",
           "#FF7F0E",
           "#2CA02C",
           "#D62728",
           "#9467BD",
           "#8C564B",
           "#E377C2",
           "#7F7F7F",
           "#BCBD22",
           "#17BECF"
          ],
          "font": {
           "color": "rgb(36,36,36)"
          },
          "geo": {
           "bgcolor": "white",
           "lakecolor": "white",
           "landcolor": "white",
           "showlakes": true,
           "showland": true,
           "subunitcolor": "white"
          },
          "hoverlabel": {
           "align": "left"
          },
          "hovermode": "closest",
          "mapbox": {
           "style": "light"
          },
          "paper_bgcolor": "white",
          "plot_bgcolor": "white",
          "polar": {
           "angularaxis": {
            "gridcolor": "rgb(232,232,232)",
            "linecolor": "rgb(36,36,36)",
            "showgrid": false,
            "showline": true,
            "ticks": "outside"
           },
           "bgcolor": "white",
           "radialaxis": {
            "gridcolor": "rgb(232,232,232)",
            "linecolor": "rgb(36,36,36)",
            "showgrid": false,
            "showline": true,
            "ticks": "outside"
           }
          },
          "scene": {
           "xaxis": {
            "backgroundcolor": "white",
            "gridcolor": "rgb(232,232,232)",
            "gridwidth": 2,
            "linecolor": "rgb(36,36,36)",
            "showbackground": true,
            "showgrid": false,
            "showline": true,
            "ticks": "outside",
            "zeroline": false,
            "zerolinecolor": "rgb(36,36,36)"
           },
           "yaxis": {
            "backgroundcolor": "white",
            "gridcolor": "rgb(232,232,232)",
            "gridwidth": 2,
            "linecolor": "rgb(36,36,36)",
            "showbackground": true,
            "showgrid": false,
            "showline": true,
            "ticks": "outside",
            "zeroline": false,
            "zerolinecolor": "rgb(36,36,36)"
           },
           "zaxis": {
            "backgroundcolor": "white",
            "gridcolor": "rgb(232,232,232)",
            "gridwidth": 2,
            "linecolor": "rgb(36,36,36)",
            "showbackground": true,
            "showgrid": false,
            "showline": true,
            "ticks": "outside",
            "zeroline": false,
            "zerolinecolor": "rgb(36,36,36)"
           }
          },
          "shapedefaults": {
           "fillcolor": "black",
           "line": {
            "width": 0
           },
           "opacity": 0.3
          },
          "ternary": {
           "aaxis": {
            "gridcolor": "rgb(232,232,232)",
            "linecolor": "rgb(36,36,36)",
            "showgrid": false,
            "showline": true,
            "ticks": "outside"
           },
           "baxis": {
            "gridcolor": "rgb(232,232,232)",
            "linecolor": "rgb(36,36,36)",
            "showgrid": false,
            "showline": true,
            "ticks": "outside"
           },
           "bgcolor": "white",
           "caxis": {
            "gridcolor": "rgb(232,232,232)",
            "linecolor": "rgb(36,36,36)",
            "showgrid": false,
            "showline": true,
            "ticks": "outside"
           }
          },
          "title": {
           "x": 0.05
          },
          "xaxis": {
           "automargin": true,
           "gridcolor": "rgb(232,232,232)",
           "linecolor": "rgb(36,36,36)",
           "showgrid": false,
           "showline": true,
           "ticks": "outside",
           "title": {
            "standoff": 15
           },
           "zeroline": false,
           "zerolinecolor": "rgb(36,36,36)"
          },
          "yaxis": {
           "automargin": true,
           "gridcolor": "rgb(232,232,232)",
           "linecolor": "rgb(36,36,36)",
           "showgrid": false,
           "showline": true,
           "ticks": "outside",
           "title": {
            "standoff": 15
           },
           "zeroline": false,
           "zerolinecolor": "rgb(36,36,36)"
          }
         }
        },
        "xaxis": {
         "anchor": "y",
         "autorange": true,
         "domain": [
          0,
          0.48
         ],
         "range": [
          -6.433333333333334,
          6.78
         ],
         "title": {
          "text": "$\\delta {^1}{^8}{O} ‰$"
         },
         "type": "linear"
        },
        "xaxis2": {
         "anchor": "y2",
         "autorange": true,
         "domain": [
          0.5,
          0.98
         ],
         "matches": "x",
         "range": [
          -6.433333333333334,
          6.78
         ],
         "title": {
          "text": "$\\delta {^1}{^8}{O} ‰$"
         },
         "type": "linear"
        },
        "xaxis3": {
         "anchor": "y3",
         "autorange": true,
         "domain": [
          0,
          0.48
         ],
         "matches": "x",
         "range": [
          -6.433333333333334,
          6.78
         ],
         "showticklabels": false,
         "type": "linear"
        },
        "xaxis4": {
         "anchor": "y4",
         "autorange": true,
         "domain": [
          0.5,
          0.98
         ],
         "matches": "x",
         "range": [
          -6.433333333333334,
          6.78
         ],
         "showticklabels": false,
         "type": "linear"
        },
        "yaxis": {
         "anchor": "x",
         "autorange": true,
         "domain": [
          0,
          0.485
         ],
         "range": [
          -55.51282255919128,
          58.07962223995744
         ],
         "title": {
          "text": "$\\delta D ‰$"
         },
         "type": "linear"
        },
        "yaxis2": {
         "anchor": "x2",
         "autorange": true,
         "domain": [
          0,
          0.485
         ],
         "matches": "y",
         "range": [
          -55.51282255919128,
          58.07962223995744
         ],
         "showticklabels": false,
         "type": "linear"
        },
        "yaxis3": {
         "anchor": "x3",
         "autorange": true,
         "domain": [
          0.515,
          1
         ],
         "matches": "y",
         "range": [
          -55.51282255919128,
          58.07962223995744
         ],
         "title": {
          "text": "$\\delta D ‰$"
         },
         "type": "linear"
        },
        "yaxis4": {
         "anchor": "x4",
         "autorange": true,
         "domain": [
          0.515,
          1
         ],
         "matches": "y",
         "range": [
          -55.51282255919128,
          58.07962223995744
         ],
         "showticklabels": false,
         "type": "linear"
        }
       }
      },
      "image/png": "[encoded data removed]",
      "text/html": [
       "<div>\n",
       "        \n",
       "        \n",
       "            <div id=\"06c56cef-469f-401a-aa6d-32f5ffc7e11f\" class=\"plotly-graph-div\" style=\"height:525px; width:100%;\"></div>\n",
       "            <script type=\"text/javascript\">\n",
       "                require([\"plotly\"], function(Plotly) {\n",
       "                    window.PLOTLYENV=window.PLOTLYENV || {};\n",
       "                    \n",
       "                if (document.getElementById(\"06c56cef-469f-401a-aa6d-32f5ffc7e11f\")) {\n",
       "                    Plotly.newPlot(\n",
       "                        '06c56cef-469f-401a-aa6d-32f5ffc7e11f',\n",
       "                        [{\"hoverlabel\": {\"namelength\": 0}, \"hovertemplate\": \"Type_2=tree<br>Treatment=cut<br>Year=2017<br>d18O=%{x}<br>dD=%{y}\", \"legendgroup\": \"tree\", \"marker\": {\"color\": \"orange\", \"symbol\": \"circle\"}, \"mode\": \"markers\", \"name\": \"tree\", \"showlegend\": true, \"type\": \"scatter\", \"x\": [-3.7, -3.4, -3.1, -0.2, -1.3, -1.9, -2.6, -1.4, -3.1, -4.9, -2.3], \"xaxis\": \"x3\", \"y\": [-27, -28, -26, -16, -18, -20, -35, -17, -31, -37, -22], \"yaxis\": \"y3\"}, {\"hoverlabel\": {\"namelength\": 0}, \"hovertemplate\": \"<b>OLS trendline</b><br>dD = 4.71873 * d18O + -13.2134<br>R<sup>2</sup>=0.728451<br><br>Type_2=tree<br>Treatment=cut<br>Year=2017<br>d18O=%{x}<br>dD=%{y} <b>(trend)</b>\", \"legendgroup\": \"tree\", \"marker\": {\"color\": \"orange\", \"symbol\": \"circle\"}, \"mode\": \"lines\", \"name\": \"tree\", \"showlegend\": false, \"type\": \"scatter\", \"x\": [-4.9, -3.7, -3.4, -3.1, -3.1, -2.6, -2.3, -1.9, -1.4, -1.3, -0.2], \"xaxis\": \"x3\", \"y\": [-36.33518005540164, -30.672704027274648, -29.257085020242897, -27.84146601321115, -27.84146601321115, -25.48210100149157, -24.06648199445982, -22.178989985084158, -19.819624973364576, -19.34775197102066, -14.15714894523758], \"yaxis\": \"y3\"}, {\"hoverlabel\": {\"namelength\": 0}, \"hovertemplate\": \"Type_2=tree<br>Treatment=cut<br>Year=2018<br>d18O=%{x}<br>dD=%{y}\", \"legendgroup\": \"tree\", \"marker\": {\"color\": \"orange\", \"symbol\": \"circle\"}, \"mode\": \"markers\", \"name\": \"tree\", \"showlegend\": false, \"type\": \"scatter\", \"x\": [-5.0, -3.9, -0.8, -5.0, -1.2, 1.7, -0.5, 0.2, 0.2, -2.3, -0.8, -3.1], \"xaxis\": \"x4\", \"y\": [-39, -31, -25, -41, -26, -16, -24, -20, -21, -30, -25, -32], \"yaxis\": \"y4\"}, {\"hoverlabel\": {\"namelength\": 0}, \"hovertemplate\": \"<b>OLS trendline</b><br>dD = 3.39316 * d18O + -21.7034<br>R<sup>2</sup>=0.961580<br><br>Type_2=tree<br>Treatment=cut<br>Year=2018<br>d18O=%{x}<br>dD=%{y} <b>(trend)</b>\", \"legendgroup\": \"tree\", \"marker\": {\"color\": \"orange\", \"symbol\": \"circle\"}, \"mode\": \"lines\", \"name\": \"tree\", \"showlegend\": false, \"type\": \"scatter\", \"x\": [-5.0, -5.0, -3.9, -3.1, -2.3, -1.2, -0.8, -0.8, -0.5, 0.2, 0.2, 1.7], \"xaxis\": \"x4\", \"y\": [-38.669143463705424, -38.669143463705424, -34.93667020494817, -32.222144198579265, -29.50761819221035, -25.775144933453106, -24.41788193026865, -24.41788193026865, -23.39993467788031, -21.024724422307514, -21.024724422307514, -15.934988160365812], \"yaxis\": \"y4\"}, {\"hoverlabel\": {\"namelength\": 0}, \"hovertemplate\": \"Type_2=tree<br>Treatment=uncut<br>Year=2017<br>d18O=%{x}<br>dD=%{y}\", \"legendgroup\": \"tree\", \"marker\": {\"color\": \"orange\", \"symbol\": \"circle\"}, \"mode\": \"markers\", \"name\": \"tree\", \"showlegend\": false, \"type\": \"scatter\", \"x\": [-4.6, -3.2, -3.0, -2.6, -2.8, -2.6, -4.4, -5.7, -3.2, -3.4, -2.8, -2.7], \"xaxis\": \"x\", \"y\": [-35, -32, -28, -26, -26, -27, -34, -47, -28, -34, -27, -29], \"yaxis\": \"y\"}, {\"hoverlabel\": {\"namelength\": 0}, \"hovertemplate\": \"<b>OLS trendline</b><br>dD = 5.7555 * d18O + -11.4187<br>R<sup>2</sup>=0.877109<br><br>Type_2=tree<br>Treatment=uncut<br>Year=2017<br>d18O=%{x}<br>dD=%{y} <b>(trend)</b>\", \"legendgroup\": \"tree\", \"marker\": {\"color\": \"orange\", \"symbol\": \"circle\"}, \"mode\": \"lines\", \"name\": \"tree\", \"showlegend\": false, \"type\": \"scatter\", \"x\": [-5.7, -4.6, -4.4, -3.4, -3.2, -3.2, -3.0, -2.8, -2.8, -2.7, -2.6, -2.6], \"xaxis\": \"x\", \"y\": [-44.2250557857826, -37.89400701306981, -36.74290723621295, -30.987408351928593, -29.836308575071723, -29.836308575071723, -28.685208798214852, -27.53410902135798, -27.53410902135798, -26.958559132929548, -26.38300924450111, -26.38300924450111], \"yaxis\": \"y\"}, {\"hoverlabel\": {\"namelength\": 0}, \"hovertemplate\": \"Type_2=tree<br>Treatment=uncut<br>Year=2018<br>d18O=%{x}<br>dD=%{y}\", \"legendgroup\": \"tree\", \"marker\": {\"color\": \"orange\", \"symbol\": \"circle\"}, \"mode\": \"markers\", \"name\": \"tree\", \"showlegend\": false, \"type\": \"scatter\", \"x\": [-2.8, -1.8, -2.6, -1.6, -0.1, -2.2, -2.9, -3.7, -1.8, -3.9, 1.5, 0.9], \"xaxis\": \"x2\", \"y\": [-43, -34, -37, -30, -34, -43, -40, -39, -38, -40, -25, -26], \"yaxis\": \"y2\"}, {\"hoverlabel\": {\"namelength\": 0}, \"hovertemplate\": \"<b>OLS trendline</b><br>dD = 3.01619 * d18O + -30.4717<br>R<sup>2</sup>=0.715538<br><br>Type_2=tree<br>Treatment=uncut<br>Year=2018<br>d18O=%{x}<br>dD=%{y} <b>(trend)</b>\", \"legendgroup\": \"tree\", \"marker\": {\"color\": \"orange\", \"symbol\": \"circle\"}, \"mode\": \"lines\", \"name\": \"tree\", \"showlegend\": false, \"type\": \"scatter\", \"x\": [-3.9, -3.7, -2.9, -2.8, -2.6, -2.2, -1.8, -1.8, -1.6, -0.1, 0.9, 1.5], \"xaxis\": \"x2\", \"y\": [-42.234817813765176, -41.63157894736842, -39.21862348178138, -38.917004048582996, -38.31376518218624, -37.107287449392715, -35.90080971659919, -35.90080971659919, -35.29757085020243, -30.773279352226727, -27.757085020242926, -25.947368421052644], \"yaxis\": \"y2\"}, {\"hoverlabel\": {\"namelength\": 0}, \"hovertemplate\": \"Type_2=grass<br>Treatment=cut<br>Year=2017<br>d18O=%{x}<br>dD=%{y}\", \"legendgroup\": \"grass\", \"marker\": {\"color\": \"blue\", \"symbol\": \"circle\"}, \"mode\": \"markers\", \"name\": \"grass\", \"showlegend\": true, \"type\": \"scatter\", \"x\": [-2.8, -2.2, -3.3, 2.1, 1.1, 0.3, 1.1, -1.1, 0.7], \"xaxis\": \"x3\", \"y\": [-32, -22, -31, -17, -11, -14, -14, -23, -14], \"yaxis\": \"y3\"}, {\"hoverlabel\": {\"namelength\": 0}, \"hovertemplate\": \"<b>OLS trendline</b><br>dD = 3.53903 * d18O + -18.1656<br>R<sup>2</sup>=0.798596<br><br>Type_2=grass<br>Treatment=cut<br>Year=2017<br>d18O=%{x}<br>dD=%{y} <b>(trend)</b>\", \"legendgroup\": \"grass\", \"marker\": {\"color\": \"blue\", \"symbol\": \"circle\"}, \"mode\": \"lines\", \"name\": \"grass\", \"showlegend\": false, \"type\": \"scatter\", \"x\": [-3.3, -2.8, -2.2, -1.1, 0.3, 0.7, 1.1, 1.1, 2.1], \"xaxis\": \"x3\", \"y\": [-29.84433858556246, -28.07482594356906, -25.95141077317698, -22.058482960791494, -17.103847563209964, -15.688237449615244, -14.27262733602052, -14.27262733602052, -10.733602052033715], \"yaxis\": \"y3\"}, {\"hoverlabel\": {\"namelength\": 0}, \"hovertemplate\": \"Type_2=grass<br>Treatment=cut<br>Year=2018<br>d18O=%{x}<br>dD=%{y}\", \"legendgroup\": \"grass\", \"marker\": {\"color\": \"blue\", \"symbol\": \"circle\"}, \"mode\": \"markers\", \"name\": \"grass\", \"showlegend\": false, \"type\": \"scatter\", \"x\": [-1.5, -1.4, -1.4, 3.8, 1.5, -2.8, -0.6, 0.9, 2.6], \"xaxis\": \"x4\", \"y\": [-13, -14, -20, 0, -7, -36, -25, -26, -8], \"yaxis\": \"y4\"}, {\"hoverlabel\": {\"namelength\": 0}, \"hovertemplate\": \"<b>OLS trendline</b><br>dD = 3.80333 * d18O + -17.0204<br>R<sup>2</sup>=0.552308<br><br>Type_2=grass<br>Treatment=cut<br>Year=2018<br>d18O=%{x}<br>dD=%{y} <b>(trend)</b>\", \"legendgroup\": \"grass\", \"marker\": {\"color\": \"blue\", \"symbol\": \"circle\"}, \"mode\": \"lines\", \"name\": \"grass\", \"showlegend\": false, \"type\": \"scatter\", \"x\": [-2.8, -1.5, -1.4, -1.4, -0.6, 0.9, 1.5, 2.6, 3.8], \"xaxis\": \"x4\", \"y\": [-27.66971656179645, -22.725393984875595, -22.345061478958606, -22.345061478958606, -19.302401431622695, -13.597413842867862, -11.31541880736593, -7.131761242279051, -2.5677711712751865], \"yaxis\": \"y4\"}, {\"hoverlabel\": {\"namelength\": 0}, \"hovertemplate\": \"Type_2=grass<br>Treatment=uncut<br>Year=2017<br>d18O=%{x}<br>dD=%{y}\", \"legendgroup\": \"grass\", \"marker\": {\"color\": \"blue\", \"symbol\": \"circle\"}, \"mode\": \"markers\", \"name\": \"grass\", \"showlegend\": false, \"type\": \"scatter\", \"x\": [-0.8, 0.7, -2.6, -2.4, 0.7, 0.3, 2.7], \"xaxis\": \"x\", \"y\": [-19, -15, -31, -32, -17, -21, -9], \"yaxis\": \"y\"}, {\"hoverlabel\": {\"namelength\": 0}, \"hovertemplate\": \"<b>OLS trendline</b><br>dD = 4.27495 * d18O + -19.7164<br>R<sup>2</sup>=0.924833<br><br>Type_2=grass<br>Treatment=uncut<br>Year=2017<br>d18O=%{x}<br>dD=%{y} <b>(trend)</b>\", \"legendgroup\": \"grass\", \"marker\": {\"color\": \"blue\", \"symbol\": \"circle\"}, \"mode\": \"lines\", \"name\": \"grass\", \"showlegend\": false, \"type\": \"scatter\", \"x\": [-2.6, -2.4, -0.8, 0.3, 0.7, 0.7, 2.7], \"xaxis\": \"x\", \"y\": [-30.831315577078286, -29.97632499327414, -23.136400322841002, -18.433952111918217, -16.723970944309933, -16.723970944309933, -8.174065106268506], \"yaxis\": \"y\"}, {\"hoverlabel\": {\"namelength\": 0}, \"hovertemplate\": \"Type_2=grass<br>Treatment=uncut<br>Year=2018<br>d18O=%{x}<br>dD=%{y}\", \"legendgroup\": \"grass\", \"marker\": {\"color\": \"blue\", \"symbol\": \"circle\"}, \"mode\": \"markers\", \"name\": \"grass\", \"showlegend\": false, \"type\": \"scatter\", \"x\": [-1.1, -3.0, -0.7, 0.8, -0.8, 4.1, -0.3, 2.8, 3.2], \"xaxis\": \"x2\", \"y\": [-30, -24, -24, -6, -18, 5, -25, 1, 0], \"yaxis\": \"y2\"}, {\"hoverlabel\": {\"namelength\": 0}, \"hovertemplate\": \"<b>OLS trendline</b><br>dD = 5.19264 * d18O + -16.3292<br>R<sup>2</sup>=0.829472<br><br>Type_2=grass<br>Treatment=uncut<br>Year=2018<br>d18O=%{x}<br>dD=%{y} <b>(trend)</b>\", \"legendgroup\": \"grass\", \"marker\": {\"color\": \"blue\", \"symbol\": \"circle\"}, \"mode\": \"lines\", \"name\": \"grass\", \"showlegend\": false, \"type\": \"scatter\", \"x\": [-3.0, -1.1, -0.8, -0.7, -0.3, 0.8, 2.8, 3.2, 4.1], \"xaxis\": \"x2\", \"y\": [-31.907152197968003, -22.04114274217885, -20.4833517754753, -19.964088119907448, -17.887033497636047, -12.175133286389695, -1.7898601750326915, 0.28719444723871135, 4.960567347349361], \"yaxis\": \"y2\"}, {\"hoverlabel\": {\"namelength\": 0}, \"hovertemplate\": \"Type_2=soil<br>Treatment=cut<br>Year=2017<br>d18O=%{x}<br>dD=%{y}\", \"legendgroup\": \"soil\", \"marker\": {\"color\": \"gray\", \"symbol\": \"circle\"}, \"mode\": \"markers\", \"name\": \"soil\", \"showlegend\": true, \"type\": \"scatter\", \"x\": [4.0, 2.8, -1.2, -0.2, -1.3, -0.9, 4.1, 1.3, 0.9], \"xaxis\": \"x3\", \"y\": [-18, -12, -29, -21, -29, -22, -15, -12, -16], \"yaxis\": \"y3\"}, {\"hoverlabel\": {\"namelength\": 0}, \"hovertemplate\": \"<b>OLS trendline</b><br>dD = 2.23886 * d18O + -21.6966<br>R<sup>2</sup>=0.553496<br><br>Type_2=soil<br>Treatment=cut<br>Year=2017<br>d18O=%{x}<br>dD=%{y} <b>(trend)</b>\", \"legendgroup\": \"soil\", \"marker\": {\"color\": \"gray\", \"symbol\": \"circle\"}, \"mode\": \"lines\", \"name\": \"soil\", \"showlegend\": false, \"type\": \"scatter\", \"x\": [-1.3, -1.2, -0.9, -0.2, 0.9, 1.3, 2.8, 4.0, 4.1], \"xaxis\": \"x3\", \"y\": [-24.607091518926676, -24.383205558217526, -23.71154767609007, -22.14434595112601, -19.68160038332534, -18.786056540488733, -15.427767129851457, -12.741135601341636, -12.517249640632485], \"yaxis\": \"y3\"}, {\"hoverlabel\": {\"namelength\": 0}, \"hovertemplate\": \"Type_2=soil<br>Treatment=cut<br>Year=2018<br>d18O=%{x}<br>dD=%{y}\", \"legendgroup\": \"soil\", \"marker\": {\"color\": \"gray\", \"symbol\": \"circle\"}, \"mode\": \"markers\", \"name\": \"soil\", \"showlegend\": false, \"type\": \"scatter\", \"x\": [3.4, 1.0, 0.3, 2.0, 1.8, 1.0, 4.3, 4.3, 3.2], \"xaxis\": \"x4\", \"y\": [-17, -10, -20, -10, -14, -16, -4, -11, -7], \"yaxis\": \"y4\"}, {\"hoverlabel\": {\"namelength\": 0}, \"hovertemplate\": \"<b>OLS trendline</b><br>dD = 2.03766 * d18O + -16.9336<br>R<sup>2</sup>=0.355223<br><br>Type_2=soil<br>Treatment=cut<br>Year=2018<br>d18O=%{x}<br>dD=%{y} <b>(trend)</b>\", \"legendgroup\": \"soil\", \"marker\": {\"color\": \"gray\", \"symbol\": \"circle\"}, \"mode\": \"lines\", \"name\": \"soil\", \"showlegend\": false, \"type\": \"scatter\", \"x\": [0.3, 1.0, 1.0, 1.8, 2.0, 3.2, 3.4, 4.3, 4.3], \"xaxis\": \"x4\", \"y\": [-16.322284996861264, -14.895919648462016, -14.895919648462016, -13.265787821720021, -12.858254865034521, -10.41305712492153, -10.005524168236029, -8.171625863151284, -8.171625863151284], \"yaxis\": \"y4\"}, {\"hoverlabel\": {\"namelength\": 0}, \"hovertemplate\": \"Type_2=soil<br>Treatment=uncut<br>Year=2017<br>d18O=%{x}<br>dD=%{y}\", \"legendgroup\": \"soil\", \"marker\": {\"color\": \"gray\", \"symbol\": \"circle\"}, \"mode\": \"markers\", \"name\": \"soil\", \"showlegend\": false, \"type\": \"scatter\", \"x\": [3.0, 3.6, -1.2, -0.4, -1.5, -2.0, 4.4, -0.5, -1.4, 4.4, 2.3, -1.6, 1.0], \"xaxis\": \"x\", \"y\": [-15, -21, -24, -21, -27, -31, -12, -22, -20, -10, -13, -23, -13], \"yaxis\": \"y\"}, {\"hoverlabel\": {\"namelength\": 0}, \"hovertemplate\": \"<b>OLS trendline</b><br>dD = 2.10452 * d18O + -21.0197<br>R<sup>2</sup>=0.657762<br><br>Type_2=soil<br>Treatment=uncut<br>Year=2017<br>d18O=%{x}<br>dD=%{y} <b>(trend)</b>\", \"legendgroup\": \"soil\", \"marker\": {\"color\": \"gray\", \"symbol\": \"circle\"}, \"mode\": \"lines\", \"name\": \"soil\", \"showlegend\": false, \"type\": \"scatter\", \"x\": [-2.0, -1.6, -1.5, -1.4, -1.2, -0.5, -0.4, 1.0, 2.3, 3.0, 3.6, 4.4, 4.4], \"xaxis\": \"x\", \"y\": [-25.228700705508977, -24.386893401668353, -24.176441575708193, -23.965989749748037, -23.54508609782772, -22.071923316106624, -21.861471490146467, -18.91514592670427, -16.179272189222228, -14.70610940750113, -13.443398451740187, -11.759783844058932, -11.759783844058932], \"yaxis\": \"y\"}, {\"hoverlabel\": {\"namelength\": 0}, \"hovertemplate\": \"Type_2=soil<br>Treatment=uncut<br>Year=2018<br>d18O=%{x}<br>dD=%{y}\", \"legendgroup\": \"soil\", \"marker\": {\"color\": \"gray\", \"symbol\": \"circle\"}, \"mode\": \"markers\", \"name\": \"soil\", \"showlegend\": false, \"type\": \"scatter\", \"x\": [2.2, -2.3, -4.3, 3.3, 6.0, 3.3, 2.7, 1.9, 0.9], \"xaxis\": \"x2\", \"y\": [-11, -39, -29, -21, -3, -8, -3, -16, -21], \"yaxis\": \"y2\"}, {\"hoverlabel\": {\"namelength\": 0}, \"hovertemplate\": \"<b>OLS trendline</b><br>dD = 3.22249 * d18O + -21.6831<br>R<sup>2</sup>=0.685951<br><br>Type_2=soil<br>Treatment=uncut<br>Year=2018<br>d18O=%{x}<br>dD=%{y} <b>(trend)</b>\", \"legendgroup\": \"soil\", \"marker\": {\"color\": \"gray\", \"symbol\": \"circle\"}, \"mode\": \"lines\", \"name\": \"soil\", \"showlegend\": false, \"type\": \"scatter\", \"x\": [-4.3, -2.3, 0.9, 1.9, 2.2, 2.7, 3.3, 3.3, 6.0], \"xaxis\": \"x2\", \"y\": [-35.53985330073348, -29.09486552567236, -18.782885085574563, -15.560391198044002, -14.593643031784833, -12.982396088019552, -11.048899755501216, -11.048899755501216, -2.3481662591686963], \"yaxis\": \"y2\"}, {\"line\": {\"color\": \"black\"}, \"mode\": \"lines\", \"showlegend\": false, \"type\": \"scatter\", \"x\": [-5.7, -4.7, -3.7, -2.7, -1.7000000000000002, -0.7000000000000002, 0.2999999999999998, 1.2999999999999998, 2.3, 3.3, 4.3, 5.3], \"xaxis\": \"x\", \"y\": [-35.6, -27.6, -19.6, -11.600000000000001, -3.6000000000000014, 4.399999999999999, 12.399999999999999, 20.4, 28.4, 36.4, 44.4, 52.4], \"yaxis\": \"y\"}, {\"line\": {\"color\": \"black\"}, \"mode\": \"lines\", \"showlegend\": false, \"type\": \"scatter\", \"x\": [-5.7, -4.7, -3.7, -2.7, -1.7000000000000002, -0.7000000000000002, 0.2999999999999998, 1.2999999999999998, 2.3, 3.3, 4.3, 5.3], \"xaxis\": \"x3\", \"y\": [-35.6, -27.6, -19.6, -11.600000000000001, -3.6000000000000014, 4.399999999999999, 12.399999999999999, 20.4, 28.4, 36.4, 44.4, 52.4], \"yaxis\": \"y3\"}, {\"line\": {\"color\": \"black\"}, \"mode\": \"lines\", \"showlegend\": false, \"type\": \"scatter\", \"x\": [-5.7, -4.7, -3.7, -2.7, -1.7000000000000002, -0.7000000000000002, 0.2999999999999998, 1.2999999999999998, 2.3, 3.3, 4.3, 5.3], \"xaxis\": \"x2\", \"y\": [-35.6, -27.6, -19.6, -11.600000000000001, -3.6000000000000014, 4.399999999999999, 12.399999999999999, 20.4, 28.4, 36.4, 44.4, 52.4], \"yaxis\": \"y2\"}, {\"line\": {\"color\": \"black\"}, \"mode\": \"lines\", \"showlegend\": false, \"type\": \"scatter\", \"x\": [-5.7, -4.7, -3.7, -2.7, -1.7000000000000002, -0.7000000000000002, 0.2999999999999998, 1.2999999999999998, 2.3, 3.3, 4.3, 5.3], \"xaxis\": \"x4\", \"y\": [-35.6, -27.6, -19.6, -11.600000000000001, -3.6000000000000014, 4.399999999999999, 12.399999999999999, 20.4, 28.4, 36.4, 44.4, 52.4], \"yaxis\": \"y4\"}],\n",
       "                        {\"annotations\": [{\"font\": {}, \"showarrow\": false, \"text\": \"2017\", \"x\": 0.24, \"xanchor\": \"center\", \"xref\": \"paper\", \"y\": 1.0, \"yanchor\": \"bottom\", \"yref\": \"paper\"}, {\"font\": {}, \"showarrow\": false, \"text\": \"2018\", \"x\": 0.74, \"xanchor\": \"center\", \"xref\": \"paper\", \"y\": 1.0, \"yanchor\": \"bottom\", \"yref\": \"paper\"}, {\"font\": {}, \"showarrow\": false, \"text\": \"uncut\", \"textangle\": 90, \"x\": 0.98, \"xanchor\": \"left\", \"xref\": \"paper\", \"y\": 0.2425, \"yanchor\": \"middle\", \"yref\": \"paper\"}, {\"font\": {}, \"showarrow\": false, \"text\": \"cut\", \"textangle\": 90, \"x\": 0.98, \"xanchor\": \"left\", \"xref\": \"paper\", \"y\": 0.7575000000000001, \"yanchor\": \"middle\", \"yref\": \"paper\"}], \"legend\": {\"title\": {\"text\": \"sample type\"}, \"tracegroupgap\": 0}, \"margin\": {\"t\": 60}, \"template\": {\"data\": {\"bar\": [{\"error_x\": {\"color\": \"rgb(36,36,36)\"}, \"error_y\": {\"color\": \"rgb(36,36,36)\"}, \"marker\": {\"line\": {\"color\": \"white\", \"width\": 0.5}}, \"type\": \"bar\"}], \"barpolar\": [{\"marker\": {\"line\": {\"color\": \"white\", \"width\": 0.5}}, \"type\": \"barpolar\"}], \"carpet\": [{\"aaxis\": {\"endlinecolor\": \"rgb(36,36,36)\", \"gridcolor\": \"white\", \"linecolor\": \"white\", \"minorgridcolor\": \"white\", \"startlinecolor\": \"rgb(36,36,36)\"}, \"baxis\": {\"endlinecolor\": \"rgb(36,36,36)\", \"gridcolor\": \"white\", \"linecolor\": \"white\", \"minorgridcolor\": \"white\", \"startlinecolor\": \"rgb(36,36,36)\"}, \"type\": \"carpet\"}], \"choropleth\": [{\"colorbar\": {\"outlinewidth\": 1, \"tickcolor\": \"rgb(36,36,36)\", \"ticks\": \"outside\"}, \"type\": \"choropleth\"}], \"contour\": [{\"colorbar\": {\"outlinewidth\": 1, \"tickcolor\": \"rgb(36,36,36)\", \"ticks\": \"outside\"}, \"colorscale\": [[0.0, \"#440154\"], [0.1111111111111111, \"#482878\"], [0.2222222222222222, \"#3e4989\"], [0.3333333333333333, \"#31688e\"], [0.4444444444444444, \"#26828e\"], [0.5555555555555556, \"#1f9e89\"], [0.6666666666666666, \"#35b779\"], [0.7777777777777778, \"#6ece58\"], [0.8888888888888888, \"#b5de2b\"], [1.0, \"#fde725\"]], \"type\": \"contour\"}], \"contourcarpet\": [{\"colorbar\": {\"outlinewidth\": 1, \"tickcolor\": \"rgb(36,36,36)\", \"ticks\": \"outside\"}, \"type\": \"contourcarpet\"}], \"heatmap\": [{\"colorbar\": {\"outlinewidth\": 1, \"tickcolor\": \"rgb(36,36,36)\", \"ticks\": \"outside\"}, \"colorscale\": [[0.0, \"#440154\"], [0.1111111111111111, \"#482878\"], [0.2222222222222222, \"#3e4989\"], [0.3333333333333333, \"#31688e\"], [0.4444444444444444, \"#26828e\"], [0.5555555555555556, \"#1f9e89\"], [0.6666666666666666, \"#35b779\"], [0.7777777777777778, \"#6ece58\"], [0.8888888888888888, \"#b5de2b\"], [1.0, \"#fde725\"]], \"type\": \"heatmap\"}], \"heatmapgl\": [{\"colorbar\": {\"outlinewidth\": 1, \"tickcolor\": \"rgb(36,36,36)\", \"ticks\": \"outside\"}, \"colorscale\": [[0.0, \"#440154\"], [0.1111111111111111, \"#482878\"], [0.2222222222222222, \"#3e4989\"], [0.3333333333333333, \"#31688e\"], [0.4444444444444444, \"#26828e\"], [0.5555555555555556, \"#1f9e89\"], [0.6666666666666666, \"#35b779\"], [0.7777777777777778, \"#6ece58\"], [0.8888888888888888, \"#b5de2b\"], [1.0, \"#fde725\"]], \"type\": \"heatmapgl\"}], \"histogram\": [{\"marker\": {\"line\": {\"color\": \"white\", \"width\": 0.6}}, \"type\": \"histogram\"}], \"histogram2d\": [{\"colorbar\": {\"outlinewidth\": 1, \"tickcolor\": \"rgb(36,36,36)\", \"ticks\": \"outside\"}, \"colorscale\": [[0.0, \"#440154\"], [0.1111111111111111, \"#482878\"], [0.2222222222222222, \"#3e4989\"], [0.3333333333333333, \"#31688e\"], [0.4444444444444444, \"#26828e\"], [0.5555555555555556, \"#1f9e89\"], [0.6666666666666666, \"#35b779\"], [0.7777777777777778, \"#6ece58\"], [0.8888888888888888, \"#b5de2b\"], [1.0, \"#fde725\"]], \"type\": \"histogram2d\"}], \"histogram2dcontour\": [{\"colorbar\": {\"outlinewidth\": 1, \"tickcolor\": \"rgb(36,36,36)\", \"ticks\": \"outside\"}, \"colorscale\": [[0.0, \"#440154\"], [0.1111111111111111, \"#482878\"], [0.2222222222222222, \"#3e4989\"], [0.3333333333333333, \"#31688e\"], [0.4444444444444444, \"#26828e\"], [0.5555555555555556, \"#1f9e89\"], [0.6666666666666666, \"#35b779\"], [0.7777777777777778, \"#6ece58\"], [0.8888888888888888, \"#b5de2b\"], [1.0, \"#fde725\"]], \"type\": \"histogram2dcontour\"}], \"mesh3d\": [{\"colorbar\": {\"outlinewidth\": 1, \"tickcolor\": \"rgb(36,36,36)\", \"ticks\": \"outside\"}, \"type\": \"mesh3d\"}], \"parcoords\": [{\"line\": {\"colorbar\": {\"outlinewidth\": 1, \"tickcolor\": \"rgb(36,36,36)\", \"ticks\": \"outside\"}}, \"type\": \"parcoords\"}], \"pie\": [{\"automargin\": true, \"type\": \"pie\"}], \"scatter\": [{\"marker\": {\"colorbar\": {\"outlinewidth\": 1, \"tickcolor\": \"rgb(36,36,36)\", \"ticks\": \"outside\"}}, \"type\": \"scatter\"}], \"scatter3d\": [{\"line\": {\"colorbar\": {\"outlinewidth\": 1, \"tickcolor\": \"rgb(36,36,36)\", \"ticks\": \"outside\"}}, \"marker\": {\"colorbar\": {\"outlinewidth\": 1, \"tickcolor\": \"rgb(36,36,36)\", \"ticks\": \"outside\"}}, \"type\": \"scatter3d\"}], \"scattercarpet\": [{\"marker\": {\"colorbar\": {\"outlinewidth\": 1, \"tickcolor\": \"rgb(36,36,36)\", \"ticks\": \"outside\"}}, \"type\": \"scattercarpet\"}], \"scattergeo\": [{\"marker\": {\"colorbar\": {\"outlinewidth\": 1, \"tickcolor\": \"rgb(36,36,36)\", \"ticks\": \"outside\"}}, \"type\": \"scattergeo\"}], \"scattergl\": [{\"marker\": {\"colorbar\": {\"outlinewidth\": 1, \"tickcolor\": \"rgb(36,36,36)\", \"ticks\": \"outside\"}}, \"type\": \"scattergl\"}], \"scattermapbox\": [{\"marker\": {\"colorbar\": {\"outlinewidth\": 1, \"tickcolor\": \"rgb(36,36,36)\", \"ticks\": \"outside\"}}, \"type\": \"scattermapbox\"}], \"scatterpolar\": [{\"marker\": {\"colorbar\": {\"outlinewidth\": 1, \"tickcolor\": \"rgb(36,36,36)\", \"ticks\": \"outside\"}}, \"type\": \"scatterpolar\"}], \"scatterpolargl\": [{\"marker\": {\"colorbar\": {\"outlinewidth\": 1, \"tickcolor\": \"rgb(36,36,36)\", \"ticks\": \"outside\"}}, \"type\": \"scatterpolargl\"}], \"scatterternary\": [{\"marker\": {\"colorbar\": {\"outlinewidth\": 1, \"tickcolor\": \"rgb(36,36,36)\", \"ticks\": \"outside\"}}, \"type\": \"scatterternary\"}], \"surface\": [{\"colorbar\": {\"outlinewidth\": 1, \"tickcolor\": \"rgb(36,36,36)\", \"ticks\": \"outside\"}, \"colorscale\": [[0.0, \"#440154\"], [0.1111111111111111, \"#482878\"], [0.2222222222222222, \"#3e4989\"], [0.3333333333333333, \"#31688e\"], [0.4444444444444444, \"#26828e\"], [0.5555555555555556, \"#1f9e89\"], [0.6666666666666666, \"#35b779\"], [0.7777777777777778, \"#6ece58\"], [0.8888888888888888, \"#b5de2b\"], [1.0, \"#fde725\"]], \"type\": \"surface\"}], \"table\": [{\"cells\": {\"fill\": {\"color\": \"rgb(237,237,237)\"}, \"line\": {\"color\": \"white\"}}, \"header\": {\"fill\": {\"color\": \"rgb(217,217,217)\"}, \"line\": {\"color\": \"white\"}}, \"type\": \"table\"}]}, \"layout\": {\"annotationdefaults\": {\"arrowhead\": 0, \"arrowwidth\": 1}, \"coloraxis\": {\"colorbar\": {\"outlinewidth\": 1, \"tickcolor\": \"rgb(36,36,36)\", \"ticks\": \"outside\"}}, \"colorscale\": {\"diverging\": [[0.0, \"rgb(103,0,31)\"], [0.1, \"rgb(178,24,43)\"], [0.2, \"rgb(214,96,77)\"], [0.3, \"rgb(244,165,130)\"], [0.4, \"rgb(253,219,199)\"], [0.5, \"rgb(247,247,247)\"], [0.6, \"rgb(209,229,240)\"], [0.7, \"rgb(146,197,222)\"], [0.8, \"rgb(67,147,195)\"], [0.9, \"rgb(33,102,172)\"], [1.0, \"rgb(5,48,97)\"]], \"sequential\": [[0.0, \"#440154\"], [0.1111111111111111, \"#482878\"], [0.2222222222222222, \"#3e4989\"], [0.3333333333333333, \"#31688e\"], [0.4444444444444444, \"#26828e\"], [0.5555555555555556, \"#1f9e89\"], [0.6666666666666666, \"#35b779\"], [0.7777777777777778, \"#6ece58\"], [0.8888888888888888, \"#b5de2b\"], [1.0, \"#fde725\"]], \"sequentialminus\": [[0.0, \"#440154\"], [0.1111111111111111, \"#482878\"], [0.2222222222222222, \"#3e4989\"], [0.3333333333333333, \"#31688e\"], [0.4444444444444444, \"#26828e\"], [0.5555555555555556, \"#1f9e89\"], [0.6666666666666666, \"#35b779\"], [0.7777777777777778, \"#6ece58\"], [0.8888888888888888, \"#b5de2b\"], [1.0, \"#fde725\"]]}, \"colorway\": [\"#1F77B4\", \"#FF7F0E\", \"#2CA02C\", \"#D62728\", \"#9467BD\", \"#8C564B\", \"#E377C2\", \"#7F7F7F\", \"#BCBD22\", \"#17BECF\"], \"font\": {\"color\": \"rgb(36,36,36)\"}, \"geo\": {\"bgcolor\": \"white\", \"lakecolor\": \"white\", \"landcolor\": \"white\", \"showlakes\": true, \"showland\": true, \"subunitcolor\": \"white\"}, \"hoverlabel\": {\"align\": \"left\"}, \"hovermode\": \"closest\", \"mapbox\": {\"style\": \"light\"}, \"paper_bgcolor\": \"white\", \"plot_bgcolor\": \"white\", \"polar\": {\"angularaxis\": {\"gridcolor\": \"rgb(232,232,232)\", \"linecolor\": \"rgb(36,36,36)\", \"showgrid\": false, \"showline\": true, \"ticks\": \"outside\"}, \"bgcolor\": \"white\", \"radialaxis\": {\"gridcolor\": \"rgb(232,232,232)\", \"linecolor\": \"rgb(36,36,36)\", \"showgrid\": false, \"showline\": true, \"ticks\": \"outside\"}}, \"scene\": {\"xaxis\": {\"backgroundcolor\": \"white\", \"gridcolor\": \"rgb(232,232,232)\", \"gridwidth\": 2, \"linecolor\": \"rgb(36,36,36)\", \"showbackground\": true, \"showgrid\": false, \"showline\": true, \"ticks\": \"outside\", \"zeroline\": false, \"zerolinecolor\": \"rgb(36,36,36)\"}, \"yaxis\": {\"backgroundcolor\": \"white\", \"gridcolor\": \"rgb(232,232,232)\", \"gridwidth\": 2, \"linecolor\": \"rgb(36,36,36)\", \"showbackground\": true, \"showgrid\": false, \"showline\": true, \"ticks\": \"outside\", \"zeroline\": false, \"zerolinecolor\": \"rgb(36,36,36)\"}, \"zaxis\": {\"backgroundcolor\": \"white\", \"gridcolor\": \"rgb(232,232,232)\", \"gridwidth\": 2, \"linecolor\": \"rgb(36,36,36)\", \"showbackground\": true, \"showgrid\": false, \"showline\": true, \"ticks\": \"outside\", \"zeroline\": false, \"zerolinecolor\": \"rgb(36,36,36)\"}}, \"shapedefaults\": {\"fillcolor\": \"black\", \"line\": {\"width\": 0}, \"opacity\": 0.3}, \"ternary\": {\"aaxis\": {\"gridcolor\": \"rgb(232,232,232)\", \"linecolor\": \"rgb(36,36,36)\", \"showgrid\": false, \"showline\": true, \"ticks\": \"outside\"}, \"baxis\": {\"gridcolor\": \"rgb(232,232,232)\", \"linecolor\": \"rgb(36,36,36)\", \"showgrid\": false, \"showline\": true, \"ticks\": \"outside\"}, \"bgcolor\": \"white\", \"caxis\": {\"gridcolor\": \"rgb(232,232,232)\", \"linecolor\": \"rgb(36,36,36)\", \"showgrid\": false, \"showline\": true, \"ticks\": \"outside\"}}, \"title\": {\"x\": 0.05}, \"xaxis\": {\"automargin\": true, \"gridcolor\": \"rgb(232,232,232)\", \"linecolor\": \"rgb(36,36,36)\", \"showgrid\": false, \"showline\": true, \"ticks\": \"outside\", \"title\": {\"standoff\": 15}, \"zeroline\": false, \"zerolinecolor\": \"rgb(36,36,36)\"}, \"yaxis\": {\"automargin\": true, \"gridcolor\": \"rgb(232,232,232)\", \"linecolor\": \"rgb(36,36,36)\", \"showgrid\": false, \"showline\": true, \"ticks\": \"outside\", \"title\": {\"standoff\": 15}, \"zeroline\": false, \"zerolinecolor\": \"rgb(36,36,36)\"}}}, \"xaxis\": {\"anchor\": \"y\", \"domain\": [0.0, 0.48], \"title\": {\"text\": \"$\\\\delta {^1}{^8}{O} \\u2030$\"}}, \"xaxis2\": {\"anchor\": \"y2\", \"domain\": [0.5, 0.98], \"matches\": \"x\", \"title\": {\"text\": \"$\\\\delta {^1}{^8}{O} \\u2030$\"}}, \"xaxis3\": {\"anchor\": \"y3\", \"domain\": [0.0, 0.48], \"matches\": \"x\", \"showticklabels\": false}, \"xaxis4\": {\"anchor\": \"y4\", \"domain\": [0.5, 0.98], \"matches\": \"x\", \"showticklabels\": false}, \"yaxis\": {\"anchor\": \"x\", \"domain\": [0.0, 0.485], \"title\": {\"text\": \"$\\\\delta D \\u2030$\"}}, \"yaxis2\": {\"anchor\": \"x2\", \"domain\": [0.0, 0.485], \"matches\": \"y\", \"showticklabels\": false}, \"yaxis3\": {\"anchor\": \"x3\", \"domain\": [0.515, 1.0], \"matches\": \"y\", \"title\": {\"text\": \"$\\\\delta D \\u2030$\"}}, \"yaxis4\": {\"anchor\": \"x4\", \"domain\": [0.515, 1.0], \"matches\": \"y\", \"showticklabels\": false}},\n",
       "                        {\"responsive\": true}\n",
       "                    ).then(function(){\n",
       "                            \n",
       "var gd = document.getElementById('06c56cef-469f-401a-aa6d-32f5ffc7e11f');\n",
       "var x = new MutationObserver(function (mutations, observer) {{\n",
       "        var display = window.getComputedStyle(gd).display;\n",
       "        if (!display || display === 'none') {{\n",
       "            console.log([gd, 'removed!']);\n",
       "            Plotly.purge(gd);\n",
       "            observer.disconnect();\n",
       "        }}\n",
       "}});\n",
       "\n",
       "// Listen for the removal of the full notebook cells\n",
       "var notebookContainer = gd.closest('#notebook-container');\n",
       "if (notebookContainer) {{\n",
       "    x.observe(notebookContainer, {childList: true});\n",
       "}}\n",
       "\n",
       "// Listen for the clearing of the current output cell\n",
       "var outputEl = gd.closest('.output');\n",
       "if (outputEl) {{\n",
       "    x.observe(outputEl, {childList: true});\n",
       "}}\n",
       "\n",
       "                        })\n",
       "                };\n",
       "                });\n",
       "            </script>\n",
       "        </div>"
      ]
     },
     "metadata": {},
     "output_type": "display_data"
    }
   ],
   "source": [
    "# Plot samples\n",
    "fig_mwl = px.scatter(df, x = 'd18O', y = 'dD', color = 'Type_2', \n",
    "                     facet_col = 'Year', facet_row = 'Treatment', \n",
    "                     template = 'simple_white',\n",
    "                     trendline = 'ols',\n",
    "                     color_discrete_sequence = [\"orange\", \"blue\", \"gray\"],\n",
    "                     category_orders = {\"Type_2\": ['tree', 'grass', 'soil']})\n",
    "fig_mwl.update_xaxes(title_text = '$\\delta {^1}{^8}{O} \\u2030$', row = 1)\n",
    "fig_mwl.update_yaxes(title_text = '$\\delta D \\u2030$', col = 1)\n",
    "fig_mwl.update_layout(legend_title_text='sample type')\n",
    "fig_mwl.for_each_annotation(lambda a: a.update(text=a.text.split(\"=\")[-1]))\n",
    "\n",
    "# Add MWL to graph\n",
    "for i in range(1,3):\n",
    "    fig_mwl.add_trace(go.Scatter(x = df_mwl['d18O'], y = df_mwl['dD'],\n",
    "                    mode = 'lines',\n",
    "                    line=dict(color='black'), showlegend=False), 1, i)\n",
    "    fig_mwl.add_trace(go.Scatter(x = df_mwl['d18O'], y = df_mwl['dD'],\n",
    "                    mode = 'lines',\n",
    "                    line=dict(color='black'), showlegend=False), 2, i)\n",
    "fig_mwl.show()"
   ]
  },
  {
   "cell_type": "markdown",
   "metadata": {},
   "source": [
    "# PCA\n",
    "The PCA analysis collapses the 2 water isotopes ($\\delta {^1}{^8}{O}$ and $\\delta{D}$) into 1 axis. This allows us to test for differences in source water use between grass and tree samples and cut and uncut treatments even though the soil samples do not cover the entire range where plants uptake water. "
   ]
  },
  {
   "cell_type": "code",
   "execution_count": 42,
   "metadata": {},
   "outputs": [
    {
     "name": "stdout",
     "output_type": "stream",
     "text": [
      "The variance explained by PC1 and PC2: [0.91533816 0.08466184]\n"
     ]
    }
   ],
   "source": [
    "# define features for PCA. These are the 2 variables we are interested in collapsing into 1 axis.\n",
    "features = ['d18O', 'dD']\n",
    "\n",
    "# creates numpy array with d18O and dD values\n",
    "x = df.loc[:, features].values\n",
    "\n",
    "# Scale / normalize the d18O and dD values for PCA \n",
    "x = StandardScaler().fit_transform(x)\n",
    "\n",
    "# specify number of PCA components\n",
    "pca = PCA(n_components=2)\n",
    "\n",
    "# this creates a numpy array with a PC1 value and a PC2 value for each row of the dataframe\n",
    "principal_components = pca.fit_transform(x)\n",
    "\n",
    "# Check that PC1 explains most of the variance\n",
    "print('The variance explained by PC1 and PC2:', pca.explained_variance_ratio_)"
   ]
  },
  {
   "cell_type": "markdown",
   "metadata": {},
   "source": [
    "Here, PC1 explained approximately 91.5% of the variance, which is important since PC1 is the response variable to test for differences in the depth of water uptake between trees and grasses and cut and uncut treatments. This works because $\\delta {^1}{^8}{O}$ and $\\delta{D}$ are highly correlated. \n",
    "<br>\n",
    "<br>\n",
    "Now we need to add a PC1 column to the clean dataframe."
   ]
  },
  {
   "cell_type": "code",
   "execution_count": 43,
   "metadata": {},
   "outputs": [],
   "source": [
    "# create pca dataframe with columns PC1 and PC2\n",
    "pca_df = pd.DataFrame(data=principal_components, columns = ['PC1', 'PC2'])\n",
    "\n",
    "# reset the index for each dataframe to properly concatenate the pca and cleaned dataframes in the correct order.\n",
    "df.reset_index(drop=True, inplace=True)\n",
    "pca_df.reset_index(drop=True, inplace=True)\n",
    "\n",
    "# concatenate the pca dataframe with the original cleaned dataframe\n",
    "df = pd.concat([df, pca_df], axis=1)"
   ]
  },
  {
   "cell_type": "markdown",
   "metadata": {},
   "source": [
    "In the ouput below, the mean PC1 values for each soil depth tend to get larger with depth. However, in the single isotope graphs above isotopic values tend to get smaller with depth. In order to reflect the trends of the original data we need to use the negeative PC1 values. Remember, for the grass and tree samples, the depth is an arbitrary number. "
   ]
  },
  {
   "cell_type": "code",
   "execution_count": 44,
   "metadata": {},
   "outputs": [
    {
     "name": "stdout",
     "output_type": "stream",
     "text": [
      "                       mean\n",
      "Year Type_2 Depth          \n",
      "2017 grass  -10   -0.170465\n",
      "     soil    10   -1.660700\n",
      "             30   -0.258130\n",
      "             50    0.136321\n",
      "     tree   -20    1.104072\n",
      "2018 grass  -10   -0.701725\n",
      "     soil    10   -1.696948\n",
      "             30   -1.156991\n",
      "             50   -0.687270\n",
      "     tree   -20    0.981389\n"
     ]
    }
   ],
   "source": [
    "# Look at the mean PC1 values gropued by year, sample type, and soil depth.\n",
    "print(df.groupby(['Year', 'Type_2', 'Depth'], as_index=False)['PC1'].agg([np.mean]))"
   ]
  },
  {
   "cell_type": "code",
   "execution_count": 45,
   "metadata": {},
   "outputs": [],
   "source": [
    "# Use the negative of the PC1 axis to reflect the original data that lighter isotopes have smaller values.\n",
    "df['PC1'] = -df['PC1']"
   ]
  },
  {
   "cell_type": "code",
   "execution_count": 46,
   "metadata": {},
   "outputs": [
    {
     "data": {
      "text/html": [
       "<div>\n",
       "<style scoped>\n",
       "    .dataframe tbody tr th:only-of-type {\n",
       "        vertical-align: middle;\n",
       "    }\n",
       "\n",
       "    .dataframe tbody tr th {\n",
       "        vertical-align: top;\n",
       "    }\n",
       "\n",
       "    .dataframe thead th {\n",
       "        text-align: right;\n",
       "    }\n",
       "</style>\n",
       "<table border=\"1\" class=\"dataframe\">\n",
       "  <thead>\n",
       "    <tr style=\"text-align: right;\">\n",
       "      <th></th>\n",
       "      <th>Date</th>\n",
       "      <th>Year</th>\n",
       "      <th>Sample ID</th>\n",
       "      <th>Plot</th>\n",
       "      <th>Treatment</th>\n",
       "      <th>Type</th>\n",
       "      <th>dD</th>\n",
       "      <th>d18O</th>\n",
       "      <th>Type_2</th>\n",
       "      <th>Depth</th>\n",
       "      <th>PC1</th>\n",
       "      <th>PC2</th>\n",
       "    </tr>\n",
       "  </thead>\n",
       "  <tbody>\n",
       "    <tr>\n",
       "      <td>0</td>\n",
       "      <td>2017-03-28</td>\n",
       "      <td>2017</td>\n",
       "      <td>1</td>\n",
       "      <td>1</td>\n",
       "      <td>cut</td>\n",
       "      <td>10_cm</td>\n",
       "      <td>-18</td>\n",
       "      <td>4.0</td>\n",
       "      <td>soil</td>\n",
       "      <td>10</td>\n",
       "      <td>1.507202</td>\n",
       "      <td>0.943190</td>\n",
       "    </tr>\n",
       "    <tr>\n",
       "      <td>1</td>\n",
       "      <td>2017-03-28</td>\n",
       "      <td>2017</td>\n",
       "      <td>2</td>\n",
       "      <td>1</td>\n",
       "      <td>cut</td>\n",
       "      <td>10_cm</td>\n",
       "      <td>-12</td>\n",
       "      <td>2.8</td>\n",
       "      <td>soil</td>\n",
       "      <td>10</td>\n",
       "      <td>1.579503</td>\n",
       "      <td>0.211028</td>\n",
       "    </tr>\n",
       "    <tr>\n",
       "      <td>2</td>\n",
       "      <td>2017-03-28</td>\n",
       "      <td>2017</td>\n",
       "      <td>3</td>\n",
       "      <td>1</td>\n",
       "      <td>cut</td>\n",
       "      <td>30_cm</td>\n",
       "      <td>-29</td>\n",
       "      <td>-1.2</td>\n",
       "      <td>soil</td>\n",
       "      <td>30</td>\n",
       "      <td>-0.659922</td>\n",
       "      <td>0.250918</td>\n",
       "    </tr>\n",
       "    <tr>\n",
       "      <td>3</td>\n",
       "      <td>2017-03-28</td>\n",
       "      <td>2017</td>\n",
       "      <td>4</td>\n",
       "      <td>1</td>\n",
       "      <td>cut</td>\n",
       "      <td>30_cm</td>\n",
       "      <td>-21</td>\n",
       "      <td>-0.2</td>\n",
       "      <td>soil</td>\n",
       "      <td>30</td>\n",
       "      <td>0.151329</td>\n",
       "      <td>-0.010450</td>\n",
       "    </tr>\n",
       "    <tr>\n",
       "      <td>4</td>\n",
       "      <td>2017-03-28</td>\n",
       "      <td>2017</td>\n",
       "      <td>5</td>\n",
       "      <td>1</td>\n",
       "      <td>cut</td>\n",
       "      <td>50_cm</td>\n",
       "      <td>-29</td>\n",
       "      <td>-1.3</td>\n",
       "      <td>soil</td>\n",
       "      <td>50</td>\n",
       "      <td>-0.687416</td>\n",
       "      <td>0.223423</td>\n",
       "    </tr>\n",
       "  </tbody>\n",
       "</table>\n",
       "</div>"
      ],
      "text/plain": [
       "        Date  Year  Sample ID  Plot Treatment   Type  dD  d18O Type_2  Depth  \\\n",
       "0 2017-03-28  2017          1     1       cut  10_cm -18   4.0   soil     10   \n",
       "1 2017-03-28  2017          2     1       cut  10_cm -12   2.8   soil     10   \n",
       "2 2017-03-28  2017          3     1       cut  30_cm -29  -1.2   soil     30   \n",
       "3 2017-03-28  2017          4     1       cut  30_cm -21  -0.2   soil     30   \n",
       "4 2017-03-28  2017          5     1       cut  50_cm -29  -1.3   soil     50   \n",
       "\n",
       "        PC1       PC2  \n",
       "0  1.507202  0.943190  \n",
       "1  1.579503  0.211028  \n",
       "2 -0.659922  0.250918  \n",
       "3  0.151329 -0.010450  \n",
       "4 -0.687416  0.223423  "
      ]
     },
     "execution_count": 46,
     "metadata": {},
     "output_type": "execute_result"
    }
   ],
   "source": [
    "# view the first 5 rows of the dataframe\n",
    "df.head()"
   ]
  },
  {
   "cell_type": "markdown",
   "metadata": {},
   "source": [
    "## PCA Bar Plot"
   ]
  },
  {
   "cell_type": "markdown",
   "metadata": {},
   "source": [
    "Plot mean PC1 for each treatment, plat type, and year to visualize differences in source water use. <br>\n",
    "\n",
    "In graph below, smaller PC1 values represent water isotpoic values from deeper sources. Grass samples tend to have larger values than trees. Cut trees tend to have larger values than uncut trees."
   ]
  },
  {
   "cell_type": "code",
   "execution_count": 48,
   "metadata": {},
   "outputs": [],
   "source": [
    "# extract only grass and tree samples for plotting\n",
    "df_plants = df.loc[(df['Type_2'] == 'grass') | (df['Type_2'] == 'tree')]"
   ]
  },
  {
   "cell_type": "code",
   "execution_count": 49,
   "metadata": {},
   "outputs": [
    {
     "data": {
      "application/vnd.plotly.v1+json": {
       "config": {
        "plotlyServerURL": "https://plot.ly"
       },
       "data": [
        {
         "alignmentgroup": "True",
         "error_y": {
          "array": [
           0.24500238537442584,
           0.1903714306218133
          ]
         },
         "hoverlabel": {
          "namelength": 0
         },
         "hovertemplate": "Type_2=tree<br>Year=2017<br>Treatment=%{x}<br>mean=%{y}",
         "legendgroup": "tree",
         "marker": {
          "color": "orange"
         },
         "name": "tree",
         "offsetgroup": "tree",
         "orientation": "v",
         "showlegend": true,
         "textposition": "auto",
         "type": "bar",
         "x": [
          "cut",
          "uncut"
         ],
         "xaxis": "x",
         "y": [
          -0.7713786740313691,
          -1.4090407882901508
         ],
         "yaxis": "y"
        },
        {
         "alignmentgroup": "True",
         "error_y": {
          "array": [
           0.313657731944975,
           0.24358862792181257
          ]
         },
         "hoverlabel": {
          "namelength": 0
         },
         "hovertemplate": "Type_2=tree<br>Year=2018<br>Treatment=%{x}<br>mean=%{y}",
         "legendgroup": "tree",
         "marker": {
          "color": "orange"
         },
         "name": "tree",
         "offsetgroup": "tree",
         "orientation": "v",
         "showlegend": false,
         "textposition": "auto",
         "type": "bar",
         "x": [
          "cut",
          "uncut"
         ],
         "xaxis": "x2",
         "y": [
          -0.6991262947165557,
          -1.2636514543209414
         ],
         "yaxis": "y2"
        },
        {
         "alignmentgroup": "True",
         "error_y": {
          "array": [
           0.3412649809602107,
           0.4035284000712878
          ]
         },
         "hoverlabel": {
          "namelength": 0
         },
         "hovertemplate": "Type_2=grass<br>Year=2017<br>Treatment=%{x}<br>mean=%{y}",
         "legendgroup": "grass",
         "marker": {
          "color": "blue"
         },
         "name": "grass",
         "offsetgroup": "grass",
         "orientation": "v",
         "showlegend": true,
         "textposition": "auto",
         "type": "bar",
         "x": [
          "cut",
          "uncut"
         ],
         "xaxis": "x",
         "y": [
          0.16300258149769128,
          0.18006020975207201
         ],
         "yaxis": "y"
        },
        {
         "alignmentgroup": "True",
         "error_y": {
          "array": [
           0.42226838555207985,
           0.5034854502543264
          ]
         },
         "hoverlabel": {
          "namelength": 0
         },
         "hovertemplate": "Type_2=grass<br>Year=2018<br>Treatment=%{x}<br>mean=%{y}",
         "legendgroup": "grass",
         "marker": {
          "color": "blue"
         },
         "name": "grass",
         "offsetgroup": "grass",
         "orientation": "v",
         "showlegend": false,
         "textposition": "auto",
         "type": "bar",
         "x": [
          "cut",
          "uncut"
         ],
         "xaxis": "x2",
         "y": [
          0.5378715076810487,
          0.8655778525721486
         ],
         "yaxis": "y2"
        }
       ],
       "layout": {
        "annotations": [
         {
          "font": {},
          "showarrow": false,
          "text": "2017",
          "x": 0.245,
          "xanchor": "center",
          "xref": "paper",
          "y": 1,
          "yanchor": "bottom",
          "yref": "paper"
         },
         {
          "font": {},
          "showarrow": false,
          "text": "2018",
          "x": 0.755,
          "xanchor": "center",
          "xref": "paper",
          "y": 1,
          "yanchor": "bottom",
          "yref": "paper"
         }
        ],
        "autosize": true,
        "barmode": "group",
        "legend": {
         "title": {
          "text": "sample type"
         },
         "tracegroupgap": 0
        },
        "margin": {
         "t": 60
        },
        "template": {
         "data": {
          "bar": [
           {
            "error_x": {
             "color": "rgb(36,36,36)"
            },
            "error_y": {
             "color": "rgb(36,36,36)"
            },
            "marker": {
             "line": {
              "color": "white",
              "width": 0.5
             }
            },
            "type": "bar"
           }
          ],
          "barpolar": [
           {
            "marker": {
             "line": {
              "color": "white",
              "width": 0.5
             }
            },
            "type": "barpolar"
           }
          ],
          "carpet": [
           {
            "aaxis": {
             "endlinecolor": "rgb(36,36,36)",
             "gridcolor": "white",
             "linecolor": "white",
             "minorgridcolor": "white",
             "startlinecolor": "rgb(36,36,36)"
            },
            "baxis": {
             "endlinecolor": "rgb(36,36,36)",
             "gridcolor": "white",
             "linecolor": "white",
             "minorgridcolor": "white",
             "startlinecolor": "rgb(36,36,36)"
            },
            "type": "carpet"
           }
          ],
          "choropleth": [
           {
            "colorbar": {
             "outlinewidth": 1,
             "tickcolor": "rgb(36,36,36)",
             "ticks": "outside"
            },
            "type": "choropleth"
           }
          ],
          "contour": [
           {
            "colorbar": {
             "outlinewidth": 1,
             "tickcolor": "rgb(36,36,36)",
             "ticks": "outside"
            },
            "colorscale": [
             [
              0,
              "#440154"
             ],
             [
              0.1111111111111111,
              "#482878"
             ],
             [
              0.2222222222222222,
              "#3e4989"
             ],
             [
              0.3333333333333333,
              "#31688e"
             ],
             [
              0.4444444444444444,
              "#26828e"
             ],
             [
              0.5555555555555556,
              "#1f9e89"
             ],
             [
              0.6666666666666666,
              "#35b779"
             ],
             [
              0.7777777777777778,
              "#6ece58"
             ],
             [
              0.8888888888888888,
              "#b5de2b"
             ],
             [
              1,
              "#fde725"
             ]
            ],
            "type": "contour"
           }
          ],
          "contourcarpet": [
           {
            "colorbar": {
             "outlinewidth": 1,
             "tickcolor": "rgb(36,36,36)",
             "ticks": "outside"
            },
            "type": "contourcarpet"
           }
          ],
          "heatmap": [
           {
            "colorbar": {
             "outlinewidth": 1,
             "tickcolor": "rgb(36,36,36)",
             "ticks": "outside"
            },
            "colorscale": [
             [
              0,
              "#440154"
             ],
             [
              0.1111111111111111,
              "#482878"
             ],
             [
              0.2222222222222222,
              "#3e4989"
             ],
             [
              0.3333333333333333,
              "#31688e"
             ],
             [
              0.4444444444444444,
              "#26828e"
             ],
             [
              0.5555555555555556,
              "#1f9e89"
             ],
             [
              0.6666666666666666,
              "#35b779"
             ],
             [
              0.7777777777777778,
              "#6ece58"
             ],
             [
              0.8888888888888888,
              "#b5de2b"
             ],
             [
              1,
              "#fde725"
             ]
            ],
            "type": "heatmap"
           }
          ],
          "heatmapgl": [
           {
            "colorbar": {
             "outlinewidth": 1,
             "tickcolor": "rgb(36,36,36)",
             "ticks": "outside"
            },
            "colorscale": [
             [
              0,
              "#440154"
             ],
             [
              0.1111111111111111,
              "#482878"
             ],
             [
              0.2222222222222222,
              "#3e4989"
             ],
             [
              0.3333333333333333,
              "#31688e"
             ],
             [
              0.4444444444444444,
              "#26828e"
             ],
             [
              0.5555555555555556,
              "#1f9e89"
             ],
             [
              0.6666666666666666,
              "#35b779"
             ],
             [
              0.7777777777777778,
              "#6ece58"
             ],
             [
              0.8888888888888888,
              "#b5de2b"
             ],
             [
              1,
              "#fde725"
             ]
            ],
            "type": "heatmapgl"
           }
          ],
          "histogram": [
           {
            "marker": {
             "line": {
              "color": "white",
              "width": 0.6
             }
            },
            "type": "histogram"
           }
          ],
          "histogram2d": [
           {
            "colorbar": {
             "outlinewidth": 1,
             "tickcolor": "rgb(36,36,36)",
             "ticks": "outside"
            },
            "colorscale": [
             [
              0,
              "#440154"
             ],
             [
              0.1111111111111111,
              "#482878"
             ],
             [
              0.2222222222222222,
              "#3e4989"
             ],
             [
              0.3333333333333333,
              "#31688e"
             ],
             [
              0.4444444444444444,
              "#26828e"
             ],
             [
              0.5555555555555556,
              "#1f9e89"
             ],
             [
              0.6666666666666666,
              "#35b779"
             ],
             [
              0.7777777777777778,
              "#6ece58"
             ],
             [
              0.8888888888888888,
              "#b5de2b"
             ],
             [
              1,
              "#fde725"
             ]
            ],
            "type": "histogram2d"
           }
          ],
          "histogram2dcontour": [
           {
            "colorbar": {
             "outlinewidth": 1,
             "tickcolor": "rgb(36,36,36)",
             "ticks": "outside"
            },
            "colorscale": [
             [
              0,
              "#440154"
             ],
             [
              0.1111111111111111,
              "#482878"
             ],
             [
              0.2222222222222222,
              "#3e4989"
             ],
             [
              0.3333333333333333,
              "#31688e"
             ],
             [
              0.4444444444444444,
              "#26828e"
             ],
             [
              0.5555555555555556,
              "#1f9e89"
             ],
             [
              0.6666666666666666,
              "#35b779"
             ],
             [
              0.7777777777777778,
              "#6ece58"
             ],
             [
              0.8888888888888888,
              "#b5de2b"
             ],
             [
              1,
              "#fde725"
             ]
            ],
            "type": "histogram2dcontour"
           }
          ],
          "mesh3d": [
           {
            "colorbar": {
             "outlinewidth": 1,
             "tickcolor": "rgb(36,36,36)",
             "ticks": "outside"
            },
            "type": "mesh3d"
           }
          ],
          "parcoords": [
           {
            "line": {
             "colorbar": {
              "outlinewidth": 1,
              "tickcolor": "rgb(36,36,36)",
              "ticks": "outside"
             }
            },
            "type": "parcoords"
           }
          ],
          "pie": [
           {
            "automargin": true,
            "type": "pie"
           }
          ],
          "scatter": [
           {
            "marker": {
             "colorbar": {
              "outlinewidth": 1,
              "tickcolor": "rgb(36,36,36)",
              "ticks": "outside"
             }
            },
            "type": "scatter"
           }
          ],
          "scatter3d": [
           {
            "line": {
             "colorbar": {
              "outlinewidth": 1,
              "tickcolor": "rgb(36,36,36)",
              "ticks": "outside"
             }
            },
            "marker": {
             "colorbar": {
              "outlinewidth": 1,
              "tickcolor": "rgb(36,36,36)",
              "ticks": "outside"
             }
            },
            "type": "scatter3d"
           }
          ],
          "scattercarpet": [
           {
            "marker": {
             "colorbar": {
              "outlinewidth": 1,
              "tickcolor": "rgb(36,36,36)",
              "ticks": "outside"
             }
            },
            "type": "scattercarpet"
           }
          ],
          "scattergeo": [
           {
            "marker": {
             "colorbar": {
              "outlinewidth": 1,
              "tickcolor": "rgb(36,36,36)",
              "ticks": "outside"
             }
            },
            "type": "scattergeo"
           }
          ],
          "scattergl": [
           {
            "marker": {
             "colorbar": {
              "outlinewidth": 1,
              "tickcolor": "rgb(36,36,36)",
              "ticks": "outside"
             }
            },
            "type": "scattergl"
           }
          ],
          "scattermapbox": [
           {
            "marker": {
             "colorbar": {
              "outlinewidth": 1,
              "tickcolor": "rgb(36,36,36)",
              "ticks": "outside"
             }
            },
            "type": "scattermapbox"
           }
          ],
          "scatterpolar": [
           {
            "marker": {
             "colorbar": {
              "outlinewidth": 1,
              "tickcolor": "rgb(36,36,36)",
              "ticks": "outside"
             }
            },
            "type": "scatterpolar"
           }
          ],
          "scatterpolargl": [
           {
            "marker": {
             "colorbar": {
              "outlinewidth": 1,
              "tickcolor": "rgb(36,36,36)",
              "ticks": "outside"
             }
            },
            "type": "scatterpolargl"
           }
          ],
          "scatterternary": [
           {
            "marker": {
             "colorbar": {
              "outlinewidth": 1,
              "tickcolor": "rgb(36,36,36)",
              "ticks": "outside"
             }
            },
            "type": "scatterternary"
           }
          ],
          "surface": [
           {
            "colorbar": {
             "outlinewidth": 1,
             "tickcolor": "rgb(36,36,36)",
             "ticks": "outside"
            },
            "colorscale": [
             [
              0,
              "#440154"
             ],
             [
              0.1111111111111111,
              "#482878"
             ],
             [
              0.2222222222222222,
              "#3e4989"
             ],
             [
              0.3333333333333333,
              "#31688e"
             ],
             [
              0.4444444444444444,
              "#26828e"
             ],
             [
              0.5555555555555556,
              "#1f9e89"
             ],
             [
              0.6666666666666666,
              "#35b779"
             ],
             [
              0.7777777777777778,
              "#6ece58"
             ],
             [
              0.8888888888888888,
              "#b5de2b"
             ],
             [
              1,
              "#fde725"
             ]
            ],
            "type": "surface"
           }
          ],
          "table": [
           {
            "cells": {
             "fill": {
              "color": "rgb(237,237,237)"
             },
             "line": {
              "color": "white"
             }
            },
            "header": {
             "fill": {
              "color": "rgb(217,217,217)"
             },
             "line": {
              "color": "white"
             }
            },
            "type": "table"
           }
          ]
         },
         "layout": {
          "annotationdefaults": {
           "arrowhead": 0,
           "arrowwidth": 1
          },
          "coloraxis": {
           "colorbar": {
            "outlinewidth": 1,
            "tickcolor": "rgb(36,36,36)",
            "ticks": "outside"
           }
          },
          "colorscale": {
           "diverging": [
            [
             0,
             "rgb(103,0,31)"
            ],
            [
             0.1,
             "rgb(178,24,43)"
            ],
            [
             0.2,
             "rgb(214,96,77)"
            ],
            [
             0.3,
             "rgb(244,165,130)"
            ],
            [
             0.4,
             "rgb(253,219,199)"
            ],
            [
             0.5,
             "rgb(247,247,247)"
            ],
            [
             0.6,
             "rgb(209,229,240)"
            ],
            [
             0.7,
             "rgb(146,197,222)"
            ],
            [
             0.8,
             "rgb(67,147,195)"
            ],
            [
             0.9,
             "rgb(33,102,172)"
            ],
            [
             1,
             "rgb(5,48,97)"
            ]
           ],
           "sequential": [
            [
             0,
             "#440154"
            ],
            [
             0.1111111111111111,
             "#482878"
            ],
            [
             0.2222222222222222,
             "#3e4989"
            ],
            [
             0.3333333333333333,
             "#31688e"
            ],
            [
             0.4444444444444444,
             "#26828e"
            ],
            [
             0.5555555555555556,
             "#1f9e89"
            ],
            [
             0.6666666666666666,
             "#35b779"
            ],
            [
             0.7777777777777778,
             "#6ece58"
            ],
            [
             0.8888888888888888,
             "#b5de2b"
            ],
            [
             1,
             "#fde725"
            ]
           ],
           "sequentialminus": [
            [
             0,
             "#440154"
            ],
            [
             0.1111111111111111,
             "#482878"
            ],
            [
             0.2222222222222222,
             "#3e4989"
            ],
            [
             0.3333333333333333,
             "#31688e"
            ],
            [
             0.4444444444444444,
             "#26828e"
            ],
            [
             0.5555555555555556,
             "#1f9e89"
            ],
            [
             0.6666666666666666,
             "#35b779"
            ],
            [
             0.7777777777777778,
             "#6ece58"
            ],
            [
             0.8888888888888888,
             "#b5de2b"
            ],
            [
             1,
             "#fde725"
            ]
           ]
          },
          "colorway": [
           "#1F77B4",
           "#FF7F0E",
           "#2CA02C",
           "#D62728",
           "#9467BD",
           "#8C564B",
           "#E377C2",
           "#7F7F7F",
           "#BCBD22",
           "#17BECF"
          ],
          "font": {
           "color": "rgb(36,36,36)"
          },
          "geo": {
           "bgcolor": "white",
           "lakecolor": "white",
           "landcolor": "white",
           "showlakes": true,
           "showland": true,
           "subunitcolor": "white"
          },
          "hoverlabel": {
           "align": "left"
          },
          "hovermode": "closest",
          "mapbox": {
           "style": "light"
          },
          "paper_bgcolor": "white",
          "plot_bgcolor": "white",
          "polar": {
           "angularaxis": {
            "gridcolor": "rgb(232,232,232)",
            "linecolor": "rgb(36,36,36)",
            "showgrid": false,
            "showline": true,
            "ticks": "outside"
           },
           "bgcolor": "white",
           "radialaxis": {
            "gridcolor": "rgb(232,232,232)",
            "linecolor": "rgb(36,36,36)",
            "showgrid": false,
            "showline": true,
            "ticks": "outside"
           }
          },
          "scene": {
           "xaxis": {
            "backgroundcolor": "white",
            "gridcolor": "rgb(232,232,232)",
            "gridwidth": 2,
            "linecolor": "rgb(36,36,36)",
            "showbackground": true,
            "showgrid": false,
            "showline": true,
            "ticks": "outside",
            "zeroline": false,
            "zerolinecolor": "rgb(36,36,36)"
           },
           "yaxis": {
            "backgroundcolor": "white",
            "gridcolor": "rgb(232,232,232)",
            "gridwidth": 2,
            "linecolor": "rgb(36,36,36)",
            "showbackground": true,
            "showgrid": false,
            "showline": true,
            "ticks": "outside",
            "zeroline": false,
            "zerolinecolor": "rgb(36,36,36)"
           },
           "zaxis": {
            "backgroundcolor": "white",
            "gridcolor": "rgb(232,232,232)",
            "gridwidth": 2,
            "linecolor": "rgb(36,36,36)",
            "showbackground": true,
            "showgrid": false,
            "showline": true,
            "ticks": "outside",
            "zeroline": false,
            "zerolinecolor": "rgb(36,36,36)"
           }
          },
          "shapedefaults": {
           "fillcolor": "black",
           "line": {
            "width": 0
           },
           "opacity": 0.3
          },
          "ternary": {
           "aaxis": {
            "gridcolor": "rgb(232,232,232)",
            "linecolor": "rgb(36,36,36)",
            "showgrid": false,
            "showline": true,
            "ticks": "outside"
           },
           "baxis": {
            "gridcolor": "rgb(232,232,232)",
            "linecolor": "rgb(36,36,36)",
            "showgrid": false,
            "showline": true,
            "ticks": "outside"
           },
           "bgcolor": "white",
           "caxis": {
            "gridcolor": "rgb(232,232,232)",
            "linecolor": "rgb(36,36,36)",
            "showgrid": false,
            "showline": true,
            "ticks": "outside"
           }
          },
          "title": {
           "x": 0.05
          },
          "xaxis": {
           "automargin": true,
           "gridcolor": "rgb(232,232,232)",
           "linecolor": "rgb(36,36,36)",
           "showgrid": false,
           "showline": true,
           "ticks": "outside",
           "title": {
            "standoff": 15
           },
           "zeroline": false,
           "zerolinecolor": "rgb(36,36,36)"
          },
          "yaxis": {
           "automargin": true,
           "gridcolor": "rgb(232,232,232)",
           "linecolor": "rgb(36,36,36)",
           "showgrid": false,
           "showline": true,
           "ticks": "outside",
           "title": {
            "standoff": 15
           },
           "zeroline": false,
           "zerolinecolor": "rgb(36,36,36)"
          }
         }
        },
        "xaxis": {
         "anchor": "y",
         "autorange": true,
         "domain": [
          0,
          0.49
         ],
         "range": [
          -0.5,
          1.5
         ],
         "title": {
          "text": "Treatment"
         },
         "type": "category"
        },
        "xaxis2": {
         "anchor": "y2",
         "autorange": true,
         "domain": [
          0.51,
          1
         ],
         "matches": "x",
         "range": [
          -0.5,
          1.5
         ],
         "title": {
          "text": "Treatment"
         },
         "type": "category"
        },
        "yaxis": {
         "anchor": "x",
         "autorange": true,
         "domain": [
          0,
          1
         ],
         "range": [
          -1.7206900427305933,
          1.528857935330321
         ],
         "title": {
          "text": "PC1"
         },
         "type": "linear"
        },
        "yaxis2": {
         "anchor": "x2",
         "autorange": true,
         "domain": [
          0,
          1
         ],
         "matches": "y",
         "range": [
          -1.7206900427305933,
          1.528857935330321
         ],
         "showticklabels": false,
         "type": "linear"
        }
       }
      },
      "image/png": "[encoded data removed]",
      "text/html": [
       "<div>\n",
       "        \n",
       "        \n",
       "            <div id=\"c63d9d6b-9476-4194-b8d4-36dbdfa5a6ed\" class=\"plotly-graph-div\" style=\"height:525px; width:100%;\"></div>\n",
       "            <script type=\"text/javascript\">\n",
       "                require([\"plotly\"], function(Plotly) {\n",
       "                    window.PLOTLYENV=window.PLOTLYENV || {};\n",
       "                    \n",
       "                if (document.getElementById(\"c63d9d6b-9476-4194-b8d4-36dbdfa5a6ed\")) {\n",
       "                    Plotly.newPlot(\n",
       "                        'c63d9d6b-9476-4194-b8d4-36dbdfa5a6ed',\n",
       "                        [{\"alignmentgroup\": \"True\", \"error_y\": {\"array\": [0.24500238537442584, 0.1903714306218133]}, \"hoverlabel\": {\"namelength\": 0}, \"hovertemplate\": \"Type_2=tree<br>Year=2017<br>Treatment=%{x}<br>mean=%{y}\", \"legendgroup\": \"tree\", \"marker\": {\"color\": \"orange\"}, \"name\": \"tree\", \"offsetgroup\": \"tree\", \"orientation\": \"v\", \"showlegend\": true, \"textposition\": \"auto\", \"type\": \"bar\", \"x\": [\"cut\", \"uncut\"], \"xaxis\": \"x\", \"y\": [-0.7713786740313691, -1.4090407882901508], \"yaxis\": \"y\"}, {\"alignmentgroup\": \"True\", \"error_y\": {\"array\": [0.313657731944975, 0.24358862792181257]}, \"hoverlabel\": {\"namelength\": 0}, \"hovertemplate\": \"Type_2=tree<br>Year=2018<br>Treatment=%{x}<br>mean=%{y}\", \"legendgroup\": \"tree\", \"marker\": {\"color\": \"orange\"}, \"name\": \"tree\", \"offsetgroup\": \"tree\", \"orientation\": \"v\", \"showlegend\": false, \"textposition\": \"auto\", \"type\": \"bar\", \"x\": [\"cut\", \"uncut\"], \"xaxis\": \"x2\", \"y\": [-0.6991262947165557, -1.2636514543209414], \"yaxis\": \"y2\"}, {\"alignmentgroup\": \"True\", \"error_y\": {\"array\": [0.3412649809602107, 0.4035284000712878]}, \"hoverlabel\": {\"namelength\": 0}, \"hovertemplate\": \"Type_2=grass<br>Year=2017<br>Treatment=%{x}<br>mean=%{y}\", \"legendgroup\": \"grass\", \"marker\": {\"color\": \"blue\"}, \"name\": \"grass\", \"offsetgroup\": \"grass\", \"orientation\": \"v\", \"showlegend\": true, \"textposition\": \"auto\", \"type\": \"bar\", \"x\": [\"cut\", \"uncut\"], \"xaxis\": \"x\", \"y\": [0.16300258149769128, 0.18006020975207201], \"yaxis\": \"y\"}, {\"alignmentgroup\": \"True\", \"error_y\": {\"array\": [0.42226838555207985, 0.5034854502543264]}, \"hoverlabel\": {\"namelength\": 0}, \"hovertemplate\": \"Type_2=grass<br>Year=2018<br>Treatment=%{x}<br>mean=%{y}\", \"legendgroup\": \"grass\", \"marker\": {\"color\": \"blue\"}, \"name\": \"grass\", \"offsetgroup\": \"grass\", \"orientation\": \"v\", \"showlegend\": false, \"textposition\": \"auto\", \"type\": \"bar\", \"x\": [\"cut\", \"uncut\"], \"xaxis\": \"x2\", \"y\": [0.5378715076810487, 0.8655778525721486], \"yaxis\": \"y2\"}],\n",
       "                        {\"annotations\": [{\"font\": {}, \"showarrow\": false, \"text\": \"2017\", \"x\": 0.245, \"xanchor\": \"center\", \"xref\": \"paper\", \"y\": 1.0, \"yanchor\": \"bottom\", \"yref\": \"paper\"}, {\"font\": {}, \"showarrow\": false, \"text\": \"2018\", \"x\": 0.755, \"xanchor\": \"center\", \"xref\": \"paper\", \"y\": 1.0, \"yanchor\": \"bottom\", \"yref\": \"paper\"}], \"barmode\": \"group\", \"legend\": {\"title\": {\"text\": \"sample type\"}, \"tracegroupgap\": 0}, \"margin\": {\"t\": 60}, \"template\": {\"data\": {\"bar\": [{\"error_x\": {\"color\": \"rgb(36,36,36)\"}, \"error_y\": {\"color\": \"rgb(36,36,36)\"}, \"marker\": {\"line\": {\"color\": \"white\", \"width\": 0.5}}, \"type\": \"bar\"}], \"barpolar\": [{\"marker\": {\"line\": {\"color\": \"white\", \"width\": 0.5}}, \"type\": \"barpolar\"}], \"carpet\": [{\"aaxis\": {\"endlinecolor\": \"rgb(36,36,36)\", \"gridcolor\": \"white\", \"linecolor\": \"white\", \"minorgridcolor\": \"white\", \"startlinecolor\": \"rgb(36,36,36)\"}, \"baxis\": {\"endlinecolor\": \"rgb(36,36,36)\", \"gridcolor\": \"white\", \"linecolor\": \"white\", \"minorgridcolor\": \"white\", \"startlinecolor\": \"rgb(36,36,36)\"}, \"type\": \"carpet\"}], \"choropleth\": [{\"colorbar\": {\"outlinewidth\": 1, \"tickcolor\": \"rgb(36,36,36)\", \"ticks\": \"outside\"}, \"type\": \"choropleth\"}], \"contour\": [{\"colorbar\": {\"outlinewidth\": 1, \"tickcolor\": \"rgb(36,36,36)\", \"ticks\": \"outside\"}, \"colorscale\": [[0.0, \"#440154\"], [0.1111111111111111, \"#482878\"], [0.2222222222222222, \"#3e4989\"], [0.3333333333333333, \"#31688e\"], [0.4444444444444444, \"#26828e\"], [0.5555555555555556, \"#1f9e89\"], [0.6666666666666666, \"#35b779\"], [0.7777777777777778, \"#6ece58\"], [0.8888888888888888, \"#b5de2b\"], [1.0, \"#fde725\"]], \"type\": \"contour\"}], \"contourcarpet\": [{\"colorbar\": {\"outlinewidth\": 1, \"tickcolor\": \"rgb(36,36,36)\", \"ticks\": \"outside\"}, \"type\": \"contourcarpet\"}], \"heatmap\": [{\"colorbar\": {\"outlinewidth\": 1, \"tickcolor\": \"rgb(36,36,36)\", \"ticks\": \"outside\"}, \"colorscale\": [[0.0, \"#440154\"], [0.1111111111111111, \"#482878\"], [0.2222222222222222, \"#3e4989\"], [0.3333333333333333, \"#31688e\"], [0.4444444444444444, \"#26828e\"], [0.5555555555555556, \"#1f9e89\"], [0.6666666666666666, \"#35b779\"], [0.7777777777777778, \"#6ece58\"], [0.8888888888888888, \"#b5de2b\"], [1.0, \"#fde725\"]], \"type\": \"heatmap\"}], \"heatmapgl\": [{\"colorbar\": {\"outlinewidth\": 1, \"tickcolor\": \"rgb(36,36,36)\", \"ticks\": \"outside\"}, \"colorscale\": [[0.0, \"#440154\"], [0.1111111111111111, \"#482878\"], [0.2222222222222222, \"#3e4989\"], [0.3333333333333333, \"#31688e\"], [0.4444444444444444, \"#26828e\"], [0.5555555555555556, \"#1f9e89\"], [0.6666666666666666, \"#35b779\"], [0.7777777777777778, \"#6ece58\"], [0.8888888888888888, \"#b5de2b\"], [1.0, \"#fde725\"]], \"type\": \"heatmapgl\"}], \"histogram\": [{\"marker\": {\"line\": {\"color\": \"white\", \"width\": 0.6}}, \"type\": \"histogram\"}], \"histogram2d\": [{\"colorbar\": {\"outlinewidth\": 1, \"tickcolor\": \"rgb(36,36,36)\", \"ticks\": \"outside\"}, \"colorscale\": [[0.0, \"#440154\"], [0.1111111111111111, \"#482878\"], [0.2222222222222222, \"#3e4989\"], [0.3333333333333333, \"#31688e\"], [0.4444444444444444, \"#26828e\"], [0.5555555555555556, \"#1f9e89\"], [0.6666666666666666, \"#35b779\"], [0.7777777777777778, \"#6ece58\"], [0.8888888888888888, \"#b5de2b\"], [1.0, \"#fde725\"]], \"type\": \"histogram2d\"}], \"histogram2dcontour\": [{\"colorbar\": {\"outlinewidth\": 1, \"tickcolor\": \"rgb(36,36,36)\", \"ticks\": \"outside\"}, \"colorscale\": [[0.0, \"#440154\"], [0.1111111111111111, \"#482878\"], [0.2222222222222222, \"#3e4989\"], [0.3333333333333333, \"#31688e\"], [0.4444444444444444, \"#26828e\"], [0.5555555555555556, \"#1f9e89\"], [0.6666666666666666, \"#35b779\"], [0.7777777777777778, \"#6ece58\"], [0.8888888888888888, \"#b5de2b\"], [1.0, \"#fde725\"]], \"type\": \"histogram2dcontour\"}], \"mesh3d\": [{\"colorbar\": {\"outlinewidth\": 1, \"tickcolor\": \"rgb(36,36,36)\", \"ticks\": \"outside\"}, \"type\": \"mesh3d\"}], \"parcoords\": [{\"line\": {\"colorbar\": {\"outlinewidth\": 1, \"tickcolor\": \"rgb(36,36,36)\", \"ticks\": \"outside\"}}, \"type\": \"parcoords\"}], \"pie\": [{\"automargin\": true, \"type\": \"pie\"}], \"scatter\": [{\"marker\": {\"colorbar\": {\"outlinewidth\": 1, \"tickcolor\": \"rgb(36,36,36)\", \"ticks\": \"outside\"}}, \"type\": \"scatter\"}], \"scatter3d\": [{\"line\": {\"colorbar\": {\"outlinewidth\": 1, \"tickcolor\": \"rgb(36,36,36)\", \"ticks\": \"outside\"}}, \"marker\": {\"colorbar\": {\"outlinewidth\": 1, \"tickcolor\": \"rgb(36,36,36)\", \"ticks\": \"outside\"}}, \"type\": \"scatter3d\"}], \"scattercarpet\": [{\"marker\": {\"colorbar\": {\"outlinewidth\": 1, \"tickcolor\": \"rgb(36,36,36)\", \"ticks\": \"outside\"}}, \"type\": \"scattercarpet\"}], \"scattergeo\": [{\"marker\": {\"colorbar\": {\"outlinewidth\": 1, \"tickcolor\": \"rgb(36,36,36)\", \"ticks\": \"outside\"}}, \"type\": \"scattergeo\"}], \"scattergl\": [{\"marker\": {\"colorbar\": {\"outlinewidth\": 1, \"tickcolor\": \"rgb(36,36,36)\", \"ticks\": \"outside\"}}, \"type\": \"scattergl\"}], \"scattermapbox\": [{\"marker\": {\"colorbar\": {\"outlinewidth\": 1, \"tickcolor\": \"rgb(36,36,36)\", \"ticks\": \"outside\"}}, \"type\": \"scattermapbox\"}], \"scatterpolar\": [{\"marker\": {\"colorbar\": {\"outlinewidth\": 1, \"tickcolor\": \"rgb(36,36,36)\", \"ticks\": \"outside\"}}, \"type\": \"scatterpolar\"}], \"scatterpolargl\": [{\"marker\": {\"colorbar\": {\"outlinewidth\": 1, \"tickcolor\": \"rgb(36,36,36)\", \"ticks\": \"outside\"}}, \"type\": \"scatterpolargl\"}], \"scatterternary\": [{\"marker\": {\"colorbar\": {\"outlinewidth\": 1, \"tickcolor\": \"rgb(36,36,36)\", \"ticks\": \"outside\"}}, \"type\": \"scatterternary\"}], \"surface\": [{\"colorbar\": {\"outlinewidth\": 1, \"tickcolor\": \"rgb(36,36,36)\", \"ticks\": \"outside\"}, \"colorscale\": [[0.0, \"#440154\"], [0.1111111111111111, \"#482878\"], [0.2222222222222222, \"#3e4989\"], [0.3333333333333333, \"#31688e\"], [0.4444444444444444, \"#26828e\"], [0.5555555555555556, \"#1f9e89\"], [0.6666666666666666, \"#35b779\"], [0.7777777777777778, \"#6ece58\"], [0.8888888888888888, \"#b5de2b\"], [1.0, \"#fde725\"]], \"type\": \"surface\"}], \"table\": [{\"cells\": {\"fill\": {\"color\": \"rgb(237,237,237)\"}, \"line\": {\"color\": \"white\"}}, \"header\": {\"fill\": {\"color\": \"rgb(217,217,217)\"}, \"line\": {\"color\": \"white\"}}, \"type\": \"table\"}]}, \"layout\": {\"annotationdefaults\": {\"arrowhead\": 0, \"arrowwidth\": 1}, \"coloraxis\": {\"colorbar\": {\"outlinewidth\": 1, \"tickcolor\": \"rgb(36,36,36)\", \"ticks\": \"outside\"}}, \"colorscale\": {\"diverging\": [[0.0, \"rgb(103,0,31)\"], [0.1, \"rgb(178,24,43)\"], [0.2, \"rgb(214,96,77)\"], [0.3, \"rgb(244,165,130)\"], [0.4, \"rgb(253,219,199)\"], [0.5, \"rgb(247,247,247)\"], [0.6, \"rgb(209,229,240)\"], [0.7, \"rgb(146,197,222)\"], [0.8, \"rgb(67,147,195)\"], [0.9, \"rgb(33,102,172)\"], [1.0, \"rgb(5,48,97)\"]], \"sequential\": [[0.0, \"#440154\"], [0.1111111111111111, \"#482878\"], [0.2222222222222222, \"#3e4989\"], [0.3333333333333333, \"#31688e\"], [0.4444444444444444, \"#26828e\"], [0.5555555555555556, \"#1f9e89\"], [0.6666666666666666, \"#35b779\"], [0.7777777777777778, \"#6ece58\"], [0.8888888888888888, \"#b5de2b\"], [1.0, \"#fde725\"]], \"sequentialminus\": [[0.0, \"#440154\"], [0.1111111111111111, \"#482878\"], [0.2222222222222222, \"#3e4989\"], [0.3333333333333333, \"#31688e\"], [0.4444444444444444, \"#26828e\"], [0.5555555555555556, \"#1f9e89\"], [0.6666666666666666, \"#35b779\"], [0.7777777777777778, \"#6ece58\"], [0.8888888888888888, \"#b5de2b\"], [1.0, \"#fde725\"]]}, \"colorway\": [\"#1F77B4\", \"#FF7F0E\", \"#2CA02C\", \"#D62728\", \"#9467BD\", \"#8C564B\", \"#E377C2\", \"#7F7F7F\", \"#BCBD22\", \"#17BECF\"], \"font\": {\"color\": \"rgb(36,36,36)\"}, \"geo\": {\"bgcolor\": \"white\", \"lakecolor\": \"white\", \"landcolor\": \"white\", \"showlakes\": true, \"showland\": true, \"subunitcolor\": \"white\"}, \"hoverlabel\": {\"align\": \"left\"}, \"hovermode\": \"closest\", \"mapbox\": {\"style\": \"light\"}, \"paper_bgcolor\": \"white\", \"plot_bgcolor\": \"white\", \"polar\": {\"angularaxis\": {\"gridcolor\": \"rgb(232,232,232)\", \"linecolor\": \"rgb(36,36,36)\", \"showgrid\": false, \"showline\": true, \"ticks\": \"outside\"}, \"bgcolor\": \"white\", \"radialaxis\": {\"gridcolor\": \"rgb(232,232,232)\", \"linecolor\": \"rgb(36,36,36)\", \"showgrid\": false, \"showline\": true, \"ticks\": \"outside\"}}, \"scene\": {\"xaxis\": {\"backgroundcolor\": \"white\", \"gridcolor\": \"rgb(232,232,232)\", \"gridwidth\": 2, \"linecolor\": \"rgb(36,36,36)\", \"showbackground\": true, \"showgrid\": false, \"showline\": true, \"ticks\": \"outside\", \"zeroline\": false, \"zerolinecolor\": \"rgb(36,36,36)\"}, \"yaxis\": {\"backgroundcolor\": \"white\", \"gridcolor\": \"rgb(232,232,232)\", \"gridwidth\": 2, \"linecolor\": \"rgb(36,36,36)\", \"showbackground\": true, \"showgrid\": false, \"showline\": true, \"ticks\": \"outside\", \"zeroline\": false, \"zerolinecolor\": \"rgb(36,36,36)\"}, \"zaxis\": {\"backgroundcolor\": \"white\", \"gridcolor\": \"rgb(232,232,232)\", \"gridwidth\": 2, \"linecolor\": \"rgb(36,36,36)\", \"showbackground\": true, \"showgrid\": false, \"showline\": true, \"ticks\": \"outside\", \"zeroline\": false, \"zerolinecolor\": \"rgb(36,36,36)\"}}, \"shapedefaults\": {\"fillcolor\": \"black\", \"line\": {\"width\": 0}, \"opacity\": 0.3}, \"ternary\": {\"aaxis\": {\"gridcolor\": \"rgb(232,232,232)\", \"linecolor\": \"rgb(36,36,36)\", \"showgrid\": false, \"showline\": true, \"ticks\": \"outside\"}, \"baxis\": {\"gridcolor\": \"rgb(232,232,232)\", \"linecolor\": \"rgb(36,36,36)\", \"showgrid\": false, \"showline\": true, \"ticks\": \"outside\"}, \"bgcolor\": \"white\", \"caxis\": {\"gridcolor\": \"rgb(232,232,232)\", \"linecolor\": \"rgb(36,36,36)\", \"showgrid\": false, \"showline\": true, \"ticks\": \"outside\"}}, \"title\": {\"x\": 0.05}, \"xaxis\": {\"automargin\": true, \"gridcolor\": \"rgb(232,232,232)\", \"linecolor\": \"rgb(36,36,36)\", \"showgrid\": false, \"showline\": true, \"ticks\": \"outside\", \"title\": {\"standoff\": 15}, \"zeroline\": false, \"zerolinecolor\": \"rgb(36,36,36)\"}, \"yaxis\": {\"automargin\": true, \"gridcolor\": \"rgb(232,232,232)\", \"linecolor\": \"rgb(36,36,36)\", \"showgrid\": false, \"showline\": true, \"ticks\": \"outside\", \"title\": {\"standoff\": 15}, \"zeroline\": false, \"zerolinecolor\": \"rgb(36,36,36)\"}}}, \"xaxis\": {\"anchor\": \"y\", \"domain\": [0.0, 0.49], \"title\": {\"text\": \"Treatment\"}}, \"xaxis2\": {\"anchor\": \"y2\", \"domain\": [0.51, 1.0], \"matches\": \"x\", \"title\": {\"text\": \"Treatment\"}}, \"yaxis\": {\"anchor\": \"x\", \"domain\": [0.0, 1.0], \"title\": {\"text\": \"PC1\"}}, \"yaxis2\": {\"anchor\": \"x2\", \"domain\": [0.0, 1.0], \"matches\": \"y\", \"showticklabels\": false}},\n",
       "                        {\"responsive\": true}\n",
       "                    ).then(function(){\n",
       "                            \n",
       "var gd = document.getElementById('c63d9d6b-9476-4194-b8d4-36dbdfa5a6ed');\n",
       "var x = new MutationObserver(function (mutations, observer) {{\n",
       "        var display = window.getComputedStyle(gd).display;\n",
       "        if (!display || display === 'none') {{\n",
       "            console.log([gd, 'removed!']);\n",
       "            Plotly.purge(gd);\n",
       "            observer.disconnect();\n",
       "        }}\n",
       "}});\n",
       "\n",
       "// Listen for the removal of the full notebook cells\n",
       "var notebookContainer = gd.closest('#notebook-container');\n",
       "if (notebookContainer) {{\n",
       "    x.observe(notebookContainer, {childList: true});\n",
       "}}\n",
       "\n",
       "// Listen for the clearing of the current output cell\n",
       "var outputEl = gd.closest('.output');\n",
       "if (outputEl) {{\n",
       "    x.observe(outputEl, {childList: true});\n",
       "}}\n",
       "\n",
       "                        })\n",
       "                };\n",
       "                });\n",
       "            </script>\n",
       "        </div>"
      ]
     },
     "metadata": {},
     "output_type": "display_data"
    }
   ],
   "source": [
    "# create dataframe with mean and standard error for PC1 for plotting\n",
    "df_pca_plot = df_plants.groupby(['Year', 'Type_2', 'Treatment'], as_index=False)['PC1'].agg([np.mean, ss.sem]).reset_index()\n",
    "\n",
    "# Plot the average PC1 within each treatment and year\n",
    "fig = px.bar(df_pca_plot, x='Treatment', y='mean', barmode = 'group', color='Type_2',\n",
    "            error_y = 'sem',\n",
    "            facet_col='Year',\n",
    "            template='simple_white',\n",
    "            color_discrete_sequence = [\"orange\", \"blue\"],\n",
    "            category_orders = {\"Type_2\": ['tree', 'grass']})\n",
    "fig.update_yaxes(title_text='PC1', col=1)\n",
    "fig.update_layout(legend_title_text='sample type')\n",
    "fig.for_each_annotation(lambda a: a.update(text=a.text.split(\"=\")[-1]))\n",
    "fig.show()\n"
   ]
  },
  {
   "cell_type": "markdown",
   "metadata": {},
   "source": [
    "# Analyses using PC1 as the response variable"
   ]
  },
  {
   "cell_type": "markdown",
   "metadata": {},
   "source": [
    "By plotting mean PC1 values by depth we can see the trend is very similar to the $\\delta {^1}{^8}{O}$ and $\\delta D$ single isotope plots above."
   ]
  },
  {
   "cell_type": "code",
   "execution_count": 50,
   "metadata": {},
   "outputs": [
    {
     "data": {
      "application/vnd.plotly.v1+json": {
       "config": {
        "plotlyServerURL": "https://plot.ly"
       },
       "data": [
        {
         "error_x": {
          "array": [
           0.24500238537442584
          ]
         },
         "hoverlabel": {
          "namelength": 0
         },
         "hovertemplate": "Type_2=tree<br>Treatment=cut<br>Year=2017<br>mean=%{x}<br>Depth=%{y}",
         "legendgroup": "tree",
         "marker": {
          "color": "orange",
          "symbol": "circle"
         },
         "mode": "markers",
         "name": "tree",
         "showlegend": true,
         "type": "scatter",
         "x": [
          -0.7713786740313691
         ],
         "xaxis": "x3",
         "y": [
          -20
         ],
         "yaxis": "y3"
        },
        {
         "error_x": {
          "array": [
           0.313657731944975
          ]
         },
         "hoverlabel": {
          "namelength": 0
         },
         "hovertemplate": "Type_2=tree<br>Treatment=cut<br>Year=2018<br>mean=%{x}<br>Depth=%{y}",
         "legendgroup": "tree",
         "marker": {
          "color": "orange",
          "symbol": "circle"
         },
         "mode": "markers",
         "name": "tree",
         "showlegend": false,
         "type": "scatter",
         "x": [
          -0.6991262947165557
         ],
         "xaxis": "x4",
         "y": [
          -20
         ],
         "yaxis": "y4"
        },
        {
         "error_x": {
          "array": [
           0.1903714306218133
          ]
         },
         "hoverlabel": {
          "namelength": 0
         },
         "hovertemplate": "Type_2=tree<br>Treatment=uncut<br>Year=2017<br>mean=%{x}<br>Depth=%{y}",
         "legendgroup": "tree",
         "marker": {
          "color": "orange",
          "symbol": "circle"
         },
         "mode": "markers",
         "name": "tree",
         "showlegend": false,
         "type": "scatter",
         "x": [
          -1.4090407882901508
         ],
         "xaxis": "x",
         "y": [
          -20
         ],
         "yaxis": "y"
        },
        {
         "error_x": {
          "array": [
           0.24358862792181257
          ]
         },
         "hoverlabel": {
          "namelength": 0
         },
         "hovertemplate": "Type_2=tree<br>Treatment=uncut<br>Year=2018<br>mean=%{x}<br>Depth=%{y}",
         "legendgroup": "tree",
         "marker": {
          "color": "orange",
          "symbol": "circle"
         },
         "mode": "markers",
         "name": "tree",
         "showlegend": false,
         "type": "scatter",
         "x": [
          -1.2636514543209414
         ],
         "xaxis": "x2",
         "y": [
          -20
         ],
         "yaxis": "y2"
        },
        {
         "error_x": {
          "array": [
           0.3412649809602107
          ]
         },
         "hoverlabel": {
          "namelength": 0
         },
         "hovertemplate": "Type_2=grass<br>Treatment=cut<br>Year=2017<br>mean=%{x}<br>Depth=%{y}",
         "legendgroup": "grass",
         "marker": {
          "color": "blue",
          "symbol": "circle"
         },
         "mode": "markers",
         "name": "grass",
         "showlegend": true,
         "type": "scatter",
         "x": [
          0.16300258149769128
         ],
         "xaxis": "x3",
         "y": [
          -10
         ],
         "yaxis": "y3"
        },
        {
         "error_x": {
          "array": [
           0.42226838555207985
          ]
         },
         "hoverlabel": {
          "namelength": 0
         },
         "hovertemplate": "Type_2=grass<br>Treatment=cut<br>Year=2018<br>mean=%{x}<br>Depth=%{y}",
         "legendgroup": "grass",
         "marker": {
          "color": "blue",
          "symbol": "circle"
         },
         "mode": "markers",
         "name": "grass",
         "showlegend": false,
         "type": "scatter",
         "x": [
          0.5378715076810487
         ],
         "xaxis": "x4",
         "y": [
          -10
         ],
         "yaxis": "y4"
        },
        {
         "error_x": {
          "array": [
           0.4035284000712878
          ]
         },
         "hoverlabel": {
          "namelength": 0
         },
         "hovertemplate": "Type_2=grass<br>Treatment=uncut<br>Year=2017<br>mean=%{x}<br>Depth=%{y}",
         "legendgroup": "grass",
         "marker": {
          "color": "blue",
          "symbol": "circle"
         },
         "mode": "markers",
         "name": "grass",
         "showlegend": false,
         "type": "scatter",
         "x": [
          0.18006020975207201
         ],
         "xaxis": "x",
         "y": [
          -10
         ],
         "yaxis": "y"
        },
        {
         "error_x": {
          "array": [
           0.5034854502543264
          ]
         },
         "hoverlabel": {
          "namelength": 0
         },
         "hovertemplate": "Type_2=grass<br>Treatment=uncut<br>Year=2018<br>mean=%{x}<br>Depth=%{y}",
         "legendgroup": "grass",
         "marker": {
          "color": "blue",
          "symbol": "circle"
         },
         "mode": "markers",
         "name": "grass",
         "showlegend": false,
         "type": "scatter",
         "x": [
          0.8655778525721486
         ],
         "xaxis": "x2",
         "y": [
          -10
         ],
         "yaxis": "y2"
        },
        {
         "error_x": {
          "array": [
           0.06746297260881472,
           0.5285133913467124,
           0.4294731972607914
          ]
         },
         "hoverlabel": {
          "namelength": 0
         },
         "hovertemplate": "Type_2=soil<br>Treatment=cut<br>Year=2017<br>mean=%{x}<br>Depth=%{y}",
         "legendgroup": "soil",
         "marker": {
          "color": "gray",
          "symbol": "circle"
         },
         "mode": "markers",
         "name": "soil",
         "showlegend": true,
         "type": "scatter",
         "x": [
          1.6075056605207816,
          0.21949923037033725,
          -0.0022087103198465963
         ],
         "xaxis": "x3",
         "y": [
          10,
          30,
          50
         ],
         "yaxis": "y3"
        },
        {
         "error_x": {
          "array": [
           0.3597499586641048,
           0.28845924494185426,
           0.49760379127404136
          ]
         },
         "hoverlabel": {
          "namelength": 0
         },
         "hovertemplate": "Type_2=soil<br>Treatment=cut<br>Year=2018<br>mean=%{x}<br>Depth=%{y}",
         "legendgroup": "soil",
         "marker": {
          "color": "gray",
          "symbol": "circle"
         },
         "mode": "markers",
         "name": "soil",
         "showlegend": false,
         "type": "scatter",
         "x": [
          1.810376130143266,
          1.482708178146283,
          1.0656552976624225
         ],
         "xaxis": "x4",
         "y": [
          10,
          30,
          50
         ],
         "yaxis": "y4"
        },
        {
         "error_x": {
          "array": [
           0.22961342777191865,
           0.37367853327956857,
           0.3425091246708607
          ]
         },
         "hoverlabel": {
          "namelength": 0
         },
         "hovertemplate": "Type_2=soil<br>Treatment=uncut<br>Year=2017<br>mean=%{x}<br>Depth=%{y}",
         "legendgroup": "soil",
         "marker": {
          "color": "gray",
          "symbol": "circle"
         },
         "mode": "markers",
         "name": "soil",
         "showlegend": false,
         "type": "scatter",
         "x": [
          1.7005957645808878,
          0.28710352379744003,
          -0.21678806875956586
         ],
         "xaxis": "x",
         "y": [
          10,
          30,
          50
         ],
         "yaxis": "y"
        },
        {
         "error_x": {
          "array": [
           0.3050111350117192,
           1.3604298615592618,
           1.0121997012248494
          ]
         },
         "hoverlabel": {
          "namelength": 0
         },
         "hovertemplate": "Type_2=soil<br>Treatment=uncut<br>Year=2018<br>mean=%{x}<br>Depth=%{y}",
         "legendgroup": "soil",
         "marker": {
          "color": "gray",
          "symbol": "circle"
         },
         "mode": "markers",
         "name": "soil",
         "showlegend": false,
         "type": "scatter",
         "x": [
          1.5835202265544044,
          0.831273864244754,
          0.3088841588572144
         ],
         "xaxis": "x2",
         "y": [
          10,
          30,
          50
         ],
         "yaxis": "y2"
        }
       ],
       "layout": {
        "annotations": [
         {
          "font": {},
          "showarrow": false,
          "text": "2017",
          "x": 0.24,
          "xanchor": "center",
          "xref": "paper",
          "y": 1,
          "yanchor": "bottom",
          "yref": "paper"
         },
         {
          "font": {},
          "showarrow": false,
          "text": "2018",
          "x": 0.74,
          "xanchor": "center",
          "xref": "paper",
          "y": 1,
          "yanchor": "bottom",
          "yref": "paper"
         },
         {
          "font": {},
          "showarrow": false,
          "text": "uncut",
          "textangle": 90,
          "x": 0.98,
          "xanchor": "left",
          "xref": "paper",
          "y": 0.2425,
          "yanchor": "middle",
          "yref": "paper"
         },
         {
          "font": {},
          "showarrow": false,
          "text": "cut",
          "textangle": 90,
          "x": 0.98,
          "xanchor": "left",
          "xref": "paper",
          "y": 0.7575000000000001,
          "yanchor": "middle",
          "yref": "paper"
         }
        ],
        "autosize": true,
        "legend": {
         "title": {
          "text": "sample type"
         },
         "tracegroupgap": 0
        },
        "margin": {
         "t": 60
        },
        "template": {
         "data": {
          "bar": [
           {
            "error_x": {
             "color": "rgb(36,36,36)"
            },
            "error_y": {
             "color": "rgb(36,36,36)"
            },
            "marker": {
             "line": {
              "color": "white",
              "width": 0.5
             }
            },
            "type": "bar"
           }
          ],
          "barpolar": [
           {
            "marker": {
             "line": {
              "color": "white",
              "width": 0.5
             }
            },
            "type": "barpolar"
           }
          ],
          "carpet": [
           {
            "aaxis": {
             "endlinecolor": "rgb(36,36,36)",
             "gridcolor": "white",
             "linecolor": "white",
             "minorgridcolor": "white",
             "startlinecolor": "rgb(36,36,36)"
            },
            "baxis": {
             "endlinecolor": "rgb(36,36,36)",
             "gridcolor": "white",
             "linecolor": "white",
             "minorgridcolor": "white",
             "startlinecolor": "rgb(36,36,36)"
            },
            "type": "carpet"
           }
          ],
          "choropleth": [
           {
            "colorbar": {
             "outlinewidth": 1,
             "tickcolor": "rgb(36,36,36)",
             "ticks": "outside"
            },
            "type": "choropleth"
           }
          ],
          "contour": [
           {
            "colorbar": {
             "outlinewidth": 1,
             "tickcolor": "rgb(36,36,36)",
             "ticks": "outside"
            },
            "colorscale": [
             [
              0,
              "#440154"
             ],
             [
              0.1111111111111111,
              "#482878"
             ],
             [
              0.2222222222222222,
              "#3e4989"
             ],
             [
              0.3333333333333333,
              "#31688e"
             ],
             [
              0.4444444444444444,
              "#26828e"
             ],
             [
              0.5555555555555556,
              "#1f9e89"
             ],
             [
              0.6666666666666666,
              "#35b779"
             ],
             [
              0.7777777777777778,
              "#6ece58"
             ],
             [
              0.8888888888888888,
              "#b5de2b"
             ],
             [
              1,
              "#fde725"
             ]
            ],
            "type": "contour"
           }
          ],
          "contourcarpet": [
           {
            "colorbar": {
             "outlinewidth": 1,
             "tickcolor": "rgb(36,36,36)",
             "ticks": "outside"
            },
            "type": "contourcarpet"
           }
          ],
          "heatmap": [
           {
            "colorbar": {
             "outlinewidth": 1,
             "tickcolor": "rgb(36,36,36)",
             "ticks": "outside"
            },
            "colorscale": [
             [
              0,
              "#440154"
             ],
             [
              0.1111111111111111,
              "#482878"
             ],
             [
              0.2222222222222222,
              "#3e4989"
             ],
             [
              0.3333333333333333,
              "#31688e"
             ],
             [
              0.4444444444444444,
              "#26828e"
             ],
             [
              0.5555555555555556,
              "#1f9e89"
             ],
             [
              0.6666666666666666,
              "#35b779"
             ],
             [
              0.7777777777777778,
              "#6ece58"
             ],
             [
              0.8888888888888888,
              "#b5de2b"
             ],
             [
              1,
              "#fde725"
             ]
            ],
            "type": "heatmap"
           }
          ],
          "heatmapgl": [
           {
            "colorbar": {
             "outlinewidth": 1,
             "tickcolor": "rgb(36,36,36)",
             "ticks": "outside"
            },
            "colorscale": [
             [
              0,
              "#440154"
             ],
             [
              0.1111111111111111,
              "#482878"
             ],
             [
              0.2222222222222222,
              "#3e4989"
             ],
             [
              0.3333333333333333,
              "#31688e"
             ],
             [
              0.4444444444444444,
              "#26828e"
             ],
             [
              0.5555555555555556,
              "#1f9e89"
             ],
             [
              0.6666666666666666,
              "#35b779"
             ],
             [
              0.7777777777777778,
              "#6ece58"
             ],
             [
              0.8888888888888888,
              "#b5de2b"
             ],
             [
              1,
              "#fde725"
             ]
            ],
            "type": "heatmapgl"
           }
          ],
          "histogram": [
           {
            "marker": {
             "line": {
              "color": "white",
              "width": 0.6
             }
            },
            "type": "histogram"
           }
          ],
          "histogram2d": [
           {
            "colorbar": {
             "outlinewidth": 1,
             "tickcolor": "rgb(36,36,36)",
             "ticks": "outside"
            },
            "colorscale": [
             [
              0,
              "#440154"
             ],
             [
              0.1111111111111111,
              "#482878"
             ],
             [
              0.2222222222222222,
              "#3e4989"
             ],
             [
              0.3333333333333333,
              "#31688e"
             ],
             [
              0.4444444444444444,
              "#26828e"
             ],
             [
              0.5555555555555556,
              "#1f9e89"
             ],
             [
              0.6666666666666666,
              "#35b779"
             ],
             [
              0.7777777777777778,
              "#6ece58"
             ],
             [
              0.8888888888888888,
              "#b5de2b"
             ],
             [
              1,
              "#fde725"
             ]
            ],
            "type": "histogram2d"
           }
          ],
          "histogram2dcontour": [
           {
            "colorbar": {
             "outlinewidth": 1,
             "tickcolor": "rgb(36,36,36)",
             "ticks": "outside"
            },
            "colorscale": [
             [
              0,
              "#440154"
             ],
             [
              0.1111111111111111,
              "#482878"
             ],
             [
              0.2222222222222222,
              "#3e4989"
             ],
             [
              0.3333333333333333,
              "#31688e"
             ],
             [
              0.4444444444444444,
              "#26828e"
             ],
             [
              0.5555555555555556,
              "#1f9e89"
             ],
             [
              0.6666666666666666,
              "#35b779"
             ],
             [
              0.7777777777777778,
              "#6ece58"
             ],
             [
              0.8888888888888888,
              "#b5de2b"
             ],
             [
              1,
              "#fde725"
             ]
            ],
            "type": "histogram2dcontour"
           }
          ],
          "mesh3d": [
           {
            "colorbar": {
             "outlinewidth": 1,
             "tickcolor": "rgb(36,36,36)",
             "ticks": "outside"
            },
            "type": "mesh3d"
           }
          ],
          "parcoords": [
           {
            "line": {
             "colorbar": {
              "outlinewidth": 1,
              "tickcolor": "rgb(36,36,36)",
              "ticks": "outside"
             }
            },
            "type": "parcoords"
           }
          ],
          "pie": [
           {
            "automargin": true,
            "type": "pie"
           }
          ],
          "scatter": [
           {
            "marker": {
             "colorbar": {
              "outlinewidth": 1,
              "tickcolor": "rgb(36,36,36)",
              "ticks": "outside"
             }
            },
            "type": "scatter"
           }
          ],
          "scatter3d": [
           {
            "line": {
             "colorbar": {
              "outlinewidth": 1,
              "tickcolor": "rgb(36,36,36)",
              "ticks": "outside"
             }
            },
            "marker": {
             "colorbar": {
              "outlinewidth": 1,
              "tickcolor": "rgb(36,36,36)",
              "ticks": "outside"
             }
            },
            "type": "scatter3d"
           }
          ],
          "scattercarpet": [
           {
            "marker": {
             "colorbar": {
              "outlinewidth": 1,
              "tickcolor": "rgb(36,36,36)",
              "ticks": "outside"
             }
            },
            "type": "scattercarpet"
           }
          ],
          "scattergeo": [
           {
            "marker": {
             "colorbar": {
              "outlinewidth": 1,
              "tickcolor": "rgb(36,36,36)",
              "ticks": "outside"
             }
            },
            "type": "scattergeo"
           }
          ],
          "scattergl": [
           {
            "marker": {
             "colorbar": {
              "outlinewidth": 1,
              "tickcolor": "rgb(36,36,36)",
              "ticks": "outside"
             }
            },
            "type": "scattergl"
           }
          ],
          "scattermapbox": [
           {
            "marker": {
             "colorbar": {
              "outlinewidth": 1,
              "tickcolor": "rgb(36,36,36)",
              "ticks": "outside"
             }
            },
            "type": "scattermapbox"
           }
          ],
          "scatterpolar": [
           {
            "marker": {
             "colorbar": {
              "outlinewidth": 1,
              "tickcolor": "rgb(36,36,36)",
              "ticks": "outside"
             }
            },
            "type": "scatterpolar"
           }
          ],
          "scatterpolargl": [
           {
            "marker": {
             "colorbar": {
              "outlinewidth": 1,
              "tickcolor": "rgb(36,36,36)",
              "ticks": "outside"
             }
            },
            "type": "scatterpolargl"
           }
          ],
          "scatterternary": [
           {
            "marker": {
             "colorbar": {
              "outlinewidth": 1,
              "tickcolor": "rgb(36,36,36)",
              "ticks": "outside"
             }
            },
            "type": "scatterternary"
           }
          ],
          "surface": [
           {
            "colorbar": {
             "outlinewidth": 1,
             "tickcolor": "rgb(36,36,36)",
             "ticks": "outside"
            },
            "colorscale": [
             [
              0,
              "#440154"
             ],
             [
              0.1111111111111111,
              "#482878"
             ],
             [
              0.2222222222222222,
              "#3e4989"
             ],
             [
              0.3333333333333333,
              "#31688e"
             ],
             [
              0.4444444444444444,
              "#26828e"
             ],
             [
              0.5555555555555556,
              "#1f9e89"
             ],
             [
              0.6666666666666666,
              "#35b779"
             ],
             [
              0.7777777777777778,
              "#6ece58"
             ],
             [
              0.8888888888888888,
              "#b5de2b"
             ],
             [
              1,
              "#fde725"
             ]
            ],
            "type": "surface"
           }
          ],
          "table": [
           {
            "cells": {
             "fill": {
              "color": "rgb(237,237,237)"
             },
             "line": {
              "color": "white"
             }
            },
            "header": {
             "fill": {
              "color": "rgb(217,217,217)"
             },
             "line": {
              "color": "white"
             }
            },
            "type": "table"
           }
          ]
         },
         "layout": {
          "annotationdefaults": {
           "arrowhead": 0,
           "arrowwidth": 1
          },
          "coloraxis": {
           "colorbar": {
            "outlinewidth": 1,
            "tickcolor": "rgb(36,36,36)",
            "ticks": "outside"
           }
          },
          "colorscale": {
           "diverging": [
            [
             0,
             "rgb(103,0,31)"
            ],
            [
             0.1,
             "rgb(178,24,43)"
            ],
            [
             0.2,
             "rgb(214,96,77)"
            ],
            [
             0.3,
             "rgb(244,165,130)"
            ],
            [
             0.4,
             "rgb(253,219,199)"
            ],
            [
             0.5,
             "rgb(247,247,247)"
            ],
            [
             0.6,
             "rgb(209,229,240)"
            ],
            [
             0.7,
             "rgb(146,197,222)"
            ],
            [
             0.8,
             "rgb(67,147,195)"
            ],
            [
             0.9,
             "rgb(33,102,172)"
            ],
            [
             1,
             "rgb(5,48,97)"
            ]
           ],
           "sequential": [
            [
             0,
             "#440154"
            ],
            [
             0.1111111111111111,
             "#482878"
            ],
            [
             0.2222222222222222,
             "#3e4989"
            ],
            [
             0.3333333333333333,
             "#31688e"
            ],
            [
             0.4444444444444444,
             "#26828e"
            ],
            [
             0.5555555555555556,
             "#1f9e89"
            ],
            [
             0.6666666666666666,
             "#35b779"
            ],
            [
             0.7777777777777778,
             "#6ece58"
            ],
            [
             0.8888888888888888,
             "#b5de2b"
            ],
            [
             1,
             "#fde725"
            ]
           ],
           "sequentialminus": [
            [
             0,
             "#440154"
            ],
            [
             0.1111111111111111,
             "#482878"
            ],
            [
             0.2222222222222222,
             "#3e4989"
            ],
            [
             0.3333333333333333,
             "#31688e"
            ],
            [
             0.4444444444444444,
             "#26828e"
            ],
            [
             0.5555555555555556,
             "#1f9e89"
            ],
            [
             0.6666666666666666,
             "#35b779"
            ],
            [
             0.7777777777777778,
             "#6ece58"
            ],
            [
             0.8888888888888888,
             "#b5de2b"
            ],
            [
             1,
             "#fde725"
            ]
           ]
          },
          "colorway": [
           "#1F77B4",
           "#FF7F0E",
           "#2CA02C",
           "#D62728",
           "#9467BD",
           "#8C564B",
           "#E377C2",
           "#7F7F7F",
           "#BCBD22",
           "#17BECF"
          ],
          "font": {
           "color": "rgb(36,36,36)"
          },
          "geo": {
           "bgcolor": "white",
           "lakecolor": "white",
           "landcolor": "white",
           "showlakes": true,
           "showland": true,
           "subunitcolor": "white"
          },
          "hoverlabel": {
           "align": "left"
          },
          "hovermode": "closest",
          "mapbox": {
           "style": "light"
          },
          "paper_bgcolor": "white",
          "plot_bgcolor": "white",
          "polar": {
           "angularaxis": {
            "gridcolor": "rgb(232,232,232)",
            "linecolor": "rgb(36,36,36)",
            "showgrid": false,
            "showline": true,
            "ticks": "outside"
           },
           "bgcolor": "white",
           "radialaxis": {
            "gridcolor": "rgb(232,232,232)",
            "linecolor": "rgb(36,36,36)",
            "showgrid": false,
            "showline": true,
            "ticks": "outside"
           }
          },
          "scene": {
           "xaxis": {
            "backgroundcolor": "white",
            "gridcolor": "rgb(232,232,232)",
            "gridwidth": 2,
            "linecolor": "rgb(36,36,36)",
            "showbackground": true,
            "showgrid": false,
            "showline": true,
            "ticks": "outside",
            "zeroline": false,
            "zerolinecolor": "rgb(36,36,36)"
           },
           "yaxis": {
            "backgroundcolor": "white",
            "gridcolor": "rgb(232,232,232)",
            "gridwidth": 2,
            "linecolor": "rgb(36,36,36)",
            "showbackground": true,
            "showgrid": false,
            "showline": true,
            "ticks": "outside",
            "zeroline": false,
            "zerolinecolor": "rgb(36,36,36)"
           },
           "zaxis": {
            "backgroundcolor": "white",
            "gridcolor": "rgb(232,232,232)",
            "gridwidth": 2,
            "linecolor": "rgb(36,36,36)",
            "showbackground": true,
            "showgrid": false,
            "showline": true,
            "ticks": "outside",
            "zeroline": false,
            "zerolinecolor": "rgb(36,36,36)"
           }
          },
          "shapedefaults": {
           "fillcolor": "black",
           "line": {
            "width": 0
           },
           "opacity": 0.3
          },
          "ternary": {
           "aaxis": {
            "gridcolor": "rgb(232,232,232)",
            "linecolor": "rgb(36,36,36)",
            "showgrid": false,
            "showline": true,
            "ticks": "outside"
           },
           "baxis": {
            "gridcolor": "rgb(232,232,232)",
            "linecolor": "rgb(36,36,36)",
            "showgrid": false,
            "showline": true,
            "ticks": "outside"
           },
           "bgcolor": "white",
           "caxis": {
            "gridcolor": "rgb(232,232,232)",
            "linecolor": "rgb(36,36,36)",
            "showgrid": false,
            "showline": true,
            "ticks": "outside"
           }
          },
          "title": {
           "x": 0.05
          },
          "xaxis": {
           "automargin": true,
           "gridcolor": "rgb(232,232,232)",
           "linecolor": "rgb(36,36,36)",
           "showgrid": false,
           "showline": true,
           "ticks": "outside",
           "title": {
            "standoff": 15
           },
           "zeroline": false,
           "zerolinecolor": "rgb(36,36,36)"
          },
          "yaxis": {
           "automargin": true,
           "gridcolor": "rgb(232,232,232)",
           "linecolor": "rgb(36,36,36)",
           "showgrid": false,
           "showline": true,
           "ticks": "outside",
           "title": {
            "standoff": 15
           },
           "zeroline": false,
           "zerolinecolor": "rgb(36,36,36)"
          }
         }
        },
        "xaxis": {
         "anchor": "y",
         "autorange": true,
         "domain": [
          0,
          0.48
         ],
         "range": [
          -1.7955022973155625,
          2.3972006040288365
         ],
         "title": {
          "text": "PC1"
         },
         "type": "linear"
        },
        "xaxis2": {
         "anchor": "y2",
         "autorange": true,
         "domain": [
          0.5,
          0.98
         ],
         "matches": "x",
         "range": [
          -1.7955022973155625,
          2.3972006040288365
         ],
         "title": {
          "text": "PC1"
         },
         "type": "linear"
        },
        "xaxis3": {
         "anchor": "y3",
         "autorange": true,
         "domain": [
          0,
          0.48
         ],
         "matches": "x",
         "range": [
          -1.7955022973155625,
          2.3972006040288365
         ],
         "showticklabels": false,
         "type": "linear"
        },
        "xaxis4": {
         "anchor": "y4",
         "autorange": true,
         "domain": [
          0.5,
          0.98
         ],
         "matches": "x",
         "range": [
          -1.7955022973155625,
          2.3972006040288365
         ],
         "showticklabels": false,
         "type": "linear"
        },
        "yaxis": {
         "anchor": "x",
         "autorange": true,
         "domain": [
          0,
          0.485
         ],
         "range": [
          56.17083284434534,
          -26.170832844345345
         ],
         "title": {
          "text": "Depth (cm)"
         },
         "type": "linear"
        },
        "yaxis2": {
         "anchor": "x2",
         "autorange": true,
         "domain": [
          0,
          0.485
         ],
         "matches": "y",
         "range": [
          56.17083284434534,
          -26.170832844345345
         ],
         "showticklabels": false,
         "type": "linear"
        },
        "yaxis3": {
         "anchor": "x3",
         "autorange": true,
         "domain": [
          0.515,
          1
         ],
         "matches": "y",
         "range": [
          56.17083284434534,
          -26.170832844345345
         ],
         "title": {
          "text": "Depth (cm)"
         },
         "type": "linear"
        },
        "yaxis4": {
         "anchor": "x4",
         "autorange": true,
         "domain": [
          0.515,
          1
         ],
         "matches": "y",
         "range": [
          56.17083284434534,
          -26.170832844345345
         ],
         "showticklabels": false,
         "type": "linear"
        }
       }
      },
      "image/png": "[encoded data removed]",
      "text/html": [
       "<div>\n",
       "        \n",
       "        \n",
       "            <div id=\"513b0d9f-a043-464d-a68f-c16eb9d7dd37\" class=\"plotly-graph-div\" style=\"height:525px; width:100%;\"></div>\n",
       "            <script type=\"text/javascript\">\n",
       "                require([\"plotly\"], function(Plotly) {\n",
       "                    window.PLOTLYENV=window.PLOTLYENV || {};\n",
       "                    \n",
       "                if (document.getElementById(\"513b0d9f-a043-464d-a68f-c16eb9d7dd37\")) {\n",
       "                    Plotly.newPlot(\n",
       "                        '513b0d9f-a043-464d-a68f-c16eb9d7dd37',\n",
       "                        [{\"error_x\": {\"array\": [0.24500238537442584]}, \"hoverlabel\": {\"namelength\": 0}, \"hovertemplate\": \"Type_2=tree<br>Treatment=cut<br>Year=2017<br>mean=%{x}<br>Depth=%{y}\", \"legendgroup\": \"tree\", \"marker\": {\"color\": \"orange\", \"symbol\": \"circle\"}, \"mode\": \"markers\", \"name\": \"tree\", \"showlegend\": true, \"type\": \"scatter\", \"x\": [-0.7713786740313691], \"xaxis\": \"x3\", \"y\": [-20], \"yaxis\": \"y3\"}, {\"error_x\": {\"array\": [0.313657731944975]}, \"hoverlabel\": {\"namelength\": 0}, \"hovertemplate\": \"Type_2=tree<br>Treatment=cut<br>Year=2018<br>mean=%{x}<br>Depth=%{y}\", \"legendgroup\": \"tree\", \"marker\": {\"color\": \"orange\", \"symbol\": \"circle\"}, \"mode\": \"markers\", \"name\": \"tree\", \"showlegend\": false, \"type\": \"scatter\", \"x\": [-0.6991262947165557], \"xaxis\": \"x4\", \"y\": [-20], \"yaxis\": \"y4\"}, {\"error_x\": {\"array\": [0.1903714306218133]}, \"hoverlabel\": {\"namelength\": 0}, \"hovertemplate\": \"Type_2=tree<br>Treatment=uncut<br>Year=2017<br>mean=%{x}<br>Depth=%{y}\", \"legendgroup\": \"tree\", \"marker\": {\"color\": \"orange\", \"symbol\": \"circle\"}, \"mode\": \"markers\", \"name\": \"tree\", \"showlegend\": false, \"type\": \"scatter\", \"x\": [-1.4090407882901508], \"xaxis\": \"x\", \"y\": [-20], \"yaxis\": \"y\"}, {\"error_x\": {\"array\": [0.24358862792181257]}, \"hoverlabel\": {\"namelength\": 0}, \"hovertemplate\": \"Type_2=tree<br>Treatment=uncut<br>Year=2018<br>mean=%{x}<br>Depth=%{y}\", \"legendgroup\": \"tree\", \"marker\": {\"color\": \"orange\", \"symbol\": \"circle\"}, \"mode\": \"markers\", \"name\": \"tree\", \"showlegend\": false, \"type\": \"scatter\", \"x\": [-1.2636514543209414], \"xaxis\": \"x2\", \"y\": [-20], \"yaxis\": \"y2\"}, {\"error_x\": {\"array\": [0.3412649809602107]}, \"hoverlabel\": {\"namelength\": 0}, \"hovertemplate\": \"Type_2=grass<br>Treatment=cut<br>Year=2017<br>mean=%{x}<br>Depth=%{y}\", \"legendgroup\": \"grass\", \"marker\": {\"color\": \"blue\", \"symbol\": \"circle\"}, \"mode\": \"markers\", \"name\": \"grass\", \"showlegend\": true, \"type\": \"scatter\", \"x\": [0.16300258149769128], \"xaxis\": \"x3\", \"y\": [-10], \"yaxis\": \"y3\"}, {\"error_x\": {\"array\": [0.42226838555207985]}, \"hoverlabel\": {\"namelength\": 0}, \"hovertemplate\": \"Type_2=grass<br>Treatment=cut<br>Year=2018<br>mean=%{x}<br>Depth=%{y}\", \"legendgroup\": \"grass\", \"marker\": {\"color\": \"blue\", \"symbol\": \"circle\"}, \"mode\": \"markers\", \"name\": \"grass\", \"showlegend\": false, \"type\": \"scatter\", \"x\": [0.5378715076810487], \"xaxis\": \"x4\", \"y\": [-10], \"yaxis\": \"y4\"}, {\"error_x\": {\"array\": [0.4035284000712878]}, \"hoverlabel\": {\"namelength\": 0}, \"hovertemplate\": \"Type_2=grass<br>Treatment=uncut<br>Year=2017<br>mean=%{x}<br>Depth=%{y}\", \"legendgroup\": \"grass\", \"marker\": {\"color\": \"blue\", \"symbol\": \"circle\"}, \"mode\": \"markers\", \"name\": \"grass\", \"showlegend\": false, \"type\": \"scatter\", \"x\": [0.18006020975207201], \"xaxis\": \"x\", \"y\": [-10], \"yaxis\": \"y\"}, {\"error_x\": {\"array\": [0.5034854502543264]}, \"hoverlabel\": {\"namelength\": 0}, \"hovertemplate\": \"Type_2=grass<br>Treatment=uncut<br>Year=2018<br>mean=%{x}<br>Depth=%{y}\", \"legendgroup\": \"grass\", \"marker\": {\"color\": \"blue\", \"symbol\": \"circle\"}, \"mode\": \"markers\", \"name\": \"grass\", \"showlegend\": false, \"type\": \"scatter\", \"x\": [0.8655778525721486], \"xaxis\": \"x2\", \"y\": [-10], \"yaxis\": \"y2\"}, {\"error_x\": {\"array\": [0.06746297260881472, 0.5285133913467124, 0.4294731972607914]}, \"hoverlabel\": {\"namelength\": 0}, \"hovertemplate\": \"Type_2=soil<br>Treatment=cut<br>Year=2017<br>mean=%{x}<br>Depth=%{y}\", \"legendgroup\": \"soil\", \"marker\": {\"color\": \"gray\", \"symbol\": \"circle\"}, \"mode\": \"markers\", \"name\": \"soil\", \"showlegend\": true, \"type\": \"scatter\", \"x\": [1.6075056605207816, 0.21949923037033725, -0.0022087103198465963], \"xaxis\": \"x3\", \"y\": [10, 30, 50], \"yaxis\": \"y3\"}, {\"error_x\": {\"array\": [0.3597499586641048, 0.28845924494185426, 0.49760379127404136]}, \"hoverlabel\": {\"namelength\": 0}, \"hovertemplate\": \"Type_2=soil<br>Treatment=cut<br>Year=2018<br>mean=%{x}<br>Depth=%{y}\", \"legendgroup\": \"soil\", \"marker\": {\"color\": \"gray\", \"symbol\": \"circle\"}, \"mode\": \"markers\", \"name\": \"soil\", \"showlegend\": false, \"type\": \"scatter\", \"x\": [1.810376130143266, 1.482708178146283, 1.0656552976624225], \"xaxis\": \"x4\", \"y\": [10, 30, 50], \"yaxis\": \"y4\"}, {\"error_x\": {\"array\": [0.22961342777191865, 0.37367853327956857, 0.3425091246708607]}, \"hoverlabel\": {\"namelength\": 0}, \"hovertemplate\": \"Type_2=soil<br>Treatment=uncut<br>Year=2017<br>mean=%{x}<br>Depth=%{y}\", \"legendgroup\": \"soil\", \"marker\": {\"color\": \"gray\", \"symbol\": \"circle\"}, \"mode\": \"markers\", \"name\": \"soil\", \"showlegend\": false, \"type\": \"scatter\", \"x\": [1.7005957645808878, 0.28710352379744003, -0.21678806875956586], \"xaxis\": \"x\", \"y\": [10, 30, 50], \"yaxis\": \"y\"}, {\"error_x\": {\"array\": [0.3050111350117192, 1.3604298615592618, 1.0121997012248494]}, \"hoverlabel\": {\"namelength\": 0}, \"hovertemplate\": \"Type_2=soil<br>Treatment=uncut<br>Year=2018<br>mean=%{x}<br>Depth=%{y}\", \"legendgroup\": \"soil\", \"marker\": {\"color\": \"gray\", \"symbol\": \"circle\"}, \"mode\": \"markers\", \"name\": \"soil\", \"showlegend\": false, \"type\": \"scatter\", \"x\": [1.5835202265544044, 0.831273864244754, 0.3088841588572144], \"xaxis\": \"x2\", \"y\": [10, 30, 50], \"yaxis\": \"y2\"}],\n",
       "                        {\"annotations\": [{\"font\": {}, \"showarrow\": false, \"text\": \"2017\", \"x\": 0.24, \"xanchor\": \"center\", \"xref\": \"paper\", \"y\": 1.0, \"yanchor\": \"bottom\", \"yref\": \"paper\"}, {\"font\": {}, \"showarrow\": false, \"text\": \"2018\", \"x\": 0.74, \"xanchor\": \"center\", \"xref\": \"paper\", \"y\": 1.0, \"yanchor\": \"bottom\", \"yref\": \"paper\"}, {\"font\": {}, \"showarrow\": false, \"text\": \"uncut\", \"textangle\": 90, \"x\": 0.98, \"xanchor\": \"left\", \"xref\": \"paper\", \"y\": 0.2425, \"yanchor\": \"middle\", \"yref\": \"paper\"}, {\"font\": {}, \"showarrow\": false, \"text\": \"cut\", \"textangle\": 90, \"x\": 0.98, \"xanchor\": \"left\", \"xref\": \"paper\", \"y\": 0.7575000000000001, \"yanchor\": \"middle\", \"yref\": \"paper\"}], \"legend\": {\"title\": {\"text\": \"sample type\"}, \"tracegroupgap\": 0}, \"margin\": {\"t\": 60}, \"template\": {\"data\": {\"bar\": [{\"error_x\": {\"color\": \"rgb(36,36,36)\"}, \"error_y\": {\"color\": \"rgb(36,36,36)\"}, \"marker\": {\"line\": {\"color\": \"white\", \"width\": 0.5}}, \"type\": \"bar\"}], \"barpolar\": [{\"marker\": {\"line\": {\"color\": \"white\", \"width\": 0.5}}, \"type\": \"barpolar\"}], \"carpet\": [{\"aaxis\": {\"endlinecolor\": \"rgb(36,36,36)\", \"gridcolor\": \"white\", \"linecolor\": \"white\", \"minorgridcolor\": \"white\", \"startlinecolor\": \"rgb(36,36,36)\"}, \"baxis\": {\"endlinecolor\": \"rgb(36,36,36)\", \"gridcolor\": \"white\", \"linecolor\": \"white\", \"minorgridcolor\": \"white\", \"startlinecolor\": \"rgb(36,36,36)\"}, \"type\": \"carpet\"}], \"choropleth\": [{\"colorbar\": {\"outlinewidth\": 1, \"tickcolor\": \"rgb(36,36,36)\", \"ticks\": \"outside\"}, \"type\": \"choropleth\"}], \"contour\": [{\"colorbar\": {\"outlinewidth\": 1, \"tickcolor\": \"rgb(36,36,36)\", \"ticks\": \"outside\"}, \"colorscale\": [[0.0, \"#440154\"], [0.1111111111111111, \"#482878\"], [0.2222222222222222, \"#3e4989\"], [0.3333333333333333, \"#31688e\"], [0.4444444444444444, \"#26828e\"], [0.5555555555555556, \"#1f9e89\"], [0.6666666666666666, \"#35b779\"], [0.7777777777777778, \"#6ece58\"], [0.8888888888888888, \"#b5de2b\"], [1.0, \"#fde725\"]], \"type\": \"contour\"}], \"contourcarpet\": [{\"colorbar\": {\"outlinewidth\": 1, \"tickcolor\": \"rgb(36,36,36)\", \"ticks\": \"outside\"}, \"type\": \"contourcarpet\"}], \"heatmap\": [{\"colorbar\": {\"outlinewidth\": 1, \"tickcolor\": \"rgb(36,36,36)\", \"ticks\": \"outside\"}, \"colorscale\": [[0.0, \"#440154\"], [0.1111111111111111, \"#482878\"], [0.2222222222222222, \"#3e4989\"], [0.3333333333333333, \"#31688e\"], [0.4444444444444444, \"#26828e\"], [0.5555555555555556, \"#1f9e89\"], [0.6666666666666666, \"#35b779\"], [0.7777777777777778, \"#6ece58\"], [0.8888888888888888, \"#b5de2b\"], [1.0, \"#fde725\"]], \"type\": \"heatmap\"}], \"heatmapgl\": [{\"colorbar\": {\"outlinewidth\": 1, \"tickcolor\": \"rgb(36,36,36)\", \"ticks\": \"outside\"}, \"colorscale\": [[0.0, \"#440154\"], [0.1111111111111111, \"#482878\"], [0.2222222222222222, \"#3e4989\"], [0.3333333333333333, \"#31688e\"], [0.4444444444444444, \"#26828e\"], [0.5555555555555556, \"#1f9e89\"], [0.6666666666666666, \"#35b779\"], [0.7777777777777778, \"#6ece58\"], [0.8888888888888888, \"#b5de2b\"], [1.0, \"#fde725\"]], \"type\": \"heatmapgl\"}], \"histogram\": [{\"marker\": {\"line\": {\"color\": \"white\", \"width\": 0.6}}, \"type\": \"histogram\"}], \"histogram2d\": [{\"colorbar\": {\"outlinewidth\": 1, \"tickcolor\": \"rgb(36,36,36)\", \"ticks\": \"outside\"}, \"colorscale\": [[0.0, \"#440154\"], [0.1111111111111111, \"#482878\"], [0.2222222222222222, \"#3e4989\"], [0.3333333333333333, \"#31688e\"], [0.4444444444444444, \"#26828e\"], [0.5555555555555556, \"#1f9e89\"], [0.6666666666666666, \"#35b779\"], [0.7777777777777778, \"#6ece58\"], [0.8888888888888888, \"#b5de2b\"], [1.0, \"#fde725\"]], \"type\": \"histogram2d\"}], \"histogram2dcontour\": [{\"colorbar\": {\"outlinewidth\": 1, \"tickcolor\": \"rgb(36,36,36)\", \"ticks\": \"outside\"}, \"colorscale\": [[0.0, \"#440154\"], [0.1111111111111111, \"#482878\"], [0.2222222222222222, \"#3e4989\"], [0.3333333333333333, \"#31688e\"], [0.4444444444444444, \"#26828e\"], [0.5555555555555556, \"#1f9e89\"], [0.6666666666666666, \"#35b779\"], [0.7777777777777778, \"#6ece58\"], [0.8888888888888888, \"#b5de2b\"], [1.0, \"#fde725\"]], \"type\": \"histogram2dcontour\"}], \"mesh3d\": [{\"colorbar\": {\"outlinewidth\": 1, \"tickcolor\": \"rgb(36,36,36)\", \"ticks\": \"outside\"}, \"type\": \"mesh3d\"}], \"parcoords\": [{\"line\": {\"colorbar\": {\"outlinewidth\": 1, \"tickcolor\": \"rgb(36,36,36)\", \"ticks\": \"outside\"}}, \"type\": \"parcoords\"}], \"pie\": [{\"automargin\": true, \"type\": \"pie\"}], \"scatter\": [{\"marker\": {\"colorbar\": {\"outlinewidth\": 1, \"tickcolor\": \"rgb(36,36,36)\", \"ticks\": \"outside\"}}, \"type\": \"scatter\"}], \"scatter3d\": [{\"line\": {\"colorbar\": {\"outlinewidth\": 1, \"tickcolor\": \"rgb(36,36,36)\", \"ticks\": \"outside\"}}, \"marker\": {\"colorbar\": {\"outlinewidth\": 1, \"tickcolor\": \"rgb(36,36,36)\", \"ticks\": \"outside\"}}, \"type\": \"scatter3d\"}], \"scattercarpet\": [{\"marker\": {\"colorbar\": {\"outlinewidth\": 1, \"tickcolor\": \"rgb(36,36,36)\", \"ticks\": \"outside\"}}, \"type\": \"scattercarpet\"}], \"scattergeo\": [{\"marker\": {\"colorbar\": {\"outlinewidth\": 1, \"tickcolor\": \"rgb(36,36,36)\", \"ticks\": \"outside\"}}, \"type\": \"scattergeo\"}], \"scattergl\": [{\"marker\": {\"colorbar\": {\"outlinewidth\": 1, \"tickcolor\": \"rgb(36,36,36)\", \"ticks\": \"outside\"}}, \"type\": \"scattergl\"}], \"scattermapbox\": [{\"marker\": {\"colorbar\": {\"outlinewidth\": 1, \"tickcolor\": \"rgb(36,36,36)\", \"ticks\": \"outside\"}}, \"type\": \"scattermapbox\"}], \"scatterpolar\": [{\"marker\": {\"colorbar\": {\"outlinewidth\": 1, \"tickcolor\": \"rgb(36,36,36)\", \"ticks\": \"outside\"}}, \"type\": \"scatterpolar\"}], \"scatterpolargl\": [{\"marker\": {\"colorbar\": {\"outlinewidth\": 1, \"tickcolor\": \"rgb(36,36,36)\", \"ticks\": \"outside\"}}, \"type\": \"scatterpolargl\"}], \"scatterternary\": [{\"marker\": {\"colorbar\": {\"outlinewidth\": 1, \"tickcolor\": \"rgb(36,36,36)\", \"ticks\": \"outside\"}}, \"type\": \"scatterternary\"}], \"surface\": [{\"colorbar\": {\"outlinewidth\": 1, \"tickcolor\": \"rgb(36,36,36)\", \"ticks\": \"outside\"}, \"colorscale\": [[0.0, \"#440154\"], [0.1111111111111111, \"#482878\"], [0.2222222222222222, \"#3e4989\"], [0.3333333333333333, \"#31688e\"], [0.4444444444444444, \"#26828e\"], [0.5555555555555556, \"#1f9e89\"], [0.6666666666666666, \"#35b779\"], [0.7777777777777778, \"#6ece58\"], [0.8888888888888888, \"#b5de2b\"], [1.0, \"#fde725\"]], \"type\": \"surface\"}], \"table\": [{\"cells\": {\"fill\": {\"color\": \"rgb(237,237,237)\"}, \"line\": {\"color\": \"white\"}}, \"header\": {\"fill\": {\"color\": \"rgb(217,217,217)\"}, \"line\": {\"color\": \"white\"}}, \"type\": \"table\"}]}, \"layout\": {\"annotationdefaults\": {\"arrowhead\": 0, \"arrowwidth\": 1}, \"coloraxis\": {\"colorbar\": {\"outlinewidth\": 1, \"tickcolor\": \"rgb(36,36,36)\", \"ticks\": \"outside\"}}, \"colorscale\": {\"diverging\": [[0.0, \"rgb(103,0,31)\"], [0.1, \"rgb(178,24,43)\"], [0.2, \"rgb(214,96,77)\"], [0.3, \"rgb(244,165,130)\"], [0.4, \"rgb(253,219,199)\"], [0.5, \"rgb(247,247,247)\"], [0.6, \"rgb(209,229,240)\"], [0.7, \"rgb(146,197,222)\"], [0.8, \"rgb(67,147,195)\"], [0.9, \"rgb(33,102,172)\"], [1.0, \"rgb(5,48,97)\"]], \"sequential\": [[0.0, \"#440154\"], [0.1111111111111111, \"#482878\"], [0.2222222222222222, \"#3e4989\"], [0.3333333333333333, \"#31688e\"], [0.4444444444444444, \"#26828e\"], [0.5555555555555556, \"#1f9e89\"], [0.6666666666666666, \"#35b779\"], [0.7777777777777778, \"#6ece58\"], [0.8888888888888888, \"#b5de2b\"], [1.0, \"#fde725\"]], \"sequentialminus\": [[0.0, \"#440154\"], [0.1111111111111111, \"#482878\"], [0.2222222222222222, \"#3e4989\"], [0.3333333333333333, \"#31688e\"], [0.4444444444444444, \"#26828e\"], [0.5555555555555556, \"#1f9e89\"], [0.6666666666666666, \"#35b779\"], [0.7777777777777778, \"#6ece58\"], [0.8888888888888888, \"#b5de2b\"], [1.0, \"#fde725\"]]}, \"colorway\": [\"#1F77B4\", \"#FF7F0E\", \"#2CA02C\", \"#D62728\", \"#9467BD\", \"#8C564B\", \"#E377C2\", \"#7F7F7F\", \"#BCBD22\", \"#17BECF\"], \"font\": {\"color\": \"rgb(36,36,36)\"}, \"geo\": {\"bgcolor\": \"white\", \"lakecolor\": \"white\", \"landcolor\": \"white\", \"showlakes\": true, \"showland\": true, \"subunitcolor\": \"white\"}, \"hoverlabel\": {\"align\": \"left\"}, \"hovermode\": \"closest\", \"mapbox\": {\"style\": \"light\"}, \"paper_bgcolor\": \"white\", \"plot_bgcolor\": \"white\", \"polar\": {\"angularaxis\": {\"gridcolor\": \"rgb(232,232,232)\", \"linecolor\": \"rgb(36,36,36)\", \"showgrid\": false, \"showline\": true, \"ticks\": \"outside\"}, \"bgcolor\": \"white\", \"radialaxis\": {\"gridcolor\": \"rgb(232,232,232)\", \"linecolor\": \"rgb(36,36,36)\", \"showgrid\": false, \"showline\": true, \"ticks\": \"outside\"}}, \"scene\": {\"xaxis\": {\"backgroundcolor\": \"white\", \"gridcolor\": \"rgb(232,232,232)\", \"gridwidth\": 2, \"linecolor\": \"rgb(36,36,36)\", \"showbackground\": true, \"showgrid\": false, \"showline\": true, \"ticks\": \"outside\", \"zeroline\": false, \"zerolinecolor\": \"rgb(36,36,36)\"}, \"yaxis\": {\"backgroundcolor\": \"white\", \"gridcolor\": \"rgb(232,232,232)\", \"gridwidth\": 2, \"linecolor\": \"rgb(36,36,36)\", \"showbackground\": true, \"showgrid\": false, \"showline\": true, \"ticks\": \"outside\", \"zeroline\": false, \"zerolinecolor\": \"rgb(36,36,36)\"}, \"zaxis\": {\"backgroundcolor\": \"white\", \"gridcolor\": \"rgb(232,232,232)\", \"gridwidth\": 2, \"linecolor\": \"rgb(36,36,36)\", \"showbackground\": true, \"showgrid\": false, \"showline\": true, \"ticks\": \"outside\", \"zeroline\": false, \"zerolinecolor\": \"rgb(36,36,36)\"}}, \"shapedefaults\": {\"fillcolor\": \"black\", \"line\": {\"width\": 0}, \"opacity\": 0.3}, \"ternary\": {\"aaxis\": {\"gridcolor\": \"rgb(232,232,232)\", \"linecolor\": \"rgb(36,36,36)\", \"showgrid\": false, \"showline\": true, \"ticks\": \"outside\"}, \"baxis\": {\"gridcolor\": \"rgb(232,232,232)\", \"linecolor\": \"rgb(36,36,36)\", \"showgrid\": false, \"showline\": true, \"ticks\": \"outside\"}, \"bgcolor\": \"white\", \"caxis\": {\"gridcolor\": \"rgb(232,232,232)\", \"linecolor\": \"rgb(36,36,36)\", \"showgrid\": false, \"showline\": true, \"ticks\": \"outside\"}}, \"title\": {\"x\": 0.05}, \"xaxis\": {\"automargin\": true, \"gridcolor\": \"rgb(232,232,232)\", \"linecolor\": \"rgb(36,36,36)\", \"showgrid\": false, \"showline\": true, \"ticks\": \"outside\", \"title\": {\"standoff\": 15}, \"zeroline\": false, \"zerolinecolor\": \"rgb(36,36,36)\"}, \"yaxis\": {\"automargin\": true, \"gridcolor\": \"rgb(232,232,232)\", \"linecolor\": \"rgb(36,36,36)\", \"showgrid\": false, \"showline\": true, \"ticks\": \"outside\", \"title\": {\"standoff\": 15}, \"zeroline\": false, \"zerolinecolor\": \"rgb(36,36,36)\"}}}, \"xaxis\": {\"anchor\": \"y\", \"domain\": [0.0, 0.48], \"title\": {\"text\": \"PC1\"}}, \"xaxis2\": {\"anchor\": \"y2\", \"domain\": [0.5, 0.98], \"matches\": \"x\", \"title\": {\"text\": \"PC1\"}}, \"xaxis3\": {\"anchor\": \"y3\", \"domain\": [0.0, 0.48], \"matches\": \"x\", \"showticklabels\": false}, \"xaxis4\": {\"anchor\": \"y4\", \"domain\": [0.5, 0.98], \"matches\": \"x\", \"showticklabels\": false}, \"yaxis\": {\"anchor\": \"x\", \"autorange\": \"reversed\", \"domain\": [0.0, 0.485], \"title\": {\"text\": \"Depth (cm)\"}}, \"yaxis2\": {\"anchor\": \"x2\", \"domain\": [0.0, 0.485], \"matches\": \"y\", \"showticklabels\": false}, \"yaxis3\": {\"anchor\": \"x3\", \"autorange\": \"reversed\", \"domain\": [0.515, 1.0], \"matches\": \"y\", \"title\": {\"text\": \"Depth (cm)\"}}, \"yaxis4\": {\"anchor\": \"x4\", \"domain\": [0.515, 1.0], \"matches\": \"y\", \"showticklabels\": false}},\n",
       "                        {\"responsive\": true}\n",
       "                    ).then(function(){\n",
       "                            \n",
       "var gd = document.getElementById('513b0d9f-a043-464d-a68f-c16eb9d7dd37');\n",
       "var x = new MutationObserver(function (mutations, observer) {{\n",
       "        var display = window.getComputedStyle(gd).display;\n",
       "        if (!display || display === 'none') {{\n",
       "            console.log([gd, 'removed!']);\n",
       "            Plotly.purge(gd);\n",
       "            observer.disconnect();\n",
       "        }}\n",
       "}});\n",
       "\n",
       "// Listen for the removal of the full notebook cells\n",
       "var notebookContainer = gd.closest('#notebook-container');\n",
       "if (notebookContainer) {{\n",
       "    x.observe(notebookContainer, {childList: true});\n",
       "}}\n",
       "\n",
       "// Listen for the clearing of the current output cell\n",
       "var outputEl = gd.closest('.output');\n",
       "if (outputEl) {{\n",
       "    x.observe(outputEl, {childList: true});\n",
       "}}\n",
       "\n",
       "                        })\n",
       "                };\n",
       "                });\n",
       "            </script>\n",
       "        </div>"
      ]
     },
     "metadata": {},
     "output_type": "display_data"
    }
   ],
   "source": [
    "# create dataframe with mean and standard error for d18O isotopes for plotting\n",
    "df_pc1_mean = df.groupby(['Year', 'Type_2', 'Treatment', 'Depth'], as_index=False)['PC1'].agg([np.mean, ss.sem]).reset_index()\n",
    "\n",
    "# plot mean PC1 across soil depths\n",
    "fig_pc1 = px.scatter(df_pc1_mean, x = 'mean', y = 'Depth', color = 'Type_2', error_x = 'sem', \n",
    "                     facet_col = 'Year', facet_row = 'Treatment',\n",
    "                     template = 'simple_white',\n",
    "                     color_discrete_sequence = [\"orange\", \"blue\", \"gray\"],\n",
    "                     category_orders = {\"Type_2\": ['tree', 'grass', 'soil']})\n",
    "fig_pc1.update_yaxes(title_text='Depth (cm)', col=1, autorange = 'reversed')\n",
    "fig_pc1.update_xaxes(title_text = 'PC1', row=1)\n",
    "fig_pc1.update_layout(legend_title_text='sample type')\n",
    "fig_pc1.for_each_annotation(lambda a: a.update(text=a.text.split(\"=\")[-1]))\n",
    "fig_pc1.show()"
   ]
  },
  {
   "cell_type": "markdown",
   "metadata": {},
   "source": [
    "## Do soil PC1 values vary with depth?\n",
    "### Regression of PC1 soil samples against depth and year\n",
    "To test if PC1 values vary with depth, regress PC1 against depth. The Depth*Year interaction allows us to account for differences in fractionation due to evaporation between sampling dates, which may result in a different response of how isotopes vary with soil depth."
   ]
  },
  {
   "cell_type": "code",
   "execution_count": 51,
   "metadata": {},
   "outputs": [],
   "source": [
    "# subset the data to only include soil samples\n",
    "df_soil = df.loc[df['Type_2'] == 'soil']"
   ]
  },
  {
   "cell_type": "markdown",
   "metadata": {},
   "source": [
    "In the linear regression below, there is no significant interaction between depth and year. Depth is a significant predictor of PC1, but year is not."
   ]
  },
  {
   "cell_type": "code",
   "execution_count": 53,
   "metadata": {},
   "outputs": [
    {
     "data": {
      "text/html": [
       "<table class=\"simpletable\">\n",
       "<caption>OLS Regression Results</caption>\n",
       "<tr>\n",
       "  <th>Dep. Variable:</th>           <td>PC1</td>       <th>  R-squared:         </th> <td>   0.376</td>\n",
       "</tr>\n",
       "<tr>\n",
       "  <th>Model:</th>                   <td>OLS</td>       <th>  Adj. R-squared:    </th> <td>   0.324</td>\n",
       "</tr>\n",
       "<tr>\n",
       "  <th>Method:</th>             <td>Least Squares</td>  <th>  F-statistic:       </th> <td>   7.232</td>\n",
       "</tr>\n",
       "<tr>\n",
       "  <th>Date:</th>             <td>Wed, 06 May 2020</td> <th>  Prob (F-statistic):</th> <td>0.000641</td>\n",
       "</tr>\n",
       "<tr>\n",
       "  <th>Time:</th>                 <td>11:42:07</td>     <th>  Log-Likelihood:    </th> <td> -51.617</td>\n",
       "</tr>\n",
       "<tr>\n",
       "  <th>No. Observations:</th>      <td>    40</td>      <th>  AIC:               </th> <td>   111.2</td>\n",
       "</tr>\n",
       "<tr>\n",
       "  <th>Df Residuals:</th>          <td>    36</td>      <th>  BIC:               </th> <td>   118.0</td>\n",
       "</tr>\n",
       "<tr>\n",
       "  <th>Df Model:</th>              <td>     3</td>      <th>                     </th>     <td> </td>   \n",
       "</tr>\n",
       "<tr>\n",
       "  <th>Covariance Type:</th>      <td>nonrobust</td>    <th>                     </th>     <td> </td>   \n",
       "</tr>\n",
       "</table>\n",
       "<table class=\"simpletable\">\n",
       "<tr>\n",
       "            <td></td>               <th>coef</th>     <th>std err</th>      <th>t</th>      <th>P>|t|</th>  <th>[0.025</th>    <th>0.975]</th>  \n",
       "</tr>\n",
       "<tr>\n",
       "  <th>Intercept</th>             <td>    1.9330</td> <td>    0.420</td> <td>    4.604</td> <td> 0.000</td> <td>    1.081</td> <td>    2.785</td>\n",
       "</tr>\n",
       "<tr>\n",
       "  <th>C(Year)[T.2018]</th>       <td>    0.0047</td> <td>    0.621</td> <td>    0.008</td> <td> 0.994</td> <td>   -1.254</td> <td>    1.263</td>\n",
       "</tr>\n",
       "<tr>\n",
       "  <th>Depth</th>                 <td>   -0.0444</td> <td>    0.012</td> <td>   -3.704</td> <td> 0.001</td> <td>   -0.069</td> <td>   -0.020</td>\n",
       "</tr>\n",
       "<tr>\n",
       "  <th>Depth:C(Year)[T.2018]</th> <td>    0.0191</td> <td>    0.018</td> <td>    1.066</td> <td> 0.294</td> <td>   -0.017</td> <td>    0.056</td>\n",
       "</tr>\n",
       "</table>\n",
       "<table class=\"simpletable\">\n",
       "<tr>\n",
       "  <th>Omnibus:</th>       <td> 8.575</td> <th>  Durbin-Watson:     </th> <td>   1.051</td>\n",
       "</tr>\n",
       "<tr>\n",
       "  <th>Prob(Omnibus):</th> <td> 0.014</td> <th>  Jarque-Bera (JB):  </th> <td>   8.695</td>\n",
       "</tr>\n",
       "<tr>\n",
       "  <th>Skew:</th>          <td>-0.714</td> <th>  Prob(JB):          </th> <td>  0.0129</td>\n",
       "</tr>\n",
       "<tr>\n",
       "  <th>Kurtosis:</th>      <td> 4.783</td> <th>  Cond. No.          </th> <td>    183.</td>\n",
       "</tr>\n",
       "</table><br/><br/>Warnings:<br/>[1] Standard Errors assume that the covariance matrix of the errors is correctly specified."
      ],
      "text/plain": [
       "<class 'statsmodels.iolib.summary.Summary'>\n",
       "\"\"\"\n",
       "                            OLS Regression Results                            \n",
       "==============================================================================\n",
       "Dep. Variable:                    PC1   R-squared:                       0.376\n",
       "Model:                            OLS   Adj. R-squared:                  0.324\n",
       "Method:                 Least Squares   F-statistic:                     7.232\n",
       "Date:                Wed, 06 May 2020   Prob (F-statistic):           0.000641\n",
       "Time:                        11:42:07   Log-Likelihood:                -51.617\n",
       "No. Observations:                  40   AIC:                             111.2\n",
       "Df Residuals:                      36   BIC:                             118.0\n",
       "Df Model:                           3                                         \n",
       "Covariance Type:            nonrobust                                         \n",
       "=========================================================================================\n",
       "                            coef    std err          t      P>|t|      [0.025      0.975]\n",
       "-----------------------------------------------------------------------------------------\n",
       "Intercept                 1.9330      0.420      4.604      0.000       1.081       2.785\n",
       "C(Year)[T.2018]           0.0047      0.621      0.008      0.994      -1.254       1.263\n",
       "Depth                    -0.0444      0.012     -3.704      0.001      -0.069      -0.020\n",
       "Depth:C(Year)[T.2018]     0.0191      0.018      1.066      0.294      -0.017       0.056\n",
       "==============================================================================\n",
       "Omnibus:                        8.575   Durbin-Watson:                   1.051\n",
       "Prob(Omnibus):                  0.014   Jarque-Bera (JB):                8.695\n",
       "Skew:                          -0.714   Prob(JB):                       0.0129\n",
       "Kurtosis:                       4.783   Cond. No.                         183.\n",
       "==============================================================================\n",
       "\n",
       "Warnings:\n",
       "[1] Standard Errors assume that the covariance matrix of the errors is correctly specified.\n",
       "\"\"\""
      ]
     },
     "execution_count": 53,
     "metadata": {},
     "output_type": "execute_result"
    }
   ],
   "source": [
    "# run a regression with Depth and Year as a predictor for PC1\n",
    "# define year as a categorical variable using 'C()'\n",
    "lm_pc1 = smf.ols('PC1~Depth*C(Year)', data = df_soil).fit()\n",
    "lm_pc1.summary()"
   ]
  },
  {
   "cell_type": "markdown",
   "metadata": {},
   "source": [
    "Typcially, the log of soil depth provides a better fit for soil water isotopes because there is a larger change in isotopic values near the soil surface. This is because evaporative enrichment is largest at the soil surface and differences in isotopic values decrease with soil depth. Here, using log(depth) in the model provides a slightly better fit, but the results and interpretation are the same as the linear model."
   ]
  },
  {
   "cell_type": "code",
   "execution_count": 54,
   "metadata": {},
   "outputs": [],
   "source": [
    "# take the log of the depth column and create a new column called 'Depth_log'\n",
    "df_soil.insert(10, 'Depth_log', df['Depth'].apply(np.log))"
   ]
  },
  {
   "cell_type": "code",
   "execution_count": 55,
   "metadata": {},
   "outputs": [
    {
     "data": {
      "text/html": [
       "<table class=\"simpletable\">\n",
       "<caption>OLS Regression Results</caption>\n",
       "<tr>\n",
       "  <th>Dep. Variable:</th>           <td>PC1</td>       <th>  R-squared:         </th> <td>   0.396</td>\n",
       "</tr>\n",
       "<tr>\n",
       "  <th>Model:</th>                   <td>OLS</td>       <th>  Adj. R-squared:    </th> <td>   0.346</td>\n",
       "</tr>\n",
       "<tr>\n",
       "  <th>Method:</th>             <td>Least Squares</td>  <th>  F-statistic:       </th> <td>   7.866</td>\n",
       "</tr>\n",
       "<tr>\n",
       "  <th>Date:</th>             <td>Wed, 06 May 2020</td> <th>  Prob (F-statistic):</th> <td>0.000366</td>\n",
       "</tr>\n",
       "<tr>\n",
       "  <th>Time:</th>                 <td>11:42:44</td>     <th>  Log-Likelihood:    </th> <td> -50.968</td>\n",
       "</tr>\n",
       "<tr>\n",
       "  <th>No. Observations:</th>      <td>    40</td>      <th>  AIC:               </th> <td>   109.9</td>\n",
       "</tr>\n",
       "<tr>\n",
       "  <th>Df Residuals:</th>          <td>    36</td>      <th>  BIC:               </th> <td>   116.7</td>\n",
       "</tr>\n",
       "<tr>\n",
       "  <th>Df Model:</th>              <td>     3</td>      <th>                     </th>     <td> </td>   \n",
       "</tr>\n",
       "<tr>\n",
       "  <th>Covariance Type:</th>      <td>nonrobust</td>    <th>                     </th>     <td> </td>   \n",
       "</tr>\n",
       "</table>\n",
       "<table class=\"simpletable\">\n",
       "<tr>\n",
       "              <td></td>                 <th>coef</th>     <th>std err</th>      <th>t</th>      <th>P>|t|</th>  <th>[0.025</th>    <th>0.975]</th>  \n",
       "</tr>\n",
       "<tr>\n",
       "  <th>Intercept</th>                 <td>    4.2413</td> <td>    0.956</td> <td>    4.435</td> <td> 0.000</td> <td>    2.302</td> <td>    6.181</td>\n",
       "</tr>\n",
       "<tr>\n",
       "  <th>C(Year)[T.2018]</th>           <td>   -1.1194</td> <td>    1.419</td> <td>   -0.789</td> <td> 0.435</td> <td>   -3.997</td> <td>    1.758</td>\n",
       "</tr>\n",
       "<tr>\n",
       "  <th>Depth_log</th>                 <td>   -1.1368</td> <td>    0.289</td> <td>   -3.931</td> <td> 0.000</td> <td>   -1.723</td> <td>   -0.550</td>\n",
       "</tr>\n",
       "<tr>\n",
       "  <th>Depth_log:C(Year)[T.2018]</th> <td>    0.5311</td> <td>    0.431</td> <td>    1.231</td> <td> 0.226</td> <td>   -0.344</td> <td>    1.406</td>\n",
       "</tr>\n",
       "</table>\n",
       "<table class=\"simpletable\">\n",
       "<tr>\n",
       "  <th>Omnibus:</th>       <td> 7.765</td> <th>  Durbin-Watson:     </th> <td>   1.047</td>\n",
       "</tr>\n",
       "<tr>\n",
       "  <th>Prob(Omnibus):</th> <td> 0.021</td> <th>  Jarque-Bera (JB):  </th> <td>   8.062</td>\n",
       "</tr>\n",
       "<tr>\n",
       "  <th>Skew:</th>          <td>-0.611</td> <th>  Prob(JB):          </th> <td>  0.0178</td>\n",
       "</tr>\n",
       "<tr>\n",
       "  <th>Kurtosis:</th>      <td> 4.829</td> <th>  Cond. No.          </th> <td>    44.2</td>\n",
       "</tr>\n",
       "</table><br/><br/>Warnings:<br/>[1] Standard Errors assume that the covariance matrix of the errors is correctly specified."
      ],
      "text/plain": [
       "<class 'statsmodels.iolib.summary.Summary'>\n",
       "\"\"\"\n",
       "                            OLS Regression Results                            \n",
       "==============================================================================\n",
       "Dep. Variable:                    PC1   R-squared:                       0.396\n",
       "Model:                            OLS   Adj. R-squared:                  0.346\n",
       "Method:                 Least Squares   F-statistic:                     7.866\n",
       "Date:                Wed, 06 May 2020   Prob (F-statistic):           0.000366\n",
       "Time:                        11:42:44   Log-Likelihood:                -50.968\n",
       "No. Observations:                  40   AIC:                             109.9\n",
       "Df Residuals:                      36   BIC:                             116.7\n",
       "Df Model:                           3                                         \n",
       "Covariance Type:            nonrobust                                         \n",
       "=============================================================================================\n",
       "                                coef    std err          t      P>|t|      [0.025      0.975]\n",
       "---------------------------------------------------------------------------------------------\n",
       "Intercept                     4.2413      0.956      4.435      0.000       2.302       6.181\n",
       "C(Year)[T.2018]              -1.1194      1.419     -0.789      0.435      -3.997       1.758\n",
       "Depth_log                    -1.1368      0.289     -3.931      0.000      -1.723      -0.550\n",
       "Depth_log:C(Year)[T.2018]     0.5311      0.431      1.231      0.226      -0.344       1.406\n",
       "==============================================================================\n",
       "Omnibus:                        7.765   Durbin-Watson:                   1.047\n",
       "Prob(Omnibus):                  0.021   Jarque-Bera (JB):                8.062\n",
       "Skew:                          -0.611   Prob(JB):                       0.0178\n",
       "Kurtosis:                       4.829   Cond. No.                         44.2\n",
       "==============================================================================\n",
       "\n",
       "Warnings:\n",
       "[1] Standard Errors assume that the covariance matrix of the errors is correctly specified.\n",
       "\"\"\""
      ]
     },
     "execution_count": 55,
     "metadata": {},
     "output_type": "execute_result"
    }
   ],
   "source": [
    "# regress PC1 against log(Depth) and Year\n",
    "lm_pc1 = smf.ols('PC1~Depth_log*C(Year)', data = df_soil).fit()\n",
    "lm_pc1.summary()"
   ]
  },
  {
   "cell_type": "markdown",
   "metadata": {},
   "source": [
    "Visualizing this relationship, PC1 values tend to decrease with soil depth. There is a stronger relationship between the log(depth) and PC1 in 2017 than 2018. Differences between years in soil water isotopic values may be due to time since the last rainfall when samples were collected."
   ]
  },
  {
   "cell_type": "code",
   "execution_count": 56,
   "metadata": {},
   "outputs": [
    {
     "data": {
      "application/vnd.plotly.v1+json": {
       "config": {
        "plotlyServerURL": "https://plot.ly"
       },
       "data": [
        {
         "hoverlabel": {
          "namelength": 0
         },
         "hovertemplate": "Treatment=cut<br>Year=2017<br>Depth_log=%{x}<br>PC1=%{y}",
         "legendgroup": "cut",
         "marker": {
          "color": "#1F77B4",
          "symbol": "circle"
         },
         "mode": "markers",
         "name": "cut",
         "showlegend": true,
         "type": "scatter",
         "x": [
          2.302585092994046,
          2.302585092994046,
          3.4011973816621555,
          3.4011973816621555,
          3.912023005428146,
          3.912023005428146,
          2.302585092994046,
          3.4011973816621555,
          3.912023005428146
         ],
         "xaxis": "x",
         "y": [
          1.5072016198334277,
          1.5795034577796159,
          -0.6599221812439422,
          0.15132933988128994,
          -0.687416376264339,
          -0.10816872162664574,
          1.7358119039493007,
          1.167090532473664,
          0.788958966931445
         ],
         "yaxis": "y"
        },
        {
         "hoverlabel": {
          "namelength": 0
         },
         "hovertemplate": "<b>OLS trendline</b><br>PC1 = -1.04206 * Depth_log + 3.94835<br>R<sup>2</sup>=0.597374<br><br>Treatment=cut<br>Year=2017<br>Depth_log=%{x}<br>PC1=%{y} <b>(trend)</b>",
         "legendgroup": "cut",
         "marker": {
          "color": "#1F77B4",
          "symbol": "circle"
         },
         "mode": "lines",
         "name": "cut",
         "showlegend": false,
         "type": "scatter",
         "x": [
          2.302585092994046,
          2.302585092994046,
          2.302585092994046,
          3.4011973816621555,
          3.4011973816621555,
          3.4011973816621555,
          3.912023005428146,
          3.912023005428146,
          3.912023005428146
         ],
         "xaxis": "x",
         "y": [
          1.5489158889899328,
          1.5489158889899328,
          1.5489158889899328,
          0.4040956859815754,
          0.4040956859815754,
          0.4040956859815754,
          -0.12821539440023288,
          -0.12821539440023288,
          -0.12821539440023288
         ],
         "yaxis": "y"
        },
        {
         "hoverlabel": {
          "namelength": 0
         },
         "hovertemplate": "Treatment=cut<br>Year=2018<br>Depth_log=%{x}<br>PC1=%{y}",
         "legendgroup": "cut",
         "marker": {
          "color": "#1F77B4",
          "symbol": "circle"
         },
         "mode": "markers",
         "name": "cut",
         "showlegend": false,
         "type": "scatter",
         "x": [
          2.302585092994046,
          3.4011973816621555,
          3.912023005428146,
          2.302585092994046,
          3.4011973816621555,
          3.912023005428146,
          2.302585092994046,
          3.4011973816621555,
          3.912023005428146
         ],
         "xaxis": "x2",
         "y": [
          1.4092751460762072,
          1.2186853401427897,
          0.355839011348432,
          1.4936272903467578,
          1.1704841148453324,
          0.8164531619518417,
          2.5282259540068326,
          2.0589550794507265,
          2.0246737196869935
         ],
         "yaxis": "y2"
        },
        {
         "hoverlabel": {
          "namelength": 0
         },
         "hovertemplate": "<b>OLS trendline</b><br>PC1 = -0.436551 * Depth_log + 2.85218<br>R<sup>2</sup>=0.214991<br><br>Treatment=cut<br>Year=2018<br>Depth_log=%{x}<br>PC1=%{y} <b>(trend)</b>",
         "legendgroup": "cut",
         "marker": {
          "color": "#1F77B4",
          "symbol": "circle"
         },
         "mode": "lines",
         "name": "cut",
         "showlegend": false,
         "type": "scatter",
         "x": [
          2.302585092994046,
          2.302585092994046,
          2.302585092994046,
          3.4011973816621555,
          3.4011973816621555,
          3.4011973816621555,
          3.912023005428146,
          3.912023005428146,
          3.912023005428146
         ],
         "xaxis": "x2",
         "y": [
          1.84698049700647,
          1.84698049700647,
          1.84698049700647,
          1.3673802598716231,
          1.3673802598716231,
          1.3673802598716231,
          1.1443788490738807,
          1.1443788490738807,
          1.1443788490738807
         ],
         "yaxis": "y2"
        },
        {
         "hoverlabel": {
          "namelength": 0
         },
         "hovertemplate": "Treatment=uncut<br>Year=2017<br>Depth_log=%{x}<br>PC1=%{y}",
         "legendgroup": "uncut",
         "marker": {
          "color": "#FF7F0E",
          "symbol": "circle"
         },
         "mode": "markers",
         "name": "uncut",
         "showlegend": true,
         "type": "scatter",
         "x": [
          2.302585092994046,
          2.302585092994046,
          3.4011973816621555,
          3.4011973816621555,
          3.912023005428146,
          3.912023005428146,
          2.302585092994046,
          3.4011973816621555,
          3.912023005428146,
          2.302585092994046,
          3.4011973816621555,
          3.912023005428146,
          3.912023005428146
         ],
         "xaxis": "x",
         "y": [
          1.4333757587249358,
          1.1961087506563683,
          -0.32472869941815213,
          0.09634094984049629,
          -0.6083273735748166,
          -1.0139531341374328,
          2.0194105781059655,
          0.0018080584549414927,
          -0.11156230399831374,
          2.1534879708362813,
          1.3749937863124744,
          -0.3676667831345814,
          1.0175692510473155
         ],
         "yaxis": "y"
        },
        {
         "hoverlabel": {
          "namelength": 0
         },
         "hovertemplate": "<b>OLS trendline</b><br>PC1 = -1.20143 * Depth_log + 4.44445<br>R<sup>2</sup>=0.644055<br><br>Treatment=uncut<br>Year=2017<br>Depth_log=%{x}<br>PC1=%{y} <b>(trend)</b>",
         "legendgroup": "uncut",
         "marker": {
          "color": "#FF7F0E",
          "symbol": "circle"
         },
         "mode": "lines",
         "name": "uncut",
         "showlegend": false,
         "type": "scatter",
         "x": [
          2.302585092994046,
          2.302585092994046,
          2.302585092994046,
          2.302585092994046,
          3.4011973816621555,
          3.4011973816621555,
          3.4011973816621555,
          3.4011973816621555,
          3.912023005428146,
          3.912023005428146,
          3.912023005428146,
          3.912023005428146,
          3.912023005428146
         ],
         "xaxis": "x",
         "y": [
          1.678048812339895,
          1.678048812339895,
          1.678048812339895,
          1.678048812339895,
          0.3581413066693502,
          0.3581413066693502,
          0.3581413066693502,
          0.3581413066693502,
          -0.2555807332643001,
          -0.2555807332643001,
          -0.2555807332643001,
          -0.2555807332643001,
          -0.2555807332643001
         ],
         "yaxis": "y"
        },
        {
         "hoverlabel": {
          "namelength": 0
         },
         "hovertemplate": "Treatment=uncut<br>Year=2018<br>Depth_log=%{x}<br>PC1=%{y}",
         "legendgroup": "uncut",
         "marker": {
          "color": "#FF7F0E",
          "symbol": "circle"
         },
         "mode": "markers",
         "name": "uncut",
         "showlegend": false,
         "type": "scatter",
         "x": [
          2.302585092994046,
          3.4011973816621555,
          3.912023005428146,
          2.302585092994046,
          3.4011973816621555,
          3.912023005428146,
          2.302585092994046,
          3.4011973816621555,
          3.912023005428146
         ],
         "xaxis": "x2",
         "y": [
          1.4815769840223934,
          -1.6327452901198873,
          -1.5122422268762437,
          1.1136261655951782,
          3.0626659657187365,
          1.985129218342232,
          2.155357530045642,
          1.0639009171354128,
          0.45376548510565484
         ],
         "yaxis": "y2"
        },
        {
         "hoverlabel": {
          "namelength": 0
         },
         "hovertemplate": "<b>OLS trendline</b><br>PC1 = -0.77491 * Depth_log + 3.39169<br>R<sup>2</sup>=0.120200<br><br>Treatment=uncut<br>Year=2018<br>Depth_log=%{x}<br>PC1=%{y} <b>(trend)</b>",
         "legendgroup": "uncut",
         "marker": {
          "color": "#FF7F0E",
          "symbol": "circle"
         },
         "mode": "lines",
         "name": "uncut",
         "showlegend": false,
         "type": "scatter",
         "x": [
          2.302585092994046,
          2.302585092994046,
          2.302585092994046,
          3.4011973816621555,
          3.4011973816621555,
          3.4011973816621555,
          3.912023005428146,
          3.912023005428146,
          3.912023005428146
         ],
         "xaxis": "x2",
         "y": [
          1.6073908788130689,
          1.6073908788130689,
          1.6073908788130689,
          0.7560655525387152,
          0.7560655525387152,
          0.7560655525387152,
          0.3602218183045909,
          0.3602218183045909,
          0.3602218183045909
         ],
         "yaxis": "y2"
        }
       ],
       "layout": {
        "annotations": [
         {
          "font": {},
          "showarrow": false,
          "text": "2017",
          "x": 0.245,
          "xanchor": "center",
          "xref": "paper",
          "y": 1,
          "yanchor": "bottom",
          "yref": "paper"
         },
         {
          "font": {},
          "showarrow": false,
          "text": "2018",
          "x": 0.755,
          "xanchor": "center",
          "xref": "paper",
          "y": 1,
          "yanchor": "bottom",
          "yref": "paper"
         }
        ],
        "autosize": true,
        "legend": {
         "title": {
          "text": "Treatment"
         },
         "tracegroupgap": 0
        },
        "margin": {
         "t": 60
        },
        "template": {
         "data": {
          "bar": [
           {
            "error_x": {
             "color": "rgb(36,36,36)"
            },
            "error_y": {
             "color": "rgb(36,36,36)"
            },
            "marker": {
             "line": {
              "color": "white",
              "width": 0.5
             }
            },
            "type": "bar"
           }
          ],
          "barpolar": [
           {
            "marker": {
             "line": {
              "color": "white",
              "width": 0.5
             }
            },
            "type": "barpolar"
           }
          ],
          "carpet": [
           {
            "aaxis": {
             "endlinecolor": "rgb(36,36,36)",
             "gridcolor": "white",
             "linecolor": "white",
             "minorgridcolor": "white",
             "startlinecolor": "rgb(36,36,36)"
            },
            "baxis": {
             "endlinecolor": "rgb(36,36,36)",
             "gridcolor": "white",
             "linecolor": "white",
             "minorgridcolor": "white",
             "startlinecolor": "rgb(36,36,36)"
            },
            "type": "carpet"
           }
          ],
          "choropleth": [
           {
            "colorbar": {
             "outlinewidth": 1,
             "tickcolor": "rgb(36,36,36)",
             "ticks": "outside"
            },
            "type": "choropleth"
           }
          ],
          "contour": [
           {
            "colorbar": {
             "outlinewidth": 1,
             "tickcolor": "rgb(36,36,36)",
             "ticks": "outside"
            },
            "colorscale": [
             [
              0,
              "#440154"
             ],
             [
              0.1111111111111111,
              "#482878"
             ],
             [
              0.2222222222222222,
              "#3e4989"
             ],
             [
              0.3333333333333333,
              "#31688e"
             ],
             [
              0.4444444444444444,
              "#26828e"
             ],
             [
              0.5555555555555556,
              "#1f9e89"
             ],
             [
              0.6666666666666666,
              "#35b779"
             ],
             [
              0.7777777777777778,
              "#6ece58"
             ],
             [
              0.8888888888888888,
              "#b5de2b"
             ],
             [
              1,
              "#fde725"
             ]
            ],
            "type": "contour"
           }
          ],
          "contourcarpet": [
           {
            "colorbar": {
             "outlinewidth": 1,
             "tickcolor": "rgb(36,36,36)",
             "ticks": "outside"
            },
            "type": "contourcarpet"
           }
          ],
          "heatmap": [
           {
            "colorbar": {
             "outlinewidth": 1,
             "tickcolor": "rgb(36,36,36)",
             "ticks": "outside"
            },
            "colorscale": [
             [
              0,
              "#440154"
             ],
             [
              0.1111111111111111,
              "#482878"
             ],
             [
              0.2222222222222222,
              "#3e4989"
             ],
             [
              0.3333333333333333,
              "#31688e"
             ],
             [
              0.4444444444444444,
              "#26828e"
             ],
             [
              0.5555555555555556,
              "#1f9e89"
             ],
             [
              0.6666666666666666,
              "#35b779"
             ],
             [
              0.7777777777777778,
              "#6ece58"
             ],
             [
              0.8888888888888888,
              "#b5de2b"
             ],
             [
              1,
              "#fde725"
             ]
            ],
            "type": "heatmap"
           }
          ],
          "heatmapgl": [
           {
            "colorbar": {
             "outlinewidth": 1,
             "tickcolor": "rgb(36,36,36)",
             "ticks": "outside"
            },
            "colorscale": [
             [
              0,
              "#440154"
             ],
             [
              0.1111111111111111,
              "#482878"
             ],
             [
              0.2222222222222222,
              "#3e4989"
             ],
             [
              0.3333333333333333,
              "#31688e"
             ],
             [
              0.4444444444444444,
              "#26828e"
             ],
             [
              0.5555555555555556,
              "#1f9e89"
             ],
             [
              0.6666666666666666,
              "#35b779"
             ],
             [
              0.7777777777777778,
              "#6ece58"
             ],
             [
              0.8888888888888888,
              "#b5de2b"
             ],
             [
              1,
              "#fde725"
             ]
            ],
            "type": "heatmapgl"
           }
          ],
          "histogram": [
           {
            "marker": {
             "line": {
              "color": "white",
              "width": 0.6
             }
            },
            "type": "histogram"
           }
          ],
          "histogram2d": [
           {
            "colorbar": {
             "outlinewidth": 1,
             "tickcolor": "rgb(36,36,36)",
             "ticks": "outside"
            },
            "colorscale": [
             [
              0,
              "#440154"
             ],
             [
              0.1111111111111111,
              "#482878"
             ],
             [
              0.2222222222222222,
              "#3e4989"
             ],
             [
              0.3333333333333333,
              "#31688e"
             ],
             [
              0.4444444444444444,
              "#26828e"
             ],
             [
              0.5555555555555556,
              "#1f9e89"
             ],
             [
              0.6666666666666666,
              "#35b779"
             ],
             [
              0.7777777777777778,
              "#6ece58"
             ],
             [
              0.8888888888888888,
              "#b5de2b"
             ],
             [
              1,
              "#fde725"
             ]
            ],
            "type": "histogram2d"
           }
          ],
          "histogram2dcontour": [
           {
            "colorbar": {
             "outlinewidth": 1,
             "tickcolor": "rgb(36,36,36)",
             "ticks": "outside"
            },
            "colorscale": [
             [
              0,
              "#440154"
             ],
             [
              0.1111111111111111,
              "#482878"
             ],
             [
              0.2222222222222222,
              "#3e4989"
             ],
             [
              0.3333333333333333,
              "#31688e"
             ],
             [
              0.4444444444444444,
              "#26828e"
             ],
             [
              0.5555555555555556,
              "#1f9e89"
             ],
             [
              0.6666666666666666,
              "#35b779"
             ],
             [
              0.7777777777777778,
              "#6ece58"
             ],
             [
              0.8888888888888888,
              "#b5de2b"
             ],
             [
              1,
              "#fde725"
             ]
            ],
            "type": "histogram2dcontour"
           }
          ],
          "mesh3d": [
           {
            "colorbar": {
             "outlinewidth": 1,
             "tickcolor": "rgb(36,36,36)",
             "ticks": "outside"
            },
            "type": "mesh3d"
           }
          ],
          "parcoords": [
           {
            "line": {
             "colorbar": {
              "outlinewidth": 1,
              "tickcolor": "rgb(36,36,36)",
              "ticks": "outside"
             }
            },
            "type": "parcoords"
           }
          ],
          "pie": [
           {
            "automargin": true,
            "type": "pie"
           }
          ],
          "scatter": [
           {
            "marker": {
             "colorbar": {
              "outlinewidth": 1,
              "tickcolor": "rgb(36,36,36)",
              "ticks": "outside"
             }
            },
            "type": "scatter"
           }
          ],
          "scatter3d": [
           {
            "line": {
             "colorbar": {
              "outlinewidth": 1,
              "tickcolor": "rgb(36,36,36)",
              "ticks": "outside"
             }
            },
            "marker": {
             "colorbar": {
              "outlinewidth": 1,
              "tickcolor": "rgb(36,36,36)",
              "ticks": "outside"
             }
            },
            "type": "scatter3d"
           }
          ],
          "scattercarpet": [
           {
            "marker": {
             "colorbar": {
              "outlinewidth": 1,
              "tickcolor": "rgb(36,36,36)",
              "ticks": "outside"
             }
            },
            "type": "scattercarpet"
           }
          ],
          "scattergeo": [
           {
            "marker": {
             "colorbar": {
              "outlinewidth": 1,
              "tickcolor": "rgb(36,36,36)",
              "ticks": "outside"
             }
            },
            "type": "scattergeo"
           }
          ],
          "scattergl": [
           {
            "marker": {
             "colorbar": {
              "outlinewidth": 1,
              "tickcolor": "rgb(36,36,36)",
              "ticks": "outside"
             }
            },
            "type": "scattergl"
           }
          ],
          "scattermapbox": [
           {
            "marker": {
             "colorbar": {
              "outlinewidth": 1,
              "tickcolor": "rgb(36,36,36)",
              "ticks": "outside"
             }
            },
            "type": "scattermapbox"
           }
          ],
          "scatterpolar": [
           {
            "marker": {
             "colorbar": {
              "outlinewidth": 1,
              "tickcolor": "rgb(36,36,36)",
              "ticks": "outside"
             }
            },
            "type": "scatterpolar"
           }
          ],
          "scatterpolargl": [
           {
            "marker": {
             "colorbar": {
              "outlinewidth": 1,
              "tickcolor": "rgb(36,36,36)",
              "ticks": "outside"
             }
            },
            "type": "scatterpolargl"
           }
          ],
          "scatterternary": [
           {
            "marker": {
             "colorbar": {
              "outlinewidth": 1,
              "tickcolor": "rgb(36,36,36)",
              "ticks": "outside"
             }
            },
            "type": "scatterternary"
           }
          ],
          "surface": [
           {
            "colorbar": {
             "outlinewidth": 1,
             "tickcolor": "rgb(36,36,36)",
             "ticks": "outside"
            },
            "colorscale": [
             [
              0,
              "#440154"
             ],
             [
              0.1111111111111111,
              "#482878"
             ],
             [
              0.2222222222222222,
              "#3e4989"
             ],
             [
              0.3333333333333333,
              "#31688e"
             ],
             [
              0.4444444444444444,
              "#26828e"
             ],
             [
              0.5555555555555556,
              "#1f9e89"
             ],
             [
              0.6666666666666666,
              "#35b779"
             ],
             [
              0.7777777777777778,
              "#6ece58"
             ],
             [
              0.8888888888888888,
              "#b5de2b"
             ],
             [
              1,
              "#fde725"
             ]
            ],
            "type": "surface"
           }
          ],
          "table": [
           {
            "cells": {
             "fill": {
              "color": "rgb(237,237,237)"
             },
             "line": {
              "color": "white"
             }
            },
            "header": {
             "fill": {
              "color": "rgb(217,217,217)"
             },
             "line": {
              "color": "white"
             }
            },
            "type": "table"
           }
          ]
         },
         "layout": {
          "annotationdefaults": {
           "arrowhead": 0,
           "arrowwidth": 1
          },
          "coloraxis": {
           "colorbar": {
            "outlinewidth": 1,
            "tickcolor": "rgb(36,36,36)",
            "ticks": "outside"
           }
          },
          "colorscale": {
           "diverging": [
            [
             0,
             "rgb(103,0,31)"
            ],
            [
             0.1,
             "rgb(178,24,43)"
            ],
            [
             0.2,
             "rgb(214,96,77)"
            ],
            [
             0.3,
             "rgb(244,165,130)"
            ],
            [
             0.4,
             "rgb(253,219,199)"
            ],
            [
             0.5,
             "rgb(247,247,247)"
            ],
            [
             0.6,
             "rgb(209,229,240)"
            ],
            [
             0.7,
             "rgb(146,197,222)"
            ],
            [
             0.8,
             "rgb(67,147,195)"
            ],
            [
             0.9,
             "rgb(33,102,172)"
            ],
            [
             1,
             "rgb(5,48,97)"
            ]
           ],
           "sequential": [
            [
             0,
             "#440154"
            ],
            [
             0.1111111111111111,
             "#482878"
            ],
            [
             0.2222222222222222,
             "#3e4989"
            ],
            [
             0.3333333333333333,
             "#31688e"
            ],
            [
             0.4444444444444444,
             "#26828e"
            ],
            [
             0.5555555555555556,
             "#1f9e89"
            ],
            [
             0.6666666666666666,
             "#35b779"
            ],
            [
             0.7777777777777778,
             "#6ece58"
            ],
            [
             0.8888888888888888,
             "#b5de2b"
            ],
            [
             1,
             "#fde725"
            ]
           ],
           "sequentialminus": [
            [
             0,
             "#440154"
            ],
            [
             0.1111111111111111,
             "#482878"
            ],
            [
             0.2222222222222222,
             "#3e4989"
            ],
            [
             0.3333333333333333,
             "#31688e"
            ],
            [
             0.4444444444444444,
             "#26828e"
            ],
            [
             0.5555555555555556,
             "#1f9e89"
            ],
            [
             0.6666666666666666,
             "#35b779"
            ],
            [
             0.7777777777777778,
             "#6ece58"
            ],
            [
             0.8888888888888888,
             "#b5de2b"
            ],
            [
             1,
             "#fde725"
            ]
           ]
          },
          "colorway": [
           "#1F77B4",
           "#FF7F0E",
           "#2CA02C",
           "#D62728",
           "#9467BD",
           "#8C564B",
           "#E377C2",
           "#7F7F7F",
           "#BCBD22",
           "#17BECF"
          ],
          "font": {
           "color": "rgb(36,36,36)"
          },
          "geo": {
           "bgcolor": "white",
           "lakecolor": "white",
           "landcolor": "white",
           "showlakes": true,
           "showland": true,
           "subunitcolor": "white"
          },
          "hoverlabel": {
           "align": "left"
          },
          "hovermode": "closest",
          "mapbox": {
           "style": "light"
          },
          "paper_bgcolor": "white",
          "plot_bgcolor": "white",
          "polar": {
           "angularaxis": {
            "gridcolor": "rgb(232,232,232)",
            "linecolor": "rgb(36,36,36)",
            "showgrid": false,
            "showline": true,
            "ticks": "outside"
           },
           "bgcolor": "white",
           "radialaxis": {
            "gridcolor": "rgb(232,232,232)",
            "linecolor": "rgb(36,36,36)",
            "showgrid": false,
            "showline": true,
            "ticks": "outside"
           }
          },
          "scene": {
           "xaxis": {
            "backgroundcolor": "white",
            "gridcolor": "rgb(232,232,232)",
            "gridwidth": 2,
            "linecolor": "rgb(36,36,36)",
            "showbackground": true,
            "showgrid": false,
            "showline": true,
            "ticks": "outside",
            "zeroline": false,
            "zerolinecolor": "rgb(36,36,36)"
           },
           "yaxis": {
            "backgroundcolor": "white",
            "gridcolor": "rgb(232,232,232)",
            "gridwidth": 2,
            "linecolor": "rgb(36,36,36)",
            "showbackground": true,
            "showgrid": false,
            "showline": true,
            "ticks": "outside",
            "zeroline": false,
            "zerolinecolor": "rgb(36,36,36)"
           },
           "zaxis": {
            "backgroundcolor": "white",
            "gridcolor": "rgb(232,232,232)",
            "gridwidth": 2,
            "linecolor": "rgb(36,36,36)",
            "showbackground": true,
            "showgrid": false,
            "showline": true,
            "ticks": "outside",
            "zeroline": false,
            "zerolinecolor": "rgb(36,36,36)"
           }
          },
          "shapedefaults": {
           "fillcolor": "black",
           "line": {
            "width": 0
           },
           "opacity": 0.3
          },
          "ternary": {
           "aaxis": {
            "gridcolor": "rgb(232,232,232)",
            "linecolor": "rgb(36,36,36)",
            "showgrid": false,
            "showline": true,
            "ticks": "outside"
           },
           "baxis": {
            "gridcolor": "rgb(232,232,232)",
            "linecolor": "rgb(36,36,36)",
            "showgrid": false,
            "showline": true,
            "ticks": "outside"
           },
           "bgcolor": "white",
           "caxis": {
            "gridcolor": "rgb(232,232,232)",
            "linecolor": "rgb(36,36,36)",
            "showgrid": false,
            "showline": true,
            "ticks": "outside"
           }
          },
          "title": {
           "x": 0.05
          },
          "xaxis": {
           "automargin": true,
           "gridcolor": "rgb(232,232,232)",
           "linecolor": "rgb(36,36,36)",
           "showgrid": false,
           "showline": true,
           "ticks": "outside",
           "title": {
            "standoff": 15
           },
           "zeroline": false,
           "zerolinecolor": "rgb(36,36,36)"
          },
          "yaxis": {
           "automargin": true,
           "gridcolor": "rgb(232,232,232)",
           "linecolor": "rgb(36,36,36)",
           "showgrid": false,
           "showline": true,
           "ticks": "outside",
           "title": {
            "standoff": 15
           },
           "zeroline": false,
           "zerolinecolor": "rgb(36,36,36)"
          }
         }
        },
        "xaxis": {
         "anchor": "y",
         "autorange": true,
         "domain": [
          0,
          0.49
         ],
         "range": [
          2.18816118546668,
          4.026446912955512
         ],
         "title": {
          "text": "log[Depth (cm)]"
         },
         "type": "linear"
        },
        "xaxis2": {
         "anchor": "y2",
         "autorange": true,
         "domain": [
          0.51,
          1
         ],
         "matches": "x",
         "range": [
          2.18816118546668,
          4.026446912955512
         ],
         "title": {
          "text": "log[Depth (cm)]"
         },
         "type": "linear"
        },
        "yaxis": {
         "anchor": "x",
         "autorange": true,
         "domain": [
          0,
          1
         ],
         "range": [
          -1.9656611894749279,
          3.395581865073777
         ],
         "title": {
          "text": "PC1"
         },
         "type": "linear"
        },
        "yaxis2": {
         "anchor": "x2",
         "autorange": true,
         "domain": [
          0,
          1
         ],
         "matches": "y",
         "range": [
          -1.9656611894749279,
          3.395581865073777
         ],
         "showticklabels": false,
         "type": "linear"
        }
       }
      },
      "image/png": "[encoded data removed]",
      "text/html": [
       "<div>\n",
       "        \n",
       "        \n",
       "            <div id=\"d9c9d5ab-491f-484c-bedc-f3a20f74361c\" class=\"plotly-graph-div\" style=\"height:525px; width:100%;\"></div>\n",
       "            <script type=\"text/javascript\">\n",
       "                require([\"plotly\"], function(Plotly) {\n",
       "                    window.PLOTLYENV=window.PLOTLYENV || {};\n",
       "                    \n",
       "                if (document.getElementById(\"d9c9d5ab-491f-484c-bedc-f3a20f74361c\")) {\n",
       "                    Plotly.newPlot(\n",
       "                        'd9c9d5ab-491f-484c-bedc-f3a20f74361c',\n",
       "                        [{\"hoverlabel\": {\"namelength\": 0}, \"hovertemplate\": \"Treatment=cut<br>Year=2017<br>Depth_log=%{x}<br>PC1=%{y}\", \"legendgroup\": \"cut\", \"marker\": {\"color\": \"#1F77B4\", \"symbol\": \"circle\"}, \"mode\": \"markers\", \"name\": \"cut\", \"showlegend\": true, \"type\": \"scatter\", \"x\": [2.302585092994046, 2.302585092994046, 3.4011973816621555, 3.4011973816621555, 3.912023005428146, 3.912023005428146, 2.302585092994046, 3.4011973816621555, 3.912023005428146], \"xaxis\": \"x\", \"y\": [1.5072016198334277, 1.5795034577796159, -0.6599221812439422, 0.15132933988128994, -0.687416376264339, -0.10816872162664574, 1.7358119039493007, 1.167090532473664, 0.788958966931445], \"yaxis\": \"y\"}, {\"hoverlabel\": {\"namelength\": 0}, \"hovertemplate\": \"<b>OLS trendline</b><br>PC1 = -1.04206 * Depth_log + 3.94835<br>R<sup>2</sup>=0.597374<br><br>Treatment=cut<br>Year=2017<br>Depth_log=%{x}<br>PC1=%{y} <b>(trend)</b>\", \"legendgroup\": \"cut\", \"marker\": {\"color\": \"#1F77B4\", \"symbol\": \"circle\"}, \"mode\": \"lines\", \"name\": \"cut\", \"showlegend\": false, \"type\": \"scatter\", \"x\": [2.302585092994046, 2.302585092994046, 2.302585092994046, 3.4011973816621555, 3.4011973816621555, 3.4011973816621555, 3.912023005428146, 3.912023005428146, 3.912023005428146], \"xaxis\": \"x\", \"y\": [1.5489158889899328, 1.5489158889899328, 1.5489158889899328, 0.4040956859815754, 0.4040956859815754, 0.4040956859815754, -0.12821539440023288, -0.12821539440023288, -0.12821539440023288], \"yaxis\": \"y\"}, {\"hoverlabel\": {\"namelength\": 0}, \"hovertemplate\": \"Treatment=cut<br>Year=2018<br>Depth_log=%{x}<br>PC1=%{y}\", \"legendgroup\": \"cut\", \"marker\": {\"color\": \"#1F77B4\", \"symbol\": \"circle\"}, \"mode\": \"markers\", \"name\": \"cut\", \"showlegend\": false, \"type\": \"scatter\", \"x\": [2.302585092994046, 3.4011973816621555, 3.912023005428146, 2.302585092994046, 3.4011973816621555, 3.912023005428146, 2.302585092994046, 3.4011973816621555, 3.912023005428146], \"xaxis\": \"x2\", \"y\": [1.4092751460762072, 1.2186853401427897, 0.355839011348432, 1.4936272903467578, 1.1704841148453324, 0.8164531619518417, 2.5282259540068326, 2.0589550794507265, 2.0246737196869935], \"yaxis\": \"y2\"}, {\"hoverlabel\": {\"namelength\": 0}, \"hovertemplate\": \"<b>OLS trendline</b><br>PC1 = -0.436551 * Depth_log + 2.85218<br>R<sup>2</sup>=0.214991<br><br>Treatment=cut<br>Year=2018<br>Depth_log=%{x}<br>PC1=%{y} <b>(trend)</b>\", \"legendgroup\": \"cut\", \"marker\": {\"color\": \"#1F77B4\", \"symbol\": \"circle\"}, \"mode\": \"lines\", \"name\": \"cut\", \"showlegend\": false, \"type\": \"scatter\", \"x\": [2.302585092994046, 2.302585092994046, 2.302585092994046, 3.4011973816621555, 3.4011973816621555, 3.4011973816621555, 3.912023005428146, 3.912023005428146, 3.912023005428146], \"xaxis\": \"x2\", \"y\": [1.84698049700647, 1.84698049700647, 1.84698049700647, 1.3673802598716231, 1.3673802598716231, 1.3673802598716231, 1.1443788490738807, 1.1443788490738807, 1.1443788490738807], \"yaxis\": \"y2\"}, {\"hoverlabel\": {\"namelength\": 0}, \"hovertemplate\": \"Treatment=uncut<br>Year=2017<br>Depth_log=%{x}<br>PC1=%{y}\", \"legendgroup\": \"uncut\", \"marker\": {\"color\": \"#FF7F0E\", \"symbol\": \"circle\"}, \"mode\": \"markers\", \"name\": \"uncut\", \"showlegend\": true, \"type\": \"scatter\", \"x\": [2.302585092994046, 2.302585092994046, 3.4011973816621555, 3.4011973816621555, 3.912023005428146, 3.912023005428146, 2.302585092994046, 3.4011973816621555, 3.912023005428146, 2.302585092994046, 3.4011973816621555, 3.912023005428146, 3.912023005428146], \"xaxis\": \"x\", \"y\": [1.4333757587249358, 1.1961087506563683, -0.32472869941815213, 0.09634094984049629, -0.6083273735748166, -1.0139531341374328, 2.0194105781059655, 0.0018080584549414927, -0.11156230399831374, 2.1534879708362813, 1.3749937863124744, -0.3676667831345814, 1.0175692510473155], \"yaxis\": \"y\"}, {\"hoverlabel\": {\"namelength\": 0}, \"hovertemplate\": \"<b>OLS trendline</b><br>PC1 = -1.20143 * Depth_log + 4.44445<br>R<sup>2</sup>=0.644055<br><br>Treatment=uncut<br>Year=2017<br>Depth_log=%{x}<br>PC1=%{y} <b>(trend)</b>\", \"legendgroup\": \"uncut\", \"marker\": {\"color\": \"#FF7F0E\", \"symbol\": \"circle\"}, \"mode\": \"lines\", \"name\": \"uncut\", \"showlegend\": false, \"type\": \"scatter\", \"x\": [2.302585092994046, 2.302585092994046, 2.302585092994046, 2.302585092994046, 3.4011973816621555, 3.4011973816621555, 3.4011973816621555, 3.4011973816621555, 3.912023005428146, 3.912023005428146, 3.912023005428146, 3.912023005428146, 3.912023005428146], \"xaxis\": \"x\", \"y\": [1.678048812339895, 1.678048812339895, 1.678048812339895, 1.678048812339895, 0.3581413066693502, 0.3581413066693502, 0.3581413066693502, 0.3581413066693502, -0.2555807332643001, -0.2555807332643001, -0.2555807332643001, -0.2555807332643001, -0.2555807332643001], \"yaxis\": \"y\"}, {\"hoverlabel\": {\"namelength\": 0}, \"hovertemplate\": \"Treatment=uncut<br>Year=2018<br>Depth_log=%{x}<br>PC1=%{y}\", \"legendgroup\": \"uncut\", \"marker\": {\"color\": \"#FF7F0E\", \"symbol\": \"circle\"}, \"mode\": \"markers\", \"name\": \"uncut\", \"showlegend\": false, \"type\": \"scatter\", \"x\": [2.302585092994046, 3.4011973816621555, 3.912023005428146, 2.302585092994046, 3.4011973816621555, 3.912023005428146, 2.302585092994046, 3.4011973816621555, 3.912023005428146], \"xaxis\": \"x2\", \"y\": [1.4815769840223934, -1.6327452901198873, -1.5122422268762437, 1.1136261655951782, 3.0626659657187365, 1.985129218342232, 2.155357530045642, 1.0639009171354128, 0.45376548510565484], \"yaxis\": \"y2\"}, {\"hoverlabel\": {\"namelength\": 0}, \"hovertemplate\": \"<b>OLS trendline</b><br>PC1 = -0.77491 * Depth_log + 3.39169<br>R<sup>2</sup>=0.120200<br><br>Treatment=uncut<br>Year=2018<br>Depth_log=%{x}<br>PC1=%{y} <b>(trend)</b>\", \"legendgroup\": \"uncut\", \"marker\": {\"color\": \"#FF7F0E\", \"symbol\": \"circle\"}, \"mode\": \"lines\", \"name\": \"uncut\", \"showlegend\": false, \"type\": \"scatter\", \"x\": [2.302585092994046, 2.302585092994046, 2.302585092994046, 3.4011973816621555, 3.4011973816621555, 3.4011973816621555, 3.912023005428146, 3.912023005428146, 3.912023005428146], \"xaxis\": \"x2\", \"y\": [1.6073908788130689, 1.6073908788130689, 1.6073908788130689, 0.7560655525387152, 0.7560655525387152, 0.7560655525387152, 0.3602218183045909, 0.3602218183045909, 0.3602218183045909], \"yaxis\": \"y2\"}],\n",
       "                        {\"annotations\": [{\"font\": {}, \"showarrow\": false, \"text\": \"2017\", \"x\": 0.245, \"xanchor\": \"center\", \"xref\": \"paper\", \"y\": 1.0, \"yanchor\": \"bottom\", \"yref\": \"paper\"}, {\"font\": {}, \"showarrow\": false, \"text\": \"2018\", \"x\": 0.755, \"xanchor\": \"center\", \"xref\": \"paper\", \"y\": 1.0, \"yanchor\": \"bottom\", \"yref\": \"paper\"}], \"legend\": {\"title\": {\"text\": \"Treatment\"}, \"tracegroupgap\": 0}, \"margin\": {\"t\": 60}, \"template\": {\"data\": {\"bar\": [{\"error_x\": {\"color\": \"rgb(36,36,36)\"}, \"error_y\": {\"color\": \"rgb(36,36,36)\"}, \"marker\": {\"line\": {\"color\": \"white\", \"width\": 0.5}}, \"type\": \"bar\"}], \"barpolar\": [{\"marker\": {\"line\": {\"color\": \"white\", \"width\": 0.5}}, \"type\": \"barpolar\"}], \"carpet\": [{\"aaxis\": {\"endlinecolor\": \"rgb(36,36,36)\", \"gridcolor\": \"white\", \"linecolor\": \"white\", \"minorgridcolor\": \"white\", \"startlinecolor\": \"rgb(36,36,36)\"}, \"baxis\": {\"endlinecolor\": \"rgb(36,36,36)\", \"gridcolor\": \"white\", \"linecolor\": \"white\", \"minorgridcolor\": \"white\", \"startlinecolor\": \"rgb(36,36,36)\"}, \"type\": \"carpet\"}], \"choropleth\": [{\"colorbar\": {\"outlinewidth\": 1, \"tickcolor\": \"rgb(36,36,36)\", \"ticks\": \"outside\"}, \"type\": \"choropleth\"}], \"contour\": [{\"colorbar\": {\"outlinewidth\": 1, \"tickcolor\": \"rgb(36,36,36)\", \"ticks\": \"outside\"}, \"colorscale\": [[0.0, \"#440154\"], [0.1111111111111111, \"#482878\"], [0.2222222222222222, \"#3e4989\"], [0.3333333333333333, \"#31688e\"], [0.4444444444444444, \"#26828e\"], [0.5555555555555556, \"#1f9e89\"], [0.6666666666666666, \"#35b779\"], [0.7777777777777778, \"#6ece58\"], [0.8888888888888888, \"#b5de2b\"], [1.0, \"#fde725\"]], \"type\": \"contour\"}], \"contourcarpet\": [{\"colorbar\": {\"outlinewidth\": 1, \"tickcolor\": \"rgb(36,36,36)\", \"ticks\": \"outside\"}, \"type\": \"contourcarpet\"}], \"heatmap\": [{\"colorbar\": {\"outlinewidth\": 1, \"tickcolor\": \"rgb(36,36,36)\", \"ticks\": \"outside\"}, \"colorscale\": [[0.0, \"#440154\"], [0.1111111111111111, \"#482878\"], [0.2222222222222222, \"#3e4989\"], [0.3333333333333333, \"#31688e\"], [0.4444444444444444, \"#26828e\"], [0.5555555555555556, \"#1f9e89\"], [0.6666666666666666, \"#35b779\"], [0.7777777777777778, \"#6ece58\"], [0.8888888888888888, \"#b5de2b\"], [1.0, \"#fde725\"]], \"type\": \"heatmap\"}], \"heatmapgl\": [{\"colorbar\": {\"outlinewidth\": 1, \"tickcolor\": \"rgb(36,36,36)\", \"ticks\": \"outside\"}, \"colorscale\": [[0.0, \"#440154\"], [0.1111111111111111, \"#482878\"], [0.2222222222222222, \"#3e4989\"], [0.3333333333333333, \"#31688e\"], [0.4444444444444444, \"#26828e\"], [0.5555555555555556, \"#1f9e89\"], [0.6666666666666666, \"#35b779\"], [0.7777777777777778, \"#6ece58\"], [0.8888888888888888, \"#b5de2b\"], [1.0, \"#fde725\"]], \"type\": \"heatmapgl\"}], \"histogram\": [{\"marker\": {\"line\": {\"color\": \"white\", \"width\": 0.6}}, \"type\": \"histogram\"}], \"histogram2d\": [{\"colorbar\": {\"outlinewidth\": 1, \"tickcolor\": \"rgb(36,36,36)\", \"ticks\": \"outside\"}, \"colorscale\": [[0.0, \"#440154\"], [0.1111111111111111, \"#482878\"], [0.2222222222222222, \"#3e4989\"], [0.3333333333333333, \"#31688e\"], [0.4444444444444444, \"#26828e\"], [0.5555555555555556, \"#1f9e89\"], [0.6666666666666666, \"#35b779\"], [0.7777777777777778, \"#6ece58\"], [0.8888888888888888, \"#b5de2b\"], [1.0, \"#fde725\"]], \"type\": \"histogram2d\"}], \"histogram2dcontour\": [{\"colorbar\": {\"outlinewidth\": 1, \"tickcolor\": \"rgb(36,36,36)\", \"ticks\": \"outside\"}, \"colorscale\": [[0.0, \"#440154\"], [0.1111111111111111, \"#482878\"], [0.2222222222222222, \"#3e4989\"], [0.3333333333333333, \"#31688e\"], [0.4444444444444444, \"#26828e\"], [0.5555555555555556, \"#1f9e89\"], [0.6666666666666666, \"#35b779\"], [0.7777777777777778, \"#6ece58\"], [0.8888888888888888, \"#b5de2b\"], [1.0, \"#fde725\"]], \"type\": \"histogram2dcontour\"}], \"mesh3d\": [{\"colorbar\": {\"outlinewidth\": 1, \"tickcolor\": \"rgb(36,36,36)\", \"ticks\": \"outside\"}, \"type\": \"mesh3d\"}], \"parcoords\": [{\"line\": {\"colorbar\": {\"outlinewidth\": 1, \"tickcolor\": \"rgb(36,36,36)\", \"ticks\": \"outside\"}}, \"type\": \"parcoords\"}], \"pie\": [{\"automargin\": true, \"type\": \"pie\"}], \"scatter\": [{\"marker\": {\"colorbar\": {\"outlinewidth\": 1, \"tickcolor\": \"rgb(36,36,36)\", \"ticks\": \"outside\"}}, \"type\": \"scatter\"}], \"scatter3d\": [{\"line\": {\"colorbar\": {\"outlinewidth\": 1, \"tickcolor\": \"rgb(36,36,36)\", \"ticks\": \"outside\"}}, \"marker\": {\"colorbar\": {\"outlinewidth\": 1, \"tickcolor\": \"rgb(36,36,36)\", \"ticks\": \"outside\"}}, \"type\": \"scatter3d\"}], \"scattercarpet\": [{\"marker\": {\"colorbar\": {\"outlinewidth\": 1, \"tickcolor\": \"rgb(36,36,36)\", \"ticks\": \"outside\"}}, \"type\": \"scattercarpet\"}], \"scattergeo\": [{\"marker\": {\"colorbar\": {\"outlinewidth\": 1, \"tickcolor\": \"rgb(36,36,36)\", \"ticks\": \"outside\"}}, \"type\": \"scattergeo\"}], \"scattergl\": [{\"marker\": {\"colorbar\": {\"outlinewidth\": 1, \"tickcolor\": \"rgb(36,36,36)\", \"ticks\": \"outside\"}}, \"type\": \"scattergl\"}], \"scattermapbox\": [{\"marker\": {\"colorbar\": {\"outlinewidth\": 1, \"tickcolor\": \"rgb(36,36,36)\", \"ticks\": \"outside\"}}, \"type\": \"scattermapbox\"}], \"scatterpolar\": [{\"marker\": {\"colorbar\": {\"outlinewidth\": 1, \"tickcolor\": \"rgb(36,36,36)\", \"ticks\": \"outside\"}}, \"type\": \"scatterpolar\"}], \"scatterpolargl\": [{\"marker\": {\"colorbar\": {\"outlinewidth\": 1, \"tickcolor\": \"rgb(36,36,36)\", \"ticks\": \"outside\"}}, \"type\": \"scatterpolargl\"}], \"scatterternary\": [{\"marker\": {\"colorbar\": {\"outlinewidth\": 1, \"tickcolor\": \"rgb(36,36,36)\", \"ticks\": \"outside\"}}, \"type\": \"scatterternary\"}], \"surface\": [{\"colorbar\": {\"outlinewidth\": 1, \"tickcolor\": \"rgb(36,36,36)\", \"ticks\": \"outside\"}, \"colorscale\": [[0.0, \"#440154\"], [0.1111111111111111, \"#482878\"], [0.2222222222222222, \"#3e4989\"], [0.3333333333333333, \"#31688e\"], [0.4444444444444444, \"#26828e\"], [0.5555555555555556, \"#1f9e89\"], [0.6666666666666666, \"#35b779\"], [0.7777777777777778, \"#6ece58\"], [0.8888888888888888, \"#b5de2b\"], [1.0, \"#fde725\"]], \"type\": \"surface\"}], \"table\": [{\"cells\": {\"fill\": {\"color\": \"rgb(237,237,237)\"}, \"line\": {\"color\": \"white\"}}, \"header\": {\"fill\": {\"color\": \"rgb(217,217,217)\"}, \"line\": {\"color\": \"white\"}}, \"type\": \"table\"}]}, \"layout\": {\"annotationdefaults\": {\"arrowhead\": 0, \"arrowwidth\": 1}, \"coloraxis\": {\"colorbar\": {\"outlinewidth\": 1, \"tickcolor\": \"rgb(36,36,36)\", \"ticks\": \"outside\"}}, \"colorscale\": {\"diverging\": [[0.0, \"rgb(103,0,31)\"], [0.1, \"rgb(178,24,43)\"], [0.2, \"rgb(214,96,77)\"], [0.3, \"rgb(244,165,130)\"], [0.4, \"rgb(253,219,199)\"], [0.5, \"rgb(247,247,247)\"], [0.6, \"rgb(209,229,240)\"], [0.7, \"rgb(146,197,222)\"], [0.8, \"rgb(67,147,195)\"], [0.9, \"rgb(33,102,172)\"], [1.0, \"rgb(5,48,97)\"]], \"sequential\": [[0.0, \"#440154\"], [0.1111111111111111, \"#482878\"], [0.2222222222222222, \"#3e4989\"], [0.3333333333333333, \"#31688e\"], [0.4444444444444444, \"#26828e\"], [0.5555555555555556, \"#1f9e89\"], [0.6666666666666666, \"#35b779\"], [0.7777777777777778, \"#6ece58\"], [0.8888888888888888, \"#b5de2b\"], [1.0, \"#fde725\"]], \"sequentialminus\": [[0.0, \"#440154\"], [0.1111111111111111, \"#482878\"], [0.2222222222222222, \"#3e4989\"], [0.3333333333333333, \"#31688e\"], [0.4444444444444444, \"#26828e\"], [0.5555555555555556, \"#1f9e89\"], [0.6666666666666666, \"#35b779\"], [0.7777777777777778, \"#6ece58\"], [0.8888888888888888, \"#b5de2b\"], [1.0, \"#fde725\"]]}, \"colorway\": [\"#1F77B4\", \"#FF7F0E\", \"#2CA02C\", \"#D62728\", \"#9467BD\", \"#8C564B\", \"#E377C2\", \"#7F7F7F\", \"#BCBD22\", \"#17BECF\"], \"font\": {\"color\": \"rgb(36,36,36)\"}, \"geo\": {\"bgcolor\": \"white\", \"lakecolor\": \"white\", \"landcolor\": \"white\", \"showlakes\": true, \"showland\": true, \"subunitcolor\": \"white\"}, \"hoverlabel\": {\"align\": \"left\"}, \"hovermode\": \"closest\", \"mapbox\": {\"style\": \"light\"}, \"paper_bgcolor\": \"white\", \"plot_bgcolor\": \"white\", \"polar\": {\"angularaxis\": {\"gridcolor\": \"rgb(232,232,232)\", \"linecolor\": \"rgb(36,36,36)\", \"showgrid\": false, \"showline\": true, \"ticks\": \"outside\"}, \"bgcolor\": \"white\", \"radialaxis\": {\"gridcolor\": \"rgb(232,232,232)\", \"linecolor\": \"rgb(36,36,36)\", \"showgrid\": false, \"showline\": true, \"ticks\": \"outside\"}}, \"scene\": {\"xaxis\": {\"backgroundcolor\": \"white\", \"gridcolor\": \"rgb(232,232,232)\", \"gridwidth\": 2, \"linecolor\": \"rgb(36,36,36)\", \"showbackground\": true, \"showgrid\": false, \"showline\": true, \"ticks\": \"outside\", \"zeroline\": false, \"zerolinecolor\": \"rgb(36,36,36)\"}, \"yaxis\": {\"backgroundcolor\": \"white\", \"gridcolor\": \"rgb(232,232,232)\", \"gridwidth\": 2, \"linecolor\": \"rgb(36,36,36)\", \"showbackground\": true, \"showgrid\": false, \"showline\": true, \"ticks\": \"outside\", \"zeroline\": false, \"zerolinecolor\": \"rgb(36,36,36)\"}, \"zaxis\": {\"backgroundcolor\": \"white\", \"gridcolor\": \"rgb(232,232,232)\", \"gridwidth\": 2, \"linecolor\": \"rgb(36,36,36)\", \"showbackground\": true, \"showgrid\": false, \"showline\": true, \"ticks\": \"outside\", \"zeroline\": false, \"zerolinecolor\": \"rgb(36,36,36)\"}}, \"shapedefaults\": {\"fillcolor\": \"black\", \"line\": {\"width\": 0}, \"opacity\": 0.3}, \"ternary\": {\"aaxis\": {\"gridcolor\": \"rgb(232,232,232)\", \"linecolor\": \"rgb(36,36,36)\", \"showgrid\": false, \"showline\": true, \"ticks\": \"outside\"}, \"baxis\": {\"gridcolor\": \"rgb(232,232,232)\", \"linecolor\": \"rgb(36,36,36)\", \"showgrid\": false, \"showline\": true, \"ticks\": \"outside\"}, \"bgcolor\": \"white\", \"caxis\": {\"gridcolor\": \"rgb(232,232,232)\", \"linecolor\": \"rgb(36,36,36)\", \"showgrid\": false, \"showline\": true, \"ticks\": \"outside\"}}, \"title\": {\"x\": 0.05}, \"xaxis\": {\"automargin\": true, \"gridcolor\": \"rgb(232,232,232)\", \"linecolor\": \"rgb(36,36,36)\", \"showgrid\": false, \"showline\": true, \"ticks\": \"outside\", \"title\": {\"standoff\": 15}, \"zeroline\": false, \"zerolinecolor\": \"rgb(36,36,36)\"}, \"yaxis\": {\"automargin\": true, \"gridcolor\": \"rgb(232,232,232)\", \"linecolor\": \"rgb(36,36,36)\", \"showgrid\": false, \"showline\": true, \"ticks\": \"outside\", \"title\": {\"standoff\": 15}, \"zeroline\": false, \"zerolinecolor\": \"rgb(36,36,36)\"}}}, \"xaxis\": {\"anchor\": \"y\", \"domain\": [0.0, 0.49], \"title\": {\"text\": \"log[Depth (cm)]\"}}, \"xaxis2\": {\"anchor\": \"y2\", \"domain\": [0.51, 1.0], \"matches\": \"x\", \"title\": {\"text\": \"log[Depth (cm)]\"}}, \"yaxis\": {\"anchor\": \"x\", \"domain\": [0.0, 1.0], \"title\": {\"text\": \"PC1\"}}, \"yaxis2\": {\"anchor\": \"x2\", \"domain\": [0.0, 1.0], \"matches\": \"y\", \"showticklabels\": false}},\n",
       "                        {\"responsive\": true}\n",
       "                    ).then(function(){\n",
       "                            \n",
       "var gd = document.getElementById('d9c9d5ab-491f-484c-bedc-f3a20f74361c');\n",
       "var x = new MutationObserver(function (mutations, observer) {{\n",
       "        var display = window.getComputedStyle(gd).display;\n",
       "        if (!display || display === 'none') {{\n",
       "            console.log([gd, 'removed!']);\n",
       "            Plotly.purge(gd);\n",
       "            observer.disconnect();\n",
       "        }}\n",
       "}});\n",
       "\n",
       "// Listen for the removal of the full notebook cells\n",
       "var notebookContainer = gd.closest('#notebook-container');\n",
       "if (notebookContainer) {{\n",
       "    x.observe(notebookContainer, {childList: true});\n",
       "}}\n",
       "\n",
       "// Listen for the clearing of the current output cell\n",
       "var outputEl = gd.closest('.output');\n",
       "if (outputEl) {{\n",
       "    x.observe(outputEl, {childList: true});\n",
       "}}\n",
       "\n",
       "                        })\n",
       "                };\n",
       "                });\n",
       "            </script>\n",
       "        </div>"
      ]
     },
     "metadata": {},
     "output_type": "display_data"
    }
   ],
   "source": [
    "# Plot the relationship\n",
    "fig_pc1 = px.scatter(df_soil, x = 'Depth_log', y = \"PC1\", facet_col = 'Year', color = 'Treatment', \n",
    "                     template = 'simple_white', trendline='ols')\n",
    "fig_pc1.update_xaxes(title_text = 'log[Depth (cm)]')\n",
    "fig_pc1.for_each_annotation(lambda a: a.update(text=a.text.split(\"=\")[-1]))\n",
    "fig_pc1.show()"
   ]
  },
  {
   "cell_type": "markdown",
   "metadata": {},
   "source": [
    "## Is there a difference in source water use between grasses and trees?\n",
    "### ANOVA of PC1 against Plant Type and Year\n",
    "To answer this question, we can run an ANOVA with PC1 as the response variable and plant type and year as predictors using the df_plants dataframe defined during the PCA. In the output below, there is a difference between plant types, but no significant interaction with year. On average, trees tend to have smaller PC1 values and uptake water from deeper sources than grasses. "
   ]
  },
  {
   "cell_type": "code",
   "execution_count": 57,
   "metadata": {},
   "outputs": [
    {
     "data": {
      "image/png": "[encoded data removed]",
      "text/plain": [
       "<Figure size 432x288 with 1 Axes>"
      ]
     },
     "metadata": {
      "needs_background": "light"
     },
     "output_type": "display_data"
    }
   ],
   "source": [
    "# define the sample type and year as categorical variables using 'C()'\n",
    "# The dataframe 'df_plants' was defined above when graphing the pca bar graph\n",
    "lm_type = smf.ols('PC1~C(Type_2)*C(Year)', data = df_plants).fit()\n",
    "\n",
    "# Check the assumption of normality\n",
    "qqplot(lm_type.resid, line='q', fit=True)\n",
    "plt.show()"
   ]
  },
  {
   "cell_type": "code",
   "execution_count": 33,
   "metadata": {},
   "outputs": [
    {
     "data": {
      "text/html": [
       "<div>\n",
       "<style scoped>\n",
       "    .dataframe tbody tr th:only-of-type {\n",
       "        vertical-align: middle;\n",
       "    }\n",
       "\n",
       "    .dataframe tbody tr th {\n",
       "        vertical-align: top;\n",
       "    }\n",
       "\n",
       "    .dataframe thead th {\n",
       "        text-align: right;\n",
       "    }\n",
       "</style>\n",
       "<table border=\"1\" class=\"dataframe\">\n",
       "  <thead>\n",
       "    <tr style=\"text-align: right;\">\n",
       "      <th></th>\n",
       "      <th>sum_sq</th>\n",
       "      <th>df</th>\n",
       "      <th>F</th>\n",
       "      <th>PR(&gt;F)</th>\n",
       "    </tr>\n",
       "  </thead>\n",
       "  <tbody>\n",
       "    <tr>\n",
       "      <td>C(Type_2)</td>\n",
       "      <td>43.644676</td>\n",
       "      <td>1.0</td>\n",
       "      <td>40.368059</td>\n",
       "      <td>1.353100e-08</td>\n",
       "    </tr>\n",
       "    <tr>\n",
       "      <td>C(Year)</td>\n",
       "      <td>1.745954</td>\n",
       "      <td>1.0</td>\n",
       "      <td>1.614877</td>\n",
       "      <td>2.076336e-01</td>\n",
       "    </tr>\n",
       "    <tr>\n",
       "      <td>C(Type_2):C(Year)</td>\n",
       "      <td>0.821527</td>\n",
       "      <td>1.0</td>\n",
       "      <td>0.759851</td>\n",
       "      <td>3.860852e-01</td>\n",
       "    </tr>\n",
       "    <tr>\n",
       "      <td>Residual</td>\n",
       "      <td>83.249977</td>\n",
       "      <td>77.0</td>\n",
       "      <td>NaN</td>\n",
       "      <td>NaN</td>\n",
       "    </tr>\n",
       "  </tbody>\n",
       "</table>\n",
       "</div>"
      ],
      "text/plain": [
       "                      sum_sq    df          F        PR(>F)\n",
       "C(Type_2)          43.644676   1.0  40.368059  1.353100e-08\n",
       "C(Year)             1.745954   1.0   1.614877  2.076336e-01\n",
       "C(Type_2):C(Year)   0.821527   1.0   0.759851  3.860852e-01\n",
       "Residual           83.249977  77.0        NaN           NaN"
      ]
     },
     "execution_count": 33,
     "metadata": {},
     "output_type": "execute_result"
    }
   ],
   "source": [
    "# run the ANOVA\n",
    "anova_type = anova_lm(lm_type, typ=2)\n",
    "anova_type"
   ]
  },
  {
   "cell_type": "markdown",
   "metadata": {},
   "source": [
    "## Is there a difference in source water use between cut and uncut trees?\n",
    "### ANOVA of tree PC1 values against Treatment and Year\n",
    "To answer this question, we can run an ANOVA with PC1 as the response and Treatment and Year as predictors using a dataframe that only includes tree samples. In the output below, there is a slightly significant difference between cut and uncut treatments (P = 0.02), but no significant interaction with year. On average, trees in the cut treatment have larger PC1 values and uptake water from shallower depths than trees in the uncut treatment. "
   ]
  },
  {
   "cell_type": "code",
   "execution_count": 58,
   "metadata": {},
   "outputs": [],
   "source": [
    "# subset the data to only include tree samples\n",
    "df_tree = df.loc[(df['Type_2'] == 'tree')]"
   ]
  },
  {
   "cell_type": "code",
   "execution_count": 59,
   "metadata": {},
   "outputs": [
    {
     "data": {
      "image/png": "[encoded data removed]",
      "text/plain": [
       "<Figure size 432x288 with 1 Axes>"
      ]
     },
     "metadata": {
      "needs_background": "light"
     },
     "output_type": "display_data"
    }
   ],
   "source": [
    "# define the treatment and year as categorical variables using 'C()'\n",
    "lm_plants = smf.ols('PC1 ~ C(Treatment)*C(Year)', data=df_tree).fit()\n",
    "\n",
    "# check the assumption of normality\n",
    "qqplot(lm_plants.resid, line='q', fit=True)\n",
    "plt.show()"
   ]
  },
  {
   "cell_type": "code",
   "execution_count": 60,
   "metadata": {},
   "outputs": [
    {
     "data": {
      "text/html": [
       "<div>\n",
       "<style scoped>\n",
       "    .dataframe tbody tr th:only-of-type {\n",
       "        vertical-align: middle;\n",
       "    }\n",
       "\n",
       "    .dataframe tbody tr th {\n",
       "        vertical-align: top;\n",
       "    }\n",
       "\n",
       "    .dataframe thead th {\n",
       "        text-align: right;\n",
       "    }\n",
       "</style>\n",
       "<table border=\"1\" class=\"dataframe\">\n",
       "  <thead>\n",
       "    <tr style=\"text-align: right;\">\n",
       "      <th></th>\n",
       "      <th>sum_sq</th>\n",
       "      <th>df</th>\n",
       "      <th>F</th>\n",
       "      <th>PR(&gt;F)</th>\n",
       "    </tr>\n",
       "  </thead>\n",
       "  <tbody>\n",
       "    <tr>\n",
       "      <td>C(Treatment)</td>\n",
       "      <td>4.230046</td>\n",
       "      <td>1.0</td>\n",
       "      <td>5.647887</td>\n",
       "      <td>0.021999</td>\n",
       "    </tr>\n",
       "    <tr>\n",
       "      <td>C(Year)</td>\n",
       "      <td>0.141099</td>\n",
       "      <td>1.0</td>\n",
       "      <td>0.188392</td>\n",
       "      <td>0.666428</td>\n",
       "    </tr>\n",
       "    <tr>\n",
       "      <td>C(Treatment):C(Year)</td>\n",
       "      <td>0.015690</td>\n",
       "      <td>1.0</td>\n",
       "      <td>0.020950</td>\n",
       "      <td>0.885593</td>\n",
       "    </tr>\n",
       "    <tr>\n",
       "      <td>Residual</td>\n",
       "      <td>32.205318</td>\n",
       "      <td>43.0</td>\n",
       "      <td>NaN</td>\n",
       "      <td>NaN</td>\n",
       "    </tr>\n",
       "  </tbody>\n",
       "</table>\n",
       "</div>"
      ],
      "text/plain": [
       "                         sum_sq    df         F    PR(>F)\n",
       "C(Treatment)           4.230046   1.0  5.647887  0.021999\n",
       "C(Year)                0.141099   1.0  0.188392  0.666428\n",
       "C(Treatment):C(Year)   0.015690   1.0  0.020950  0.885593\n",
       "Residual              32.205318  43.0       NaN       NaN"
      ]
     },
     "execution_count": 60,
     "metadata": {},
     "output_type": "execute_result"
    }
   ],
   "source": [
    "# run the ANOVA\n",
    "anova_statsmodels = anova_lm(lm_plants, typ=2)\n",
    "anova_statsmodels"
   ]
  }
 ],
 "metadata": {
  "kernelspec": {
   "display_name": "Python 3",
   "language": "python",
   "name": "python3"
  },
  "language_info": {
   "codemirror_mode": {
    "name": "ipython",
    "version": 3
   },
   "file_extension": ".py",
   "mimetype": "text/x-python",
   "name": "python",
   "nbconvert_exporter": "python",
   "pygments_lexer": "ipython3",
   "version": "3.7.4"
  }
 },
 "nbformat": 4,
 "nbformat_minor": 4
}
