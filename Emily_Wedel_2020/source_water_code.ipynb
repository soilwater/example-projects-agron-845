{
 "cells": [
  {
   "cell_type": "markdown",
   "metadata": {},
   "source": [
    "# Source water use of trees and grasses using a PCA approach"
   ]
  },
  {
   "cell_type": "code",
   "execution_count": 1,
   "metadata": {},
   "outputs": [],
   "source": [
    "import pandas as pd # for data manipulation and analysis\n",
    "import numpy as np  # for mathematical functions\n",
    "from scipy import stats as ss # to get standard error for plotting\n",
    "from plotly import express as px # for plotting\n",
    "import plotly.graph_objects as go # for pltting\n",
    "import plotly.io as pio # for displaying images in github\n",
    "from sklearn.preprocessing import StandardScaler # to scale values for PCA\n",
    "from sklearn.decomposition import PCA # to run PCA\n",
    "import statsmodels.formula.api as smf # to run ols and glm using the formula format\n",
    "import statsmodels.api as sm # to run glm and specify family and link \n",
    "from statsmodels.stats.anova import anova_lm # to run anova\n",
    "from statsmodels.graphics.api import qqplot # to check assumptions of anova\n",
    "import matplotlib.pyplot as plt # to plot qqplot for anova assumptions\n",
    "pio.renderers.default = \"svg\" # for graphs to show up in github"
   ]
  },
  {
   "cell_type": "markdown",
   "metadata": {},
   "source": [
    "# Load the data"
   ]
  },
  {
   "cell_type": "code",
   "execution_count": 2,
   "metadata": {},
   "outputs": [],
   "source": [
    "# use pandas to read the csv into python\n",
    "df = pd.read_csv('isotope_data_example.csv')"
   ]
  },
  {
   "cell_type": "code",
   "execution_count": 3,
   "metadata": {},
   "outputs": [
    {
     "data": {
      "text/html": [
       "<div>\n",
       "<style scoped>\n",
       "    .dataframe tbody tr th:only-of-type {\n",
       "        vertical-align: middle;\n",
       "    }\n",
       "\n",
       "    .dataframe tbody tr th {\n",
       "        vertical-align: top;\n",
       "    }\n",
       "\n",
       "    .dataframe thead th {\n",
       "        text-align: right;\n",
       "    }\n",
       "</style>\n",
       "<table border=\"1\" class=\"dataframe\">\n",
       "  <thead>\n",
       "    <tr style=\"text-align: right;\">\n",
       "      <th></th>\n",
       "      <th>Date</th>\n",
       "      <th>Sample ID</th>\n",
       "      <th>Plot</th>\n",
       "      <th>Treatment</th>\n",
       "      <th>Type</th>\n",
       "      <th>dD</th>\n",
       "      <th>d18O</th>\n",
       "    </tr>\n",
       "  </thead>\n",
       "  <tbody>\n",
       "    <tr>\n",
       "      <th>0</th>\n",
       "      <td>3/28/17</td>\n",
       "      <td>1</td>\n",
       "      <td>1</td>\n",
       "      <td>cut</td>\n",
       "      <td>10_cm</td>\n",
       "      <td>-18</td>\n",
       "      <td>4.0</td>\n",
       "    </tr>\n",
       "    <tr>\n",
       "      <th>1</th>\n",
       "      <td>3/28/17</td>\n",
       "      <td>2</td>\n",
       "      <td>1</td>\n",
       "      <td>cut</td>\n",
       "      <td>10_cm</td>\n",
       "      <td>-12</td>\n",
       "      <td>2.8</td>\n",
       "    </tr>\n",
       "    <tr>\n",
       "      <th>2</th>\n",
       "      <td>3/28/17</td>\n",
       "      <td>3</td>\n",
       "      <td>1</td>\n",
       "      <td>cut</td>\n",
       "      <td>30_cm</td>\n",
       "      <td>-29</td>\n",
       "      <td>-1.2</td>\n",
       "    </tr>\n",
       "    <tr>\n",
       "      <th>3</th>\n",
       "      <td>3/28/17</td>\n",
       "      <td>4</td>\n",
       "      <td>1</td>\n",
       "      <td>cut</td>\n",
       "      <td>30_cm</td>\n",
       "      <td>-21</td>\n",
       "      <td>-0.2</td>\n",
       "    </tr>\n",
       "    <tr>\n",
       "      <th>4</th>\n",
       "      <td>3/28/17</td>\n",
       "      <td>5</td>\n",
       "      <td>1</td>\n",
       "      <td>cut</td>\n",
       "      <td>50_cm</td>\n",
       "      <td>-29</td>\n",
       "      <td>-1.3</td>\n",
       "    </tr>\n",
       "  </tbody>\n",
       "</table>\n",
       "</div>"
      ],
      "text/plain": [
       "      Date  Sample ID  Plot Treatment   Type  dD  d18O\n",
       "0  3/28/17          1     1       cut  10_cm -18   4.0\n",
       "1  3/28/17          2     1       cut  10_cm -12   2.8\n",
       "2  3/28/17          3     1       cut  30_cm -29  -1.2\n",
       "3  3/28/17          4     1       cut  30_cm -21  -0.2\n",
       "4  3/28/17          5     1       cut  50_cm -29  -1.3"
      ]
     },
     "execution_count": 3,
     "metadata": {},
     "output_type": "execute_result"
    }
   ],
   "source": [
    "# view the first 5 rows of data\n",
    "df.head()"
   ]
  },
  {
   "cell_type": "markdown",
   "metadata": {},
   "source": [
    "We are interested in how $\\delta D$ and $\\delta ^{18}O$ vary among sample type (soil, tree, or grass) and treatment (plots with cut or uncut trees) in 2017 and 2018.\n",
    "\n",
    "Variables:\n",
    "* Date - There are 2 sampling dates. All samples were taken on the same day in 2017 and 2018.\n",
    "* Sample_ID - The assigned number to each sample.\n",
    "* Plot - There are 3 plots. Within each plot is a cut and an uncut treatment.\n",
    "* Treatment - There are 2 treatments: cut and uncut. The cut treatment represents mopane trees that were subject to repeated removal of aboveground biomass. The uncut treatment is the control.\n",
    "* Type - The sample type (tree, grass, or soil). The depths (cm) represent the depth of the soil sample.\n",
    "* dD - $\\delta D$\n",
    "* d18O - $\\delta ^{18}O$\n",
    "\n",
    "We first need to clean the data to make the variables easier to work with in order to answer the questions."
   ]
  },
  {
   "cell_type": "markdown",
   "metadata": {},
   "source": [
    "# Clean data"
   ]
  },
  {
   "cell_type": "code",
   "execution_count": 4,
   "metadata": {},
   "outputs": [],
   "source": [
    "# Extract the year from the Date column to easily compare between years.\n",
    "\n",
    "# convert Date column into a datetime object\n",
    "df[\"Date\"] = pd.to_datetime(df[\"Date\"], format=\"%m/%d/%y\")\n",
    "\n",
    "# extract year from Date\n",
    "df.insert(1,\"Year\",df[\"Date\"].dt.year)"
   ]
  },
  {
   "cell_type": "code",
   "execution_count": 5,
   "metadata": {},
   "outputs": [
    {
     "name": "stdout",
     "output_type": "stream",
     "text": [
      "There are 7 unique elements in the Type column\n",
      "Unique elements: ['10_cm' '30_cm' '50_cm' 'grass' 'tree' 'Borehole' 'pan_max']\n"
     ]
    }
   ],
   "source": [
    "# Here we can see the number of unique elements in the 'Type' column and a list of the elements\n",
    "type_unique = df['Type'].nunique()\n",
    "print('There are', type_unique, 'unique elements in the Type column')\n",
    "\n",
    "print('Unique elements:', (df['Type'].unique()))"
   ]
  },
  {
   "cell_type": "code",
   "execution_count": 6,
   "metadata": {},
   "outputs": [],
   "source": [
    "# Remove the Borehole reference sample because it is not a sample of interest\n",
    "df = df[df.Type != 'Borehole']\n",
    "\n",
    "# pan_max is the species code for a type of grass, so we can replace 'pan_max' with 'grass'\n",
    "df['Type'].replace('pan_max', 'grass', inplace=True)"
   ]
  },
  {
   "cell_type": "code",
   "execution_count": 7,
   "metadata": {},
   "outputs": [],
   "source": [
    "# The Type column includes tree, grass and soil depth samples.\n",
    "# We need to specify that anything that is not a tree or grass sample is a soil sample.\n",
    "\n",
    "# create a new list called 'Type_2'\n",
    "Type_2 = []\n",
    "\n",
    "# use a for loop to specify that anything that is not tree or grass sample is a soil sample\n",
    "for i in df['Type']:\n",
    "    if i == 'tree':\n",
    "        Type_2.append('tree')\n",
    "    elif i == 'grass':\n",
    "        Type_2.append('grass')\n",
    "    else:\n",
    "        Type_2.append('soil')\n",
    "\n",
    "# add the Type_2 list as a new column to the dataframe\n",
    "df['Type_2'] = Type_2"
   ]
  },
  {
   "cell_type": "code",
   "execution_count": 8,
   "metadata": {},
   "outputs": [],
   "source": [
    "# extract the soil depths from the Type column into a new column called 'Depth'\n",
    "df['Depth'] = df['Type'].str.split(\"_\", n = 1, expand = True)[0]\n",
    "\n",
    "# For plotting purposes, assign arbitrary depth values for tree and grass samples (see plot below)\n",
    "df['Depth'].replace('tree', -20, inplace = True)\n",
    "df['Depth'].replace('grass', -10, inplace=True)\n",
    "\n",
    "# specify Depth column is numeric\n",
    "# this will be important for analysis\n",
    "df['Depth'] = pd.to_numeric(df['Depth'])"
   ]
  },
  {
   "cell_type": "markdown",
   "metadata": {},
   "source": [
    "In the output below, we can see the results of the data cleaning and manipulation:\n",
    "1. Year column with 2017 or 2018\n",
    "2. Type_2 column with 'soil' in the rows with a soil depth in the Type column\n",
    "3. Depth column with soil depth as an integer"
   ]
  },
  {
   "cell_type": "code",
   "execution_count": 9,
   "metadata": {},
   "outputs": [
    {
     "data": {
      "text/html": [
       "<div>\n",
       "<style scoped>\n",
       "    .dataframe tbody tr th:only-of-type {\n",
       "        vertical-align: middle;\n",
       "    }\n",
       "\n",
       "    .dataframe tbody tr th {\n",
       "        vertical-align: top;\n",
       "    }\n",
       "\n",
       "    .dataframe thead th {\n",
       "        text-align: right;\n",
       "    }\n",
       "</style>\n",
       "<table border=\"1\" class=\"dataframe\">\n",
       "  <thead>\n",
       "    <tr style=\"text-align: right;\">\n",
       "      <th></th>\n",
       "      <th>Date</th>\n",
       "      <th>Year</th>\n",
       "      <th>Sample ID</th>\n",
       "      <th>Plot</th>\n",
       "      <th>Treatment</th>\n",
       "      <th>Type</th>\n",
       "      <th>dD</th>\n",
       "      <th>d18O</th>\n",
       "      <th>Type_2</th>\n",
       "      <th>Depth</th>\n",
       "    </tr>\n",
       "  </thead>\n",
       "  <tbody>\n",
       "    <tr>\n",
       "      <th>0</th>\n",
       "      <td>2017-03-28</td>\n",
       "      <td>2017</td>\n",
       "      <td>1</td>\n",
       "      <td>1</td>\n",
       "      <td>cut</td>\n",
       "      <td>10_cm</td>\n",
       "      <td>-18</td>\n",
       "      <td>4.0</td>\n",
       "      <td>soil</td>\n",
       "      <td>10</td>\n",
       "    </tr>\n",
       "    <tr>\n",
       "      <th>1</th>\n",
       "      <td>2017-03-28</td>\n",
       "      <td>2017</td>\n",
       "      <td>2</td>\n",
       "      <td>1</td>\n",
       "      <td>cut</td>\n",
       "      <td>10_cm</td>\n",
       "      <td>-12</td>\n",
       "      <td>2.8</td>\n",
       "      <td>soil</td>\n",
       "      <td>10</td>\n",
       "    </tr>\n",
       "    <tr>\n",
       "      <th>2</th>\n",
       "      <td>2017-03-28</td>\n",
       "      <td>2017</td>\n",
       "      <td>3</td>\n",
       "      <td>1</td>\n",
       "      <td>cut</td>\n",
       "      <td>30_cm</td>\n",
       "      <td>-29</td>\n",
       "      <td>-1.2</td>\n",
       "      <td>soil</td>\n",
       "      <td>30</td>\n",
       "    </tr>\n",
       "    <tr>\n",
       "      <th>3</th>\n",
       "      <td>2017-03-28</td>\n",
       "      <td>2017</td>\n",
       "      <td>4</td>\n",
       "      <td>1</td>\n",
       "      <td>cut</td>\n",
       "      <td>30_cm</td>\n",
       "      <td>-21</td>\n",
       "      <td>-0.2</td>\n",
       "      <td>soil</td>\n",
       "      <td>30</td>\n",
       "    </tr>\n",
       "    <tr>\n",
       "      <th>4</th>\n",
       "      <td>2017-03-28</td>\n",
       "      <td>2017</td>\n",
       "      <td>5</td>\n",
       "      <td>1</td>\n",
       "      <td>cut</td>\n",
       "      <td>50_cm</td>\n",
       "      <td>-29</td>\n",
       "      <td>-1.3</td>\n",
       "      <td>soil</td>\n",
       "      <td>50</td>\n",
       "    </tr>\n",
       "  </tbody>\n",
       "</table>\n",
       "</div>"
      ],
      "text/plain": [
       "        Date  Year  Sample ID  Plot Treatment   Type  dD  d18O Type_2  Depth\n",
       "0 2017-03-28  2017          1     1       cut  10_cm -18   4.0   soil     10\n",
       "1 2017-03-28  2017          2     1       cut  10_cm -12   2.8   soil     10\n",
       "2 2017-03-28  2017          3     1       cut  30_cm -29  -1.2   soil     30\n",
       "3 2017-03-28  2017          4     1       cut  30_cm -21  -0.2   soil     30\n",
       "4 2017-03-28  2017          5     1       cut  50_cm -29  -1.3   soil     50"
      ]
     },
     "execution_count": 9,
     "metadata": {},
     "output_type": "execute_result"
    }
   ],
   "source": [
    "df.head()"
   ]
  },
  {
   "cell_type": "markdown",
   "metadata": {},
   "source": [
    "# Single isotope graphs\n",
    "## Visualize - do soil water isotopes vary with depth?\n",
    "In order to assess if water isotopes can be used as a indicator of depth of water uptake, we need to determine if soil water isotopes vary with depth. We expect isotopic values to get smaller with depth due to evaporative enrichment near the soil surface. \n",
    "\n",
    "From the plots below, we can see that on average both $\\delta {^1}{^8}{O}$ and $\\delta D$ decrease with depth. However, there is a lot of variation in 2018. In addition, tree samples tend to have lower values than grass samples."
   ]
  },
  {
   "cell_type": "markdown",
   "metadata": {},
   "source": [
    "### $\\delta ^{18}{O}$"
   ]
  },
  {
   "cell_type": "code",
   "execution_count": 10,
   "metadata": {},
   "outputs": [
    {
     "ename": "ValueError",
     "evalue": "\nThe orca executable is required to export figures as static images,\nbut it could not be found on the system path.\n\nSearched for executable 'orca' on the following path:\n    /opt/anaconda3/bin\n    /opt/anaconda3/condabin\n    /google-cloud-sdk/bin\n    /Applications/anaconda/bin\n    //anaconda/bin\n    /usr/local/bin\n    /usr/bin\n    /bin\n    /usr/sbin\n    /sbin\n    /opt/X11/bin\n    /Library/Frameworks/Mono.framework/Versions/Current/Commands\n\nIf you haven't installed orca yet, you can do so using conda as follows:\n\n    $ conda install -c plotly plotly-orca\n\nAlternatively, see other installation methods in the orca project README at\nhttps://github.com/plotly/orca\n\nAfter installation is complete, no further configuration should be needed.\n\nIf you have installed orca, then for some reason plotly.py was unable to\nlocate it. In this case, set the `plotly.io.orca.config.executable`\nproperty to the full path of your orca executable. For example:\n\n    >>> plotly.io.orca.config.executable = '/path/to/orca'\n\nAfter updating this executable property, try the export operation again.\nIf it is successful then you may want to save this configuration so that it\nwill be applied automatically in future sessions. You can do this as follows:\n\n    >>> plotly.io.orca.config.save()\n\nIf you're still having trouble, feel free to ask for help on the forums at\nhttps://community.plot.ly/c/api/python\n",
     "output_type": "error",
     "traceback": [
      "\u001b[0;31m---------------------------------------------------------------------------\u001b[0m",
      "\u001b[0;31mValueError\u001b[0m                                Traceback (most recent call last)",
      "\u001b[0;32m<ipython-input-10-34d512fa2b55>\u001b[0m in \u001b[0;36m<module>\u001b[0;34m\u001b[0m\n\u001b[1;32m     12\u001b[0m \u001b[0mfig_d18O\u001b[0m\u001b[0;34m.\u001b[0m\u001b[0mupdate_layout\u001b[0m\u001b[0;34m(\u001b[0m\u001b[0mlegend_title_text\u001b[0m \u001b[0;34m=\u001b[0m \u001b[0;34m'sample type'\u001b[0m\u001b[0;34m)\u001b[0m\u001b[0;34m\u001b[0m\u001b[0;34m\u001b[0m\u001b[0m\n\u001b[1;32m     13\u001b[0m \u001b[0mfig_d18O\u001b[0m\u001b[0;34m.\u001b[0m\u001b[0mfor_each_annotation\u001b[0m\u001b[0;34m(\u001b[0m\u001b[0;32mlambda\u001b[0m \u001b[0ma\u001b[0m\u001b[0;34m:\u001b[0m \u001b[0ma\u001b[0m\u001b[0;34m.\u001b[0m\u001b[0mupdate\u001b[0m\u001b[0;34m(\u001b[0m\u001b[0mtext\u001b[0m \u001b[0;34m=\u001b[0m \u001b[0ma\u001b[0m\u001b[0;34m.\u001b[0m\u001b[0mtext\u001b[0m\u001b[0;34m.\u001b[0m\u001b[0msplit\u001b[0m\u001b[0;34m(\u001b[0m\u001b[0;34m\"=\"\u001b[0m\u001b[0;34m)\u001b[0m\u001b[0;34m[\u001b[0m\u001b[0;34m-\u001b[0m\u001b[0;36m1\u001b[0m\u001b[0;34m]\u001b[0m\u001b[0;34m)\u001b[0m\u001b[0;34m)\u001b[0m\u001b[0;34m\u001b[0m\u001b[0;34m\u001b[0m\u001b[0m\n\u001b[0;32m---> 14\u001b[0;31m \u001b[0mfig_d18O\u001b[0m\u001b[0;34m.\u001b[0m\u001b[0mshow\u001b[0m\u001b[0;34m(\u001b[0m\u001b[0;34m)\u001b[0m\u001b[0;34m\u001b[0m\u001b[0;34m\u001b[0m\u001b[0m\n\u001b[0m",
      "\u001b[0;32m/opt/anaconda3/lib/python3.7/site-packages/plotly/basedatatypes.py\u001b[0m in \u001b[0;36mshow\u001b[0;34m(self, *args, **kwargs)\u001b[0m\n\u001b[1;32m   2792\u001b[0m         \u001b[0;32mimport\u001b[0m \u001b[0mplotly\u001b[0m\u001b[0;34m.\u001b[0m\u001b[0mio\u001b[0m \u001b[0;32mas\u001b[0m \u001b[0mpio\u001b[0m\u001b[0;34m\u001b[0m\u001b[0;34m\u001b[0m\u001b[0m\n\u001b[1;32m   2793\u001b[0m \u001b[0;34m\u001b[0m\u001b[0m\n\u001b[0;32m-> 2794\u001b[0;31m         \u001b[0;32mreturn\u001b[0m \u001b[0mpio\u001b[0m\u001b[0;34m.\u001b[0m\u001b[0mshow\u001b[0m\u001b[0;34m(\u001b[0m\u001b[0mself\u001b[0m\u001b[0;34m,\u001b[0m \u001b[0;34m*\u001b[0m\u001b[0margs\u001b[0m\u001b[0;34m,\u001b[0m \u001b[0;34m**\u001b[0m\u001b[0mkwargs\u001b[0m\u001b[0;34m)\u001b[0m\u001b[0;34m\u001b[0m\u001b[0;34m\u001b[0m\u001b[0m\n\u001b[0m\u001b[1;32m   2795\u001b[0m \u001b[0;34m\u001b[0m\u001b[0m\n\u001b[1;32m   2796\u001b[0m     \u001b[0;32mdef\u001b[0m \u001b[0mto_json\u001b[0m\u001b[0;34m(\u001b[0m\u001b[0mself\u001b[0m\u001b[0;34m,\u001b[0m \u001b[0;34m*\u001b[0m\u001b[0margs\u001b[0m\u001b[0;34m,\u001b[0m \u001b[0;34m**\u001b[0m\u001b[0mkwargs\u001b[0m\u001b[0;34m)\u001b[0m\u001b[0;34m:\u001b[0m\u001b[0;34m\u001b[0m\u001b[0;34m\u001b[0m\u001b[0m\n",
      "\u001b[0;32m/opt/anaconda3/lib/python3.7/site-packages/plotly/io/_renderers.py\u001b[0m in \u001b[0;36mshow\u001b[0;34m(fig, renderer, validate, **kwargs)\u001b[0m\n\u001b[1;32m    374\u001b[0m \u001b[0;34m\u001b[0m\u001b[0m\n\u001b[1;32m    375\u001b[0m     \u001b[0;31m# Mimetype renderers\u001b[0m\u001b[0;34m\u001b[0m\u001b[0;34m\u001b[0m\u001b[0;34m\u001b[0m\u001b[0m\n\u001b[0;32m--> 376\u001b[0;31m     \u001b[0mbundle\u001b[0m \u001b[0;34m=\u001b[0m \u001b[0mrenderers\u001b[0m\u001b[0;34m.\u001b[0m\u001b[0m_build_mime_bundle\u001b[0m\u001b[0;34m(\u001b[0m\u001b[0mfig_dict\u001b[0m\u001b[0;34m,\u001b[0m \u001b[0mrenderers_string\u001b[0m\u001b[0;34m=\u001b[0m\u001b[0mrenderer\u001b[0m\u001b[0;34m,\u001b[0m \u001b[0;34m**\u001b[0m\u001b[0mkwargs\u001b[0m\u001b[0;34m)\u001b[0m\u001b[0;34m\u001b[0m\u001b[0;34m\u001b[0m\u001b[0m\n\u001b[0m\u001b[1;32m    377\u001b[0m     \u001b[0;32mif\u001b[0m \u001b[0mbundle\u001b[0m\u001b[0;34m:\u001b[0m\u001b[0;34m\u001b[0m\u001b[0;34m\u001b[0m\u001b[0m\n\u001b[1;32m    378\u001b[0m         \u001b[0;32mif\u001b[0m \u001b[0;32mnot\u001b[0m \u001b[0mipython_display\u001b[0m\u001b[0;34m:\u001b[0m\u001b[0;34m\u001b[0m\u001b[0;34m\u001b[0m\u001b[0m\n",
      "\u001b[0;32m/opt/anaconda3/lib/python3.7/site-packages/plotly/io/_renderers.py\u001b[0m in \u001b[0;36m_build_mime_bundle\u001b[0;34m(self, fig_dict, renderers_string, **kwargs)\u001b[0m\n\u001b[1;32m    283\u001b[0m         \u001b[0;32melse\u001b[0m\u001b[0;34m:\u001b[0m\u001b[0;34m\u001b[0m\u001b[0;34m\u001b[0m\u001b[0m\n\u001b[1;32m    284\u001b[0m             \u001b[0;31m# Activate any pending default renderers\u001b[0m\u001b[0;34m\u001b[0m\u001b[0;34m\u001b[0m\u001b[0;34m\u001b[0m\u001b[0m\n\u001b[0;32m--> 285\u001b[0;31m             \u001b[0mself\u001b[0m\u001b[0;34m.\u001b[0m\u001b[0m_activate_pending_renderers\u001b[0m\u001b[0;34m(\u001b[0m\u001b[0mcls\u001b[0m\u001b[0;34m=\u001b[0m\u001b[0mMimetypeRenderer\u001b[0m\u001b[0;34m)\u001b[0m\u001b[0;34m\u001b[0m\u001b[0;34m\u001b[0m\u001b[0m\n\u001b[0m\u001b[1;32m    286\u001b[0m             \u001b[0mrenderers_list\u001b[0m \u001b[0;34m=\u001b[0m \u001b[0mself\u001b[0m\u001b[0;34m.\u001b[0m\u001b[0m_default_renderers\u001b[0m\u001b[0;34m\u001b[0m\u001b[0;34m\u001b[0m\u001b[0m\n\u001b[1;32m    287\u001b[0m \u001b[0;34m\u001b[0m\u001b[0m\n",
      "\u001b[0;32m/opt/anaconda3/lib/python3.7/site-packages/plotly/io/_renderers.py\u001b[0m in \u001b[0;36m_activate_pending_renderers\u001b[0;34m(self, cls)\u001b[0m\n\u001b[1;32m    190\u001b[0m             \u001b[0;31m# renderers take precedence\u001b[0m\u001b[0;34m\u001b[0m\u001b[0;34m\u001b[0m\u001b[0;34m\u001b[0m\u001b[0m\n\u001b[1;32m    191\u001b[0m             \u001b[0mrenderer\u001b[0m \u001b[0;34m=\u001b[0m \u001b[0mto_activate_with_cls\u001b[0m\u001b[0;34m.\u001b[0m\u001b[0mpop\u001b[0m\u001b[0;34m(\u001b[0m\u001b[0;36m0\u001b[0m\u001b[0;34m)\u001b[0m\u001b[0;34m\u001b[0m\u001b[0;34m\u001b[0m\u001b[0m\n\u001b[0;32m--> 192\u001b[0;31m             \u001b[0mrenderer\u001b[0m\u001b[0;34m.\u001b[0m\u001b[0mactivate\u001b[0m\u001b[0;34m(\u001b[0m\u001b[0;34m)\u001b[0m\u001b[0;34m\u001b[0m\u001b[0;34m\u001b[0m\u001b[0m\n\u001b[0m\u001b[1;32m    193\u001b[0m \u001b[0;34m\u001b[0m\u001b[0m\n\u001b[1;32m    194\u001b[0m         self._to_activate = [\n",
      "\u001b[0;32m/opt/anaconda3/lib/python3.7/site-packages/plotly/io/_base_renderers.py\u001b[0m in \u001b[0;36mactivate\u001b[0;34m(self)\u001b[0m\n\u001b[1;32m    124\u001b[0m     \u001b[0;32mdef\u001b[0m \u001b[0mactivate\u001b[0m\u001b[0;34m(\u001b[0m\u001b[0mself\u001b[0m\u001b[0;34m)\u001b[0m\u001b[0;34m:\u001b[0m\u001b[0;34m\u001b[0m\u001b[0;34m\u001b[0m\u001b[0m\n\u001b[1;32m    125\u001b[0m         \u001b[0;31m# Start up orca server to reduce the delay on first render\u001b[0m\u001b[0;34m\u001b[0m\u001b[0;34m\u001b[0m\u001b[0;34m\u001b[0m\u001b[0m\n\u001b[0;32m--> 126\u001b[0;31m         \u001b[0mensure_server\u001b[0m\u001b[0;34m(\u001b[0m\u001b[0;34m)\u001b[0m\u001b[0;34m\u001b[0m\u001b[0;34m\u001b[0m\u001b[0m\n\u001b[0m\u001b[1;32m    127\u001b[0m \u001b[0;34m\u001b[0m\u001b[0m\n\u001b[1;32m    128\u001b[0m     \u001b[0;32mdef\u001b[0m \u001b[0mto_mimebundle\u001b[0m\u001b[0;34m(\u001b[0m\u001b[0mself\u001b[0m\u001b[0;34m,\u001b[0m \u001b[0mfig_dict\u001b[0m\u001b[0;34m)\u001b[0m\u001b[0;34m:\u001b[0m\u001b[0;34m\u001b[0m\u001b[0;34m\u001b[0m\u001b[0m\n",
      "\u001b[0;32m/opt/anaconda3/lib/python3.7/site-packages/plotly/io/_orca.py\u001b[0m in \u001b[0;36mensure_server\u001b[0;34m()\u001b[0m\n\u001b[1;32m   1388\u001b[0m         \u001b[0;31m# Validate orca executable only if server_url is not provided\u001b[0m\u001b[0;34m\u001b[0m\u001b[0;34m\u001b[0m\u001b[0;34m\u001b[0m\u001b[0m\n\u001b[1;32m   1389\u001b[0m         \u001b[0;32mif\u001b[0m \u001b[0mstatus\u001b[0m\u001b[0;34m.\u001b[0m\u001b[0mstate\u001b[0m \u001b[0;34m==\u001b[0m \u001b[0;34m\"unvalidated\"\u001b[0m\u001b[0;34m:\u001b[0m\u001b[0;34m\u001b[0m\u001b[0;34m\u001b[0m\u001b[0m\n\u001b[0;32m-> 1390\u001b[0;31m             \u001b[0mvalidate_executable\u001b[0m\u001b[0;34m(\u001b[0m\u001b[0;34m)\u001b[0m\u001b[0;34m\u001b[0m\u001b[0;34m\u001b[0m\u001b[0m\n\u001b[0m\u001b[1;32m   1391\u001b[0m         \u001b[0;31m# Acquire lock to make sure that we keep the properties of orca_state\u001b[0m\u001b[0;34m\u001b[0m\u001b[0;34m\u001b[0m\u001b[0;34m\u001b[0m\u001b[0m\n\u001b[1;32m   1392\u001b[0m         \u001b[0;31m# consistent across threads\u001b[0m\u001b[0;34m\u001b[0m\u001b[0;34m\u001b[0m\u001b[0;34m\u001b[0m\u001b[0m\n",
      "\u001b[0;32m/opt/anaconda3/lib/python3.7/site-packages/plotly/io/_orca.py\u001b[0m in \u001b[0;36mvalidate_executable\u001b[0;34m()\u001b[0m\n\u001b[1;32m   1085\u001b[0m                 \u001b[0mexecutable\u001b[0m\u001b[0;34m=\u001b[0m\u001b[0mconfig\u001b[0m\u001b[0;34m.\u001b[0m\u001b[0mexecutable\u001b[0m\u001b[0;34m,\u001b[0m\u001b[0;34m\u001b[0m\u001b[0;34m\u001b[0m\u001b[0m\n\u001b[1;32m   1086\u001b[0m                 \u001b[0mformatted_path\u001b[0m\u001b[0;34m=\u001b[0m\u001b[0mformatted_path\u001b[0m\u001b[0;34m,\u001b[0m\u001b[0;34m\u001b[0m\u001b[0;34m\u001b[0m\u001b[0m\n\u001b[0;32m-> 1087\u001b[0;31m                 \u001b[0minstructions\u001b[0m\u001b[0;34m=\u001b[0m\u001b[0minstall_location_instructions\u001b[0m\u001b[0;34m,\u001b[0m\u001b[0;34m\u001b[0m\u001b[0;34m\u001b[0m\u001b[0m\n\u001b[0m\u001b[1;32m   1088\u001b[0m             )\n\u001b[1;32m   1089\u001b[0m         )\n",
      "\u001b[0;31mValueError\u001b[0m: \nThe orca executable is required to export figures as static images,\nbut it could not be found on the system path.\n\nSearched for executable 'orca' on the following path:\n    /opt/anaconda3/bin\n    /opt/anaconda3/condabin\n    /google-cloud-sdk/bin\n    /Applications/anaconda/bin\n    //anaconda/bin\n    /usr/local/bin\n    /usr/bin\n    /bin\n    /usr/sbin\n    /sbin\n    /opt/X11/bin\n    /Library/Frameworks/Mono.framework/Versions/Current/Commands\n\nIf you haven't installed orca yet, you can do so using conda as follows:\n\n    $ conda install -c plotly plotly-orca\n\nAlternatively, see other installation methods in the orca project README at\nhttps://github.com/plotly/orca\n\nAfter installation is complete, no further configuration should be needed.\n\nIf you have installed orca, then for some reason plotly.py was unable to\nlocate it. In this case, set the `plotly.io.orca.config.executable`\nproperty to the full path of your orca executable. For example:\n\n    >>> plotly.io.orca.config.executable = '/path/to/orca'\n\nAfter updating this executable property, try the export operation again.\nIf it is successful then you may want to save this configuration so that it\nwill be applied automatically in future sessions. You can do this as follows:\n\n    >>> plotly.io.orca.config.save()\n\nIf you're still having trouble, feel free to ask for help on the forums at\nhttps://community.plot.ly/c/api/python\n"
     ]
    }
   ],
   "source": [
    "# create dataframe with mean and standard error for d18O isotopes for plotting\n",
    "df_d18O = df.groupby(['Year', 'Type_2', 'Treatment', 'Depth'], as_index = False)['d18O'].agg([np.mean, ss.sem]).reset_index()\n",
    "\n",
    "# plot d18O across soil depths\n",
    "fig_d18O = px.scatter(df_d18O, x = 'mean', y = 'Depth', color = 'Type_2', error_x = 'sem',\n",
    "                    facet_col = 'Year', facet_row = 'Treatment',\n",
    "                    template = 'simple_white',\n",
    "                    color_discrete_sequence = [\"orange\", \"blue\", \"gray\"],\n",
    "                    category_orders = {\"Type_2\": ['tree', 'grass', 'soil']})\n",
    "fig_d18O.update_xaxes(title_text = '\\u03B4<sup>18</sup>O \\u2030', row=1)\n",
    "fig_d18O.update_yaxes(title_text = 'Depth (cm)', col = 1, autorange = 'reversed')\n",
    "fig_d18O.update_layout(legend_title_text = 'sample type')\n",
    "fig_d18O.for_each_annotation(lambda a: a.update(text = a.text.split(\"=\")[-1]))\n",
    "fig_d18O.show()"
   ]
  },
  {
   "cell_type": "markdown",
   "metadata": {},
   "source": [
    "### $\\delta D$"
   ]
  },
  {
   "cell_type": "code",
   "execution_count": null,
   "metadata": {},
   "outputs": [],
   "source": [
    "# create dataframe with mean and standard error for dD isotopes for plotting\n",
    "df_dD = df.groupby(['Year', 'Type_2', 'Treatment', 'Depth'], as_index = False)['dD'].agg([np.mean, ss.sem]).reset_index()\n",
    "\n",
    "# plot dD across soil depths\n",
    "fig_dD = px.scatter(df_dD, x = 'mean', y = 'Depth', color = 'Type_2', error_x = 'sem',\n",
    "                    facet_col = 'Year', facet_row = 'Treatment',\n",
    "                    template = 'simple_white',\n",
    "                    color_discrete_sequence = [\"orange\", \"blue\", \"gray\"],\n",
    "                    category_orders = {\"Type_2\": ['tree', 'grass', 'soil']})\n",
    "fig_dD.update_xaxes(title_text = '\\u03B4D \\u2030', row = 1)\n",
    "fig_dD.update_yaxes(title_text = 'Depth (cm)', col = 1, autorange = 'reversed')\n",
    "fig_dD.update_layout(legend_title_text = 'sample type')\n",
    "fig_dD.for_each_annotation(lambda a: a.update(text = a.text.split(\"=\")[-1]))\n",
    "fig_dD.show()"
   ]
  },
  {
   "cell_type": "markdown",
   "metadata": {},
   "source": [
    "# Double Isotope Graph\n",
    "### Plot soil, grass, and tree samples with the meteoric water line (MWL)\n",
    " From the double isotope graph below:\n",
    "1. $\\delta ^{18}{O}$ and $\\delta{D}$ are highly correlated\n",
    "2. Values fall beow the MWL indicating these samples are from a semi-arid region\n",
    "3. Soil samples span the length of the graph while grass samples tend to be slightly more enriched than tree samples. However, some plants samples have lower values than the soil samples. This may indicate plants retrieved water from deeper soil depths than the depths sampled. "
   ]
  },
  {
   "cell_type": "code",
   "execution_count": 11,
   "metadata": {},
   "outputs": [],
   "source": [
    "# create data to plot meteoric water line\n",
    "# This is the x variable\n",
    "# Data needs to range from minimum value to maximum value of d18O\n",
    "x = pd.Series(np.arange(df['d18O'].min(), df['d18O'].max(),1))\n",
    "\n",
    "# Plug x into the meteoric water line equation to get the y variable\n",
    "# Specify the y values as a dataframe\n",
    "df_mwl = pd.DataFrame(8*x + 10)\n",
    "\n",
    "# add x to the dataframe\n",
    "df_mwl = pd.concat([df_mwl, x], axis=1)\n",
    "\n",
    "# rename the x and y columns to d18O and dD, respectively\n",
    "df_mwl.columns = ['dD', 'd18O']"
   ]
  },
  {
   "cell_type": "code",
   "execution_count": 12,
   "metadata": {},
   "outputs": [
    {
     "ename": "ValueError",
     "evalue": "\nThe orca executable is required to export figures as static images,\nbut it could not be found on the system path.\n\nSearched for executable 'orca' on the following path:\n    /opt/anaconda3/bin\n    /opt/anaconda3/condabin\n    /google-cloud-sdk/bin\n    /Applications/anaconda/bin\n    //anaconda/bin\n    /usr/local/bin\n    /usr/bin\n    /bin\n    /usr/sbin\n    /sbin\n    /opt/X11/bin\n    /Library/Frameworks/Mono.framework/Versions/Current/Commands\n\nIf you haven't installed orca yet, you can do so using conda as follows:\n\n    $ conda install -c plotly plotly-orca\n\nAlternatively, see other installation methods in the orca project README at\nhttps://github.com/plotly/orca\n\nAfter installation is complete, no further configuration should be needed.\n\nIf you have installed orca, then for some reason plotly.py was unable to\nlocate it. In this case, set the `plotly.io.orca.config.executable`\nproperty to the full path of your orca executable. For example:\n\n    >>> plotly.io.orca.config.executable = '/path/to/orca'\n\nAfter updating this executable property, try the export operation again.\nIf it is successful then you may want to save this configuration so that it\nwill be applied automatically in future sessions. You can do this as follows:\n\n    >>> plotly.io.orca.config.save()\n\nIf you're still having trouble, feel free to ask for help on the forums at\nhttps://community.plot.ly/c/api/python\n",
     "output_type": "error",
     "traceback": [
      "\u001b[0;31m---------------------------------------------------------------------------\u001b[0m",
      "\u001b[0;31mValueError\u001b[0m                                Traceback (most recent call last)",
      "\u001b[0;32m<ipython-input-12-0bb1b7d2fe93>\u001b[0m in \u001b[0;36m<module>\u001b[0;34m\u001b[0m\n\u001b[1;32m     19\u001b[0m                     \u001b[0mmode\u001b[0m \u001b[0;34m=\u001b[0m \u001b[0;34m'lines'\u001b[0m\u001b[0;34m,\u001b[0m\u001b[0;34m\u001b[0m\u001b[0;34m\u001b[0m\u001b[0m\n\u001b[1;32m     20\u001b[0m                     line=dict(color='black'), showlegend=False), 2, i)\n\u001b[0;32m---> 21\u001b[0;31m \u001b[0mfig_mwl\u001b[0m\u001b[0;34m.\u001b[0m\u001b[0mshow\u001b[0m\u001b[0;34m(\u001b[0m\u001b[0;34m)\u001b[0m\u001b[0;34m\u001b[0m\u001b[0;34m\u001b[0m\u001b[0m\n\u001b[0m",
      "\u001b[0;32m/opt/anaconda3/lib/python3.7/site-packages/plotly/basedatatypes.py\u001b[0m in \u001b[0;36mshow\u001b[0;34m(self, *args, **kwargs)\u001b[0m\n\u001b[1;32m   2792\u001b[0m         \u001b[0;32mimport\u001b[0m \u001b[0mplotly\u001b[0m\u001b[0;34m.\u001b[0m\u001b[0mio\u001b[0m \u001b[0;32mas\u001b[0m \u001b[0mpio\u001b[0m\u001b[0;34m\u001b[0m\u001b[0;34m\u001b[0m\u001b[0m\n\u001b[1;32m   2793\u001b[0m \u001b[0;34m\u001b[0m\u001b[0m\n\u001b[0;32m-> 2794\u001b[0;31m         \u001b[0;32mreturn\u001b[0m \u001b[0mpio\u001b[0m\u001b[0;34m.\u001b[0m\u001b[0mshow\u001b[0m\u001b[0;34m(\u001b[0m\u001b[0mself\u001b[0m\u001b[0;34m,\u001b[0m \u001b[0;34m*\u001b[0m\u001b[0margs\u001b[0m\u001b[0;34m,\u001b[0m \u001b[0;34m**\u001b[0m\u001b[0mkwargs\u001b[0m\u001b[0;34m)\u001b[0m\u001b[0;34m\u001b[0m\u001b[0;34m\u001b[0m\u001b[0m\n\u001b[0m\u001b[1;32m   2795\u001b[0m \u001b[0;34m\u001b[0m\u001b[0m\n\u001b[1;32m   2796\u001b[0m     \u001b[0;32mdef\u001b[0m \u001b[0mto_json\u001b[0m\u001b[0;34m(\u001b[0m\u001b[0mself\u001b[0m\u001b[0;34m,\u001b[0m \u001b[0;34m*\u001b[0m\u001b[0margs\u001b[0m\u001b[0;34m,\u001b[0m \u001b[0;34m**\u001b[0m\u001b[0mkwargs\u001b[0m\u001b[0;34m)\u001b[0m\u001b[0;34m:\u001b[0m\u001b[0;34m\u001b[0m\u001b[0;34m\u001b[0m\u001b[0m\n",
      "\u001b[0;32m/opt/anaconda3/lib/python3.7/site-packages/plotly/io/_renderers.py\u001b[0m in \u001b[0;36mshow\u001b[0;34m(fig, renderer, validate, **kwargs)\u001b[0m\n\u001b[1;32m    374\u001b[0m \u001b[0;34m\u001b[0m\u001b[0m\n\u001b[1;32m    375\u001b[0m     \u001b[0;31m# Mimetype renderers\u001b[0m\u001b[0;34m\u001b[0m\u001b[0;34m\u001b[0m\u001b[0;34m\u001b[0m\u001b[0m\n\u001b[0;32m--> 376\u001b[0;31m     \u001b[0mbundle\u001b[0m \u001b[0;34m=\u001b[0m \u001b[0mrenderers\u001b[0m\u001b[0;34m.\u001b[0m\u001b[0m_build_mime_bundle\u001b[0m\u001b[0;34m(\u001b[0m\u001b[0mfig_dict\u001b[0m\u001b[0;34m,\u001b[0m \u001b[0mrenderers_string\u001b[0m\u001b[0;34m=\u001b[0m\u001b[0mrenderer\u001b[0m\u001b[0;34m,\u001b[0m \u001b[0;34m**\u001b[0m\u001b[0mkwargs\u001b[0m\u001b[0;34m)\u001b[0m\u001b[0;34m\u001b[0m\u001b[0;34m\u001b[0m\u001b[0m\n\u001b[0m\u001b[1;32m    377\u001b[0m     \u001b[0;32mif\u001b[0m \u001b[0mbundle\u001b[0m\u001b[0;34m:\u001b[0m\u001b[0;34m\u001b[0m\u001b[0;34m\u001b[0m\u001b[0m\n\u001b[1;32m    378\u001b[0m         \u001b[0;32mif\u001b[0m \u001b[0;32mnot\u001b[0m \u001b[0mipython_display\u001b[0m\u001b[0;34m:\u001b[0m\u001b[0;34m\u001b[0m\u001b[0;34m\u001b[0m\u001b[0m\n",
      "\u001b[0;32m/opt/anaconda3/lib/python3.7/site-packages/plotly/io/_renderers.py\u001b[0m in \u001b[0;36m_build_mime_bundle\u001b[0;34m(self, fig_dict, renderers_string, **kwargs)\u001b[0m\n\u001b[1;32m    283\u001b[0m         \u001b[0;32melse\u001b[0m\u001b[0;34m:\u001b[0m\u001b[0;34m\u001b[0m\u001b[0;34m\u001b[0m\u001b[0m\n\u001b[1;32m    284\u001b[0m             \u001b[0;31m# Activate any pending default renderers\u001b[0m\u001b[0;34m\u001b[0m\u001b[0;34m\u001b[0m\u001b[0;34m\u001b[0m\u001b[0m\n\u001b[0;32m--> 285\u001b[0;31m             \u001b[0mself\u001b[0m\u001b[0;34m.\u001b[0m\u001b[0m_activate_pending_renderers\u001b[0m\u001b[0;34m(\u001b[0m\u001b[0mcls\u001b[0m\u001b[0;34m=\u001b[0m\u001b[0mMimetypeRenderer\u001b[0m\u001b[0;34m)\u001b[0m\u001b[0;34m\u001b[0m\u001b[0;34m\u001b[0m\u001b[0m\n\u001b[0m\u001b[1;32m    286\u001b[0m             \u001b[0mrenderers_list\u001b[0m \u001b[0;34m=\u001b[0m \u001b[0mself\u001b[0m\u001b[0;34m.\u001b[0m\u001b[0m_default_renderers\u001b[0m\u001b[0;34m\u001b[0m\u001b[0;34m\u001b[0m\u001b[0m\n\u001b[1;32m    287\u001b[0m \u001b[0;34m\u001b[0m\u001b[0m\n",
      "\u001b[0;32m/opt/anaconda3/lib/python3.7/site-packages/plotly/io/_renderers.py\u001b[0m in \u001b[0;36m_activate_pending_renderers\u001b[0;34m(self, cls)\u001b[0m\n\u001b[1;32m    190\u001b[0m             \u001b[0;31m# renderers take precedence\u001b[0m\u001b[0;34m\u001b[0m\u001b[0;34m\u001b[0m\u001b[0;34m\u001b[0m\u001b[0m\n\u001b[1;32m    191\u001b[0m             \u001b[0mrenderer\u001b[0m \u001b[0;34m=\u001b[0m \u001b[0mto_activate_with_cls\u001b[0m\u001b[0;34m.\u001b[0m\u001b[0mpop\u001b[0m\u001b[0;34m(\u001b[0m\u001b[0;36m0\u001b[0m\u001b[0;34m)\u001b[0m\u001b[0;34m\u001b[0m\u001b[0;34m\u001b[0m\u001b[0m\n\u001b[0;32m--> 192\u001b[0;31m             \u001b[0mrenderer\u001b[0m\u001b[0;34m.\u001b[0m\u001b[0mactivate\u001b[0m\u001b[0;34m(\u001b[0m\u001b[0;34m)\u001b[0m\u001b[0;34m\u001b[0m\u001b[0;34m\u001b[0m\u001b[0m\n\u001b[0m\u001b[1;32m    193\u001b[0m \u001b[0;34m\u001b[0m\u001b[0m\n\u001b[1;32m    194\u001b[0m         self._to_activate = [\n",
      "\u001b[0;32m/opt/anaconda3/lib/python3.7/site-packages/plotly/io/_base_renderers.py\u001b[0m in \u001b[0;36mactivate\u001b[0;34m(self)\u001b[0m\n\u001b[1;32m    124\u001b[0m     \u001b[0;32mdef\u001b[0m \u001b[0mactivate\u001b[0m\u001b[0;34m(\u001b[0m\u001b[0mself\u001b[0m\u001b[0;34m)\u001b[0m\u001b[0;34m:\u001b[0m\u001b[0;34m\u001b[0m\u001b[0;34m\u001b[0m\u001b[0m\n\u001b[1;32m    125\u001b[0m         \u001b[0;31m# Start up orca server to reduce the delay on first render\u001b[0m\u001b[0;34m\u001b[0m\u001b[0;34m\u001b[0m\u001b[0;34m\u001b[0m\u001b[0m\n\u001b[0;32m--> 126\u001b[0;31m         \u001b[0mensure_server\u001b[0m\u001b[0;34m(\u001b[0m\u001b[0;34m)\u001b[0m\u001b[0;34m\u001b[0m\u001b[0;34m\u001b[0m\u001b[0m\n\u001b[0m\u001b[1;32m    127\u001b[0m \u001b[0;34m\u001b[0m\u001b[0m\n\u001b[1;32m    128\u001b[0m     \u001b[0;32mdef\u001b[0m \u001b[0mto_mimebundle\u001b[0m\u001b[0;34m(\u001b[0m\u001b[0mself\u001b[0m\u001b[0;34m,\u001b[0m \u001b[0mfig_dict\u001b[0m\u001b[0;34m)\u001b[0m\u001b[0;34m:\u001b[0m\u001b[0;34m\u001b[0m\u001b[0;34m\u001b[0m\u001b[0m\n",
      "\u001b[0;32m/opt/anaconda3/lib/python3.7/site-packages/plotly/io/_orca.py\u001b[0m in \u001b[0;36mensure_server\u001b[0;34m()\u001b[0m\n\u001b[1;32m   1388\u001b[0m         \u001b[0;31m# Validate orca executable only if server_url is not provided\u001b[0m\u001b[0;34m\u001b[0m\u001b[0;34m\u001b[0m\u001b[0;34m\u001b[0m\u001b[0m\n\u001b[1;32m   1389\u001b[0m         \u001b[0;32mif\u001b[0m \u001b[0mstatus\u001b[0m\u001b[0;34m.\u001b[0m\u001b[0mstate\u001b[0m \u001b[0;34m==\u001b[0m \u001b[0;34m\"unvalidated\"\u001b[0m\u001b[0;34m:\u001b[0m\u001b[0;34m\u001b[0m\u001b[0;34m\u001b[0m\u001b[0m\n\u001b[0;32m-> 1390\u001b[0;31m             \u001b[0mvalidate_executable\u001b[0m\u001b[0;34m(\u001b[0m\u001b[0;34m)\u001b[0m\u001b[0;34m\u001b[0m\u001b[0;34m\u001b[0m\u001b[0m\n\u001b[0m\u001b[1;32m   1391\u001b[0m         \u001b[0;31m# Acquire lock to make sure that we keep the properties of orca_state\u001b[0m\u001b[0;34m\u001b[0m\u001b[0;34m\u001b[0m\u001b[0;34m\u001b[0m\u001b[0m\n\u001b[1;32m   1392\u001b[0m         \u001b[0;31m# consistent across threads\u001b[0m\u001b[0;34m\u001b[0m\u001b[0;34m\u001b[0m\u001b[0;34m\u001b[0m\u001b[0m\n",
      "\u001b[0;32m/opt/anaconda3/lib/python3.7/site-packages/plotly/io/_orca.py\u001b[0m in \u001b[0;36mvalidate_executable\u001b[0;34m()\u001b[0m\n\u001b[1;32m   1085\u001b[0m                 \u001b[0mexecutable\u001b[0m\u001b[0;34m=\u001b[0m\u001b[0mconfig\u001b[0m\u001b[0;34m.\u001b[0m\u001b[0mexecutable\u001b[0m\u001b[0;34m,\u001b[0m\u001b[0;34m\u001b[0m\u001b[0;34m\u001b[0m\u001b[0m\n\u001b[1;32m   1086\u001b[0m                 \u001b[0mformatted_path\u001b[0m\u001b[0;34m=\u001b[0m\u001b[0mformatted_path\u001b[0m\u001b[0;34m,\u001b[0m\u001b[0;34m\u001b[0m\u001b[0;34m\u001b[0m\u001b[0m\n\u001b[0;32m-> 1087\u001b[0;31m                 \u001b[0minstructions\u001b[0m\u001b[0;34m=\u001b[0m\u001b[0minstall_location_instructions\u001b[0m\u001b[0;34m,\u001b[0m\u001b[0;34m\u001b[0m\u001b[0;34m\u001b[0m\u001b[0m\n\u001b[0m\u001b[1;32m   1088\u001b[0m             )\n\u001b[1;32m   1089\u001b[0m         )\n",
      "\u001b[0;31mValueError\u001b[0m: \nThe orca executable is required to export figures as static images,\nbut it could not be found on the system path.\n\nSearched for executable 'orca' on the following path:\n    /opt/anaconda3/bin\n    /opt/anaconda3/condabin\n    /google-cloud-sdk/bin\n    /Applications/anaconda/bin\n    //anaconda/bin\n    /usr/local/bin\n    /usr/bin\n    /bin\n    /usr/sbin\n    /sbin\n    /opt/X11/bin\n    /Library/Frameworks/Mono.framework/Versions/Current/Commands\n\nIf you haven't installed orca yet, you can do so using conda as follows:\n\n    $ conda install -c plotly plotly-orca\n\nAlternatively, see other installation methods in the orca project README at\nhttps://github.com/plotly/orca\n\nAfter installation is complete, no further configuration should be needed.\n\nIf you have installed orca, then for some reason plotly.py was unable to\nlocate it. In this case, set the `plotly.io.orca.config.executable`\nproperty to the full path of your orca executable. For example:\n\n    >>> plotly.io.orca.config.executable = '/path/to/orca'\n\nAfter updating this executable property, try the export operation again.\nIf it is successful then you may want to save this configuration so that it\nwill be applied automatically in future sessions. You can do this as follows:\n\n    >>> plotly.io.orca.config.save()\n\nIf you're still having trouble, feel free to ask for help on the forums at\nhttps://community.plot.ly/c/api/python\n"
     ]
    }
   ],
   "source": [
    "# Plot samples\n",
    "fig_mwl = px.scatter(df, x = 'd18O', y = 'dD', color = 'Type_2', \n",
    "                     facet_col = 'Year', facet_row = 'Treatment', \n",
    "                     template = 'simple_white',\n",
    "                     trendline = 'ols',\n",
    "                     color_discrete_sequence = [\"orange\", \"blue\", \"gray\"],\n",
    "                     category_orders = {\"Type_2\": ['tree', 'grass', 'soil']})\n",
    "fig_mwl.update_xaxes(title_text = '\\u03B4<sup>18</sup>O \\u2030', row = 1)\n",
    "fig_mwl.update_yaxes(title_text = '\\u03B4D \\u2030', col = 1)\n",
    "fig_mwl.update_layout(legend_title_text='sample type')\n",
    "fig_mwl.for_each_annotation(lambda a: a.update(text=a.text.split(\"=\")[-1]))\n",
    "\n",
    "# Add MWL to graph\n",
    "for i in range(1,3):\n",
    "    fig_mwl.add_trace(go.Scatter(x = df_mwl['d18O'], y = df_mwl['dD'],\n",
    "                    mode = 'lines',\n",
    "                    line=dict(color='black'), showlegend=False), 1, i)\n",
    "    fig_mwl.add_trace(go.Scatter(x = df_mwl['d18O'], y = df_mwl['dD'],\n",
    "                    mode = 'lines',\n",
    "                    line=dict(color='black'), showlegend=False), 2, i)\n",
    "fig_mwl.show()"
   ]
  },
  {
   "cell_type": "markdown",
   "metadata": {},
   "source": [
    "# PCA\n",
    "The PCA analysis collapses the 2 water isotopes ($\\delta ^{18}{O}$ and $\\delta{D}$) into 1 axis. This allows us to test for differences in source water use between grass and tree samples and cut and uncut treatments even though the soil samples do not cover the entire range where plants uptake water. "
   ]
  },
  {
   "cell_type": "code",
   "execution_count": 26,
   "metadata": {},
   "outputs": [
    {
     "name": "stdout",
     "output_type": "stream",
     "text": [
      "The variance explained by PC1 and PC2: [0.91533816 0.08466184]\n"
     ]
    }
   ],
   "source": [
    "# define features for PCA. These are the 2 variables we are interested in collapsing into 1 axis.\n",
    "features = ['d18O', 'dD']\n",
    "\n",
    "# creates numpy array with d18O and dD values\n",
    "x = df.loc[:, features].values\n",
    "\n",
    "# Scale / normalize the d18O and dD values for PCA \n",
    "x = StandardScaler().fit_transform(x)\n",
    "\n",
    "# specify number of PCA components\n",
    "pca = PCA(n_components=2)\n",
    "\n",
    "# this creates a numpy array with a PC1 value and a PC2 value for each row of the dataframe\n",
    "principal_components = pca.fit_transform(x)\n",
    "\n",
    "# Check that PC1 explains most of the variance\n",
    "print('The variance explained by PC1 and PC2:', pca.explained_variance_ratio_)"
   ]
  },
  {
   "cell_type": "markdown",
   "metadata": {},
   "source": [
    "Here, PC1 explained approximately 91.5% of the variance, which is important since PC1 is the response variable to test for differences in the depth of water uptake between trees and grasses and cut and uncut treatments. This works because $\\delta ^{18}{O}$ and $\\delta{D}$ are highly correlated. \n",
    "<br>\n",
    "<br>\n",
    "Now we need to add a PC1 column to the clean dataframe."
   ]
  },
  {
   "cell_type": "code",
   "execution_count": 27,
   "metadata": {},
   "outputs": [],
   "source": [
    "# create pca dataframe with columns PC1 and PC2\n",
    "pca_df = pd.DataFrame(data=principal_components, columns = ['PC1', 'PC2'])\n",
    "\n",
    "# reset the index for each dataframe to properly concatenate the pca and cleaned dataframes in the correct order.\n",
    "df.reset_index(drop=True, inplace=True)\n",
    "pca_df.reset_index(drop=True, inplace=True)\n",
    "\n",
    "# concatenate the pca dataframe with the original cleaned dataframe\n",
    "df = pd.concat([df, pca_df], axis=1)"
   ]
  },
  {
   "cell_type": "markdown",
   "metadata": {},
   "source": [
    "In the ouput below, the mean PC1 values for each soil depth tend to get larger with depth. However, in the single isotope graphs above isotopic values tend to get smaller with depth. In order to reflect the trends of the original data we need to use the negeative PC1 values. Remember, for the grass and tree samples, the depth is an arbitrary number. "
   ]
  },
  {
   "cell_type": "code",
   "execution_count": 28,
   "metadata": {},
   "outputs": [
    {
     "name": "stdout",
     "output_type": "stream",
     "text": [
      "                       mean\n",
      "Year Type_2 Depth          \n",
      "2017 grass  -10   -0.170465\n",
      "     soil    10   -1.660700\n",
      "             30   -0.258130\n",
      "             50    0.136321\n",
      "     tree   -20    1.104072\n",
      "2018 grass  -10   -0.701725\n",
      "     soil    10   -1.696948\n",
      "             30   -1.156991\n",
      "             50   -0.687270\n",
      "     tree   -20    0.981389\n"
     ]
    }
   ],
   "source": [
    "# Look at the mean PC1 values gropued by year, sample type, and soil depth.\n",
    "print(df.groupby(['Year', 'Type_2', 'Depth'], as_index=False)['PC1'].agg([np.mean]))"
   ]
  },
  {
   "cell_type": "code",
   "execution_count": 29,
   "metadata": {},
   "outputs": [],
   "source": [
    "# Use the negative of the PC1 axis to reflect the original data that lighter isotopes have smaller values.\n",
    "df['PC1'] = -df['PC1']"
   ]
  },
  {
   "cell_type": "code",
   "execution_count": 30,
   "metadata": {},
   "outputs": [
    {
     "data": {
      "text/html": [
       "<div>\n",
       "<style scoped>\n",
       "    .dataframe tbody tr th:only-of-type {\n",
       "        vertical-align: middle;\n",
       "    }\n",
       "\n",
       "    .dataframe tbody tr th {\n",
       "        vertical-align: top;\n",
       "    }\n",
       "\n",
       "    .dataframe thead th {\n",
       "        text-align: right;\n",
       "    }\n",
       "</style>\n",
       "<table border=\"1\" class=\"dataframe\">\n",
       "  <thead>\n",
       "    <tr style=\"text-align: right;\">\n",
       "      <th></th>\n",
       "      <th>Date</th>\n",
       "      <th>Year</th>\n",
       "      <th>Sample ID</th>\n",
       "      <th>Plot</th>\n",
       "      <th>Treatment</th>\n",
       "      <th>Type</th>\n",
       "      <th>dD</th>\n",
       "      <th>d18O</th>\n",
       "      <th>Type_2</th>\n",
       "      <th>Depth</th>\n",
       "      <th>PC1</th>\n",
       "      <th>PC2</th>\n",
       "    </tr>\n",
       "  </thead>\n",
       "  <tbody>\n",
       "    <tr>\n",
       "      <td>0</td>\n",
       "      <td>2017-03-28</td>\n",
       "      <td>2017</td>\n",
       "      <td>1</td>\n",
       "      <td>1</td>\n",
       "      <td>cut</td>\n",
       "      <td>10_cm</td>\n",
       "      <td>-18</td>\n",
       "      <td>4.0</td>\n",
       "      <td>soil</td>\n",
       "      <td>10</td>\n",
       "      <td>1.507202</td>\n",
       "      <td>0.943190</td>\n",
       "    </tr>\n",
       "    <tr>\n",
       "      <td>1</td>\n",
       "      <td>2017-03-28</td>\n",
       "      <td>2017</td>\n",
       "      <td>2</td>\n",
       "      <td>1</td>\n",
       "      <td>cut</td>\n",
       "      <td>10_cm</td>\n",
       "      <td>-12</td>\n",
       "      <td>2.8</td>\n",
       "      <td>soil</td>\n",
       "      <td>10</td>\n",
       "      <td>1.579503</td>\n",
       "      <td>0.211028</td>\n",
       "    </tr>\n",
       "    <tr>\n",
       "      <td>2</td>\n",
       "      <td>2017-03-28</td>\n",
       "      <td>2017</td>\n",
       "      <td>3</td>\n",
       "      <td>1</td>\n",
       "      <td>cut</td>\n",
       "      <td>30_cm</td>\n",
       "      <td>-29</td>\n",
       "      <td>-1.2</td>\n",
       "      <td>soil</td>\n",
       "      <td>30</td>\n",
       "      <td>-0.659922</td>\n",
       "      <td>0.250918</td>\n",
       "    </tr>\n",
       "    <tr>\n",
       "      <td>3</td>\n",
       "      <td>2017-03-28</td>\n",
       "      <td>2017</td>\n",
       "      <td>4</td>\n",
       "      <td>1</td>\n",
       "      <td>cut</td>\n",
       "      <td>30_cm</td>\n",
       "      <td>-21</td>\n",
       "      <td>-0.2</td>\n",
       "      <td>soil</td>\n",
       "      <td>30</td>\n",
       "      <td>0.151329</td>\n",
       "      <td>-0.010450</td>\n",
       "    </tr>\n",
       "    <tr>\n",
       "      <td>4</td>\n",
       "      <td>2017-03-28</td>\n",
       "      <td>2017</td>\n",
       "      <td>5</td>\n",
       "      <td>1</td>\n",
       "      <td>cut</td>\n",
       "      <td>50_cm</td>\n",
       "      <td>-29</td>\n",
       "      <td>-1.3</td>\n",
       "      <td>soil</td>\n",
       "      <td>50</td>\n",
       "      <td>-0.687416</td>\n",
       "      <td>0.223423</td>\n",
       "    </tr>\n",
       "  </tbody>\n",
       "</table>\n",
       "</div>"
      ],
      "text/plain": [
       "        Date  Year  Sample ID  Plot Treatment   Type  dD  d18O Type_2  Depth  \\\n",
       "0 2017-03-28  2017          1     1       cut  10_cm -18   4.0   soil     10   \n",
       "1 2017-03-28  2017          2     1       cut  10_cm -12   2.8   soil     10   \n",
       "2 2017-03-28  2017          3     1       cut  30_cm -29  -1.2   soil     30   \n",
       "3 2017-03-28  2017          4     1       cut  30_cm -21  -0.2   soil     30   \n",
       "4 2017-03-28  2017          5     1       cut  50_cm -29  -1.3   soil     50   \n",
       "\n",
       "        PC1       PC2  \n",
       "0  1.507202  0.943190  \n",
       "1  1.579503  0.211028  \n",
       "2 -0.659922  0.250918  \n",
       "3  0.151329 -0.010450  \n",
       "4 -0.687416  0.223423  "
      ]
     },
     "execution_count": 30,
     "metadata": {},
     "output_type": "execute_result"
    }
   ],
   "source": [
    "# view the first 5 rows of the dataframe\n",
    "df.head()"
   ]
  },
  {
   "cell_type": "markdown",
   "metadata": {},
   "source": [
    "## PCA Bar Plot"
   ]
  },
  {
   "cell_type": "markdown",
   "metadata": {},
   "source": [
    "Plot mean PC1 for each treatment, plat type, and year to visualize differences in source water use. <br>\n",
    "\n",
    "In graph below, smaller PC1 values represent water isotpoic values from deeper sources. Grass samples tend to have larger values than trees. Cut trees tend to have larger values than uncut trees."
   ]
  },
  {
   "cell_type": "code",
   "execution_count": 31,
   "metadata": {},
   "outputs": [],
   "source": [
    "# extract only grass and tree samples for plotting\n",
    "df_plants = df.loc[(df['Type_2'] == 'grass') | (df['Type_2'] == 'tree')]"
   ]
  },
  {
   "cell_type": "code",
   "execution_count": 32,
   "metadata": {},
   "outputs": [
    {
     "data": {
      "image/svg+xml": [
       "<svg class=\"main-svg\" xmlns=\"http://www.w3.org/2000/svg\" xmlns:xlink=\"http://www.w3.org/1999/xlink\" width=\"700\" height=\"450\" style=\"\" viewBox=\"0 0 700 450\"><rect x=\"0\" y=\"0\" width=\"700\" height=\"450\" style=\"fill: rgb(255, 255, 255); fill-opacity: 1;\"/><defs id=\"defs-9dbdae\"><g class=\"clips\"><clipPath id=\"clip9dbdaexyplot\" class=\"plotclip\"><rect width=\"254.79999999999998\" height=\"310\"/></clipPath><clipPath id=\"clip9dbdaex2y2plot\" class=\"plotclip\"><rect width=\"254.79999999999998\" height=\"310\"/></clipPath><clipPath class=\"axesclip\" id=\"clip9dbdaex\"><rect x=\"80\" y=\"0\" width=\"254.79999999999998\" height=\"450\"/></clipPath><clipPath class=\"axesclip\" id=\"clip9dbdaey\"><rect x=\"0\" y=\"60\" width=\"700\" height=\"310\"/></clipPath><clipPath class=\"axesclip\" id=\"clip9dbdaexy\"><rect x=\"80\" y=\"60\" width=\"254.79999999999998\" height=\"310\"/></clipPath><clipPath class=\"axesclip\" id=\"clip9dbdaey2\"><rect x=\"0\" y=\"60\" width=\"700\" height=\"310\"/></clipPath><clipPath class=\"axesclip\" id=\"clip9dbdaexy2\"><rect x=\"80\" y=\"60\" width=\"254.79999999999998\" height=\"310\"/></clipPath><clipPath class=\"axesclip\" id=\"clip9dbdaex2\"><rect x=\"345.2\" y=\"0\" width=\"254.79999999999998\" height=\"450\"/></clipPath><clipPath class=\"axesclip\" id=\"clip9dbdaex2y\"><rect x=\"345.2\" y=\"60\" width=\"254.79999999999998\" height=\"310\"/></clipPath><clipPath class=\"axesclip\" id=\"clip9dbdaex2y2\"><rect x=\"345.2\" y=\"60\" width=\"254.79999999999998\" height=\"310\"/></clipPath></g><g class=\"gradients\"/></defs><g class=\"bglayer\"/><g class=\"layer-below\"><g class=\"imagelayer\"/><g class=\"shapelayer\"/></g><g class=\"cartesianlayer\"><g class=\"subplot xy\"><g class=\"layer-subplot\"><g class=\"shapelayer\"/><g class=\"imagelayer\"/></g><g class=\"gridlayer\"><g class=\"x\"/><g class=\"y\"/></g><g class=\"zerolinelayer\"/><path class=\"xlines-below\"/><path class=\"ylines-below\"/><g class=\"overlines-below\"/><g class=\"xaxislayer-below\"/><g class=\"yaxislayer-below\"/><g class=\"overaxes-below\"/><g class=\"plot\" transform=\"translate(80, 60)\" clip-path=\"url('#clip9dbdaexyplot')\"><g class=\"barlayer mlayer\"><g class=\"trace bars\" style=\"opacity: 1;\"><g class=\"points\"><g class=\"point\"><path d=\"M12.74,145.85V219.44H63.7V145.85Z\" style=\"vector-effect: non-scaling-stroke; opacity: 1; stroke-width: 0.5px; fill: rgb(255, 165, 0); fill-opacity: 1; stroke: rgb(255, 255, 255); stroke-opacity: 1;\"/></g><g class=\"point\"><path d=\"M140.14,145.85V280.27H191.1V145.85Z\" style=\"vector-effect: non-scaling-stroke; opacity: 1; stroke-width: 0.5px; fill: rgb(255, 165, 0); fill-opacity: 1; stroke: rgb(255, 255, 255); stroke-opacity: 1;\"/></g></g><g class=\"errorbar\"><path class=\"yerror\" d=\"M34.22,196.06h8m-4,0V242.81m-4,0h8\" style=\"vector-effect: non-scaling-stroke; stroke-width: 2px; stroke: rgb(36, 36, 36); stroke-opacity: 1;\"/></g><g class=\"errorbar\"><path class=\"yerror\" d=\"M161.62,262.11h8m-4,0V298.43m-4,0h8\" style=\"vector-effect: non-scaling-stroke; stroke-width: 2px; stroke: rgb(36, 36, 36); stroke-opacity: 1;\"/></g></g><g class=\"trace bars\" style=\"opacity: 1;\"><g class=\"points\"><g class=\"point\"><path d=\"M63.7,145.85V130.3H114.66V145.85Z\" style=\"vector-effect: non-scaling-stroke; opacity: 1; stroke-width: 0.5px; fill: rgb(0, 0, 255); fill-opacity: 1; stroke: rgb(255, 255, 255); stroke-opacity: 1;\"/></g><g class=\"point\"><path d=\"M191.1,145.85V128.67H242.06V145.85Z\" style=\"vector-effect: non-scaling-stroke; opacity: 1; stroke-width: 0.5px; fill: rgb(0, 0, 255); fill-opacity: 1; stroke: rgb(255, 255, 255); stroke-opacity: 1;\"/></g></g><g class=\"errorbar\"><path class=\"yerror\" d=\"M85.18,97.74h8m-4,0V162.86m-4,0h8\" style=\"vector-effect: non-scaling-stroke; stroke-width: 2px; stroke: rgb(36, 36, 36); stroke-opacity: 1;\"/></g><g class=\"errorbar\"><path class=\"yerror\" d=\"M212.58,90.18h8m-4,0V167.17m-4,0h8\" style=\"vector-effect: non-scaling-stroke; stroke-width: 2px; stroke: rgb(36, 36, 36); stroke-opacity: 1;\"/></g></g></g></g><g class=\"overplot\"/><path class=\"xlines-above crisp\" d=\"M79,370.5H334.79999999999995\" style=\"fill: none; stroke-width: 1px; stroke: rgb(36, 36, 36); stroke-opacity: 1;\"/><path class=\"ylines-above crisp\" d=\"M79.5,60V370\" style=\"fill: none; stroke-width: 1px; stroke: rgb(36, 36, 36); stroke-opacity: 1;\"/><g class=\"overlines-above\"/><g class=\"xaxislayer-above\"><path class=\"xtick ticks crisp\" d=\"M0,371v5\" transform=\"translate(143.7,0)\" style=\"stroke: rgb(68, 68, 68); stroke-opacity: 1; stroke-width: 1px;\"/><path class=\"xtick ticks crisp\" d=\"M0,371v5\" transform=\"translate(271.1,0)\" style=\"stroke: rgb(68, 68, 68); stroke-opacity: 1; stroke-width: 1px;\"/><g class=\"xtick\"><text text-anchor=\"middle\" x=\"0\" y=\"390.4\" transform=\"translate(143.7,0)\" style=\"font-family: 'Open Sans', verdana, arial, sans-serif; font-size: 12px; fill: rgb(36, 36, 36); fill-opacity: 1; white-space: pre;\">cut</text></g><g class=\"xtick\"><text text-anchor=\"middle\" x=\"0\" y=\"390.4\" transform=\"translate(271.1,0)\" style=\"font-family: 'Open Sans', verdana, arial, sans-serif; font-size: 12px; fill: rgb(36, 36, 36); fill-opacity: 1; white-space: pre;\">uncut</text></g></g><g class=\"yaxislayer-above\"><path class=\"ytick ticks crisp\" d=\"M79,0h-5\" transform=\"translate(0,348.95)\" style=\"stroke: rgb(68, 68, 68); stroke-opacity: 1; stroke-width: 1px;\"/><path class=\"ytick ticks crisp\" d=\"M79,0h-5\" transform=\"translate(0,301.25)\" style=\"stroke: rgb(68, 68, 68); stroke-opacity: 1; stroke-width: 1px;\"/><path class=\"ytick ticks crisp\" d=\"M79,0h-5\" transform=\"translate(0,253.55)\" style=\"stroke: rgb(68, 68, 68); stroke-opacity: 1; stroke-width: 1px;\"/><path class=\"ytick ticks crisp\" d=\"M79,0h-5\" transform=\"translate(0,205.85)\" style=\"stroke: rgb(68, 68, 68); stroke-opacity: 1; stroke-width: 1px;\"/><path class=\"ytick ticks crisp\" d=\"M79,0h-5\" transform=\"translate(0,158.15)\" style=\"stroke: rgb(68, 68, 68); stroke-opacity: 1; stroke-width: 1px;\"/><path class=\"ytick ticks crisp\" d=\"M79,0h-5\" transform=\"translate(0,110.45)\" style=\"stroke: rgb(68, 68, 68); stroke-opacity: 1; stroke-width: 1px;\"/><path class=\"ytick ticks crisp\" d=\"M79,0h-5\" transform=\"translate(0,62.75)\" style=\"stroke: rgb(68, 68, 68); stroke-opacity: 1; stroke-width: 1px;\"/><g class=\"ytick\"><text text-anchor=\"end\" x=\"71.6\" y=\"4.199999999999999\" transform=\"translate(0,348.95)\" style=\"font-family: 'Open Sans', verdana, arial, sans-serif; font-size: 12px; fill: rgb(36, 36, 36); fill-opacity: 1; white-space: pre;\">−1.5</text></g><g class=\"ytick\"><text text-anchor=\"end\" x=\"71.6\" y=\"4.199999999999999\" transform=\"translate(0,301.25)\" style=\"font-family: 'Open Sans', verdana, arial, sans-serif; font-size: 12px; fill: rgb(36, 36, 36); fill-opacity: 1; white-space: pre;\">−1</text></g><g class=\"ytick\"><text text-anchor=\"end\" x=\"71.6\" y=\"4.199999999999999\" transform=\"translate(0,253.55)\" style=\"font-family: 'Open Sans', verdana, arial, sans-serif; font-size: 12px; fill: rgb(36, 36, 36); fill-opacity: 1; white-space: pre;\">−0.5</text></g><g class=\"ytick\"><text text-anchor=\"end\" x=\"71.6\" y=\"4.199999999999999\" transform=\"translate(0,205.85)\" style=\"font-family: 'Open Sans', verdana, arial, sans-serif; font-size: 12px; fill: rgb(36, 36, 36); fill-opacity: 1; white-space: pre;\">0</text></g><g class=\"ytick\"><text text-anchor=\"end\" x=\"71.6\" y=\"4.199999999999999\" transform=\"translate(0,158.15)\" style=\"font-family: 'Open Sans', verdana, arial, sans-serif; font-size: 12px; fill: rgb(36, 36, 36); fill-opacity: 1; white-space: pre;\">0.5</text></g><g class=\"ytick\"><text text-anchor=\"end\" x=\"71.6\" y=\"4.199999999999999\" transform=\"translate(0,110.45)\" style=\"font-family: 'Open Sans', verdana, arial, sans-serif; font-size: 12px; fill: rgb(36, 36, 36); fill-opacity: 1; white-space: pre;\">1</text></g><g class=\"ytick\"><text text-anchor=\"end\" x=\"71.6\" y=\"4.199999999999999\" transform=\"translate(0,62.75)\" style=\"font-family: 'Open Sans', verdana, arial, sans-serif; font-size: 12px; fill: rgb(36, 36, 36); fill-opacity: 1; white-space: pre;\">1.5</text></g></g><g class=\"overaxes-above\"/></g><g class=\"subplot x2y2\"><g class=\"layer-subplot\"><g class=\"shapelayer\"/><g class=\"imagelayer\"/></g><g class=\"gridlayer\"><g class=\"x2\"/><g class=\"y2\"/></g><g class=\"zerolinelayer\"/><path class=\"xlines-below\"/><path class=\"ylines-below\"/><g class=\"overlines-below\"/><g class=\"xaxislayer-below\"/><g class=\"yaxislayer-below\"/><g class=\"overaxes-below\"/><g class=\"plot\" transform=\"translate(345.2, 60)\" clip-path=\"url('#clip9dbdaex2y2plot')\"><g class=\"barlayer mlayer\"><g class=\"trace bars\" style=\"opacity: 1;\"><g class=\"points\"><g class=\"point\"><path d=\"M12.74,145.85V212.54H63.7V145.85Z\" style=\"vector-effect: non-scaling-stroke; opacity: 1; stroke-width: 0.5px; fill: rgb(255, 165, 0); fill-opacity: 1; stroke: rgb(255, 255, 255); stroke-opacity: 1;\"/></g><g class=\"point\"><path d=\"M140.14,145.85V266.4H191.1V145.85Z\" style=\"vector-effect: non-scaling-stroke; opacity: 1; stroke-width: 0.5px; fill: rgb(255, 165, 0); fill-opacity: 1; stroke: rgb(255, 255, 255); stroke-opacity: 1;\"/></g></g><g class=\"errorbar\"><path class=\"yerror\" d=\"M34.22,182.62h8m-4,0V242.47m-4,0h8\" style=\"vector-effect: non-scaling-stroke; stroke-width: 2px; stroke: rgb(36, 36, 36); stroke-opacity: 1;\"/></g><g class=\"errorbar\"><path class=\"yerror\" d=\"M161.62,243.16h8m-4,0V289.64m-4,0h8\" style=\"vector-effect: non-scaling-stroke; stroke-width: 2px; stroke: rgb(36, 36, 36); stroke-opacity: 1;\"/></g></g><g class=\"trace bars\" style=\"opacity: 1;\"><g class=\"points\"><g class=\"point\"><path d=\"M63.7,145.85V94.54H114.66V145.85Z\" style=\"vector-effect: non-scaling-stroke; opacity: 1; stroke-width: 0.5px; fill: rgb(0, 0, 255); fill-opacity: 1; stroke: rgb(255, 255, 255); stroke-opacity: 1;\"/></g><g class=\"point\"><path d=\"M191.1,145.85V63.28H242.06V145.85Z\" style=\"vector-effect: non-scaling-stroke; opacity: 1; stroke-width: 0.5px; fill: rgb(0, 0, 255); fill-opacity: 1; stroke: rgb(255, 255, 255); stroke-opacity: 1;\"/></g></g><g class=\"errorbar\"><path class=\"yerror\" d=\"M85.18,54.25h8m-4,0V134.82m-4,0h8\" style=\"vector-effect: non-scaling-stroke; stroke-width: 2px; stroke: rgb(36, 36, 36); stroke-opacity: 1;\"/></g><g class=\"errorbar\"><path class=\"yerror\" d=\"M212.58,15.24h8m-4,0V111.31m-4,0h8\" style=\"vector-effect: non-scaling-stroke; stroke-width: 2px; stroke: rgb(36, 36, 36); stroke-opacity: 1;\"/></g></g></g></g><g class=\"overplot\"/><path class=\"xlines-above crisp\" d=\"M344.2,370.5H600\" style=\"fill: none; stroke-width: 1px; stroke: rgb(36, 36, 36); stroke-opacity: 1;\"/><path class=\"ylines-above crisp\" d=\"M344.7,60V370\" style=\"fill: none; stroke-width: 1px; stroke: rgb(36, 36, 36); stroke-opacity: 1;\"/><g class=\"overlines-above\"/><g class=\"xaxislayer-above\"><path class=\"x2tick ticks crisp\" d=\"M0,371v5\" transform=\"translate(408.9,0)\" style=\"stroke: rgb(68, 68, 68); stroke-opacity: 1; stroke-width: 1px;\"/><path class=\"x2tick ticks crisp\" d=\"M0,371v5\" transform=\"translate(536.3,0)\" style=\"stroke: rgb(68, 68, 68); stroke-opacity: 1; stroke-width: 1px;\"/><g class=\"x2tick\"><text text-anchor=\"middle\" x=\"0\" y=\"390.4\" transform=\"translate(408.9,0)\" style=\"font-family: 'Open Sans', verdana, arial, sans-serif; font-size: 12px; fill: rgb(36, 36, 36); fill-opacity: 1; white-space: pre;\">cut</text></g><g class=\"x2tick\"><text text-anchor=\"middle\" x=\"0\" y=\"390.4\" transform=\"translate(536.3,0)\" style=\"font-family: 'Open Sans', verdana, arial, sans-serif; font-size: 12px; fill: rgb(36, 36, 36); fill-opacity: 1; white-space: pre;\">uncut</text></g></g><g class=\"yaxislayer-above\"><path class=\"y2tick ticks crisp\" d=\"M344.2,0h-5\" transform=\"translate(0,348.95)\" style=\"stroke: rgb(68, 68, 68); stroke-opacity: 1; stroke-width: 1px;\"/><path class=\"y2tick ticks crisp\" d=\"M344.2,0h-5\" transform=\"translate(0,301.25)\" style=\"stroke: rgb(68, 68, 68); stroke-opacity: 1; stroke-width: 1px;\"/><path class=\"y2tick ticks crisp\" d=\"M344.2,0h-5\" transform=\"translate(0,253.55)\" style=\"stroke: rgb(68, 68, 68); stroke-opacity: 1; stroke-width: 1px;\"/><path class=\"y2tick ticks crisp\" d=\"M344.2,0h-5\" transform=\"translate(0,205.85)\" style=\"stroke: rgb(68, 68, 68); stroke-opacity: 1; stroke-width: 1px;\"/><path class=\"y2tick ticks crisp\" d=\"M344.2,0h-5\" transform=\"translate(0,158.15)\" style=\"stroke: rgb(68, 68, 68); stroke-opacity: 1; stroke-width: 1px;\"/><path class=\"y2tick ticks crisp\" d=\"M344.2,0h-5\" transform=\"translate(0,110.45)\" style=\"stroke: rgb(68, 68, 68); stroke-opacity: 1; stroke-width: 1px;\"/><path class=\"y2tick ticks crisp\" d=\"M344.2,0h-5\" transform=\"translate(0,62.75)\" style=\"stroke: rgb(68, 68, 68); stroke-opacity: 1; stroke-width: 1px;\"/></g><g class=\"overaxes-above\"/></g></g><g class=\"polarlayer\"/><g class=\"ternarylayer\"/><g class=\"geolayer\"/><g class=\"funnelarealayer\"/><g class=\"pielayer\"/><g class=\"treemaplayer\"/><g class=\"sunburstlayer\"/><g class=\"glimages\"/><defs id=\"topdefs-9dbdae\"><g class=\"clips\"/><clipPath id=\"legend9dbdae\"><rect width=\"78\" height=\"64\" x=\"0\" y=\"0\"/></clipPath></defs><g class=\"layer-above\"><g class=\"imagelayer\"/><g class=\"shapelayer\"/></g><g class=\"infolayer\"><g class=\"legend\" pointer-events=\"all\" transform=\"translate(610.4, 60)\"><rect class=\"bg\" shape-rendering=\"crispEdges\" width=\"78\" height=\"64\" x=\"0\" y=\"0\" style=\"stroke: rgb(68, 68, 68); stroke-opacity: 1; fill: rgb(255, 255, 255); fill-opacity: 1; stroke-width: 0px;\"/><g class=\"scrollbox\" transform=\"translate(0, 0)\" clip-path=\"url('#legend9dbdae')\"><text class=\"legendtitletext user-select-none\" text-anchor=\"start\" x=\"2\" y=\"15.600000000000001\" style=\"font-family: 'Open Sans', verdana, arial, sans-serif; font-size: 12px; fill: rgb(36, 36, 36); fill-opacity: 1; white-space: pre;\">sample type</text><g class=\"groups\" transform=\"translate(0, 0)\"><g class=\"traces\" transform=\"translate(0, 30.1)\" style=\"opacity: 1;\"><text class=\"legendtext user-select-none\" text-anchor=\"start\" x=\"40\" y=\"4.680000000000001\" style=\"font-family: 'Open Sans', verdana, arial, sans-serif; font-size: 12px; fill: rgb(36, 36, 36); fill-opacity: 1; white-space: pre;\">tree</text><g class=\"layers\" style=\"opacity: 1;\"><g class=\"legendfill\"/><g class=\"legendlines\"/><g class=\"legendsymbols\"><g class=\"legendpoints\"><path class=\"legendundefined\" d=\"M6,6H-6V-6H6Z\" transform=\"translate(20,0)\" style=\"stroke-width: 0.5px; fill: rgb(255, 165, 0); fill-opacity: 1; stroke: rgb(255, 255, 255); stroke-opacity: 1;\"/></g></g></g><rect class=\"legendtoggle\" pointer-events=\"all\" x=\"0\" y=\"-9.5\" width=\"72.3125\" height=\"19\" style=\"cursor: pointer; fill: rgb(0, 0, 0); fill-opacity: 0;\"/></g></g><g class=\"groups\" transform=\"translate(0, 0)\"><g class=\"traces\" transform=\"translate(0, 49.1)\" style=\"opacity: 1;\"><text class=\"legendtext user-select-none\" text-anchor=\"start\" x=\"40\" y=\"4.680000000000001\" style=\"font-family: 'Open Sans', verdana, arial, sans-serif; font-size: 12px; fill: rgb(36, 36, 36); fill-opacity: 1; white-space: pre;\">grass</text><g class=\"layers\" style=\"opacity: 1;\"><g class=\"legendfill\"/><g class=\"legendlines\"/><g class=\"legendsymbols\"><g class=\"legendpoints\"><path class=\"legendundefined\" d=\"M6,6H-6V-6H6Z\" transform=\"translate(20,0)\" style=\"stroke-width: 0.5px; fill: rgb(0, 0, 255); fill-opacity: 1; stroke: rgb(255, 255, 255); stroke-opacity: 1;\"/></g></g></g><rect class=\"legendtoggle\" pointer-events=\"all\" x=\"0\" y=\"-9.5\" width=\"72.3125\" height=\"19\" style=\"cursor: pointer; fill: rgb(0, 0, 0); fill-opacity: 0;\"/></g></g></g><rect class=\"scrollbar\" rx=\"20\" ry=\"3\" width=\"0\" height=\"0\" x=\"0\" y=\"0\" style=\"fill: rgb(128, 139, 164); fill-opacity: 1;\"/></g><g class=\"g-gtitle\"/><g class=\"g-xtitle\"><text class=\"xtitle\" x=\"207.39999999999998\" y=\"417.70625\" text-anchor=\"middle\" style=\"font-family: 'Open Sans', verdana, arial, sans-serif; font-size: 14px; fill: rgb(36, 36, 36); opacity: 1; font-weight: normal; white-space: pre;\">Treatment</text></g><g class=\"g-x2title\"><text class=\"x2title\" x=\"472.59999999999997\" y=\"417.70625\" text-anchor=\"middle\" style=\"font-family: 'Open Sans', verdana, arial, sans-serif; font-size: 14px; fill: rgb(36, 36, 36); opacity: 1; font-weight: normal; white-space: pre;\">Treatment</text></g><g class=\"g-ytitle\"><text class=\"ytitle\" transform=\"rotate(-90,17.356250000000003,215)\" x=\"17.356250000000003\" y=\"215\" text-anchor=\"middle\" style=\"font-family: 'Open Sans', verdana, arial, sans-serif; font-size: 14px; fill: rgb(36, 36, 36); opacity: 1; font-weight: normal; white-space: pre;\">PC1</text></g><g class=\"g-y2title\"/><g class=\"annotation\" data-index=\"0\" style=\"opacity: 1;\"><g class=\"annotation-text-g\" transform=\"rotate(0,207.39999999999998,50.5)\"><g class=\"cursor-pointer\" transform=\"translate(190, 41)\"><rect class=\"bg\" x=\"0.5\" y=\"0.5\" width=\"34\" height=\"18\" style=\"stroke-width: 1px; stroke: rgb(0, 0, 0); stroke-opacity: 0; fill: rgb(0, 0, 0); fill-opacity: 0;\"/><text class=\"annotation-text\" text-anchor=\"middle\" x=\"17.265625\" y=\"14\" style=\"font-family: 'Open Sans', verdana, arial, sans-serif; font-size: 12px; fill: rgb(36, 36, 36); fill-opacity: 1; white-space: pre;\">2017</text></g></g></g><g class=\"annotation\" data-index=\"1\" style=\"opacity: 1;\"><g class=\"annotation-text-g\" transform=\"rotate(0,472.6,50.5)\"><g class=\"cursor-pointer\" transform=\"translate(455, 41)\"><rect class=\"bg\" x=\"0.5\" y=\"0.5\" width=\"34\" height=\"18\" style=\"stroke-width: 1px; stroke: rgb(0, 0, 0); stroke-opacity: 0; fill: rgb(0, 0, 0); fill-opacity: 0;\"/><text class=\"annotation-text\" text-anchor=\"middle\" x=\"17.265625\" y=\"14\" style=\"font-family: 'Open Sans', verdana, arial, sans-serif; font-size: 12px; fill: rgb(36, 36, 36); fill-opacity: 1; white-space: pre;\">2018</text></g></g></g></g></svg>"
      ]
     },
     "metadata": {},
     "output_type": "display_data"
    }
   ],
   "source": [
    "# create dataframe with mean and standard error for PC1 for plotting\n",
    "df_pca_plot = df_plants.groupby(['Year', 'Type_2', 'Treatment'], as_index=False)['PC1'].agg([np.mean, ss.sem]).reset_index()\n",
    "\n",
    "# Plot the average PC1 within each treatment and year\n",
    "fig = px.bar(df_pca_plot, x='Treatment', y='mean', barmode = 'group', color='Type_2',\n",
    "            error_y = 'sem',\n",
    "            facet_col='Year',\n",
    "            template='simple_white',\n",
    "            color_discrete_sequence = [\"orange\", \"blue\"],\n",
    "            category_orders = {\"Type_2\": ['tree', 'grass']})\n",
    "fig.update_yaxes(title_text='PC1', col=1)\n",
    "fig.update_layout(legend_title_text='sample type')\n",
    "fig.for_each_annotation(lambda a: a.update(text=a.text.split(\"=\")[-1]))\n",
    "fig.show()\n"
   ]
  },
  {
   "cell_type": "markdown",
   "metadata": {},
   "source": [
    "# Analyses using PC1 as the response variable"
   ]
  },
  {
   "cell_type": "markdown",
   "metadata": {},
   "source": [
    "By plotting mean PC1 values by depth we can see the trend is very similar to the $\\delta {^1}{^8}{O}$ and $\\delta D$ single isotope plots above."
   ]
  },
  {
   "cell_type": "code",
   "execution_count": 33,
   "metadata": {},
   "outputs": [
    {
     "data": {
      "image/svg+xml": [
       "<svg class=\"main-svg\" xmlns=\"http://www.w3.org/2000/svg\" xmlns:xlink=\"http://www.w3.org/1999/xlink\" width=\"700\" height=\"450\" style=\"\" viewBox=\"0 0 700 450\"><rect x=\"0\" y=\"0\" width=\"700\" height=\"450\" style=\"fill: rgb(255, 255, 255); fill-opacity: 1;\"/><defs id=\"defs-0de5bf\"><g class=\"clips\"><clipPath id=\"clip0de5bfxyplot\" class=\"plotclip\"><rect width=\"249.6\" height=\"150.35\"/></clipPath><clipPath id=\"clip0de5bfx2y2plot\" class=\"plotclip\"><rect width=\"249.6\" height=\"150.35\"/></clipPath><clipPath id=\"clip0de5bfx3y3plot\" class=\"plotclip\"><rect width=\"249.6\" height=\"150.35\"/></clipPath><clipPath id=\"clip0de5bfx4y4plot\" class=\"plotclip\"><rect width=\"249.6\" height=\"150.35\"/></clipPath><clipPath class=\"axesclip\" id=\"clip0de5bfx\"><rect x=\"80\" y=\"0\" width=\"249.6\" height=\"450\"/></clipPath><clipPath class=\"axesclip\" id=\"clip0de5bfy\"><rect x=\"0\" y=\"219.65\" width=\"700\" height=\"150.35\"/></clipPath><clipPath class=\"axesclip\" id=\"clip0de5bfxy\"><rect x=\"80\" y=\"219.65\" width=\"249.6\" height=\"150.35\"/></clipPath><clipPath class=\"axesclip\" id=\"clip0de5bfy2\"><rect x=\"0\" y=\"219.65\" width=\"700\" height=\"150.35\"/></clipPath><clipPath class=\"axesclip\" id=\"clip0de5bfxy2\"><rect x=\"80\" y=\"219.65\" width=\"249.6\" height=\"150.35\"/></clipPath><clipPath class=\"axesclip\" id=\"clip0de5bfy3\"><rect x=\"0\" y=\"60\" width=\"700\" height=\"150.35\"/></clipPath><clipPath class=\"axesclip\" id=\"clip0de5bfxy3\"><rect x=\"80\" y=\"60\" width=\"249.6\" height=\"150.35\"/></clipPath><clipPath class=\"axesclip\" id=\"clip0de5bfy4\"><rect x=\"0\" y=\"60\" width=\"700\" height=\"150.35\"/></clipPath><clipPath class=\"axesclip\" id=\"clip0de5bfxy4\"><rect x=\"80\" y=\"60\" width=\"249.6\" height=\"150.35\"/></clipPath><clipPath class=\"axesclip\" id=\"clip0de5bfx2\"><rect x=\"340\" y=\"0\" width=\"249.6\" height=\"450\"/></clipPath><clipPath class=\"axesclip\" id=\"clip0de5bfx2y\"><rect x=\"340\" y=\"219.65\" width=\"249.6\" height=\"150.35\"/></clipPath><clipPath class=\"axesclip\" id=\"clip0de5bfx2y2\"><rect x=\"340\" y=\"219.65\" width=\"249.6\" height=\"150.35\"/></clipPath><clipPath class=\"axesclip\" id=\"clip0de5bfx2y3\"><rect x=\"340\" y=\"60\" width=\"249.6\" height=\"150.35\"/></clipPath><clipPath class=\"axesclip\" id=\"clip0de5bfx2y4\"><rect x=\"340\" y=\"60\" width=\"249.6\" height=\"150.35\"/></clipPath><clipPath class=\"axesclip\" id=\"clip0de5bfx3\"><rect x=\"80\" y=\"0\" width=\"249.6\" height=\"450\"/></clipPath><clipPath class=\"axesclip\" id=\"clip0de5bfx3y\"><rect x=\"80\" y=\"219.65\" width=\"249.6\" height=\"150.35\"/></clipPath><clipPath class=\"axesclip\" id=\"clip0de5bfx3y2\"><rect x=\"80\" y=\"219.65\" width=\"249.6\" height=\"150.35\"/></clipPath><clipPath class=\"axesclip\" id=\"clip0de5bfx3y3\"><rect x=\"80\" y=\"60\" width=\"249.6\" height=\"150.35\"/></clipPath><clipPath class=\"axesclip\" id=\"clip0de5bfx3y4\"><rect x=\"80\" y=\"60\" width=\"249.6\" height=\"150.35\"/></clipPath><clipPath class=\"axesclip\" id=\"clip0de5bfx4\"><rect x=\"340\" y=\"0\" width=\"249.6\" height=\"450\"/></clipPath><clipPath class=\"axesclip\" id=\"clip0de5bfx4y\"><rect x=\"340\" y=\"219.65\" width=\"249.6\" height=\"150.35\"/></clipPath><clipPath class=\"axesclip\" id=\"clip0de5bfx4y2\"><rect x=\"340\" y=\"219.65\" width=\"249.6\" height=\"150.35\"/></clipPath><clipPath class=\"axesclip\" id=\"clip0de5bfx4y3\"><rect x=\"340\" y=\"60\" width=\"249.6\" height=\"150.35\"/></clipPath><clipPath class=\"axesclip\" id=\"clip0de5bfx4y4\"><rect x=\"340\" y=\"60\" width=\"249.6\" height=\"150.35\"/></clipPath></g><g class=\"gradients\"/></defs><g class=\"bglayer\"/><g class=\"layer-below\"><g class=\"imagelayer\"/><g class=\"shapelayer\"/></g><g class=\"cartesianlayer\"><g class=\"subplot xy\"><g class=\"layer-subplot\"><g class=\"shapelayer\"/><g class=\"imagelayer\"/></g><g class=\"gridlayer\"><g class=\"x\"/><g class=\"y\"/></g><g class=\"zerolinelayer\"/><path class=\"xlines-below\"/><path class=\"ylines-below\"/><g class=\"overlines-below\"/><g class=\"xaxislayer-below\"/><g class=\"yaxislayer-below\"/><g class=\"overaxes-below\"/><g class=\"plot\" transform=\"translate(80, 219.65)\" clip-path=\"url('#clip0de5bfxyplot')\"><g class=\"scatterlayer mlayer\"><g class=\"trace scatter tracea16ff3\" style=\"stroke-miterlimit: 2; opacity: 1;\"><g class=\"fills\"/><g class=\"errorbars\"><g class=\"errorbar\"><path class=\"xerror\" d=\"M34.34,7.27v8m0,-4H11.67m0,-4v8\" style=\"vector-effect: non-scaling-stroke; stroke-width: 2px; stroke: rgb(255, 165, 0); stroke-opacity: 1;\"/></g></g><g class=\"lines\"/><g class=\"points\"><path class=\"point\" transform=\"translate(23.01,11.27)\" d=\"M3,0A3,3 0 1,1 0,-3A3,3 0 0,1 3,0Z\" style=\"opacity: 1; stroke-width: 0px; fill: rgb(255, 165, 0); fill-opacity: 1;\"/></g><g class=\"text\"/></g><g class=\"trace scatter tracec0c5d8\" style=\"stroke-miterlimit: 2; opacity: 1;\"><g class=\"fills\"/><g class=\"errorbars\"><g class=\"errorbar\"><path class=\"xerror\" d=\"M141.63,25.53v8m0,-4H93.59m0,-4v8\" style=\"vector-effect: non-scaling-stroke; stroke-width: 2px; stroke: rgb(0, 0, 255); stroke-opacity: 1;\"/></g></g><g class=\"lines\"/><g class=\"points\"><path class=\"point\" transform=\"translate(117.61,29.53)\" d=\"M3,0A3,3 0 1,1 0,-3A3,3 0 0,1 3,0Z\" style=\"opacity: 1; stroke-width: 0px; fill: rgb(0, 0, 255); fill-opacity: 1;\"/></g><g class=\"text\"/></g><g class=\"trace scatter trace917dc0\" style=\"stroke-miterlimit: 2; opacity: 1;\"><g class=\"fills\"/><g class=\"errorbars\"><g class=\"errorbar\"><path class=\"xerror\" d=\"M221.8,62.05v8m0,-4H194.46m0,-4v8\" style=\"vector-effect: non-scaling-stroke; stroke-width: 2px; stroke: rgb(128, 128, 128); stroke-opacity: 1;\"/></g><g class=\"errorbar\"><path class=\"xerror\" d=\"M146.23,98.56v8m0,-4H101.74m0,-4v8\" style=\"vector-effect: non-scaling-stroke; stroke-width: 2px; stroke: rgb(128, 128, 128); stroke-opacity: 1;\"/></g><g class=\"errorbar\"><path class=\"xerror\" d=\"M114.37,135.08v8m0,-4H73.59m0,-4v8\" style=\"vector-effect: non-scaling-stroke; stroke-width: 2px; stroke: rgb(128, 128, 128); stroke-opacity: 1;\"/></g></g><g class=\"lines\"/><g class=\"points\"><path class=\"point\" transform=\"translate(208.13,66.05)\" d=\"M3,0A3,3 0 1,1 0,-3A3,3 0 0,1 3,0Z\" style=\"opacity: 1; stroke-width: 0px; fill: rgb(128, 128, 128); fill-opacity: 1;\"/><path class=\"point\" transform=\"translate(123.98,102.56)\" d=\"M3,0A3,3 0 1,1 0,-3A3,3 0 0,1 3,0Z\" style=\"opacity: 1; stroke-width: 0px; fill: rgb(128, 128, 128); fill-opacity: 1;\"/><path class=\"point\" transform=\"translate(93.98,139.08)\" d=\"M3,0A3,3 0 1,1 0,-3A3,3 0 0,1 3,0Z\" style=\"opacity: 1; stroke-width: 0px; fill: rgb(128, 128, 128); fill-opacity: 1;\"/></g><g class=\"text\"/></g></g></g><g class=\"overplot\"/><path class=\"xlines-above crisp\" d=\"M79,370.5H329.6\" style=\"fill: none; stroke-width: 1px; stroke: rgb(36, 36, 36); stroke-opacity: 1;\"/><path class=\"ylines-above crisp\" d=\"M79.5,219.65V370\" style=\"fill: none; stroke-width: 1px; stroke: rgb(36, 36, 36); stroke-opacity: 1;\"/><g class=\"overlines-above\"/><g class=\"xaxislayer-above\"><path class=\"xtick ticks crisp\" d=\"M0,371v5\" transform=\"translate(127.36,0)\" style=\"stroke: rgb(68, 68, 68); stroke-opacity: 1; stroke-width: 1px;\"/><path class=\"xtick ticks crisp\" d=\"M0,371v5\" transform=\"translate(186.89,0)\" style=\"stroke: rgb(68, 68, 68); stroke-opacity: 1; stroke-width: 1px;\"/><path class=\"xtick ticks crisp\" d=\"M0,371v5\" transform=\"translate(246.42,0)\" style=\"stroke: rgb(68, 68, 68); stroke-opacity: 1; stroke-width: 1px;\"/><path class=\"xtick ticks crisp\" d=\"M0,371v5\" transform=\"translate(305.95,0)\" style=\"stroke: rgb(68, 68, 68); stroke-opacity: 1; stroke-width: 1px;\"/><g class=\"xtick\"><text text-anchor=\"middle\" x=\"0\" y=\"390.4\" transform=\"translate(127.36,0)\" style=\"font-family: 'Open Sans', verdana, arial, sans-serif; font-size: 12px; fill: rgb(36, 36, 36); fill-opacity: 1; white-space: pre;\">−1</text></g><g class=\"xtick\"><text text-anchor=\"middle\" x=\"0\" y=\"390.4\" transform=\"translate(186.89,0)\" style=\"font-family: 'Open Sans', verdana, arial, sans-serif; font-size: 12px; fill: rgb(36, 36, 36); fill-opacity: 1; white-space: pre;\">0</text></g><g class=\"xtick\"><text text-anchor=\"middle\" x=\"0\" y=\"390.4\" transform=\"translate(246.42,0)\" style=\"font-family: 'Open Sans', verdana, arial, sans-serif; font-size: 12px; fill: rgb(36, 36, 36); fill-opacity: 1; white-space: pre;\">1</text></g><g class=\"xtick\"><text text-anchor=\"middle\" x=\"0\" y=\"390.4\" transform=\"translate(305.95,0)\" style=\"font-family: 'Open Sans', verdana, arial, sans-serif; font-size: 12px; fill: rgb(36, 36, 36); fill-opacity: 1; white-space: pre;\">2</text></g></g><g class=\"yaxislayer-above\"><path class=\"ytick ticks crisp\" d=\"M79,0h-5\" transform=\"translate(0,340.47)\" style=\"stroke: rgb(68, 68, 68); stroke-opacity: 1; stroke-width: 1px;\"/><path class=\"ytick ticks crisp\" d=\"M79,0h-5\" transform=\"translate(0,303.95)\" style=\"stroke: rgb(68, 68, 68); stroke-opacity: 1; stroke-width: 1px;\"/><path class=\"ytick ticks crisp\" d=\"M79,0h-5\" transform=\"translate(0,267.44)\" style=\"stroke: rgb(68, 68, 68); stroke-opacity: 1; stroke-width: 1px;\"/><path class=\"ytick ticks crisp\" d=\"M79,0h-5\" transform=\"translate(0,230.92000000000002)\" style=\"stroke: rgb(68, 68, 68); stroke-opacity: 1; stroke-width: 1px;\"/><g class=\"ytick\"><text text-anchor=\"end\" x=\"71.6\" y=\"4.199999999999999\" transform=\"translate(0,340.47)\" style=\"font-family: 'Open Sans', verdana, arial, sans-serif; font-size: 12px; fill: rgb(36, 36, 36); fill-opacity: 1; white-space: pre;\">40</text></g><g class=\"ytick\"><text text-anchor=\"end\" x=\"71.6\" y=\"4.199999999999999\" transform=\"translate(0,303.95)\" style=\"font-family: 'Open Sans', verdana, arial, sans-serif; font-size: 12px; fill: rgb(36, 36, 36); fill-opacity: 1; white-space: pre;\">20</text></g><g class=\"ytick\"><text text-anchor=\"end\" x=\"71.6\" y=\"4.199999999999999\" transform=\"translate(0,267.44)\" style=\"font-family: 'Open Sans', verdana, arial, sans-serif; font-size: 12px; fill: rgb(36, 36, 36); fill-opacity: 1; white-space: pre;\">0</text></g><g class=\"ytick\"><text text-anchor=\"end\" x=\"71.6\" y=\"4.199999999999999\" transform=\"translate(0,230.92000000000002)\" style=\"font-family: 'Open Sans', verdana, arial, sans-serif; font-size: 12px; fill: rgb(36, 36, 36); fill-opacity: 1; white-space: pre;\">−20</text></g></g><g class=\"overaxes-above\"/></g><g class=\"subplot x2y2\"><g class=\"layer-subplot\"><g class=\"shapelayer\"/><g class=\"imagelayer\"/></g><g class=\"gridlayer\"><g class=\"x2\"/><g class=\"y2\"/></g><g class=\"zerolinelayer\"/><path class=\"xlines-below\"/><path class=\"ylines-below\"/><g class=\"overlines-below\"/><g class=\"xaxislayer-below\"/><g class=\"yaxislayer-below\"/><g class=\"overaxes-below\"/><g class=\"plot\" transform=\"translate(340, 219.65)\" clip-path=\"url('#clip0de5bfx2y2plot')\"><g class=\"scatterlayer mlayer\"><g class=\"trace scatter trace004a5a\" style=\"stroke-miterlimit: 2; opacity: 1;\"><g class=\"fills\"/><g class=\"errorbars\"><g class=\"errorbar\"><path class=\"xerror\" d=\"M46.16,7.27v8m0,-4H17.16m0,-4v8\" style=\"vector-effect: non-scaling-stroke; stroke-width: 2px; stroke: rgb(255, 165, 0); stroke-opacity: 1;\"/></g></g><g class=\"lines\"/><g class=\"points\"><path class=\"point\" transform=\"translate(31.66,11.27)\" d=\"M3,0A3,3 0 1,1 0,-3A3,3 0 0,1 3,0Z\" style=\"opacity: 1; stroke-width: 0px; fill: rgb(255, 165, 0); fill-opacity: 1;\"/></g><g class=\"text\"/></g><g class=\"trace scatter trace80a857\" style=\"stroke-miterlimit: 2; opacity: 1;\"><g class=\"fills\"/><g class=\"errorbars\"><g class=\"errorbar\"><path class=\"xerror\" d=\"M188.39,25.53v8m0,-4H128.45m0,-4v8\" style=\"vector-effect: non-scaling-stroke; stroke-width: 2px; stroke: rgb(0, 0, 255); stroke-opacity: 1;\"/></g></g><g class=\"lines\"/><g class=\"points\"><path class=\"point\" transform=\"translate(158.42,29.53)\" d=\"M3,0A3,3 0 1,1 0,-3A3,3 0 0,1 3,0Z\" style=\"opacity: 1; stroke-width: 0px; fill: rgb(0, 0, 255); fill-opacity: 1;\"/></g><g class=\"text\"/></g><g class=\"trace scatter traceab9222\" style=\"stroke-miterlimit: 2; opacity: 1;\"><g class=\"fills\"/><g class=\"errorbars\"><g class=\"errorbar\"><path class=\"xerror\" d=\"M219.32,62.05v8m0,-4H183m0,-4v8\" style=\"vector-effect: non-scaling-stroke; stroke-width: 2px; stroke: rgb(128, 128, 128); stroke-opacity: 1;\"/></g><g class=\"errorbar\"><path class=\"xerror\" d=\"M237.37,98.56v8m0,-4H75.39m0,-4v8\" style=\"vector-effect: non-scaling-stroke; stroke-width: 2px; stroke: rgb(128, 128, 128); stroke-opacity: 1;\"/></g><g class=\"errorbar\"><path class=\"xerror\" d=\"M185.54,135.08v8m0,-4H65.02m0,-4v8\" style=\"vector-effect: non-scaling-stroke; stroke-width: 2px; stroke: rgb(128, 128, 128); stroke-opacity: 1;\"/></g></g><g class=\"lines\"/><g class=\"points\"><path class=\"point\" transform=\"translate(201.16,66.05)\" d=\"M3,0A3,3 0 1,1 0,-3A3,3 0 0,1 3,0Z\" style=\"opacity: 1; stroke-width: 0px; fill: rgb(128, 128, 128); fill-opacity: 1;\"/><path class=\"point\" transform=\"translate(156.38,102.56)\" d=\"M3,0A3,3 0 1,1 0,-3A3,3 0 0,1 3,0Z\" style=\"opacity: 1; stroke-width: 0px; fill: rgb(128, 128, 128); fill-opacity: 1;\"/><path class=\"point\" transform=\"translate(125.28,139.08)\" d=\"M3,0A3,3 0 1,1 0,-3A3,3 0 0,1 3,0Z\" style=\"opacity: 1; stroke-width: 0px; fill: rgb(128, 128, 128); fill-opacity: 1;\"/></g><g class=\"text\"/></g></g></g><g class=\"overplot\"/><path class=\"xlines-above crisp\" d=\"M339,370.5H589.6\" style=\"fill: none; stroke-width: 1px; stroke: rgb(36, 36, 36); stroke-opacity: 1;\"/><path class=\"ylines-above crisp\" d=\"M339.5,219.65V370\" style=\"fill: none; stroke-width: 1px; stroke: rgb(36, 36, 36); stroke-opacity: 1;\"/><g class=\"overlines-above\"/><g class=\"xaxislayer-above\"><path class=\"x2tick ticks crisp\" d=\"M0,371v5\" transform=\"translate(387.36,0)\" style=\"stroke: rgb(68, 68, 68); stroke-opacity: 1; stroke-width: 1px;\"/><path class=\"x2tick ticks crisp\" d=\"M0,371v5\" transform=\"translate(446.89,0)\" style=\"stroke: rgb(68, 68, 68); stroke-opacity: 1; stroke-width: 1px;\"/><path class=\"x2tick ticks crisp\" d=\"M0,371v5\" transform=\"translate(506.41999999999996,0)\" style=\"stroke: rgb(68, 68, 68); stroke-opacity: 1; stroke-width: 1px;\"/><path class=\"x2tick ticks crisp\" d=\"M0,371v5\" transform=\"translate(565.95,0)\" style=\"stroke: rgb(68, 68, 68); stroke-opacity: 1; stroke-width: 1px;\"/><g class=\"x2tick\"><text text-anchor=\"middle\" x=\"0\" y=\"390.4\" transform=\"translate(387.36,0)\" style=\"font-family: 'Open Sans', verdana, arial, sans-serif; font-size: 12px; fill: rgb(36, 36, 36); fill-opacity: 1; white-space: pre;\">−1</text></g><g class=\"x2tick\"><text text-anchor=\"middle\" x=\"0\" y=\"390.4\" transform=\"translate(446.89,0)\" style=\"font-family: 'Open Sans', verdana, arial, sans-serif; font-size: 12px; fill: rgb(36, 36, 36); fill-opacity: 1; white-space: pre;\">0</text></g><g class=\"x2tick\"><text text-anchor=\"middle\" x=\"0\" y=\"390.4\" transform=\"translate(506.41999999999996,0)\" style=\"font-family: 'Open Sans', verdana, arial, sans-serif; font-size: 12px; fill: rgb(36, 36, 36); fill-opacity: 1; white-space: pre;\">1</text></g><g class=\"x2tick\"><text text-anchor=\"middle\" x=\"0\" y=\"390.4\" transform=\"translate(565.95,0)\" style=\"font-family: 'Open Sans', verdana, arial, sans-serif; font-size: 12px; fill: rgb(36, 36, 36); fill-opacity: 1; white-space: pre;\">2</text></g></g><g class=\"yaxislayer-above\"><path class=\"y2tick ticks crisp\" d=\"M339,0h-5\" transform=\"translate(0,340.47)\" style=\"stroke: rgb(68, 68, 68); stroke-opacity: 1; stroke-width: 1px;\"/><path class=\"y2tick ticks crisp\" d=\"M339,0h-5\" transform=\"translate(0,303.95)\" style=\"stroke: rgb(68, 68, 68); stroke-opacity: 1; stroke-width: 1px;\"/><path class=\"y2tick ticks crisp\" d=\"M339,0h-5\" transform=\"translate(0,267.44)\" style=\"stroke: rgb(68, 68, 68); stroke-opacity: 1; stroke-width: 1px;\"/><path class=\"y2tick ticks crisp\" d=\"M339,0h-5\" transform=\"translate(0,230.92000000000002)\" style=\"stroke: rgb(68, 68, 68); stroke-opacity: 1; stroke-width: 1px;\"/></g><g class=\"overaxes-above\"/></g><g class=\"subplot x3y3\"><g class=\"layer-subplot\"><g class=\"shapelayer\"/><g class=\"imagelayer\"/></g><g class=\"gridlayer\"><g class=\"x3\"/><g class=\"y3\"/></g><g class=\"zerolinelayer\"/><path class=\"xlines-below\"/><path class=\"ylines-below\"/><g class=\"overlines-below\"/><g class=\"xaxislayer-below\"/><g class=\"yaxislayer-below\"/><g class=\"overaxes-below\"/><g class=\"plot\" transform=\"translate(80, 60)\" clip-path=\"url('#clip0de5bfx3y3plot')\"><g class=\"scatterlayer mlayer\"><g class=\"trace scatter tracecb84a0\" style=\"stroke-miterlimit: 2; opacity: 1;\"><g class=\"fills\"/><g class=\"errorbars\"><g class=\"errorbar\"><path class=\"xerror\" d=\"M75.55,7.27v8m0,-4H46.38m0,-4v8\" style=\"vector-effect: non-scaling-stroke; stroke-width: 2px; stroke: rgb(255, 165, 0); stroke-opacity: 1;\"/></g></g><g class=\"lines\"/><g class=\"points\"><path class=\"point\" transform=\"translate(60.97,11.27)\" d=\"M3,0A3,3 0 1,1 0,-3A3,3 0 0,1 3,0Z\" style=\"opacity: 1; stroke-width: 0px; fill: rgb(255, 165, 0); fill-opacity: 1;\"/></g><g class=\"text\"/></g><g class=\"trace scatter trace52d062\" style=\"stroke-miterlimit: 2; opacity: 1;\"><g class=\"fills\"/><g class=\"errorbars\"><g class=\"errorbar\"><path class=\"xerror\" d=\"M136.91,25.53v8m0,-4H96.28m0,-4v8\" style=\"vector-effect: non-scaling-stroke; stroke-width: 2px; stroke: rgb(0, 0, 255); stroke-opacity: 1;\"/></g></g><g class=\"lines\"/><g class=\"points\"><path class=\"point\" transform=\"translate(116.59,29.53)\" d=\"M3,0A3,3 0 1,1 0,-3A3,3 0 0,1 3,0Z\" style=\"opacity: 1; stroke-width: 0px; fill: rgb(0, 0, 255); fill-opacity: 1;\"/></g><g class=\"text\"/></g><g class=\"trace scatter trace66a708\" style=\"stroke-miterlimit: 2; opacity: 1;\"><g class=\"fills\"/><g class=\"errorbars\"><g class=\"errorbar\"><path class=\"xerror\" d=\"M206.6,62.05v8m0,-4H198.57m0,-4v8\" style=\"vector-effect: non-scaling-stroke; stroke-width: 2px; stroke: rgb(128, 128, 128); stroke-opacity: 1;\"/></g><g class=\"errorbar\"><path class=\"xerror\" d=\"M151.42,98.56v8m0,-4H88.49m0,-4v8\" style=\"vector-effect: non-scaling-stroke; stroke-width: 2px; stroke: rgb(128, 128, 128); stroke-opacity: 1;\"/></g><g class=\"errorbar\"><path class=\"xerror\" d=\"M132.33,135.08v8m0,-4H81.19m0,-4v8\" style=\"vector-effect: non-scaling-stroke; stroke-width: 2px; stroke: rgb(128, 128, 128); stroke-opacity: 1;\"/></g></g><g class=\"lines\"/><g class=\"points\"><path class=\"point\" transform=\"translate(202.59,66.05)\" d=\"M3,0A3,3 0 1,1 0,-3A3,3 0 0,1 3,0Z\" style=\"opacity: 1; stroke-width: 0px; fill: rgb(128, 128, 128); fill-opacity: 1;\"/><path class=\"point\" transform=\"translate(119.96,102.56)\" d=\"M3,0A3,3 0 1,1 0,-3A3,3 0 0,1 3,0Z\" style=\"opacity: 1; stroke-width: 0px; fill: rgb(128, 128, 128); fill-opacity: 1;\"/><path class=\"point\" transform=\"translate(106.76,139.08)\" d=\"M3,0A3,3 0 1,1 0,-3A3,3 0 0,1 3,0Z\" style=\"opacity: 1; stroke-width: 0px; fill: rgb(128, 128, 128); fill-opacity: 1;\"/></g><g class=\"text\"/></g></g></g><g class=\"overplot\"/><path class=\"xlines-above crisp\" d=\"M79,210.85H329.6\" style=\"fill: none; stroke-width: 1px; stroke: rgb(36, 36, 36); stroke-opacity: 1;\"/><path class=\"ylines-above crisp\" d=\"M79.5,60V210.35\" style=\"fill: none; stroke-width: 1px; stroke: rgb(36, 36, 36); stroke-opacity: 1;\"/><g class=\"overlines-above\"/><g class=\"xaxislayer-above\"><path class=\"x3tick ticks crisp\" d=\"M0,211.35v5\" transform=\"translate(127.36,0)\" style=\"stroke: rgb(68, 68, 68); stroke-opacity: 1; stroke-width: 1px;\"/><path class=\"x3tick ticks crisp\" d=\"M0,211.35v5\" transform=\"translate(186.89,0)\" style=\"stroke: rgb(68, 68, 68); stroke-opacity: 1; stroke-width: 1px;\"/><path class=\"x3tick ticks crisp\" d=\"M0,211.35v5\" transform=\"translate(246.42,0)\" style=\"stroke: rgb(68, 68, 68); stroke-opacity: 1; stroke-width: 1px;\"/><path class=\"x3tick ticks crisp\" d=\"M0,211.35v5\" transform=\"translate(305.95,0)\" style=\"stroke: rgb(68, 68, 68); stroke-opacity: 1; stroke-width: 1px;\"/></g><g class=\"yaxislayer-above\"><path class=\"y3tick ticks crisp\" d=\"M79,0h-5\" transform=\"translate(0,180.82)\" style=\"stroke: rgb(68, 68, 68); stroke-opacity: 1; stroke-width: 1px;\"/><path class=\"y3tick ticks crisp\" d=\"M79,0h-5\" transform=\"translate(0,144.3)\" style=\"stroke: rgb(68, 68, 68); stroke-opacity: 1; stroke-width: 1px;\"/><path class=\"y3tick ticks crisp\" d=\"M79,0h-5\" transform=\"translate(0,107.78999999999999)\" style=\"stroke: rgb(68, 68, 68); stroke-opacity: 1; stroke-width: 1px;\"/><path class=\"y3tick ticks crisp\" d=\"M79,0h-5\" transform=\"translate(0,71.27)\" style=\"stroke: rgb(68, 68, 68); stroke-opacity: 1; stroke-width: 1px;\"/><g class=\"y3tick\"><text text-anchor=\"end\" x=\"71.6\" y=\"4.199999999999999\" transform=\"translate(0,180.82)\" style=\"font-family: 'Open Sans', verdana, arial, sans-serif; font-size: 12px; fill: rgb(36, 36, 36); fill-opacity: 1; white-space: pre;\">40</text></g><g class=\"y3tick\"><text text-anchor=\"end\" x=\"71.6\" y=\"4.199999999999999\" transform=\"translate(0,144.3)\" style=\"font-family: 'Open Sans', verdana, arial, sans-serif; font-size: 12px; fill: rgb(36, 36, 36); fill-opacity: 1; white-space: pre;\">20</text></g><g class=\"y3tick\"><text text-anchor=\"end\" x=\"71.6\" y=\"4.199999999999999\" transform=\"translate(0,107.78999999999999)\" style=\"font-family: 'Open Sans', verdana, arial, sans-serif; font-size: 12px; fill: rgb(36, 36, 36); fill-opacity: 1; white-space: pre;\">0</text></g><g class=\"y3tick\"><text text-anchor=\"end\" x=\"71.6\" y=\"4.199999999999999\" transform=\"translate(0,71.27)\" style=\"font-family: 'Open Sans', verdana, arial, sans-serif; font-size: 12px; fill: rgb(36, 36, 36); fill-opacity: 1; white-space: pre;\">−20</text></g></g><g class=\"overaxes-above\"/></g><g class=\"subplot x4y4\"><g class=\"layer-subplot\"><g class=\"shapelayer\"/><g class=\"imagelayer\"/></g><g class=\"gridlayer\"><g class=\"x4\"/><g class=\"y4\"/></g><g class=\"zerolinelayer\"/><path class=\"xlines-below\"/><path class=\"ylines-below\"/><g class=\"overlines-below\"/><g class=\"xaxislayer-below\"/><g class=\"yaxislayer-below\"/><g class=\"overaxes-below\"/><g class=\"plot\" transform=\"translate(340, 60)\" clip-path=\"url('#clip0de5bfx4y4plot')\"><g class=\"scatterlayer mlayer\"><g class=\"trace scatter trace0e0fe0\" style=\"stroke-miterlimit: 2; opacity: 1;\"><g class=\"fills\"/><g class=\"errorbars\"><g class=\"errorbar\"><path class=\"xerror\" d=\"M83.94,7.27v8m0,-4H46.6m0,-4v8\" style=\"vector-effect: non-scaling-stroke; stroke-width: 2px; stroke: rgb(255, 165, 0); stroke-opacity: 1;\"/></g></g><g class=\"lines\"/><g class=\"points\"><path class=\"point\" transform=\"translate(65.27,11.27)\" d=\"M3,0A3,3 0 1,1 0,-3A3,3 0 0,1 3,0Z\" style=\"opacity: 1; stroke-width: 0px; fill: rgb(255, 165, 0); fill-opacity: 1;\"/></g><g class=\"text\"/></g><g class=\"trace scatter trace13676a\" style=\"stroke-miterlimit: 2; opacity: 1;\"><g class=\"fills\"/><g class=\"errorbars\"><g class=\"errorbar\"><path class=\"xerror\" d=\"M164.05,25.53v8m0,-4H113.77m0,-4v8\" style=\"vector-effect: non-scaling-stroke; stroke-width: 2px; stroke: rgb(0, 0, 255); stroke-opacity: 1;\"/></g></g><g class=\"lines\"/><g class=\"points\"><path class=\"point\" transform=\"translate(138.91,29.53)\" d=\"M3,0A3,3 0 1,1 0,-3A3,3 0 0,1 3,0Z\" style=\"opacity: 1; stroke-width: 0px; fill: rgb(0, 0, 255); fill-opacity: 1;\"/></g><g class=\"text\"/></g><g class=\"trace scatter tracee91940\" style=\"stroke-miterlimit: 2; opacity: 1;\"><g class=\"fills\"/><g class=\"errorbars\"><g class=\"errorbar\"><path class=\"xerror\" d=\"M236.08,62.05v8m0,-4H193.25m0,-4v8\" style=\"vector-effect: non-scaling-stroke; stroke-width: 2px; stroke: rgb(128, 128, 128); stroke-opacity: 1;\"/></g><g class=\"errorbar\"><path class=\"xerror\" d=\"M212.33,98.56v8m0,-4H177.99m0,-4v8\" style=\"vector-effect: non-scaling-stroke; stroke-width: 2px; stroke: rgb(128, 128, 128); stroke-opacity: 1;\"/></g><g class=\"errorbar\"><path class=\"xerror\" d=\"M199.95,135.08v8m0,-4H140.71m0,-4v8\" style=\"vector-effect: non-scaling-stroke; stroke-width: 2px; stroke: rgb(128, 128, 128); stroke-opacity: 1;\"/></g></g><g class=\"lines\"/><g class=\"points\"><path class=\"point\" transform=\"translate(214.67,66.05)\" d=\"M3,0A3,3 0 1,1 0,-3A3,3 0 0,1 3,0Z\" style=\"opacity: 1; stroke-width: 0px; fill: rgb(128, 128, 128); fill-opacity: 1;\"/><path class=\"point\" transform=\"translate(195.16,102.56)\" d=\"M3,0A3,3 0 1,1 0,-3A3,3 0 0,1 3,0Z\" style=\"opacity: 1; stroke-width: 0px; fill: rgb(128, 128, 128); fill-opacity: 1;\"/><path class=\"point\" transform=\"translate(170.33,139.08)\" d=\"M3,0A3,3 0 1,1 0,-3A3,3 0 0,1 3,0Z\" style=\"opacity: 1; stroke-width: 0px; fill: rgb(128, 128, 128); fill-opacity: 1;\"/></g><g class=\"text\"/></g></g></g><g class=\"overplot\"/><path class=\"xlines-above crisp\" d=\"M339,210.85H589.6\" style=\"fill: none; stroke-width: 1px; stroke: rgb(36, 36, 36); stroke-opacity: 1;\"/><path class=\"ylines-above crisp\" d=\"M339.5,60V210.35\" style=\"fill: none; stroke-width: 1px; stroke: rgb(36, 36, 36); stroke-opacity: 1;\"/><g class=\"overlines-above\"/><g class=\"xaxislayer-above\"><path class=\"x4tick ticks crisp\" d=\"M0,211.35v5\" transform=\"translate(387.36,0)\" style=\"stroke: rgb(68, 68, 68); stroke-opacity: 1; stroke-width: 1px;\"/><path class=\"x4tick ticks crisp\" d=\"M0,211.35v5\" transform=\"translate(446.89,0)\" style=\"stroke: rgb(68, 68, 68); stroke-opacity: 1; stroke-width: 1px;\"/><path class=\"x4tick ticks crisp\" d=\"M0,211.35v5\" transform=\"translate(506.41999999999996,0)\" style=\"stroke: rgb(68, 68, 68); stroke-opacity: 1; stroke-width: 1px;\"/><path class=\"x4tick ticks crisp\" d=\"M0,211.35v5\" transform=\"translate(565.95,0)\" style=\"stroke: rgb(68, 68, 68); stroke-opacity: 1; stroke-width: 1px;\"/></g><g class=\"yaxislayer-above\"><path class=\"y4tick ticks crisp\" d=\"M339,0h-5\" transform=\"translate(0,180.82)\" style=\"stroke: rgb(68, 68, 68); stroke-opacity: 1; stroke-width: 1px;\"/><path class=\"y4tick ticks crisp\" d=\"M339,0h-5\" transform=\"translate(0,144.3)\" style=\"stroke: rgb(68, 68, 68); stroke-opacity: 1; stroke-width: 1px;\"/><path class=\"y4tick ticks crisp\" d=\"M339,0h-5\" transform=\"translate(0,107.78999999999999)\" style=\"stroke: rgb(68, 68, 68); stroke-opacity: 1; stroke-width: 1px;\"/><path class=\"y4tick ticks crisp\" d=\"M339,0h-5\" transform=\"translate(0,71.27)\" style=\"stroke: rgb(68, 68, 68); stroke-opacity: 1; stroke-width: 1px;\"/></g><g class=\"overaxes-above\"/></g></g><g class=\"polarlayer\"/><g class=\"ternarylayer\"/><g class=\"geolayer\"/><g class=\"funnelarealayer\"/><g class=\"pielayer\"/><g class=\"treemaplayer\"/><g class=\"sunburstlayer\"/><g class=\"glimages\"/><defs id=\"topdefs-0de5bf\"><g class=\"clips\"/><clipPath id=\"legend0de5bf\"><rect width=\"78\" height=\"83\" x=\"0\" y=\"0\"/></clipPath></defs><g class=\"layer-above\"><g class=\"imagelayer\"/><g class=\"shapelayer\"/></g><g class=\"infolayer\"><g class=\"legend\" pointer-events=\"all\" transform=\"translate(610.4, 60)\"><rect class=\"bg\" shape-rendering=\"crispEdges\" width=\"78\" height=\"83\" x=\"0\" y=\"0\" style=\"stroke: rgb(68, 68, 68); stroke-opacity: 1; fill: rgb(255, 255, 255); fill-opacity: 1; stroke-width: 0px;\"/><g class=\"scrollbox\" transform=\"translate(0, 0)\" clip-path=\"url('#legend0de5bf')\"><text class=\"legendtitletext user-select-none\" text-anchor=\"start\" x=\"2\" y=\"15.600000000000001\" style=\"font-family: 'Open Sans', verdana, arial, sans-serif; font-size: 12px; fill: rgb(36, 36, 36); fill-opacity: 1; white-space: pre;\">sample type</text><g class=\"groups\" transform=\"translate(0, 0)\"><g class=\"traces\" transform=\"translate(0, 30.1)\" style=\"opacity: 1;\"><text class=\"legendtext user-select-none\" text-anchor=\"start\" x=\"40\" y=\"4.680000000000001\" style=\"font-family: 'Open Sans', verdana, arial, sans-serif; font-size: 12px; fill: rgb(36, 36, 36); fill-opacity: 1; white-space: pre;\">tree</text><g class=\"layers\" style=\"opacity: 1;\"><g class=\"legendfill\"/><g class=\"legendlines\"/><g class=\"legendsymbols\"><g class=\"legendpoints\"><path class=\"scatterpts\" transform=\"translate(20,0)\" d=\"M3,0A3,3 0 1,1 0,-3A3,3 0 0,1 3,0Z\" style=\"opacity: 1; stroke-width: 0px; fill: rgb(255, 165, 0); fill-opacity: 1;\"/></g></g></g><rect class=\"legendtoggle\" pointer-events=\"all\" x=\"0\" y=\"-9.5\" width=\"72.3125\" height=\"19\" style=\"cursor: pointer; fill: rgb(0, 0, 0); fill-opacity: 0;\"/></g></g><g class=\"groups\" transform=\"translate(0, 0)\"><g class=\"traces\" transform=\"translate(0, 49.1)\" style=\"opacity: 1;\"><text class=\"legendtext user-select-none\" text-anchor=\"start\" x=\"40\" y=\"4.680000000000001\" style=\"font-family: 'Open Sans', verdana, arial, sans-serif; font-size: 12px; fill: rgb(36, 36, 36); fill-opacity: 1; white-space: pre;\">grass</text><g class=\"layers\" style=\"opacity: 1;\"><g class=\"legendfill\"/><g class=\"legendlines\"/><g class=\"legendsymbols\"><g class=\"legendpoints\"><path class=\"scatterpts\" transform=\"translate(20,0)\" d=\"M3,0A3,3 0 1,1 0,-3A3,3 0 0,1 3,0Z\" style=\"opacity: 1; stroke-width: 0px; fill: rgb(0, 0, 255); fill-opacity: 1;\"/></g></g></g><rect class=\"legendtoggle\" pointer-events=\"all\" x=\"0\" y=\"-9.5\" width=\"72.3125\" height=\"19\" style=\"cursor: pointer; fill: rgb(0, 0, 0); fill-opacity: 0;\"/></g></g><g class=\"groups\" transform=\"translate(0, 0)\"><g class=\"traces\" transform=\"translate(0, 68.1)\" style=\"opacity: 1;\"><text class=\"legendtext user-select-none\" text-anchor=\"start\" x=\"40\" y=\"4.680000000000001\" style=\"font-family: 'Open Sans', verdana, arial, sans-serif; font-size: 12px; fill: rgb(36, 36, 36); fill-opacity: 1; white-space: pre;\">soil</text><g class=\"layers\" style=\"opacity: 1;\"><g class=\"legendfill\"/><g class=\"legendlines\"/><g class=\"legendsymbols\"><g class=\"legendpoints\"><path class=\"scatterpts\" transform=\"translate(20,0)\" d=\"M3,0A3,3 0 1,1 0,-3A3,3 0 0,1 3,0Z\" style=\"opacity: 1; stroke-width: 0px; fill: rgb(128, 128, 128); fill-opacity: 1;\"/></g></g></g><rect class=\"legendtoggle\" pointer-events=\"all\" x=\"0\" y=\"-9.5\" width=\"72.3125\" height=\"19\" style=\"cursor: pointer; fill: rgb(0, 0, 0); fill-opacity: 0;\"/></g></g></g><rect class=\"scrollbar\" rx=\"20\" ry=\"3\" width=\"0\" height=\"0\" x=\"0\" y=\"0\" style=\"fill: rgb(128, 139, 164); fill-opacity: 1;\"/></g><g class=\"g-gtitle\"/><g class=\"g-xtitle\"><text class=\"xtitle\" x=\"204.8\" y=\"417.70625\" text-anchor=\"middle\" style=\"font-family: 'Open Sans', verdana, arial, sans-serif; font-size: 14px; fill: rgb(36, 36, 36); opacity: 1; font-weight: normal; white-space: pre;\">PC1</text></g><g class=\"g-x2title\"><text class=\"x2title\" x=\"464.8\" y=\"417.70625\" text-anchor=\"middle\" style=\"font-family: 'Open Sans', verdana, arial, sans-serif; font-size: 14px; fill: rgb(36, 36, 36); opacity: 1; font-weight: normal; white-space: pre;\">PC1</text></g><g class=\"g-x3title\"/><g class=\"g-x4title\"/><g class=\"g-ytitle\"><text class=\"ytitle\" transform=\"rotate(-90,21.715625000000003,294.825)\" x=\"21.715625000000003\" y=\"294.825\" text-anchor=\"middle\" style=\"font-family: 'Open Sans', verdana, arial, sans-serif; font-size: 14px; fill: rgb(36, 36, 36); opacity: 1; font-weight: normal; white-space: pre;\">Depth (cm)</text></g><g class=\"g-y2title\"/><g class=\"g-y3title\"><text class=\"y3title\" transform=\"rotate(-90,21.715625000000003,135.175)\" x=\"21.715625000000003\" y=\"135.175\" text-anchor=\"middle\" style=\"font-family: 'Open Sans', verdana, arial, sans-serif; font-size: 14px; fill: rgb(36, 36, 36); opacity: 1; font-weight: normal; white-space: pre;\">Depth (cm)</text></g><g class=\"g-y4title\"/><g class=\"annotation\" data-index=\"0\" style=\"opacity: 1;\"><g class=\"annotation-text-g\" transform=\"rotate(0,204.8,50.5)\"><g class=\"cursor-pointer\" transform=\"translate(187, 41)\"><rect class=\"bg\" x=\"0.5\" y=\"0.5\" width=\"34\" height=\"18\" style=\"stroke-width: 1px; stroke: rgb(0, 0, 0); stroke-opacity: 0; fill: rgb(0, 0, 0); fill-opacity: 0;\"/><text class=\"annotation-text\" text-anchor=\"middle\" x=\"17.265625\" y=\"14\" style=\"font-family: 'Open Sans', verdana, arial, sans-serif; font-size: 12px; fill: rgb(36, 36, 36); fill-opacity: 1; white-space: pre;\">2017</text></g></g></g><g class=\"annotation\" data-index=\"1\" style=\"opacity: 1;\"><g class=\"annotation-text-g\" transform=\"rotate(0,464.8,50.5)\"><g class=\"cursor-pointer\" transform=\"translate(447, 41)\"><rect class=\"bg\" x=\"0.5\" y=\"0.5\" width=\"34\" height=\"18\" style=\"stroke-width: 1px; stroke: rgb(0, 0, 0); stroke-opacity: 0; fill: rgb(0, 0, 0); fill-opacity: 0;\"/><text class=\"annotation-text\" text-anchor=\"middle\" x=\"17.265625\" y=\"14\" style=\"font-family: 'Open Sans', verdana, arial, sans-serif; font-size: 12px; fill: rgb(36, 36, 36); fill-opacity: 1; white-space: pre;\">2018</text></g></g></g><g class=\"annotation\" data-index=\"2\" style=\"opacity: 1;\"><g class=\"annotation-text-g\" transform=\"rotate(90,599.0999999999999,294.82500000000005)\"><g class=\"cursor-pointer\" transform=\"translate(580, 285)\"><rect class=\"bg\" x=\"0.5\" y=\"0.5\" width=\"37\" height=\"18\" style=\"stroke-width: 1px; stroke: rgb(0, 0, 0); stroke-opacity: 0; fill: rgb(0, 0, 0); fill-opacity: 0;\"/><text class=\"annotation-text\" text-anchor=\"middle\" x=\"18.890625\" y=\"14\" style=\"font-family: 'Open Sans', verdana, arial, sans-serif; font-size: 12px; fill: rgb(36, 36, 36); fill-opacity: 1; white-space: pre;\">uncut</text></g></g></g><g class=\"annotation\" data-index=\"3\" style=\"opacity: 1;\"><g class=\"annotation-text-g\" transform=\"rotate(90,599.0999999999999,135.17499999999998)\"><g class=\"cursor-pointer\" transform=\"translate(588, 126)\"><rect class=\"bg\" x=\"0.5\" y=\"0.5\" width=\"22\" height=\"18\" style=\"stroke-width: 1px; stroke: rgb(0, 0, 0); stroke-opacity: 0; fill: rgb(0, 0, 0); fill-opacity: 0;\"/><text class=\"annotation-text\" text-anchor=\"middle\" x=\"11.296875\" y=\"14\" style=\"font-family: 'Open Sans', verdana, arial, sans-serif; font-size: 12px; fill: rgb(36, 36, 36); fill-opacity: 1; white-space: pre;\">cut</text></g></g></g></g></svg>"
      ]
     },
     "metadata": {},
     "output_type": "display_data"
    }
   ],
   "source": [
    "# create dataframe with mean and standard error for d18O isotopes for plotting\n",
    "df_pc1_mean = df.groupby(['Year', 'Type_2', 'Treatment', 'Depth'], as_index=False)['PC1'].agg([np.mean, ss.sem]).reset_index()\n",
    "\n",
    "# plot mean PC1 across soil depths\n",
    "fig_pc1 = px.scatter(df_pc1_mean, x = 'mean', y = 'Depth', color = 'Type_2', error_x = 'sem', \n",
    "                     facet_col = 'Year', facet_row = 'Treatment',\n",
    "                     template = 'simple_white',\n",
    "                     color_discrete_sequence = [\"orange\", \"blue\", \"gray\"],\n",
    "                     category_orders = {\"Type_2\": ['tree', 'grass', 'soil']})\n",
    "fig_pc1.update_yaxes(title_text='Depth (cm)', col=1, autorange = 'reversed')\n",
    "fig_pc1.update_xaxes(title_text = 'PC1', row=1)\n",
    "fig_pc1.update_layout(legend_title_text='sample type')\n",
    "fig_pc1.for_each_annotation(lambda a: a.update(text=a.text.split(\"=\")[-1]))\n",
    "fig_pc1.show()"
   ]
  },
  {
   "cell_type": "markdown",
   "metadata": {},
   "source": [
    "## Do soil PC1 values vary with depth?\n",
    "### Regression of PC1 soil samples against depth and year\n",
    "To test if PC1 values vary with depth, regress PC1 against depth. The Depth*Year interaction allows us to account for differences in fractionation due to evaporation between sampling dates, which may result in a different response of how isotopes vary with soil depth."
   ]
  },
  {
   "cell_type": "code",
   "execution_count": 34,
   "metadata": {},
   "outputs": [],
   "source": [
    "# subset the data to only include soil samples\n",
    "df_soil = df.loc[df['Type_2'] == 'soil']"
   ]
  },
  {
   "cell_type": "markdown",
   "metadata": {},
   "source": [
    "In the linear regression below, there is no significant interaction between depth and year. Depth is a significant predictor of PC1, but year is not."
   ]
  },
  {
   "cell_type": "code",
   "execution_count": 35,
   "metadata": {},
   "outputs": [
    {
     "data": {
      "text/html": [
       "<table class=\"simpletable\">\n",
       "<caption>OLS Regression Results</caption>\n",
       "<tr>\n",
       "  <th>Dep. Variable:</th>           <td>PC1</td>       <th>  R-squared:         </th> <td>   0.376</td>\n",
       "</tr>\n",
       "<tr>\n",
       "  <th>Model:</th>                   <td>OLS</td>       <th>  Adj. R-squared:    </th> <td>   0.324</td>\n",
       "</tr>\n",
       "<tr>\n",
       "  <th>Method:</th>             <td>Least Squares</td>  <th>  F-statistic:       </th> <td>   7.232</td>\n",
       "</tr>\n",
       "<tr>\n",
       "  <th>Date:</th>             <td>Wed, 06 May 2020</td> <th>  Prob (F-statistic):</th> <td>0.000641</td>\n",
       "</tr>\n",
       "<tr>\n",
       "  <th>Time:</th>                 <td>14:25:29</td>     <th>  Log-Likelihood:    </th> <td> -51.617</td>\n",
       "</tr>\n",
       "<tr>\n",
       "  <th>No. Observations:</th>      <td>    40</td>      <th>  AIC:               </th> <td>   111.2</td>\n",
       "</tr>\n",
       "<tr>\n",
       "  <th>Df Residuals:</th>          <td>    36</td>      <th>  BIC:               </th> <td>   118.0</td>\n",
       "</tr>\n",
       "<tr>\n",
       "  <th>Df Model:</th>              <td>     3</td>      <th>                     </th>     <td> </td>   \n",
       "</tr>\n",
       "<tr>\n",
       "  <th>Covariance Type:</th>      <td>nonrobust</td>    <th>                     </th>     <td> </td>   \n",
       "</tr>\n",
       "</table>\n",
       "<table class=\"simpletable\">\n",
       "<tr>\n",
       "            <td></td>               <th>coef</th>     <th>std err</th>      <th>t</th>      <th>P>|t|</th>  <th>[0.025</th>    <th>0.975]</th>  \n",
       "</tr>\n",
       "<tr>\n",
       "  <th>Intercept</th>             <td>    1.9330</td> <td>    0.420</td> <td>    4.604</td> <td> 0.000</td> <td>    1.081</td> <td>    2.785</td>\n",
       "</tr>\n",
       "<tr>\n",
       "  <th>C(Year)[T.2018]</th>       <td>    0.0047</td> <td>    0.621</td> <td>    0.008</td> <td> 0.994</td> <td>   -1.254</td> <td>    1.263</td>\n",
       "</tr>\n",
       "<tr>\n",
       "  <th>Depth</th>                 <td>   -0.0444</td> <td>    0.012</td> <td>   -3.704</td> <td> 0.001</td> <td>   -0.069</td> <td>   -0.020</td>\n",
       "</tr>\n",
       "<tr>\n",
       "  <th>Depth:C(Year)[T.2018]</th> <td>    0.0191</td> <td>    0.018</td> <td>    1.066</td> <td> 0.294</td> <td>   -0.017</td> <td>    0.056</td>\n",
       "</tr>\n",
       "</table>\n",
       "<table class=\"simpletable\">\n",
       "<tr>\n",
       "  <th>Omnibus:</th>       <td> 8.575</td> <th>  Durbin-Watson:     </th> <td>   1.051</td>\n",
       "</tr>\n",
       "<tr>\n",
       "  <th>Prob(Omnibus):</th> <td> 0.014</td> <th>  Jarque-Bera (JB):  </th> <td>   8.695</td>\n",
       "</tr>\n",
       "<tr>\n",
       "  <th>Skew:</th>          <td>-0.714</td> <th>  Prob(JB):          </th> <td>  0.0129</td>\n",
       "</tr>\n",
       "<tr>\n",
       "  <th>Kurtosis:</th>      <td> 4.783</td> <th>  Cond. No.          </th> <td>    183.</td>\n",
       "</tr>\n",
       "</table><br/><br/>Warnings:<br/>[1] Standard Errors assume that the covariance matrix of the errors is correctly specified."
      ],
      "text/plain": [
       "<class 'statsmodels.iolib.summary.Summary'>\n",
       "\"\"\"\n",
       "                            OLS Regression Results                            \n",
       "==============================================================================\n",
       "Dep. Variable:                    PC1   R-squared:                       0.376\n",
       "Model:                            OLS   Adj. R-squared:                  0.324\n",
       "Method:                 Least Squares   F-statistic:                     7.232\n",
       "Date:                Wed, 06 May 2020   Prob (F-statistic):           0.000641\n",
       "Time:                        14:25:29   Log-Likelihood:                -51.617\n",
       "No. Observations:                  40   AIC:                             111.2\n",
       "Df Residuals:                      36   BIC:                             118.0\n",
       "Df Model:                           3                                         \n",
       "Covariance Type:            nonrobust                                         \n",
       "=========================================================================================\n",
       "                            coef    std err          t      P>|t|      [0.025      0.975]\n",
       "-----------------------------------------------------------------------------------------\n",
       "Intercept                 1.9330      0.420      4.604      0.000       1.081       2.785\n",
       "C(Year)[T.2018]           0.0047      0.621      0.008      0.994      -1.254       1.263\n",
       "Depth                    -0.0444      0.012     -3.704      0.001      -0.069      -0.020\n",
       "Depth:C(Year)[T.2018]     0.0191      0.018      1.066      0.294      -0.017       0.056\n",
       "==============================================================================\n",
       "Omnibus:                        8.575   Durbin-Watson:                   1.051\n",
       "Prob(Omnibus):                  0.014   Jarque-Bera (JB):                8.695\n",
       "Skew:                          -0.714   Prob(JB):                       0.0129\n",
       "Kurtosis:                       4.783   Cond. No.                         183.\n",
       "==============================================================================\n",
       "\n",
       "Warnings:\n",
       "[1] Standard Errors assume that the covariance matrix of the errors is correctly specified.\n",
       "\"\"\""
      ]
     },
     "execution_count": 35,
     "metadata": {},
     "output_type": "execute_result"
    }
   ],
   "source": [
    "# run a regression with Depth and Year as a predictor for PC1\n",
    "# define year as a categorical variable using 'C()'\n",
    "lm_pc1 = smf.ols('PC1~Depth*C(Year)', data = df_soil).fit()\n",
    "lm_pc1.summary()"
   ]
  },
  {
   "cell_type": "markdown",
   "metadata": {},
   "source": [
    "Typcially, the log of soil depth provides a better fit for soil water isotopes because there is a larger change in isotopic values near the soil surface. This is because evaporative enrichment is largest at the soil surface and differences in isotopic values decrease with soil depth. Here, using log(depth) in the model provides a slightly better fit, but the results and interpretation are the same as the linear model."
   ]
  },
  {
   "cell_type": "code",
   "execution_count": 36,
   "metadata": {},
   "outputs": [],
   "source": [
    "# take the log of the depth column and create a new column called 'Depth_log'\n",
    "df_soil.insert(10, 'Depth_log', df['Depth'].apply(np.log))"
   ]
  },
  {
   "cell_type": "code",
   "execution_count": 37,
   "metadata": {},
   "outputs": [
    {
     "data": {
      "text/html": [
       "<table class=\"simpletable\">\n",
       "<caption>OLS Regression Results</caption>\n",
       "<tr>\n",
       "  <th>Dep. Variable:</th>           <td>PC1</td>       <th>  R-squared:         </th> <td>   0.396</td>\n",
       "</tr>\n",
       "<tr>\n",
       "  <th>Model:</th>                   <td>OLS</td>       <th>  Adj. R-squared:    </th> <td>   0.346</td>\n",
       "</tr>\n",
       "<tr>\n",
       "  <th>Method:</th>             <td>Least Squares</td>  <th>  F-statistic:       </th> <td>   7.866</td>\n",
       "</tr>\n",
       "<tr>\n",
       "  <th>Date:</th>             <td>Wed, 06 May 2020</td> <th>  Prob (F-statistic):</th> <td>0.000366</td>\n",
       "</tr>\n",
       "<tr>\n",
       "  <th>Time:</th>                 <td>14:25:33</td>     <th>  Log-Likelihood:    </th> <td> -50.968</td>\n",
       "</tr>\n",
       "<tr>\n",
       "  <th>No. Observations:</th>      <td>    40</td>      <th>  AIC:               </th> <td>   109.9</td>\n",
       "</tr>\n",
       "<tr>\n",
       "  <th>Df Residuals:</th>          <td>    36</td>      <th>  BIC:               </th> <td>   116.7</td>\n",
       "</tr>\n",
       "<tr>\n",
       "  <th>Df Model:</th>              <td>     3</td>      <th>                     </th>     <td> </td>   \n",
       "</tr>\n",
       "<tr>\n",
       "  <th>Covariance Type:</th>      <td>nonrobust</td>    <th>                     </th>     <td> </td>   \n",
       "</tr>\n",
       "</table>\n",
       "<table class=\"simpletable\">\n",
       "<tr>\n",
       "              <td></td>                 <th>coef</th>     <th>std err</th>      <th>t</th>      <th>P>|t|</th>  <th>[0.025</th>    <th>0.975]</th>  \n",
       "</tr>\n",
       "<tr>\n",
       "  <th>Intercept</th>                 <td>    4.2413</td> <td>    0.956</td> <td>    4.435</td> <td> 0.000</td> <td>    2.302</td> <td>    6.181</td>\n",
       "</tr>\n",
       "<tr>\n",
       "  <th>C(Year)[T.2018]</th>           <td>   -1.1194</td> <td>    1.419</td> <td>   -0.789</td> <td> 0.435</td> <td>   -3.997</td> <td>    1.758</td>\n",
       "</tr>\n",
       "<tr>\n",
       "  <th>Depth_log</th>                 <td>   -1.1368</td> <td>    0.289</td> <td>   -3.931</td> <td> 0.000</td> <td>   -1.723</td> <td>   -0.550</td>\n",
       "</tr>\n",
       "<tr>\n",
       "  <th>Depth_log:C(Year)[T.2018]</th> <td>    0.5311</td> <td>    0.431</td> <td>    1.231</td> <td> 0.226</td> <td>   -0.344</td> <td>    1.406</td>\n",
       "</tr>\n",
       "</table>\n",
       "<table class=\"simpletable\">\n",
       "<tr>\n",
       "  <th>Omnibus:</th>       <td> 7.765</td> <th>  Durbin-Watson:     </th> <td>   1.047</td>\n",
       "</tr>\n",
       "<tr>\n",
       "  <th>Prob(Omnibus):</th> <td> 0.021</td> <th>  Jarque-Bera (JB):  </th> <td>   8.062</td>\n",
       "</tr>\n",
       "<tr>\n",
       "  <th>Skew:</th>          <td>-0.611</td> <th>  Prob(JB):          </th> <td>  0.0178</td>\n",
       "</tr>\n",
       "<tr>\n",
       "  <th>Kurtosis:</th>      <td> 4.829</td> <th>  Cond. No.          </th> <td>    44.2</td>\n",
       "</tr>\n",
       "</table><br/><br/>Warnings:<br/>[1] Standard Errors assume that the covariance matrix of the errors is correctly specified."
      ],
      "text/plain": [
       "<class 'statsmodels.iolib.summary.Summary'>\n",
       "\"\"\"\n",
       "                            OLS Regression Results                            \n",
       "==============================================================================\n",
       "Dep. Variable:                    PC1   R-squared:                       0.396\n",
       "Model:                            OLS   Adj. R-squared:                  0.346\n",
       "Method:                 Least Squares   F-statistic:                     7.866\n",
       "Date:                Wed, 06 May 2020   Prob (F-statistic):           0.000366\n",
       "Time:                        14:25:33   Log-Likelihood:                -50.968\n",
       "No. Observations:                  40   AIC:                             109.9\n",
       "Df Residuals:                      36   BIC:                             116.7\n",
       "Df Model:                           3                                         \n",
       "Covariance Type:            nonrobust                                         \n",
       "=============================================================================================\n",
       "                                coef    std err          t      P>|t|      [0.025      0.975]\n",
       "---------------------------------------------------------------------------------------------\n",
       "Intercept                     4.2413      0.956      4.435      0.000       2.302       6.181\n",
       "C(Year)[T.2018]              -1.1194      1.419     -0.789      0.435      -3.997       1.758\n",
       "Depth_log                    -1.1368      0.289     -3.931      0.000      -1.723      -0.550\n",
       "Depth_log:C(Year)[T.2018]     0.5311      0.431      1.231      0.226      -0.344       1.406\n",
       "==============================================================================\n",
       "Omnibus:                        7.765   Durbin-Watson:                   1.047\n",
       "Prob(Omnibus):                  0.021   Jarque-Bera (JB):                8.062\n",
       "Skew:                          -0.611   Prob(JB):                       0.0178\n",
       "Kurtosis:                       4.829   Cond. No.                         44.2\n",
       "==============================================================================\n",
       "\n",
       "Warnings:\n",
       "[1] Standard Errors assume that the covariance matrix of the errors is correctly specified.\n",
       "\"\"\""
      ]
     },
     "execution_count": 37,
     "metadata": {},
     "output_type": "execute_result"
    }
   ],
   "source": [
    "# regress PC1 against log(Depth) and Year\n",
    "lm_pc1 = smf.ols('PC1~Depth_log*C(Year)', data = df_soil).fit()\n",
    "lm_pc1.summary()"
   ]
  },
  {
   "cell_type": "markdown",
   "metadata": {},
   "source": [
    "Visualizing this relationship, PC1 values tend to decrease with soil depth. There is a stronger relationship between the log(depth) and PC1 in 2017 than 2018. Differences between years in soil water isotopic values may be due to time since the last rainfall when samples were collected."
   ]
  },
  {
   "cell_type": "code",
   "execution_count": 38,
   "metadata": {},
   "outputs": [
    {
     "data": {
      "image/svg+xml": [
       "<svg class=\"main-svg\" xmlns=\"http://www.w3.org/2000/svg\" xmlns:xlink=\"http://www.w3.org/1999/xlink\" width=\"700\" height=\"450\" style=\"\" viewBox=\"0 0 700 450\"><rect x=\"0\" y=\"0\" width=\"700\" height=\"450\" style=\"fill: rgb(255, 255, 255); fill-opacity: 1;\"/><defs id=\"defs-718908\"><g class=\"clips\"><clipPath id=\"clip718908xyplot\" class=\"plotclip\"><rect width=\"254.31\" height=\"310\"/></clipPath><clipPath id=\"clip718908x2y2plot\" class=\"plotclip\"><rect width=\"254.31\" height=\"310\"/></clipPath><clipPath class=\"axesclip\" id=\"clip718908x\"><rect x=\"80\" y=\"0\" width=\"254.31\" height=\"450\"/></clipPath><clipPath class=\"axesclip\" id=\"clip718908y\"><rect x=\"0\" y=\"60\" width=\"700\" height=\"310\"/></clipPath><clipPath class=\"axesclip\" id=\"clip718908xy\"><rect x=\"80\" y=\"60\" width=\"254.31\" height=\"310\"/></clipPath><clipPath class=\"axesclip\" id=\"clip718908y2\"><rect x=\"0\" y=\"60\" width=\"700\" height=\"310\"/></clipPath><clipPath class=\"axesclip\" id=\"clip718908xy2\"><rect x=\"80\" y=\"60\" width=\"254.31\" height=\"310\"/></clipPath><clipPath class=\"axesclip\" id=\"clip718908x2\"><rect x=\"344.69\" y=\"0\" width=\"254.31\" height=\"450\"/></clipPath><clipPath class=\"axesclip\" id=\"clip718908x2y\"><rect x=\"344.69\" y=\"60\" width=\"254.31\" height=\"310\"/></clipPath><clipPath class=\"axesclip\" id=\"clip718908x2y2\"><rect x=\"344.69\" y=\"60\" width=\"254.31\" height=\"310\"/></clipPath></g><g class=\"gradients\"/></defs><g class=\"bglayer\"/><g class=\"layer-below\"><g class=\"imagelayer\"/><g class=\"shapelayer\"/></g><g class=\"cartesianlayer\"><g class=\"subplot xy\"><g class=\"layer-subplot\"><g class=\"shapelayer\"/><g class=\"imagelayer\"/></g><g class=\"gridlayer\"><g class=\"x\"/><g class=\"y\"/></g><g class=\"zerolinelayer\"/><path class=\"xlines-below\"/><path class=\"ylines-below\"/><g class=\"overlines-below\"/><g class=\"xaxislayer-below\"/><g class=\"yaxislayer-below\"/><g class=\"overaxes-below\"/><g class=\"plot\" transform=\"translate(80, 60)\" clip-path=\"url('#clip718908xyplot')\"><g class=\"scatterlayer mlayer\"><g class=\"trace scatter trace616fe0\" style=\"stroke-miterlimit: 2; opacity: 1;\"><g class=\"fills\"/><g class=\"errorbars\"/><g class=\"lines\"/><g class=\"points\"><path class=\"point\" transform=\"translate(16.47,109.19)\" d=\"M3,0A3,3 0 1,1 0,-3A3,3 0 0,1 3,0Z\" style=\"opacity: 1; stroke-width: 0px; fill: rgb(31, 119, 180); fill-opacity: 1;\"/><path class=\"point\" transform=\"translate(16.47,105.01)\" d=\"M3,0A3,3 0 1,1 0,-3A3,3 0 0,1 3,0Z\" style=\"opacity: 1; stroke-width: 0px; fill: rgb(31, 119, 180); fill-opacity: 1;\"/><path class=\"point\" transform=\"translate(167.58,234.5)\" d=\"M3,0A3,3 0 1,1 0,-3A3,3 0 0,1 3,0Z\" style=\"opacity: 1; stroke-width: 0px; fill: rgb(31, 119, 180); fill-opacity: 1;\"/><path class=\"point\" transform=\"translate(167.58,187.59)\" d=\"M3,0A3,3 0 1,1 0,-3A3,3 0 0,1 3,0Z\" style=\"opacity: 1; stroke-width: 0px; fill: rgb(31, 119, 180); fill-opacity: 1;\"/><path class=\"point\" transform=\"translate(237.84,236.09)\" d=\"M3,0A3,3 0 1,1 0,-3A3,3 0 0,1 3,0Z\" style=\"opacity: 1; stroke-width: 0px; fill: rgb(31, 119, 180); fill-opacity: 1;\"/><path class=\"point\" transform=\"translate(237.84,202.6)\" d=\"M3,0A3,3 0 1,1 0,-3A3,3 0 0,1 3,0Z\" style=\"opacity: 1; stroke-width: 0px; fill: rgb(31, 119, 180); fill-opacity: 1;\"/><path class=\"point\" transform=\"translate(16.47,95.97)\" d=\"M3,0A3,3 0 1,1 0,-3A3,3 0 0,1 3,0Z\" style=\"opacity: 1; stroke-width: 0px; fill: rgb(31, 119, 180); fill-opacity: 1;\"/><path class=\"point\" transform=\"translate(167.58,128.86)\" d=\"M3,0A3,3 0 1,1 0,-3A3,3 0 0,1 3,0Z\" style=\"opacity: 1; stroke-width: 0px; fill: rgb(31, 119, 180); fill-opacity: 1;\"/><path class=\"point\" transform=\"translate(237.84,150.72)\" d=\"M3,0A3,3 0 1,1 0,-3A3,3 0 0,1 3,0Z\" style=\"opacity: 1; stroke-width: 0px; fill: rgb(31, 119, 180); fill-opacity: 1;\"/></g><g class=\"text\"/></g><g class=\"trace scatter trace38a470\" style=\"stroke-miterlimit: 2; opacity: 1;\"><g class=\"fills\"/><g class=\"errorbars\"/><g class=\"lines\"><path class=\"js-line\" d=\"M16.47,106.78L237.84,203.75L237.84,203.75\" style=\"vector-effect: non-scaling-stroke; fill: none; stroke: rgb(31, 119, 180); stroke-opacity: 1; stroke-width: 2px; opacity: 1;\"/></g><g class=\"points\"/><g class=\"text\"/></g><g class=\"trace scatter tracee44883\" style=\"stroke-miterlimit: 2; opacity: 1;\"><g class=\"fills\"/><g class=\"errorbars\"/><g class=\"lines\"/><g class=\"points\"><path class=\"point\" transform=\"translate(16.47,113.46)\" d=\"M3,0A3,3 0 1,1 0,-3A3,3 0 0,1 3,0Z\" style=\"opacity: 1; stroke-width: 0px; fill: rgb(255, 127, 14); fill-opacity: 1;\"/><path class=\"point\" transform=\"translate(16.47,127.18)\" d=\"M3,0A3,3 0 1,1 0,-3A3,3 0 0,1 3,0Z\" style=\"opacity: 1; stroke-width: 0px; fill: rgb(255, 127, 14); fill-opacity: 1;\"/><path class=\"point\" transform=\"translate(167.58,215.12)\" d=\"M3,0A3,3 0 1,1 0,-3A3,3 0 0,1 3,0Z\" style=\"opacity: 1; stroke-width: 0px; fill: rgb(255, 127, 14); fill-opacity: 1;\"/><path class=\"point\" transform=\"translate(167.58,190.77)\" d=\"M3,0A3,3 0 1,1 0,-3A3,3 0 0,1 3,0Z\" style=\"opacity: 1; stroke-width: 0px; fill: rgb(255, 127, 14); fill-opacity: 1;\"/><path class=\"point\" transform=\"translate(237.84,231.52)\" d=\"M3,0A3,3 0 1,1 0,-3A3,3 0 0,1 3,0Z\" style=\"opacity: 1; stroke-width: 0px; fill: rgb(255, 127, 14); fill-opacity: 1;\"/><path class=\"point\" transform=\"translate(237.84,254.97)\" d=\"M3,0A3,3 0 1,1 0,-3A3,3 0 0,1 3,0Z\" style=\"opacity: 1; stroke-width: 0px; fill: rgb(255, 127, 14); fill-opacity: 1;\"/><path class=\"point\" transform=\"translate(16.47,79.57)\" d=\"M3,0A3,3 0 1,1 0,-3A3,3 0 0,1 3,0Z\" style=\"opacity: 1; stroke-width: 0px; fill: rgb(255, 127, 14); fill-opacity: 1;\"/><path class=\"point\" transform=\"translate(167.58,196.24)\" d=\"M3,0A3,3 0 1,1 0,-3A3,3 0 0,1 3,0Z\" style=\"opacity: 1; stroke-width: 0px; fill: rgb(255, 127, 14); fill-opacity: 1;\"/><path class=\"point\" transform=\"translate(237.84,202.79)\" d=\"M3,0A3,3 0 1,1 0,-3A3,3 0 0,1 3,0Z\" style=\"opacity: 1; stroke-width: 0px; fill: rgb(255, 127, 14); fill-opacity: 1;\"/><path class=\"point\" transform=\"translate(16.47,71.82)\" d=\"M3,0A3,3 0 1,1 0,-3A3,3 0 0,1 3,0Z\" style=\"opacity: 1; stroke-width: 0px; fill: rgb(255, 127, 14); fill-opacity: 1;\"/><path class=\"point\" transform=\"translate(167.58,116.84)\" d=\"M3,0A3,3 0 1,1 0,-3A3,3 0 0,1 3,0Z\" style=\"opacity: 1; stroke-width: 0px; fill: rgb(255, 127, 14); fill-opacity: 1;\"/><path class=\"point\" transform=\"translate(237.84,217.6)\" d=\"M3,0A3,3 0 1,1 0,-3A3,3 0 0,1 3,0Z\" style=\"opacity: 1; stroke-width: 0px; fill: rgb(255, 127, 14); fill-opacity: 1;\"/><path class=\"point\" transform=\"translate(237.84,137.5)\" d=\"M3,0A3,3 0 1,1 0,-3A3,3 0 0,1 3,0Z\" style=\"opacity: 1; stroke-width: 0px; fill: rgb(255, 127, 14); fill-opacity: 1;\"/></g><g class=\"text\"/></g><g class=\"trace scatter trace1708f4\" style=\"stroke-miterlimit: 2; opacity: 1;\"><g class=\"fills\"/><g class=\"errorbars\"/><g class=\"lines\"><path class=\"js-line\" d=\"M16.47,99.31L237.84,211.12L237.84,211.12\" style=\"vector-effect: non-scaling-stroke; fill: none; stroke: rgb(255, 127, 14); stroke-opacity: 1; stroke-width: 2px; opacity: 1;\"/></g><g class=\"points\"/><g class=\"text\"/></g></g></g><g class=\"overplot\"/><path class=\"xlines-above crisp\" style=\"fill: none; stroke-width: 1px; stroke: rgb(36, 36, 36); stroke-opacity: 1;\" d=\"M79,370.5H334.31\"/><path class=\"ylines-above crisp\" style=\"fill: none; stroke-width: 1px; stroke: rgb(36, 36, 36); stroke-opacity: 1;\" d=\"M79.5,60V370\"/><g class=\"overlines-above\"/><g class=\"xaxislayer-above\"><path class=\"xtick ticks crisp\" d=\"M0,371v5\" transform=\"translate(123.62,0)\" style=\"stroke: rgb(68, 68, 68); stroke-opacity: 1; stroke-width: 1px;\"/><path class=\"xtick ticks crisp\" d=\"M0,371v5\" transform=\"translate(192.4,0)\" style=\"stroke: rgb(68, 68, 68); stroke-opacity: 1; stroke-width: 1px;\"/><path class=\"xtick ticks crisp\" d=\"M0,371v5\" transform=\"translate(261.16999999999996,0)\" style=\"stroke: rgb(68, 68, 68); stroke-opacity: 1; stroke-width: 1px;\"/><path class=\"xtick ticks crisp\" d=\"M0,371v5\" transform=\"translate(329.95,0)\" style=\"stroke: rgb(68, 68, 68); stroke-opacity: 1; stroke-width: 1px;\"/><g class=\"xtick\"><text text-anchor=\"middle\" x=\"0\" y=\"390.4\" transform=\"translate(123.62,0)\" style=\"font-family: 'Open Sans', verdana, arial, sans-serif; font-size: 12px; fill: rgb(36, 36, 36); fill-opacity: 1; white-space: pre;\">2.5</text></g><g class=\"xtick\"><text text-anchor=\"middle\" x=\"0\" y=\"390.4\" transform=\"translate(192.4,0)\" style=\"font-family: 'Open Sans', verdana, arial, sans-serif; font-size: 12px; fill: rgb(36, 36, 36); fill-opacity: 1; white-space: pre;\">3</text></g><g class=\"xtick\"><text text-anchor=\"middle\" x=\"0\" y=\"390.4\" transform=\"translate(261.16999999999996,0)\" style=\"font-family: 'Open Sans', verdana, arial, sans-serif; font-size: 12px; fill: rgb(36, 36, 36); fill-opacity: 1; white-space: pre;\">3.5</text></g><g class=\"xtick\"><text text-anchor=\"middle\" x=\"0\" y=\"390.4\" transform=\"translate(329.95,0)\" style=\"font-family: 'Open Sans', verdana, arial, sans-serif; font-size: 12px; fill: rgb(36, 36, 36); fill-opacity: 1; white-space: pre;\">4</text></g></g><g class=\"yaxislayer-above\"><path class=\"ytick ticks crisp\" d=\"M79,0h-5\" transform=\"translate(0,314.15999999999997)\" style=\"stroke: rgb(68, 68, 68); stroke-opacity: 1; stroke-width: 1px;\"/><path class=\"ytick ticks crisp\" d=\"M79,0h-5\" transform=\"translate(0,256.34000000000003)\" style=\"stroke: rgb(68, 68, 68); stroke-opacity: 1; stroke-width: 1px;\"/><path class=\"ytick ticks crisp\" d=\"M79,0h-5\" transform=\"translate(0,198.52)\" style=\"stroke: rgb(68, 68, 68); stroke-opacity: 1; stroke-width: 1px;\"/><path class=\"ytick ticks crisp\" d=\"M79,0h-5\" transform=\"translate(0,140.7)\" style=\"stroke: rgb(68, 68, 68); stroke-opacity: 1; stroke-width: 1px;\"/><path class=\"ytick ticks crisp\" d=\"M79,0h-5\" transform=\"translate(0,82.87)\" style=\"stroke: rgb(68, 68, 68); stroke-opacity: 1; stroke-width: 1px;\"/><g class=\"ytick\"><text text-anchor=\"end\" x=\"71.6\" y=\"4.199999999999999\" transform=\"translate(0,314.15999999999997)\" style=\"font-family: 'Open Sans', verdana, arial, sans-serif; font-size: 12px; fill: rgb(36, 36, 36); fill-opacity: 1; white-space: pre;\">−1</text></g><g class=\"ytick\"><text text-anchor=\"end\" x=\"71.6\" y=\"4.199999999999999\" transform=\"translate(0,256.34000000000003)\" style=\"font-family: 'Open Sans', verdana, arial, sans-serif; font-size: 12px; fill: rgb(36, 36, 36); fill-opacity: 1; white-space: pre;\">0</text></g><g class=\"ytick\"><text text-anchor=\"end\" x=\"71.6\" y=\"4.199999999999999\" transform=\"translate(0,198.52)\" style=\"font-family: 'Open Sans', verdana, arial, sans-serif; font-size: 12px; fill: rgb(36, 36, 36); fill-opacity: 1; white-space: pre;\">1</text></g><g class=\"ytick\"><text text-anchor=\"end\" x=\"71.6\" y=\"4.199999999999999\" transform=\"translate(0,140.7)\" style=\"font-family: 'Open Sans', verdana, arial, sans-serif; font-size: 12px; fill: rgb(36, 36, 36); fill-opacity: 1; white-space: pre;\">2</text></g><g class=\"ytick\"><text text-anchor=\"end\" x=\"71.6\" y=\"4.199999999999999\" transform=\"translate(0,82.87)\" style=\"font-family: 'Open Sans', verdana, arial, sans-serif; font-size: 12px; fill: rgb(36, 36, 36); fill-opacity: 1; white-space: pre;\">3</text></g></g><g class=\"overaxes-above\"/></g><g class=\"subplot x2y2\"><g class=\"layer-subplot\"><g class=\"shapelayer\"/><g class=\"imagelayer\"/></g><g class=\"gridlayer\"><g class=\"x2\"/><g class=\"y2\"/></g><g class=\"zerolinelayer\"/><path class=\"xlines-below\"/><path class=\"ylines-below\"/><g class=\"overlines-below\"/><g class=\"xaxislayer-below\"/><g class=\"yaxislayer-below\"/><g class=\"overaxes-below\"/><g class=\"plot\" transform=\"translate(344.69, 60)\" clip-path=\"url('#clip718908x2y2plot')\"><g class=\"scatterlayer mlayer\"><g class=\"trace scatter trace33042d\" style=\"stroke-miterlimit: 2; opacity: 1;\"><g class=\"fills\"/><g class=\"errorbars\"/><g class=\"lines\"/><g class=\"points\"><path class=\"point\" transform=\"translate(16.47,114.85)\" d=\"M3,0A3,3 0 1,1 0,-3A3,3 0 0,1 3,0Z\" style=\"opacity: 1; stroke-width: 0px; fill: rgb(31, 119, 180); fill-opacity: 1;\"/><path class=\"point\" transform=\"translate(167.58,125.87)\" d=\"M3,0A3,3 0 1,1 0,-3A3,3 0 0,1 3,0Z\" style=\"opacity: 1; stroke-width: 0px; fill: rgb(31, 119, 180); fill-opacity: 1;\"/><path class=\"point\" transform=\"translate(237.84,175.77)\" d=\"M3,0A3,3 0 1,1 0,-3A3,3 0 0,1 3,0Z\" style=\"opacity: 1; stroke-width: 0px; fill: rgb(31, 119, 180); fill-opacity: 1;\"/><path class=\"point\" transform=\"translate(16.47,109.98)\" d=\"M3,0A3,3 0 1,1 0,-3A3,3 0 0,1 3,0Z\" style=\"opacity: 1; stroke-width: 0px; fill: rgb(31, 119, 180); fill-opacity: 1;\"/><path class=\"point\" transform=\"translate(167.58,128.66)\" d=\"M3,0A3,3 0 1,1 0,-3A3,3 0 0,1 3,0Z\" style=\"opacity: 1; stroke-width: 0px; fill: rgb(31, 119, 180); fill-opacity: 1;\"/><path class=\"point\" transform=\"translate(237.84,149.13)\" d=\"M3,0A3,3 0 1,1 0,-3A3,3 0 0,1 3,0Z\" style=\"opacity: 1; stroke-width: 0px; fill: rgb(31, 119, 180); fill-opacity: 1;\"/><path class=\"point\" transform=\"translate(16.47,50.15)\" d=\"M3,0A3,3 0 1,1 0,-3A3,3 0 0,1 3,0Z\" style=\"opacity: 1; stroke-width: 0px; fill: rgb(31, 119, 180); fill-opacity: 1;\"/><path class=\"point\" transform=\"translate(167.58,77.29)\" d=\"M3,0A3,3 0 1,1 0,-3A3,3 0 0,1 3,0Z\" style=\"opacity: 1; stroke-width: 0px; fill: rgb(31, 119, 180); fill-opacity: 1;\"/><path class=\"point\" transform=\"translate(237.84,79.27)\" d=\"M3,0A3,3 0 1,1 0,-3A3,3 0 0,1 3,0Z\" style=\"opacity: 1; stroke-width: 0px; fill: rgb(31, 119, 180); fill-opacity: 1;\"/></g><g class=\"text\"/></g><g class=\"trace scatter trace55fc6f\" style=\"stroke-miterlimit: 2; opacity: 1;\"><g class=\"fills\"/><g class=\"errorbars\"/><g class=\"lines\"><path class=\"js-line\" d=\"M16.47,89.54L237.84,130.17L237.84,130.17\" style=\"vector-effect: non-scaling-stroke; fill: none; stroke: rgb(31, 119, 180); stroke-opacity: 1; stroke-width: 2px; opacity: 1;\"/></g><g class=\"points\"/><g class=\"text\"/></g><g class=\"trace scatter tracee27a8f\" style=\"stroke-miterlimit: 2; opacity: 1;\"><g class=\"fills\"/><g class=\"errorbars\"/><g class=\"lines\"/><g class=\"points\"><path class=\"point\" transform=\"translate(16.47,110.67)\" d=\"M3,0A3,3 0 1,1 0,-3A3,3 0 0,1 3,0Z\" style=\"opacity: 1; stroke-width: 0px; fill: rgb(255, 127, 14); fill-opacity: 1;\"/><path class=\"point\" transform=\"translate(167.58,290.75)\" d=\"M3,0A3,3 0 1,1 0,-3A3,3 0 0,1 3,0Z\" style=\"opacity: 1; stroke-width: 0px; fill: rgb(255, 127, 14); fill-opacity: 1;\"/><path class=\"point\" transform=\"translate(237.84,283.78)\" d=\"M3,0A3,3 0 1,1 0,-3A3,3 0 0,1 3,0Z\" style=\"opacity: 1; stroke-width: 0px; fill: rgb(255, 127, 14); fill-opacity: 1;\"/><path class=\"point\" transform=\"translate(16.47,131.95)\" d=\"M3,0A3,3 0 1,1 0,-3A3,3 0 0,1 3,0Z\" style=\"opacity: 1; stroke-width: 0px; fill: rgb(255, 127, 14); fill-opacity: 1;\"/><path class=\"point\" transform=\"translate(167.58,19.25)\" d=\"M3,0A3,3 0 1,1 0,-3A3,3 0 0,1 3,0Z\" style=\"opacity: 1; stroke-width: 0px; fill: rgb(255, 127, 14); fill-opacity: 1;\"/><path class=\"point\" transform=\"translate(237.84,81.56)\" d=\"M3,0A3,3 0 1,1 0,-3A3,3 0 0,1 3,0Z\" style=\"opacity: 1; stroke-width: 0px; fill: rgb(255, 127, 14); fill-opacity: 1;\"/><path class=\"point\" transform=\"translate(16.47,71.71)\" d=\"M3,0A3,3 0 1,1 0,-3A3,3 0 0,1 3,0Z\" style=\"opacity: 1; stroke-width: 0px; fill: rgb(255, 127, 14); fill-opacity: 1;\"/><path class=\"point\" transform=\"translate(167.58,134.82)\" d=\"M3,0A3,3 0 1,1 0,-3A3,3 0 0,1 3,0Z\" style=\"opacity: 1; stroke-width: 0px; fill: rgb(255, 127, 14); fill-opacity: 1;\"/><path class=\"point\" transform=\"translate(237.84,170.1)\" d=\"M3,0A3,3 0 1,1 0,-3A3,3 0 0,1 3,0Z\" style=\"opacity: 1; stroke-width: 0px; fill: rgb(255, 127, 14); fill-opacity: 1;\"/></g><g class=\"text\"/></g><g class=\"trace scatter traced36ce1\" style=\"stroke-miterlimit: 2; opacity: 1;\"><g class=\"fills\"/><g class=\"errorbars\"/><g class=\"lines\"><path class=\"js-line\" d=\"M16.47,103.4L237.84,175.51L237.84,175.51\" style=\"vector-effect: non-scaling-stroke; fill: none; stroke: rgb(255, 127, 14); stroke-opacity: 1; stroke-width: 2px; opacity: 1;\"/></g><g class=\"points\"/><g class=\"text\"/></g></g></g><g class=\"overplot\"/><path class=\"xlines-above crisp\" style=\"fill: none; stroke-width: 1px; stroke: rgb(36, 36, 36); stroke-opacity: 1;\" d=\"M343.69,370.5H599\"/><path class=\"ylines-above crisp\" style=\"fill: none; stroke-width: 1px; stroke: rgb(36, 36, 36); stroke-opacity: 1;\" d=\"M344.19,60V370\"/><g class=\"overlines-above\"/><g class=\"xaxislayer-above\"><path class=\"x2tick ticks crisp\" d=\"M0,371v5\" transform=\"translate(388.31,0)\" style=\"stroke: rgb(68, 68, 68); stroke-opacity: 1; stroke-width: 1px;\"/><path class=\"x2tick ticks crisp\" d=\"M0,371v5\" transform=\"translate(457.09000000000003,0)\" style=\"stroke: rgb(68, 68, 68); stroke-opacity: 1; stroke-width: 1px;\"/><path class=\"x2tick ticks crisp\" d=\"M0,371v5\" transform=\"translate(525.86,0)\" style=\"stroke: rgb(68, 68, 68); stroke-opacity: 1; stroke-width: 1px;\"/><path class=\"x2tick ticks crisp\" d=\"M0,371v5\" transform=\"translate(594.64,0)\" style=\"stroke: rgb(68, 68, 68); stroke-opacity: 1; stroke-width: 1px;\"/><g class=\"x2tick\"><text text-anchor=\"middle\" x=\"0\" y=\"390.4\" transform=\"translate(388.31,0)\" style=\"font-family: 'Open Sans', verdana, arial, sans-serif; font-size: 12px; fill: rgb(36, 36, 36); fill-opacity: 1; white-space: pre;\">2.5</text></g><g class=\"x2tick\"><text text-anchor=\"middle\" x=\"0\" y=\"390.4\" transform=\"translate(457.09000000000003,0)\" style=\"font-family: 'Open Sans', verdana, arial, sans-serif; font-size: 12px; fill: rgb(36, 36, 36); fill-opacity: 1; white-space: pre;\">3</text></g><g class=\"x2tick\"><text text-anchor=\"middle\" x=\"0\" y=\"390.4\" transform=\"translate(525.86,0)\" style=\"font-family: 'Open Sans', verdana, arial, sans-serif; font-size: 12px; fill: rgb(36, 36, 36); fill-opacity: 1; white-space: pre;\">3.5</text></g><g class=\"x2tick\"><text text-anchor=\"middle\" x=\"0\" y=\"390.4\" transform=\"translate(594.64,0)\" style=\"font-family: 'Open Sans', verdana, arial, sans-serif; font-size: 12px; fill: rgb(36, 36, 36); fill-opacity: 1; white-space: pre;\">4</text></g></g><g class=\"yaxislayer-above\"><path class=\"y2tick ticks crisp\" d=\"M343.69,0h-5\" transform=\"translate(0,314.15999999999997)\" style=\"stroke: rgb(68, 68, 68); stroke-opacity: 1; stroke-width: 1px;\"/><path class=\"y2tick ticks crisp\" d=\"M343.69,0h-5\" transform=\"translate(0,256.34000000000003)\" style=\"stroke: rgb(68, 68, 68); stroke-opacity: 1; stroke-width: 1px;\"/><path class=\"y2tick ticks crisp\" d=\"M343.69,0h-5\" transform=\"translate(0,198.52)\" style=\"stroke: rgb(68, 68, 68); stroke-opacity: 1; stroke-width: 1px;\"/><path class=\"y2tick ticks crisp\" d=\"M343.69,0h-5\" transform=\"translate(0,140.7)\" style=\"stroke: rgb(68, 68, 68); stroke-opacity: 1; stroke-width: 1px;\"/><path class=\"y2tick ticks crisp\" d=\"M343.69,0h-5\" transform=\"translate(0,82.87)\" style=\"stroke: rgb(68, 68, 68); stroke-opacity: 1; stroke-width: 1px;\"/></g><g class=\"overaxes-above\"/></g></g><g class=\"polarlayer\"/><g class=\"ternarylayer\"/><g class=\"geolayer\"/><g class=\"funnelarealayer\"/><g class=\"pielayer\"/><g class=\"treemaplayer\"/><g class=\"sunburstlayer\"/><g class=\"glimages\"/><defs id=\"topdefs-718908\"><g class=\"clips\"/><clipPath id=\"legend718908\"><rect width=\"79\" height=\"64\" x=\"0\" y=\"0\"/></clipPath></defs><g class=\"layer-above\"><g class=\"imagelayer\"/><g class=\"shapelayer\"/></g><g class=\"infolayer\"><g class=\"legend\" pointer-events=\"all\" transform=\"translate(609.38, 60)\"><rect class=\"bg\" shape-rendering=\"crispEdges\" style=\"stroke: rgb(68, 68, 68); stroke-opacity: 1; fill: rgb(255, 255, 255); fill-opacity: 1; stroke-width: 0px;\" width=\"79\" height=\"64\" x=\"0\" y=\"0\"/><g class=\"scrollbox\" transform=\"translate(0, 0)\" clip-path=\"url('#legend718908')\"><text class=\"legendtitletext user-select-none\" text-anchor=\"start\" x=\"2\" y=\"15.600000000000001\" style=\"font-family: 'Open Sans', verdana, arial, sans-serif; font-size: 12px; fill: rgb(36, 36, 36); fill-opacity: 1; white-space: pre;\">Treatment</text><g class=\"groups\" transform=\"translate(0, 0)\"><g class=\"traces\" transform=\"translate(0, 30.1)\" style=\"opacity: 1;\"><text class=\"legendtext user-select-none\" text-anchor=\"start\" x=\"40\" y=\"4.680000000000001\" style=\"font-family: 'Open Sans', verdana, arial, sans-serif; font-size: 12px; fill: rgb(36, 36, 36); fill-opacity: 1; white-space: pre;\">cut</text><g class=\"layers\" style=\"opacity: 1;\"><g class=\"legendfill\"/><g class=\"legendlines\"/><g class=\"legendsymbols\"><g class=\"legendpoints\"><path class=\"scatterpts\" transform=\"translate(20,0)\" d=\"M3,0A3,3 0 1,1 0,-3A3,3 0 0,1 3,0Z\" style=\"opacity: 1; stroke-width: 0px; fill: rgb(31, 119, 180); fill-opacity: 1;\"/></g></g></g><rect class=\"legendtoggle\" pointer-events=\"all\" x=\"0\" y=\"-9.5\" width=\"73.765625\" height=\"19\" style=\"cursor: pointer; fill: rgb(0, 0, 0); fill-opacity: 0;\"/></g></g><g class=\"groups\" transform=\"translate(0, 0)\"><g class=\"traces\" transform=\"translate(0, 49.1)\" style=\"opacity: 1;\"><text class=\"legendtext user-select-none\" text-anchor=\"start\" x=\"40\" y=\"4.680000000000001\" style=\"font-family: 'Open Sans', verdana, arial, sans-serif; font-size: 12px; fill: rgb(36, 36, 36); fill-opacity: 1; white-space: pre;\">uncut</text><g class=\"layers\" style=\"opacity: 1;\"><g class=\"legendfill\"/><g class=\"legendlines\"/><g class=\"legendsymbols\"><g class=\"legendpoints\"><path class=\"scatterpts\" transform=\"translate(20,0)\" d=\"M3,0A3,3 0 1,1 0,-3A3,3 0 0,1 3,0Z\" style=\"opacity: 1; stroke-width: 0px; fill: rgb(255, 127, 14); fill-opacity: 1;\"/></g></g></g><rect class=\"legendtoggle\" pointer-events=\"all\" x=\"0\" y=\"-9.5\" width=\"73.765625\" height=\"19\" style=\"cursor: pointer; fill: rgb(0, 0, 0); fill-opacity: 0;\"/></g></g></g><rect class=\"scrollbar\" rx=\"20\" ry=\"3\" width=\"0\" height=\"0\" style=\"fill: rgb(128, 139, 164); fill-opacity: 1;\" x=\"0\" y=\"0\"/></g><g class=\"g-gtitle\"/><g class=\"g-xtitle\"><text class=\"xtitle\" x=\"207.155\" y=\"417.70625\" text-anchor=\"middle\" style=\"font-family: 'Open Sans', verdana, arial, sans-serif; font-size: 14px; fill: rgb(36, 36, 36); opacity: 1; font-weight: normal; white-space: pre;\">log[Depth (cm)]</text></g><g class=\"g-x2title\"><text class=\"x2title\" x=\"471.845\" y=\"417.70625\" text-anchor=\"middle\" style=\"font-family: 'Open Sans', verdana, arial, sans-serif; font-size: 14px; fill: rgb(36, 36, 36); opacity: 1; font-weight: normal; white-space: pre;\">log[Depth (cm)]</text></g><g class=\"g-ytitle\"><text class=\"ytitle\" transform=\"rotate(-90,29.340625000000003,215)\" x=\"29.340625000000003\" y=\"215\" text-anchor=\"middle\" style=\"font-family: 'Open Sans', verdana, arial, sans-serif; font-size: 14px; fill: rgb(36, 36, 36); opacity: 1; font-weight: normal; white-space: pre;\">PC1</text></g><g class=\"g-y2title\"/><g class=\"annotation\" data-index=\"0\" style=\"opacity: 1;\"><g class=\"annotation-text-g\" transform=\"rotate(0,207.155,50.5)\"><g class=\"cursor-pointer\" transform=\"translate(190, 41)\"><rect class=\"bg\" x=\"0.5\" y=\"0.5\" width=\"34\" height=\"18\" style=\"stroke-width: 1px; stroke: rgb(0, 0, 0); stroke-opacity: 0; fill: rgb(0, 0, 0); fill-opacity: 0;\"/><text class=\"annotation-text\" text-anchor=\"middle\" x=\"17.265625\" y=\"14\" style=\"font-family: 'Open Sans', verdana, arial, sans-serif; font-size: 12px; fill: rgb(36, 36, 36); fill-opacity: 1; white-space: pre;\">2017</text></g></g></g><g class=\"annotation\" data-index=\"1\" style=\"opacity: 1;\"><g class=\"annotation-text-g\" transform=\"rotate(0,471.845,50.5)\"><g class=\"cursor-pointer\" transform=\"translate(454, 41)\"><rect class=\"bg\" x=\"0.5\" y=\"0.5\" width=\"34\" height=\"18\" style=\"stroke-width: 1px; stroke: rgb(0, 0, 0); stroke-opacity: 0; fill: rgb(0, 0, 0); fill-opacity: 0;\"/><text class=\"annotation-text\" text-anchor=\"middle\" x=\"17.265625\" y=\"14\" style=\"font-family: 'Open Sans', verdana, arial, sans-serif; font-size: 12px; fill: rgb(36, 36, 36); fill-opacity: 1; white-space: pre;\">2018</text></g></g></g></g></svg>"
      ]
     },
     "metadata": {},
     "output_type": "display_data"
    }
   ],
   "source": [
    "# Plot the relationship\n",
    "fig_pc1 = px.scatter(df_soil, x = 'Depth_log', y = \"PC1\", facet_col = 'Year', color = 'Treatment', \n",
    "                     template = 'simple_white', trendline='ols')\n",
    "fig_pc1.update_xaxes(title_text = 'log[Depth (cm)]')\n",
    "fig_pc1.for_each_annotation(lambda a: a.update(text=a.text.split(\"=\")[-1]))\n",
    "fig_pc1.show()"
   ]
  },
  {
   "cell_type": "markdown",
   "metadata": {},
   "source": [
    "## Is there a difference in source water use between grasses and trees?\n",
    "### ANOVA of PC1 against Plant Type and Year\n",
    "To answer this question, we can run an ANOVA with PC1 as the response variable and plant type and year as predictors using the df_plants dataframe defined during the PCA. In the output below, there is a difference between plant types, but no significant interaction with year. On average, trees tend to have smaller PC1 values and uptake water from deeper sources than grasses. "
   ]
  },
  {
   "cell_type": "code",
   "execution_count": 39,
   "metadata": {},
   "outputs": [
    {
     "data": {
      "image/png": "[encoded data removed]",
      "text/plain": [
       "<Figure size 432x288 with 1 Axes>"
      ]
     },
     "metadata": {
      "needs_background": "light"
     },
     "output_type": "display_data"
    }
   ],
   "source": [
    "# define the sample type and year as categorical variables using 'C()'\n",
    "# The dataframe 'df_plants' was defined above when graphing the pca bar graph\n",
    "lm_type = smf.ols('PC1~C(Type_2)*C(Year)', data = df_plants).fit()\n",
    "\n",
    "# Check the assumption of normality\n",
    "qqplot(lm_type.resid, line='q', fit=True)\n",
    "plt.show()"
   ]
  },
  {
   "cell_type": "code",
   "execution_count": 40,
   "metadata": {},
   "outputs": [
    {
     "data": {
      "text/html": [
       "<div>\n",
       "<style scoped>\n",
       "    .dataframe tbody tr th:only-of-type {\n",
       "        vertical-align: middle;\n",
       "    }\n",
       "\n",
       "    .dataframe tbody tr th {\n",
       "        vertical-align: top;\n",
       "    }\n",
       "\n",
       "    .dataframe thead th {\n",
       "        text-align: right;\n",
       "    }\n",
       "</style>\n",
       "<table border=\"1\" class=\"dataframe\">\n",
       "  <thead>\n",
       "    <tr style=\"text-align: right;\">\n",
       "      <th></th>\n",
       "      <th>sum_sq</th>\n",
       "      <th>df</th>\n",
       "      <th>F</th>\n",
       "      <th>PR(&gt;F)</th>\n",
       "    </tr>\n",
       "  </thead>\n",
       "  <tbody>\n",
       "    <tr>\n",
       "      <td>C(Type_2)</td>\n",
       "      <td>43.644676</td>\n",
       "      <td>1.0</td>\n",
       "      <td>40.368059</td>\n",
       "      <td>1.353100e-08</td>\n",
       "    </tr>\n",
       "    <tr>\n",
       "      <td>C(Year)</td>\n",
       "      <td>1.745954</td>\n",
       "      <td>1.0</td>\n",
       "      <td>1.614877</td>\n",
       "      <td>2.076336e-01</td>\n",
       "    </tr>\n",
       "    <tr>\n",
       "      <td>C(Type_2):C(Year)</td>\n",
       "      <td>0.821527</td>\n",
       "      <td>1.0</td>\n",
       "      <td>0.759851</td>\n",
       "      <td>3.860852e-01</td>\n",
       "    </tr>\n",
       "    <tr>\n",
       "      <td>Residual</td>\n",
       "      <td>83.249977</td>\n",
       "      <td>77.0</td>\n",
       "      <td>NaN</td>\n",
       "      <td>NaN</td>\n",
       "    </tr>\n",
       "  </tbody>\n",
       "</table>\n",
       "</div>"
      ],
      "text/plain": [
       "                      sum_sq    df          F        PR(>F)\n",
       "C(Type_2)          43.644676   1.0  40.368059  1.353100e-08\n",
       "C(Year)             1.745954   1.0   1.614877  2.076336e-01\n",
       "C(Type_2):C(Year)   0.821527   1.0   0.759851  3.860852e-01\n",
       "Residual           83.249977  77.0        NaN           NaN"
      ]
     },
     "execution_count": 40,
     "metadata": {},
     "output_type": "execute_result"
    }
   ],
   "source": [
    "# run the ANOVA\n",
    "anova_type = anova_lm(lm_type, typ=2)\n",
    "anova_type"
   ]
  },
  {
   "cell_type": "markdown",
   "metadata": {},
   "source": [
    "## Is there a difference in source water use between cut and uncut trees?\n",
    "### ANOVA of tree PC1 values against Treatment and Year\n",
    "To answer this question, we can run an ANOVA with PC1 as the response and Treatment and Year as predictors using a dataframe that only includes tree samples. In the output below, there is a slightly significant difference between cut and uncut treatments (P = 0.02), but no significant interaction with year. On average, trees in the cut treatment have larger PC1 values and uptake water from shallower depths than trees in the uncut treatment. "
   ]
  },
  {
   "cell_type": "code",
   "execution_count": 41,
   "metadata": {},
   "outputs": [],
   "source": [
    "# subset the data to only include tree samples\n",
    "df_tree = df.loc[(df['Type_2'] == 'tree')]"
   ]
  },
  {
   "cell_type": "code",
   "execution_count": 42,
   "metadata": {},
   "outputs": [
    {
     "data": {
      "image/png": "[encoded data removed]",
      "text/plain": [
       "<Figure size 432x288 with 1 Axes>"
      ]
     },
     "metadata": {
      "needs_background": "light"
     },
     "output_type": "display_data"
    }
   ],
   "source": [
    "# define the treatment and year as categorical variables using 'C()'\n",
    "lm_plants = smf.ols('PC1 ~ C(Treatment)*C(Year)', data=df_tree).fit()\n",
    "\n",
    "# check the assumption of normality\n",
    "qqplot(lm_plants.resid, line='q', fit=True)\n",
    "plt.show()"
   ]
  },
  {
   "cell_type": "code",
   "execution_count": 43,
   "metadata": {},
   "outputs": [
    {
     "data": {
      "text/html": [
       "<div>\n",
       "<style scoped>\n",
       "    .dataframe tbody tr th:only-of-type {\n",
       "        vertical-align: middle;\n",
       "    }\n",
       "\n",
       "    .dataframe tbody tr th {\n",
       "        vertical-align: top;\n",
       "    }\n",
       "\n",
       "    .dataframe thead th {\n",
       "        text-align: right;\n",
       "    }\n",
       "</style>\n",
       "<table border=\"1\" class=\"dataframe\">\n",
       "  <thead>\n",
       "    <tr style=\"text-align: right;\">\n",
       "      <th></th>\n",
       "      <th>sum_sq</th>\n",
       "      <th>df</th>\n",
       "      <th>F</th>\n",
       "      <th>PR(&gt;F)</th>\n",
       "    </tr>\n",
       "  </thead>\n",
       "  <tbody>\n",
       "    <tr>\n",
       "      <td>C(Treatment)</td>\n",
       "      <td>4.230046</td>\n",
       "      <td>1.0</td>\n",
       "      <td>5.647887</td>\n",
       "      <td>0.021999</td>\n",
       "    </tr>\n",
       "    <tr>\n",
       "      <td>C(Year)</td>\n",
       "      <td>0.141099</td>\n",
       "      <td>1.0</td>\n",
       "      <td>0.188392</td>\n",
       "      <td>0.666428</td>\n",
       "    </tr>\n",
       "    <tr>\n",
       "      <td>C(Treatment):C(Year)</td>\n",
       "      <td>0.015690</td>\n",
       "      <td>1.0</td>\n",
       "      <td>0.020950</td>\n",
       "      <td>0.885593</td>\n",
       "    </tr>\n",
       "    <tr>\n",
       "      <td>Residual</td>\n",
       "      <td>32.205318</td>\n",
       "      <td>43.0</td>\n",
       "      <td>NaN</td>\n",
       "      <td>NaN</td>\n",
       "    </tr>\n",
       "  </tbody>\n",
       "</table>\n",
       "</div>"
      ],
      "text/plain": [
       "                         sum_sq    df         F    PR(>F)\n",
       "C(Treatment)           4.230046   1.0  5.647887  0.021999\n",
       "C(Year)                0.141099   1.0  0.188392  0.666428\n",
       "C(Treatment):C(Year)   0.015690   1.0  0.020950  0.885593\n",
       "Residual              32.205318  43.0       NaN       NaN"
      ]
     },
     "execution_count": 43,
     "metadata": {},
     "output_type": "execute_result"
    }
   ],
   "source": [
    "# run the ANOVA\n",
    "anova_statsmodels = anova_lm(lm_plants, typ=2)\n",
    "anova_statsmodels"
   ]
  }
 ],
 "metadata": {
  "kernelspec": {
   "display_name": "Python 3 (ipykernel)",
   "language": "python",
   "name": "python3"
  },
  "language_info": {
   "codemirror_mode": {
    "name": "ipython",
    "version": 3
   },
   "file_extension": ".py",
   "mimetype": "text/x-python",
   "name": "python",
   "nbconvert_exporter": "python",
   "pygments_lexer": "ipython3",
   "version": "3.9.7"
  }
 },
 "nbformat": 4,
 "nbformat_minor": 4
}
