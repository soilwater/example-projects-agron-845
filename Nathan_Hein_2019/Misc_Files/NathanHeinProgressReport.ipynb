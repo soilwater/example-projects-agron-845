{
 "cells": [
  {
   "cell_type": "markdown",
   "metadata": {},
   "source": [
    "# Project Progress Report\n",
    "\n",
    "**Name**: Nathan Hein<br/>\n",
    "**Semester**: Spring 2019 <br/>\n",
    "**Project area**: Agronomy\n",
    "\n",
    "## Objective:\n",
    "\n",
    "Organize temperature and relative humidity data and calculate hourly temperature average, difference, min, and max and use relative humidity to calculate hourly average and vapor pressure deficit.\n",
    "\n",
    "## Rationale:\n",
    "\n",
    "During our lab's experiments we use HOBO data loggers to monitor the temperature and humidity.  Out stress periods can run over a month which results in over ten thousand of data points.  Typically we would then go over the data manually in excel to organize and extract different components and this would take hours.\n",
    "\n",
    "## Project Diagram\n",
    "\n",
    "<img src=\"ProjectFigure.jpg\" width=\"1000\"/>\n",
    "\n",
    "## Current Progress:"
   ]
  },
  {
   "cell_type": "code",
   "execution_count": null,
   "metadata": {},
   "outputs": [],
   "source": [
    "# Import Modules\n",
    "import pandas as pd\n",
    "import numpy as np\n",
    "import matplotlib.pyplot as plt\n",
    "from functools import reduce\n",
    "%matplotlib inline\n",
    "\n",
    "# Set variables for data directory, results directory, and file name.  Import CSV file, trim off top row, drop unneccessary columns, rename columns.\n",
    "datadirname = '/Users/nhein/Desktop/Coding/Project/Data/'\n",
    "resultsdirname = '/Users/nhein/Desktop/Coding/Project/Results/'\n",
    "datafile = 'Ch5-36C.csv'\n",
    "\n",
    "df = pd.read_csv(datadirname + datafile, skiprows=1)\n",
    "df.drop(df.columns[[0, 4, 5, 6]], axis=1, inplace= True)\n",
    "df.columns = ['Full_Date', 'Temp_C', 'RH']\n",
    "\n",
    "# Change dates to datetime and create new columns with date data needed for calculations\n",
    "df.Full_Date = pd.to_datetime(df.Full_Date)\n",
    "df.insert(1,'Date', df.Full_Date.dt.date)\n",
    "df.insert(2,'Time', df.Full_Date.dt.time)\n",
    "df.insert(3, 'Hour', df.Full_Date.dt.hour)\n",
    "\n",
    "# drop rows witn NaNs\n",
    "df = df.dropna()"
   ]
  },
  {
   "cell_type": "markdown",
   "metadata": {},
   "source": [
    "<img src=\"originalcsvimport.png\" width=\"800\"/>\n",
    "<img src=\"dfnonan.png\" width=\"400\"/>\n",
    "\n",
    "## Calculate VPD for each entry, creating new column, and entering the calculations into dataframe:"
   ]
  },
  {
   "cell_type": "code",
   "execution_count": null,
   "metadata": {},
   "outputs": [],
   "source": [
    "# Defining VPD Function\n",
    "def vpdfun (T_Grid, RH_Grid): \n",
    "    '''\n",
    "    Uses the inputs of Temperature (Celsius) and relative humidity (%RH) and outputs the VPD (kPa).\n",
    "    Inputs must be in numpy 2D array T in Celsius and RH in %RH with same dimensions.\n",
    "    Author: Nathan Hein\n",
    "    Date: 03/03/2019    \n",
    "    '''\n",
    "    esat = .611 * (np.exp((T_Grid * 17.5) / (T_Grid + 241))) # Sat. Vapor Pressure\n",
    "    eact = esat * (RH_Grid / 100)                            # Actual Vapor Pressure\n",
    "    vpd = esat - eact                                        # Vapr Pressure Deficit\n",
    "    vpd = np.round(vpd, 2) \n",
    "    return vpd\n",
    "\n",
    "# Defining Temp and RH variables\n",
    "T_Grid = df.Temp_C\n",
    "RH_Grid = df.RH\n",
    "\n",
    "# Calling function and creating new column in dataframe with VPD.\n",
    "VPD = vpdfun(T_Grid, RH_Grid)\n",
    "df.insert(6,'VPD', VPD)"
   ]
  },
  {
   "cell_type": "markdown",
   "metadata": {},
   "source": [
    "<img src=\"dfwithvpd.png\" width=\"400\"/>\n",
    "\n",
    "## Calculate the average Temperature, VPD, and RH for each hour of the day over the stress period:"
   ]
  },
  {
   "cell_type": "code",
   "execution_count": null,
   "metadata": {},
   "outputs": [],
   "source": [
    "# Defining function that averages the VPD values over a given hour of the day for the entire data set.\n",
    "def monthlyvpd ():\n",
    "    '''\n",
    "    Takes the calculated VPD and averages all values that were measured during each hour of the day throughout the data period.\n",
    "    Records the results in a new dataframe.\n",
    "    Inputs: VPD as an integer from a dataframe created from a csv file and results are the same units as inputs (normally kPA).  \n",
    "    Author: Nathan Hein\n",
    "    Date: 03/11/19\n",
    "    '''\n",
    "    cols = ['Hour', 'VPD']\n",
    "    rows = []\n",
    "    xdf = pd.DataFrame(rows, columns=cols)\n",
    "    vpdlist = []\n",
    "    for x in range(0,24):\n",
    "        vpd = df[df['Hour']==x]['VPD']\n",
    "        vpdlist.append(vpd)\n",
    "        avg = np.mean(vpdlist)\n",
    "        xdf = xdf.append({'Hour': x, 'VPD': avg}, ignore_index=True)\n",
    "        vpdlist = []\n",
    "    return(xdf)\n",
    "\n",
    "MonthlyHourlyVPD = monthlyvpd()\n",
    "\n",
    "# Defining Function that average the temp values over a given hour of the day for the entire data set.\n",
    "def monthlytemp ():\n",
    "    '''\n",
    "    Calculates the average temperature for each hour of the day over the entire data set.\n",
    "    Inputs: Temperature as an integer in a dataframe created from a csv file.\n",
    "    Outputs: Temperature as an integer and a new dataframe with average temeperature values and the hour.\n",
    "    Author: Nathan Hein\n",
    "    Date: 03/11/19\n",
    "    '''\n",
    "    cols = ['Hour', 'Temp']\n",
    "    rows = []\n",
    "    ydf = pd.DataFrame(rows, columns=cols)\n",
    "    templist = []\n",
    "    for x in range(0,24):\n",
    "        temp = df[df['Hour']==x]['Temp_C']\n",
    "        templist.append(temp)\n",
    "        avg = np.mean(templist)\n",
    "        ydf = ydf.append({'Hour': x, 'Temp': avg}, ignore_index=True)\n",
    "        templist = []\n",
    "    return(ydf)\n",
    "\n",
    "MonthlyHourlyTemp = monthlytemp()\n",
    "\n",
    "# Defining function that averages the RH values over a given hour of the day for the entire data set.\n",
    "def monthlyrh ():\n",
    "    '''\n",
    "    Calculates the average RH value for each hour of the day over the entire data set.\n",
    "    Input: RH from a dataframe created from the imported CSV file\n",
    "    Output: Hourly average RH in a new dataframe and the hour.\n",
    "    Author: Nathan Hein\n",
    "    Date: 03/11/19\n",
    "    '''\n",
    "    \n",
    "    cols = ['Hour', 'RH']\n",
    "    rows = []\n",
    "    zdf = pd.DataFrame(rows, columns=cols)\n",
    "    rhlist = []\n",
    "    for x in range(0,24):\n",
    "        rh = df[df['Hour']==x]['RH']\n",
    "        rhlist.append(rh)\n",
    "        avg = np.mean(rhlist)\n",
    "        zdf = zdf.append({'Hour': x, 'RH': avg}, ignore_index=True)\n",
    "        rhlist = []\n",
    "    return(zdf)\n",
    "\n",
    "MonthlyHourlyRH = monthlyrh()"
   ]
  },
  {
   "cell_type": "markdown",
   "metadata": {},
   "source": [
    "<img src=\"HourlyVPD.png\" width=\"100\"/>\n",
    "\n",
    "## Merge the Data Frames:"
   ]
  },
  {
   "cell_type": "code",
   "execution_count": null,
   "metadata": {},
   "outputs": [],
   "source": [
    "# Creates a list of the different Data types data frames and merges all the resuls data frames into one.\n",
    "data_frames = [MonthlyHourlyTemp, MonthlyHourlyRH, MonthlyHourlyVPD]\n",
    "MHA_Merged = reduce(lambda left,right: pd.merge(left,right,on=['Hour'],how='outer'), data_frames)"
   ]
  },
  {
   "cell_type": "markdown",
   "metadata": {},
   "source": [
    "<img src=\"HourlyMerged.png\" width=\"250\"/>\n",
    "\n",
    "## Roadblocks\n",
    "\n",
    "* How to trim original dataframe to only include the data from the period between the inputted start and end date.\n",
    "\n",
    "## Future Work\n",
    "\n",
    "* Adjust original dataframe to start and end date of experiment\n",
    "* Ability to add second CSV file to make comparisons between control and stress\n",
    "* Calculate the difference between control and stress temperature, RH, and VPD\n",
    "* Create graphs for hourly average Temp, RH, and VPD and comparison graphs between control and stress for both stress and non-stress periods of the day.\n",
    "* Save all files so can be used by other members of lab who do not code.\n",
    "\n",
    "<img src=\"HourlyDiffexample.png\" width=\"1000\"/>"
   ]
  }
 ],
 "metadata": {
  "kernelspec": {
   "display_name": "Python 3",
   "language": "python",
   "name": "python3"
  },
  "language_info": {
   "codemirror_mode": {
    "name": "ipython",
    "version": 3
   },
   "file_extension": ".py",
   "mimetype": "text/x-python",
   "name": "python",
   "nbconvert_exporter": "python",
   "pygments_lexer": "ipython3",
   "version": "3.7.1"
  }
 },
 "nbformat": 4,
 "nbformat_minor": 2
}
