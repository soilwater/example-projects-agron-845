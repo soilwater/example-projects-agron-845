{
 "cells": [
  {
   "cell_type": "markdown",
   "metadata": {},
   "source": [
    "Name: Nathan Hein <br /> \n",
    "Semester: Spring 2019 <br /> \n",
    "Project Area: Agronomy \n",
    "\n",
    "Title: Organizing and Displaying Calculated Results from a HOBO Sensor\n",
    "\n",
    "This program imports CSV files that have been taken from HOBO Dataloggers and organizes the dataframes to be more intuitive and more easily accessible.  It performs basic calculations to help quanitify the level of heat stress while outputting those results in neatly organized CSV files.  The program also creates multiple graphs to helpe visually represent the data."
   ]
  },
  {
   "cell_type": "code",
   "execution_count": 66,
   "metadata": {},
   "outputs": [],
   "source": [
    "# Import Modules\n",
    "import pandas as pd \n",
    "import numpy as np\n",
    "import matplotlib\n",
    "import matplotlib.pyplot as plt\n",
    "import datetime\n",
    "from datetime import timedelta\n",
    "import os\n",
    "%matplotlib inline"
   ]
  },
  {
   "cell_type": "code",
   "execution_count": 67,
   "metadata": {},
   "outputs": [],
   "source": [
    "# Set variables for data directory, results directory, datafile, start date, end date, and creates a results directory for the file.  \n",
    "\n",
    "datadirname = '/Users/nhein/Desktop/Coding/Project/Data/'\n",
    "resultsdirname = '/Users/nhein/Desktop/Coding/Project/Results/'\n",
    "\n",
    "if os.path.isdir(resultsdirname) == False:\n",
    "    os.makedirs(resultsdirname)\n",
    "\n",
    "# data file must be .csv and no periods besides including .csv. The start and end dates must be in YYYY-MM-DD format.\n",
    "datafile = '2_1HNT_Field.csv'\n",
    "\n",
    "# For datafile 2_1HNT_Field.csv and Ambient_HNT_Field.csv start date is 2018-06-01 and end date is 2018-06-05.  \n",
    "# For datafile Ch17-36C.csv and Ch6-28C.csv start date is 2018-12-10 and end date is 2018-12-15\n",
    "start_date = ['2018-05-25']\n",
    "end_date = ['2018-05-29']\n",
    "\n",
    "filename = datafile.split('.')[0]\n",
    "\n",
    "# Checks if there is a Results folder already created and if not it will create one.\n",
    "if os.path.isdir(resultsdirname + filename) == False:\n",
    "    os.makedirs(resultsdirname + filename)"
   ]
  },
  {
   "cell_type": "markdown",
   "metadata": {},
   "source": [
    "This is how the files look when they are first downloaded form the HOBOs.  With the date and time in the same column it can be time consuming to pull all the data out from specific time intervals or to quickly calculate the hourly averages.  This can become more tediuos because some time the loggers record every 5 minutes and sometimes every 15 depending on the settings. \n",
    "![](Misc_Files/CSV_Import.png)\n"
   ]
  },
  {
   "cell_type": "code",
   "execution_count": 68,
   "metadata": {},
   "outputs": [],
   "source": [
    "# Import File and delete unneeded columns\n",
    "\n",
    "df = pd.read_csv(datadirname + datafile, skiprows=1)\n",
    "df.drop(df.columns[0], axis=1, inplace= True)\n",
    "df.drop(df.columns[range(3, len(df.columns))], axis=1, inplace = True)\n",
    "df.columns = ['Full_Date', 'Temp_C', 'RH']\n",
    "\n",
    "# Change dates to datetime and create new columns with date data needed for calculations\n",
    "df.Full_Date = pd.to_datetime(df.Full_Date)\n",
    "df.insert(1,'Date', df.Full_Date.dt.date)\n",
    "df.insert(2,'Time', df.Full_Date.dt.time)\n",
    "df.insert(3, 'Hour', df.Full_Date.dt.hour)\n",
    "\n",
    "# drop rows witn NaNs and resets the index \n",
    "df = df.dropna()\n",
    "df = df.reset_index(drop = True)"
   ]
  },
  {
   "cell_type": "markdown",
   "metadata": {},
   "source": [
    "In the previous code the dataframe has gone through its first round of organization.  Columns have been renamed and unnecessary columns have been deleted. The date column has been preserved but three new columns have been added to allow for easy sorting of the data which include Date, Time, and Hour.  These columns are all in datetime for future use.  The dataframe still contains all data from the entire period and has not been trimmed down to selected dates.\n",
    "\n",
    "![](Misc_Files/df_org.png)"
   ]
  },
  {
   "cell_type": "code",
   "execution_count": 69,
   "metadata": {},
   "outputs": [],
   "source": [
    "# Uses start date and end date to create simple dataframe for reference for trimming down main dataframe    \n",
    "\n",
    "date_range_df = pd.DataFrame(start_date)\n",
    "date_range_df.columns = ['Start_Date']\n",
    "date_range_df.insert(1, 'End_Date', end_date)\n",
    "date_range_df.Start_Date = pd.to_datetime(date_range_df.Start_Date)\n",
    "date_range_df.Start_Date = date_range_df.Start_Date.dt.date\n",
    "date_range_df.End_Date = pd.to_datetime(date_range_df.End_Date)\n",
    "date_range_df.End_Date = date_range_df.End_Date.dt.date\n",
    "\n",
    "\n",
    "# Uses date dataframe to trim the top and bottome of the main dataframe to only include selected period\n",
    "k = 0\n",
    "start_date_index = []\n",
    "end_date_index = []\n",
    "len_date = len(df.Date)\n",
    "\n",
    "# Finds all the index numbers of the occurences of the Start and End date occuring in the dataframe\n",
    "for k in range(0, len_date):\n",
    "    if df.Date[k] == date_range_df.Start_Date[0]:\n",
    "        start_date_index.append(k) \n",
    "    if df.Date[k] == date_range_df.End_Date[0]:\n",
    "        end_date_index.append(k)\n",
    "        \n",
    "# drops all rows with index numbers below the first occurence on the start date and after the last end date occurance and resets the index\n",
    "df = df.drop(index = range(0, start_date_index[0]))\n",
    "df = df.drop(index = range(end_date_index[-1] + 1, len_date))\n",
    "df = df.reset_index(drop = True) "
   ]
  },
  {
   "cell_type": "markdown",
   "metadata": {},
   "source": [
    "The previous cell of code creates a new dataframe that includes the user selected Start Date and End Date.  This dataframe only holds those two values for ease of referencing.  The code then creates a list for the start date indexes and the end date indexes.  It runs a loop iterating over the entire file and finds every index in which the start date or end date is present.  It then drops all rows before the first start date index and all the rows after the last end date index, effectively trimming the main data frame to the desired timeframe. \n",
    "\n",
    "![](Misc_Files/df_trimmed.png)"
   ]
  },
  {
   "cell_type": "code",
   "execution_count": 70,
   "metadata": {},
   "outputs": [],
   "source": [
    "# Defining VPD Function\n",
    "def vpdfun (T_Grid, RH_Grid): \n",
    "    '''\n",
    "    Uses the inputs of Temperature (Celsius) and relative humidity (%RH) and outputs the VPD (kPa).\n",
    "    Inputs must be in numpy 2D array T in Celsius and RH in %RH with same dimensions.\n",
    "    Outputs \n",
    "    Author: Nathan Hein\n",
    "    Date: 03/03/2019    \n",
    "    '''\n",
    "    esat = .611 * (np.exp((T_Grid * 17.5) / (T_Grid + 241))) # Sat. Vapor Pressure\n",
    "    eact = esat * (RH_Grid / 100)                            # Actual Vapor Pressure\n",
    "    vpd = esat - eact                                        # Vapr Pressure Deficit\n",
    "    vpd = np.round(vpd, 2) \n",
    "    return vpd"
   ]
  },
  {
   "cell_type": "code",
   "execution_count": 71,
   "metadata": {},
   "outputs": [],
   "source": [
    "# Defining Temp and RH variables\n",
    "T_Grid = df.Temp_C\n",
    "RH_Grid = df.RH\n",
    "\n",
    "# Calling function and creating new column in dataframe with VPD if column exists it overwrites the data with the new results.\n",
    "VPD = vpdfun(T_Grid, RH_Grid)\n",
    "\n",
    "columncheck = list(df.columns.values)\n",
    "\n",
    "if 'VPD' in columncheck:\n",
    "    df.VPD = VPD\n",
    "else:\n",
    "    df.insert(6,'VPD', VPD)\n",
    "\n",
    "# Saves main dataframe to results directory\n",
    "df.to_csv(resultsdirname + filename + '/' + filename + '-Data.csv')"
   ]
  },
  {
   "cell_type": "markdown",
   "metadata": {},
   "source": [
    "This cell utilizes the VPD function from the previous cell to calculate the VPD at every instance of data recorded in the selected time frame.  It creates two grids of Temp and RH respectively from the dataframe and calculates the VPD.  The code creates a list of the column names to check if there is a column named VPD and if there is it writes the results in the column and if not it creates a new column and writes the results there.  This was added because if the code is ran more than once and the VPD column existed it would crash the program while trying to create the same column.  The code then saves the dataframe as a CSV.\n",
    "\n",
    "![](Misc_Files/df_with_vpd.png)"
   ]
  },
  {
   "cell_type": "code",
   "execution_count": 72,
   "metadata": {},
   "outputs": [],
   "source": [
    "def monthlyhourlyavg (y):\n",
    "    '''\n",
    "    Figures the average results of a certain hour of the day between the start and end date. \n",
    "    Inputs: When calling function must call with VPD, Temp_C, or RH and will return corresponding results.  \n",
    "    Author: Nathan Hein\n",
    "    Date: 04/15/19\n",
    "    '''\n",
    "    cols = ['Hour', y]\n",
    "    rows = []\n",
    "    xdf = pd.DataFrame(rows, columns=cols)\n",
    "    resultlist = []\n",
    "    for x in range(0,24):\n",
    "        result = df[df['Hour']==x][y]\n",
    "        resultlist.append(result)\n",
    "        avg = round(np.mean(resultlist), 3)\n",
    "        xdf = xdf.append({'Hour': x, y : avg}, ignore_index=True)\n",
    "        resultlist = []\n",
    "    return(xdf)"
   ]
  },
  {
   "cell_type": "code",
   "execution_count": 73,
   "metadata": {},
   "outputs": [],
   "source": [
    "# Call all functions to create dataframes for average VPD Temp and RH for each hour.  Variables in function being called must match the column names in the main\n",
    "# dataframe that you are trying to use the function on.\n",
    "MonthlyHourlyVPD = monthlyhourlyavg('VPD')\n",
    "MonthlyHourlyTemp = monthlyhourlyavg('Temp_C')\n",
    "MonthlyHourlyRH = monthlyhourlyavg('RH')\n",
    "\n",
    "# Merges all the resuls data frames into one.\n",
    "MHA_Merged = pd.merge(pd.merge(MonthlyHourlyTemp, MonthlyHourlyRH, on='Hour'), MonthlyHourlyVPD, on='Hour')\n",
    "\n",
    "# Saves the results to directory\n",
    "MHA_Merged.to_csv(resultsdirname + filename + '/' + filename + '-MHA_Merged.csv')"
   ]
  },
  {
   "cell_type": "markdown",
   "metadata": {},
   "source": [
    "The above code calls the monthlyhourlyavg formula to create dataframes of the VPD, Temp, and RH that include the overall average for each hour of the day for each measurement requeseted.  While calling the function the variable has to match the column name exactly as it is used in the function to go over the data. After creating seperate dataframes the code then merges all them together and saves it as a CSV.\n",
    "\n",
    "![](Misc_Files/T_RH_VPD_Merged.png)"
   ]
  },
  {
   "cell_type": "code",
   "execution_count": 74,
   "metadata": {},
   "outputs": [
    {
     "data": {
      "image/png": "[encoded data removed]",
      "text/plain": [
       "<Figure size 432x288 with 1 Axes>"
      ]
     },
     "metadata": {
      "needs_background": "light"
     },
     "output_type": "display_data"
    }
   ],
   "source": [
    "# Create plot with line graph of Hourly Average Temp in Celsius\n",
    "plt.figure()\n",
    "plt.rcParams['figure.figsize'] = [8, 5.0]\n",
    "plt.plot(MHA_Merged.Hour, MHA_Merged.Temp_C, color = 'k', linewidth = 2.5, linestyle = '--')\n",
    "plt.title('Hourly Average Temp in Celsius', fontsize = 16)\n",
    "plt.xlabel('Hour of the Day', fontsize = 16)\n",
    "plt.ylabel('Temp in Celsius', fontsize = 16)\n",
    "plt.grid(which='major', axis='x', linestyle='--')\n",
    "plt.rcParams['ytick.labelsize'] = 10\n",
    "plt.rcParams['xtick.labelsize'] = 10\n",
    "plt.rcParams['axes.facecolor'] = 'w'\n",
    "\n",
    "plt.savefig(resultsdirname + filename + '/' + filename + '-HourlyAVGTemp.jpg', bbox_inches = 'tight')"
   ]
  },
  {
   "cell_type": "code",
   "execution_count": 75,
   "metadata": {},
   "outputs": [
    {
     "data": {
      "image/png": "[encoded data removed]",
      "text/plain": [
       "<Figure size 576x360 with 2 Axes>"
      ]
     },
     "metadata": {
      "needs_background": "light"
     },
     "output_type": "display_data"
    }
   ],
   "source": [
    "# Creates a plot with both the hourly average %RH and the average VPD. Location of legend can be adjusted by changing bbox_to_anchor.\n",
    "fig, ax1 = plt.subplots()\n",
    "plt.rcParams['figure.figsize'] = [8, 5.0]\n",
    "plt.title('%RH and VPD Hourly Comparison', fontsize = 16)\n",
    "ax1.grid(which='major', axis='x', linestyle='--')\n",
    "plt.rcParams['ytick.labelsize'] = 12\n",
    "plt.rcParams['xtick.labelsize'] = 12\n",
    "plt.rcParams['axes.facecolor'] = 'w'\n",
    "ax1.plot(MHA_Merged.Hour, MHA_Merged.RH, color = 'r', linewidth = 2.5)\n",
    "plt.legend(loc = 'lower left', bbox_to_anchor = (0,.87), fontsize = 14)\n",
    "\n",
    "ax2 = ax1.twinx()\n",
    "ax2.plot(MHA_Merged.Hour, MHA_Merged.VPD, color = 'g', linewidth = 2.5, linestyle = '--')\n",
    "plt.legend(loc = 'lower left', bbox_to_anchor = (0,.77), fontsize = 14)\n",
    "\n",
    "ax1.set_xlabel('Hour of the Day', fontsize = 16)\n",
    "ax1.set_ylabel('% RH', fontsize = 16)\n",
    "ax2.set_ylabel('VPD', fontsize = 16)\n",
    "\n",
    "plt.savefig(resultsdirname + filename + '/' + filename + '-RHandVPDCompFig.jpg', bbox_inches = 'tight')"
   ]
  },
  {
   "cell_type": "code",
   "execution_count": 76,
   "metadata": {},
   "outputs": [],
   "source": [
    "def DailyHourlyAvg (z):\n",
    "    '''\n",
    "    Computes the daily hourly average for either RH, VPD, or Temp. \n",
    "    Inputs: When calling function must call with VPD, Temp_C, or RH and will return corresponding results.\n",
    "    Outputs: Dataframe with Hourly average results per day\n",
    "    Author: Nathan Hein\n",
    "    Date: 04/15/19\n",
    "    '''\n",
    "    days = []\n",
    "    hours = [range(0,24)]\n",
    "    deltadays = date_range_df.End_Date[0] - date_range_df.Start_Date[0]\n",
    "    \n",
    "    for i in range(0, deltadays.days + 1):\n",
    "        days.append(date_range_df.Start_Date[0] + timedelta(i))\n",
    "\n",
    "    HourlyAvgdf = pd.DataFrame(hours)\n",
    "    HourlyAvgdf = HourlyAvgdf.drop(HourlyAvgdf.index[0])\n",
    "    HourlyAvgdf.insert(0,'Date','')\n",
    "    HourlyAvgdf.Date = days\n",
    "\n",
    "    HAVG = []\n",
    "\n",
    "    for j in range(0,len(days)):\n",
    "        for i in range(0,24):\n",
    "            org = df[(df.Hour == i) & (df.Date == HourlyAvgdf.Date[j])]\n",
    "            if z == 'VPD':\n",
    "                HAVG.append(org.VPD)\n",
    "            if z == 'RH':\n",
    "                HAVG.append(org.RH)\n",
    "            if z == 'Temp_C':\n",
    "                HAVG.append(org.Temp_C)\n",
    "            x = round(np.mean(HAVG), 3)\n",
    "            HourlyAvgdf.loc[j, i] = x\n",
    "            HAVG = []\n",
    "    return HourlyAvgdf"
   ]
  },
  {
   "cell_type": "code",
   "execution_count": 77,
   "metadata": {},
   "outputs": [],
   "source": [
    "# Calling Hourly Average function for Temp, RH, and VPD\n",
    "TempHourlyAvgdf = DailyHourlyAvg('Temp_C')\n",
    "RHHourlyAvgdf = DailyHourlyAvg('RH')\n",
    "VPDHourlyAvgdf = DailyHourlyAvg('VPD')\n",
    "\n",
    "# Saving Resulting data frames as csv\n",
    "TempHourlyAvgdf.to_csv(resultsdirname + filename + '/' + filename + '-DHATemp.csv',)\n",
    "RHHourlyAvgdf.to_csv(resultsdirname + filename + '/' + filename + '-DHARH.csv')\n",
    "VPDHourlyAvgdf.to_csv(resultsdirname + filename + '/' + filename + '-DHAVPD.csv')"
   ]
  },
  {
   "cell_type": "markdown",
   "metadata": {},
   "source": [
    "This cell calls teh DailyHourlyAvg function with Temp, RH, and VPD creates a dataframe and then saves the dataframe to be used later for graphing.\n",
    "\n",
    "![](Misc_Files/DailyHourlyAvg.png)"
   ]
  },
  {
   "cell_type": "code",
   "execution_count": 78,
   "metadata": {},
   "outputs": [],
   "source": [
    "# create new dataframe with previous files results and trim and convert to numpy array\n",
    "DHATemp1 = TempHourlyAvgdf\n",
    "DHATemp1 = DHATemp1.drop(columns='Date', axis=1)\n",
    "nparray1 = DHATemp1.values\n",
    "\n",
    "#Setting up to import the file you wish to compare to that was created in a previous run of the program\n",
    "# The files you are comparing must have the same start date and end dates so the arrays are the same size.  If they are different sizes it will not work.\n",
    "datafile2 = 'Ambient_HNT_Field-DHATemp.csv'\n",
    "filename2 = datafile2.split('.')[0]\n",
    "filename2 = filename2.split('-')[0]\n",
    "\n",
    "# import second DHATemperature File to compare and create numpy array with results\n",
    "DHATemp2 = pd.read_csv(resultsdirname + filename2 + '/' + datafile2)\n",
    "DHATemp2 = DHATemp2.drop(columns='Date', axis=1)\n",
    "DHATemp2 = DHATemp2.drop(columns='Unnamed: 0', axis=1)\n",
    "\n",
    "nparray2 = DHATemp2.values\n",
    "\n",
    "# Creates an array to use for the heat map that shows the temperature differential between the two files during the selected period.\n",
    "heatmaparray = nparray1 - nparray2\n",
    "\n",
    "# Creates a list of days that were selected at the beginning of the program to label the future heat map\n",
    "days = []\n",
    "hours = list(range(0,24))\n",
    "deltadays = date_range_df.End_Date[0] - date_range_df.Start_Date[0]\n",
    "for i in range(0, deltadays.days + 1):\n",
    "    days.append(date_range_df.Start_Date[0] + timedelta(i))"
   ]
  },
  {
   "cell_type": "markdown",
   "metadata": {},
   "source": [
    "The Daily Hourly Average Temp that was calculated in the previous cells is copied into a new dataframe and its dates are dropped and then is converted into a Numpy Array.  A second file from the ambient sensor that was previously ran in the program up to this point is imported and has the exact same date range as the DHA Temp file we started with. The ambient is then converted to a Numpy array.  The ambient array is subtracted from the field array to create the heatmaparray that shows the temperature differential for every hour of every day of the heat stress. A list of days is also created using the start date and end date at the beginning of the program. "
   ]
  },
  {
   "cell_type": "code",
   "execution_count": 79,
   "metadata": {},
   "outputs": [],
   "source": [
    "# Function to create heat map found on official matplotlib documentation. \n",
    "# https://matplotlib.org/gallery/images_contours_and_fields/image_annotated_heatmap.html\n",
    "\n",
    "def heatmap(data, row_labels, col_labels, ax=None,\n",
    "            cbar_kw={}, cbarlabel=\"\", **kwargs):\n",
    "    \"\"\"\n",
    "    Create a heatmap from a numpy array and two lists of labels.\n",
    "\n",
    "    Arguments:\n",
    "        data       : A 2D numpy array of shape (N,M)\n",
    "        row_labels : A list or array of length N with the labels\n",
    "                     for the rows\n",
    "        col_labels : A list or array of length M with the labels\n",
    "                     for the columns\n",
    "    Optional arguments:\n",
    "        ax         : A matplotlib.axes.Axes instance to which the heatmap\n",
    "                     is plotted. If not provided, use current axes or\n",
    "                     create a new one.\n",
    "        cbar_kw    : A dictionary with arguments to\n",
    "                     :meth:`matplotlib.Figure.colorbar`.\n",
    "        cbarlabel  : The label for the colorbar\n",
    "    All other arguments are directly passed on to the imshow call.\n",
    "    \"\"\"\n",
    "\n",
    "    if not ax:\n",
    "        ax = plt.gca()\n",
    "\n",
    "    # Plot the heatmap\n",
    "    im = ax.imshow(data, **kwargs)\n",
    "\n",
    "    # Create colorbar\n",
    "    cbar = ax.figure.colorbar(im, ax=ax, **cbar_kw)\n",
    "    cbar.ax.set_ylabel(cbarlabel, rotation=-90, va=\"bottom\")\n",
    "\n",
    "    # We want to show all ticks...\n",
    "    ax.set_xticks(np.arange(data.shape[1]))\n",
    "    ax.set_yticks(np.arange(data.shape[0]))\n",
    "    # ... and label them with the respective list entries.\n",
    "    ax.set_xticklabels(col_labels)\n",
    "    ax.set_yticklabels(row_labels)\n",
    "\n",
    "    # Let the horizontal axes labeling appear on top.\n",
    "    ax.tick_params(top=True, bottom=False,\n",
    "                   labeltop=True, labelbottom=False)\n",
    "\n",
    "    # Rotate the tick labels and set their alignment.\n",
    "    plt.setp(ax.get_xticklabels(), rotation=-30, ha=\"right\",\n",
    "             rotation_mode=\"anchor\")\n",
    "\n",
    "    # Turn spines off and create white grid.\n",
    "    for edge, spine in ax.spines.items():\n",
    "        spine.set_visible(False)\n",
    "\n",
    "    ax.set_xticks(np.arange(data.shape[1]+1)-.5, minor=True)\n",
    "    ax.set_yticks(np.arange(data.shape[0]+1)-.5, minor=True)\n",
    "    ax.grid(which=\"minor\", color=\"w\", linestyle='-', linewidth=3)\n",
    "    ax.tick_params(which=\"minor\", bottom=False, left=False)\n",
    "\n",
    "    return im, cbar\n",
    "\n",
    "\n",
    "def annotate_heatmap(im, data=None, valfmt=\"{x:.2f}\",\n",
    "                     textcolors=[\"black\", \"white\"],\n",
    "                     threshold=None, **textkw):\n",
    "    \"\"\"\n",
    "    A function to annotate a heatmap.\n",
    "\n",
    "    Arguments:\n",
    "        im         : The AxesImage to be labeled.\n",
    "    Optional arguments:\n",
    "        data       : Data used to annotate. If None, the image's data is used.\n",
    "        valfmt     : The format of the annotations inside the heatmap.\n",
    "                     This should either use the string format method, e.g.\n",
    "                     \"$ {x:.2f}\", or be a :class:`matplotlib.ticker.Formatter`.\n",
    "        textcolors : A list or array of two color specifications. The first is\n",
    "                     used for values below a threshold, the second for those\n",
    "                     above.\n",
    "        threshold  : Value in data units according to which the colors from\n",
    "                     textcolors are applied. If None (the default) uses the\n",
    "                     middle of the colormap as separation.\n",
    "\n",
    "    Further arguments are passed on to the created text labels.\n",
    "    \"\"\"\n",
    "\n",
    "    if not isinstance(data, (list, np.ndarray)):\n",
    "        data = im.get_array()\n",
    "\n",
    "    # Normalize the threshold to the images color range.\n",
    "    if threshold is not None:\n",
    "        threshold = im.norm(threshold)\n",
    "    else:\n",
    "        threshold = im.norm(data.max())/2.\n",
    "\n",
    "    # Set default alignment to center, but allow it to be\n",
    "    # overwritten by textkw.\n",
    "    kw = dict(horizontalalignment=\"center\",\n",
    "              verticalalignment=\"center\")\n",
    "    kw.update(textkw)\n",
    "\n",
    "    # Get the formatter in case a string is supplied\n",
    "    if isinstance(valfmt, str):\n",
    "        valfmt = matplotlib.ticker.StrMethodFormatter(valfmt)\n",
    "\n",
    "    # Loop over the data and create a `Text` for each \"pixel\".\n",
    "    # Change the text's color depending on the data.\n",
    "    texts = []\n",
    "    for i in range(data.shape[0]):\n",
    "        for j in range(data.shape[1]):\n",
    "            kw.update(color=textcolors[im.norm(data[i, j]) > threshold])\n",
    "            text = im.axes.text(j, i, valfmt(data[i, j], None), **kw)\n",
    "            texts.append(text)\n",
    "\n",
    "    return texts"
   ]
  },
  {
   "cell_type": "markdown",
   "metadata": {},
   "source": [
    "This code was found on matplotlib.org and is official documentation.  I did not write it."
   ]
  },
  {
   "cell_type": "code",
   "execution_count": null,
   "metadata": {},
   "outputs": [],
   "source": [
    "fig, ax = plt.subplots(figsize = (15,5))\n",
    "\n",
    "im, cbar = heatmap(heatmaparray, days, hours, ax=ax,\n",
    "                   cmap=\"seismic\", vmin = 0, vmax = 8, cbarlabel=\"Temp Diff (Inside - Outside)\")\n",
    "\n",
    "texts = annotate_heatmap(im, data = heatmaparray, valfmt=\"{x:.1f}\")\n",
    "\n",
    "fig.tight_layout()\n",
    "plt.savefig(resultsdirname + filename + '/' + filename + '-heatmapcomp.jpg', bbox_inches = 'tight')\n"
   ]
  },
  {
   "cell_type": "markdown",
   "metadata": {},
   "source": [
    "This code calls the heatmap functions.  Simply passing the heatmaparray as the values, days as the x axis, hours as the y axis, choosing a colormap, the min and max of the value gradient, and label the color bar.  The texts portion annotates the heat map.  The im passes the im, and data pulls the numbers from the heatmap array.\n",
    "The figure is then saved.\n",
    "\n",
    "![](Misc_Files/2_1HNT_Field-heatmapcomp.jpg)"
   ]
  },
  {
   "cell_type": "code",
   "execution_count": null,
   "metadata": {},
   "outputs": [],
   "source": []
  },
  {
   "cell_type": "code",
   "execution_count": null,
   "metadata": {},
   "outputs": [],
   "source": []
  },
  {
   "cell_type": "code",
   "execution_count": null,
   "metadata": {},
   "outputs": [],
   "source": [
    "MHA_Temp_Stress = pd.DataFrame(MHA_Merged.Hour)\n",
    "MHA_Temp_Stress.insert(1, 'Temp_C', MHA_Merged.Temp_C)\n",
    "MHA_Temp_Stress = MHA_Temp_Stress.drop(MHA_Temp_Stress.index[7:19])\n",
    "MHA_Temp_Stress = MHA_Temp_Stress.reindex([19,20,21,22,23,0,1,2,3,4,5,6])\n",
    "MHA_Temp_Stress['Hour'] = round(MHA_Temp_Stress['Hour'])\n",
    "MHA_Temp_Stress['Hour'] = MHA_Temp_Stress['Hour'].astype('int32')\n",
    "MHA_Temp_Stress.Hour = pd.to_datetime(MHA_Temp_Stress.Hour, format = '%H')\n",
    "MHA_Temp_Stress.insert(1, 'TS_Hour', MHA_Temp_Stress.Hour.dt.hour)\n",
    "\n",
    "\n",
    "# Create plot with line graph of Hourly Average Temp in Celsius\n",
    "plt.figure()\n",
    "plt.rcParams['figure.figsize'] = [8, 5.0]\n",
    "plt.plot(MHA_Temp_Stress.TS_Hour, MHA_Temp_Stress.Temp_C, color = 'k', linewidth = 2.5, linestyle = '--')\n",
    "plt.title('Hourly Average Temp in Celsius during Stress', fontsize = 16)\n",
    "plt.xlabel('Hour of the Day', fontsize = 16)\n",
    "plt.ylabel('Temp in Celsius', fontsize = 16)\n",
    "plt.grid(which='major', axis='x', linestyle='--')\n",
    "plt.rcParams['ytick.labelsize'] = 10\n",
    "plt.rcParams['xtick.labelsize'] = 10\n",
    "plt.rcParams['axes.facecolor'] = 'w'\n",
    "plt.xticks((19,20,21,22,23,0,1,2,3,4,5,6))\n",
    "\n",
    "plt.savefig(resultsdirname + filename + '/' + filename + '-HourlyAVGTemp_Stress.jpg', bbox_inches = 'tight')\n",
    "\n",
    "print(type(MHA_Temp_Stress.TS_Hour[0]))\n",
    "print(MHA_Temp_Stress)\n"
   ]
  }
 ],
 "metadata": {
  "kernelspec": {
   "display_name": "Python 3",
   "language": "python",
   "name": "python3"
  },
  "language_info": {
   "codemirror_mode": {
    "name": "ipython",
    "version": 3
   },
   "file_extension": ".py",
   "mimetype": "text/x-python",
   "name": "python",
   "nbconvert_exporter": "python",
   "pygments_lexer": "ipython3",
   "version": "3.7.1"
  }
 },
 "nbformat": 4,
 "nbformat_minor": 2
}
